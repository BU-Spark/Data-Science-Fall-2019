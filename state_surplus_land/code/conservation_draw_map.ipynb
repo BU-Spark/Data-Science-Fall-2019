{
 "cells": [
  {
   "cell_type": "code",
   "execution_count": null,
   "metadata": {},
   "outputs": [],
   "source": [
    "import geopandas\n",
    "import folium"
   ]
  },
  {
   "cell_type": "code",
   "execution_count": null,
   "metadata": {},
   "outputs": [],
   "source": [
    "# read GIS file\n",
    "usable_surplus_land_geo_final = geopandas.read_file(\"usable_surplus_land_geo_final/usable_surplus_land_geo_final.shp\")\n",
    "usable_surplus_land_geo_final"
   ]
  },
  {
   "cell_type": "code",
   "execution_count": null,
   "metadata": {},
   "outputs": [],
   "source": [
    "# calculate centroid coordinate\n",
    "usable_surplus_land_geo_final.geometry = usable_surplus_land_geo_final['geometry'].centroid"
   ]
  },
  {
   "cell_type": "code",
   "execution_count": null,
   "metadata": {},
   "outputs": [],
   "source": [
    "# convert crs to get longitude and latitude\n",
    "usable_surplus_land_geo_final = usable_surplus_land_geo_final.to_crs({'init': 'epsg:4326'})"
   ]
  },
  {
   "cell_type": "code",
   "execution_count": null,
   "metadata": {},
   "outputs": [],
   "source": [
    "# create a map at MA\n",
    "base_map = folium.Map(location=[41.5, -72.0])"
   ]
  },
  {
   "cell_type": "code",
   "execution_count": null,
   "metadata": {},
   "outputs": [],
   "source": [
    "# draw the circle on the map\n",
    "for idx, land in usable_surplus_land_geo_final.iterrows():\n",
    "    print(land['geometry'].x)\n",
    "\n",
    "    folium.Circle(\n",
    "        radius=100,\n",
    "        location=[land['geometry'].y, land['geometry'].x],\n",
    "        color='crimson',\n",
    "        fill=False,\n",
    "    ).add_to(base_map)"
   ]
  },
  {
   "cell_type": "code",
   "execution_count": null,
   "metadata": {},
   "outputs": [],
   "source": [
    "base_map.save('index.html')"
   ]
  },
  {
   "cell_type": "code",
   "execution_count": null,
   "metadata": {},
   "outputs": [],
   "source": []
  }
 ],
 "metadata": {
  "kernelspec": {
   "display_name": "Python 3",
   "language": "python",
   "name": "python3"
  },
  "language_info": {
   "codemirror_mode": {
    "name": "ipython",
    "version": 3
   },
   "file_extension": ".py",
   "mimetype": "text/x-python",
   "name": "python",
   "nbconvert_exporter": "python",
   "pygments_lexer": "ipython3",
   "version": "3.7.3"
  }
 },
 "nbformat": 4,
 "nbformat_minor": 4
}
