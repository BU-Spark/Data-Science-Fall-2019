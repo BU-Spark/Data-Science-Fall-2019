{
 "cells": [
  {
   "cell_type": "code",
   "execution_count": null,
   "metadata": {},
   "outputs": [],
   "source": [
    "import geopandas\n",
    "import pandas as pd"
   ]
  },
  {
   "cell_type": "code",
   "execution_count": null,
   "metadata": {},
   "outputs": [],
   "source": [
    "# read MassGIS data\n",
    "mass_gis = geopandas.read_file(\"L3_TAXPAR_POLY_ASSESS.shp\")\n",
    "mass_gis"
   ]
  },
  {
   "cell_type": "code",
   "execution_count": null,
   "metadata": {},
   "outputs": [],
   "source": [
    "# read state owned surplus land data\n",
    "state_owned_surplus_land = pd.read_csv(\"state_owned_surplus_land.csv\")\n",
    "state_owned_surplus_land"
   ]
  },
  {
   "cell_type": "code",
   "execution_count": null,
   "metadata": {},
   "outputs": [],
   "source": [
    "# filter out state owned surplus land GIS data and save to file\n",
    "surplus_land_geo = mass_gis[mass_gis['LOC_ID'].isin(state_owned_surplus_land['parloc_id'].to_list())]\n",
    "surplus_land_geo.to_file('surplus_land_geo.shp')"
   ]
  },
  {
   "cell_type": "code",
   "execution_count": null,
   "metadata": {},
   "outputs": [],
   "source": [
    "# read conservation GIS data\n",
    "conservation_geo = geopandas.read_file(\"OPENSPACE_POLY.shp\")\n",
    "conservation_geo"
   ]
  },
  {
   "cell_type": "code",
   "execution_count": null,
   "metadata": {},
   "outputs": [],
   "source": [
    "# check each parcel, whether it overlaps with conservation lands\n",
    "surplus_land_within_conservation = []\n",
    "for idx, land in surplus_land_geo.iterrows():\n",
    "    land_frame = geopandas.GeoDataFrame(land).transpose()\n",
    "    \n",
    "    intersection = geopandas.overlay(land_frame, conservation_geo, how='intersection')\n",
    "        \n",
    "    if len(intersection) != 0:\n",
    "        surplus_land_within_conservation.append(land_frame['LOC_ID'].values[0])\n",
    "            \n",
    "surplus_land_within_conservation"
   ]
  },
  {
   "cell_type": "code",
   "execution_count": null,
   "metadata": {},
   "outputs": [],
   "source": [
    "usable_surplus_land_geo = surplus_land_geo[surplus_land_geo['LOC_ID'].isin(surplus_land_within_conservation)]\n",
    "usable_surplus_land_geo"
   ]
  },
  {
   "cell_type": "code",
   "execution_count": null,
   "metadata": {},
   "outputs": [],
   "source": [
    "usable_surplus_land_geo.to_file('usable_surplus_land_geo_final.shp')"
   ]
  },
  {
   "cell_type": "code",
   "execution_count": null,
   "metadata": {},
   "outputs": [],
   "source": [
    "usable_surplus_land = state_owned_surplus_land[state_owned_surplus_land['parloc_id'].isin(surplus_land_within_conservation)]\n",
    "usable_surplus_land.to_csv('usable_surplus_land.csv')"
   ]
  }
 ],
 "metadata": {
  "kernelspec": {
   "display_name": "Python 3",
   "language": "python",
   "name": "python3"
  },
  "language_info": {
   "codemirror_mode": {
    "name": "ipython",
    "version": 3
   },
   "file_extension": ".py",
   "mimetype": "text/x-python",
   "name": "python",
   "nbconvert_exporter": "python",
   "pygments_lexer": "ipython3",
   "version": "3.7.3"
  }
 },
 "nbformat": 4,
 "nbformat_minor": 4
}
