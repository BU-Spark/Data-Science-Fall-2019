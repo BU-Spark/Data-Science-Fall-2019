{
 "cells": [
  {
   "cell_type": "markdown",
   "metadata": {},
   "source": [
    "## Author : Rahul Suresh"
   ]
  },
  {
   "cell_type": "code",
   "execution_count": 1,
   "metadata": {},
   "outputs": [],
   "source": [
    "from utils import *\n",
    "\n",
    "from imblearn.over_sampling import ADASYN\n",
    "\n",
    "from sklearn.ensemble import GradientBoostingClassifier"
   ]
  },
  {
   "cell_type": "code",
   "execution_count": 2,
   "metadata": {},
   "outputs": [],
   "source": [
    "df=pd.read_csv('../../data/previous_gp/processed_cases.csv')"
   ]
  },
  {
   "cell_type": "code",
   "execution_count": 3,
   "metadata": {},
   "outputs": [
    {
     "data": {
      "text/html": [
       "<div>\n",
       "<style scoped>\n",
       "    .dataframe tbody tr th:only-of-type {\n",
       "        vertical-align: middle;\n",
       "    }\n",
       "\n",
       "    .dataframe tbody tr th {\n",
       "        vertical-align: top;\n",
       "    }\n",
       "\n",
       "    .dataframe thead th {\n",
       "        text-align: right;\n",
       "    }\n",
       "</style>\n",
       "<table border=\"1\" class=\"dataframe\">\n",
       "  <thead>\n",
       "    <tr style=\"text-align: right;\">\n",
       "      <th></th>\n",
       "      <th>Status Closed</th>\n",
       "      <th>Status Decided</th>\n",
       "      <th>Status Entry diff</th>\n",
       "      <th>Decision Entry diff</th>\n",
       "      <th>civil cases</th>\n",
       "      <th>criminal cases</th>\n",
       "      <th>appellant plaintiff</th>\n",
       "      <th>appellant defendant</th>\n",
       "      <th>appellant other</th>\n",
       "      <th>appeal court</th>\n",
       "      <th>supreme court</th>\n",
       "      <th>unknown court</th>\n",
       "      <th>prediction class</th>\n",
       "    </tr>\n",
       "  </thead>\n",
       "  <tbody>\n",
       "    <tr>\n",
       "      <th>0</th>\n",
       "      <td>1</td>\n",
       "      <td>0</td>\n",
       "      <td>33177600.0</td>\n",
       "      <td>30672000.0</td>\n",
       "      <td>1</td>\n",
       "      <td>0</td>\n",
       "      <td>0</td>\n",
       "      <td>1</td>\n",
       "      <td>0</td>\n",
       "      <td>1</td>\n",
       "      <td>0</td>\n",
       "      <td>0</td>\n",
       "      <td>0</td>\n",
       "    </tr>\n",
       "    <tr>\n",
       "      <th>1</th>\n",
       "      <td>1</td>\n",
       "      <td>0</td>\n",
       "      <td>67564800.0</td>\n",
       "      <td>59616000.0</td>\n",
       "      <td>1</td>\n",
       "      <td>0</td>\n",
       "      <td>0</td>\n",
       "      <td>1</td>\n",
       "      <td>0</td>\n",
       "      <td>1</td>\n",
       "      <td>0</td>\n",
       "      <td>0</td>\n",
       "      <td>0</td>\n",
       "    </tr>\n",
       "    <tr>\n",
       "      <th>2</th>\n",
       "      <td>1</td>\n",
       "      <td>0</td>\n",
       "      <td>43981200.0</td>\n",
       "      <td>34300800.0</td>\n",
       "      <td>1</td>\n",
       "      <td>0</td>\n",
       "      <td>1</td>\n",
       "      <td>0</td>\n",
       "      <td>0</td>\n",
       "      <td>1</td>\n",
       "      <td>0</td>\n",
       "      <td>0</td>\n",
       "      <td>0</td>\n",
       "    </tr>\n",
       "    <tr>\n",
       "      <th>3</th>\n",
       "      <td>1</td>\n",
       "      <td>0</td>\n",
       "      <td>32227200.0</td>\n",
       "      <td>29808000.0</td>\n",
       "      <td>1</td>\n",
       "      <td>0</td>\n",
       "      <td>0</td>\n",
       "      <td>1</td>\n",
       "      <td>0</td>\n",
       "      <td>1</td>\n",
       "      <td>0</td>\n",
       "      <td>0</td>\n",
       "      <td>0</td>\n",
       "    </tr>\n",
       "    <tr>\n",
       "      <th>4</th>\n",
       "      <td>1</td>\n",
       "      <td>0</td>\n",
       "      <td>31363200.0</td>\n",
       "      <td>28944000.0</td>\n",
       "      <td>1</td>\n",
       "      <td>0</td>\n",
       "      <td>0</td>\n",
       "      <td>1</td>\n",
       "      <td>0</td>\n",
       "      <td>1</td>\n",
       "      <td>0</td>\n",
       "      <td>0</td>\n",
       "      <td>0</td>\n",
       "    </tr>\n",
       "    <tr>\n",
       "      <th>...</th>\n",
       "      <td>...</td>\n",
       "      <td>...</td>\n",
       "      <td>...</td>\n",
       "      <td>...</td>\n",
       "      <td>...</td>\n",
       "      <td>...</td>\n",
       "      <td>...</td>\n",
       "      <td>...</td>\n",
       "      <td>...</td>\n",
       "      <td>...</td>\n",
       "      <td>...</td>\n",
       "      <td>...</td>\n",
       "      <td>...</td>\n",
       "    </tr>\n",
       "    <tr>\n",
       "      <th>11647</th>\n",
       "      <td>0</td>\n",
       "      <td>1</td>\n",
       "      <td>28684800.0</td>\n",
       "      <td>26010000.0</td>\n",
       "      <td>0</td>\n",
       "      <td>1</td>\n",
       "      <td>0</td>\n",
       "      <td>0</td>\n",
       "      <td>1</td>\n",
       "      <td>0</td>\n",
       "      <td>0</td>\n",
       "      <td>1</td>\n",
       "      <td>0</td>\n",
       "    </tr>\n",
       "    <tr>\n",
       "      <th>11648</th>\n",
       "      <td>0</td>\n",
       "      <td>1</td>\n",
       "      <td>24796800.0</td>\n",
       "      <td>22294800.0</td>\n",
       "      <td>0</td>\n",
       "      <td>1</td>\n",
       "      <td>0</td>\n",
       "      <td>0</td>\n",
       "      <td>1</td>\n",
       "      <td>0</td>\n",
       "      <td>0</td>\n",
       "      <td>1</td>\n",
       "      <td>0</td>\n",
       "    </tr>\n",
       "    <tr>\n",
       "      <th>11649</th>\n",
       "      <td>0</td>\n",
       "      <td>1</td>\n",
       "      <td>22464000.0</td>\n",
       "      <td>19962000.0</td>\n",
       "      <td>0</td>\n",
       "      <td>1</td>\n",
       "      <td>0</td>\n",
       "      <td>0</td>\n",
       "      <td>1</td>\n",
       "      <td>0</td>\n",
       "      <td>0</td>\n",
       "      <td>1</td>\n",
       "      <td>0</td>\n",
       "    </tr>\n",
       "    <tr>\n",
       "      <th>11650</th>\n",
       "      <td>0</td>\n",
       "      <td>1</td>\n",
       "      <td>22204800.0</td>\n",
       "      <td>19530000.0</td>\n",
       "      <td>0</td>\n",
       "      <td>1</td>\n",
       "      <td>0</td>\n",
       "      <td>0</td>\n",
       "      <td>1</td>\n",
       "      <td>0</td>\n",
       "      <td>0</td>\n",
       "      <td>1</td>\n",
       "      <td>0</td>\n",
       "    </tr>\n",
       "    <tr>\n",
       "      <th>11651</th>\n",
       "      <td>0</td>\n",
       "      <td>1</td>\n",
       "      <td>21776400.0</td>\n",
       "      <td>19875600.0</td>\n",
       "      <td>0</td>\n",
       "      <td>1</td>\n",
       "      <td>0</td>\n",
       "      <td>0</td>\n",
       "      <td>1</td>\n",
       "      <td>0</td>\n",
       "      <td>0</td>\n",
       "      <td>1</td>\n",
       "      <td>0</td>\n",
       "    </tr>\n",
       "  </tbody>\n",
       "</table>\n",
       "<p>11652 rows × 13 columns</p>\n",
       "</div>"
      ],
      "text/plain": [
       "       Status Closed  Status Decided  Status Entry diff  Decision Entry diff  \\\n",
       "0                  1               0         33177600.0           30672000.0   \n",
       "1                  1               0         67564800.0           59616000.0   \n",
       "2                  1               0         43981200.0           34300800.0   \n",
       "3                  1               0         32227200.0           29808000.0   \n",
       "4                  1               0         31363200.0           28944000.0   \n",
       "...              ...             ...                ...                  ...   \n",
       "11647              0               1         28684800.0           26010000.0   \n",
       "11648              0               1         24796800.0           22294800.0   \n",
       "11649              0               1         22464000.0           19962000.0   \n",
       "11650              0               1         22204800.0           19530000.0   \n",
       "11651              0               1         21776400.0           19875600.0   \n",
       "\n",
       "       civil cases  criminal cases  appellant plaintiff  appellant defendant  \\\n",
       "0                1               0                    0                    1   \n",
       "1                1               0                    0                    1   \n",
       "2                1               0                    1                    0   \n",
       "3                1               0                    0                    1   \n",
       "4                1               0                    0                    1   \n",
       "...            ...             ...                  ...                  ...   \n",
       "11647            0               1                    0                    0   \n",
       "11648            0               1                    0                    0   \n",
       "11649            0               1                    0                    0   \n",
       "11650            0               1                    0                    0   \n",
       "11651            0               1                    0                    0   \n",
       "\n",
       "       appellant other  appeal court  supreme court  unknown court  \\\n",
       "0                    0             1              0              0   \n",
       "1                    0             1              0              0   \n",
       "2                    0             1              0              0   \n",
       "3                    0             1              0              0   \n",
       "4                    0             1              0              0   \n",
       "...                ...           ...            ...            ...   \n",
       "11647                1             0              0              1   \n",
       "11648                1             0              0              1   \n",
       "11649                1             0              0              1   \n",
       "11650                1             0              0              1   \n",
       "11651                1             0              0              1   \n",
       "\n",
       "       prediction class  \n",
       "0                     0  \n",
       "1                     0  \n",
       "2                     0  \n",
       "3                     0  \n",
       "4                     0  \n",
       "...                 ...  \n",
       "11647                 0  \n",
       "11648                 0  \n",
       "11649                 0  \n",
       "11650                 0  \n",
       "11651                 0  \n",
       "\n",
       "[11652 rows x 13 columns]"
      ]
     },
     "execution_count": 3,
     "metadata": {},
     "output_type": "execute_result"
    }
   ],
   "source": [
    "df"
   ]
  },
  {
   "cell_type": "code",
   "execution_count": 4,
   "metadata": {},
   "outputs": [],
   "source": [
    "y=df['prediction class']\n",
    "x=df.drop(columns=['prediction class'])"
   ]
  },
  {
   "cell_type": "code",
   "execution_count": 5,
   "metadata": {},
   "outputs": [],
   "source": [
    "x_train, x_test, y_train, y_test = train_test_split(x, y, test_size=0.2, random_state=42)"
   ]
  },
  {
   "cell_type": "code",
   "execution_count": 6,
   "metadata": {},
   "outputs": [],
   "source": [
    "ros = ADASYN(random_state=0)\n",
    "x_oversampled, y_oversampled = ros.fit_resample(x_train, y_train)"
   ]
  },
  {
   "cell_type": "code",
   "execution_count": 7,
   "metadata": {},
   "outputs": [],
   "source": [
    "clf = GradientBoostingClassifier(random_state=42).fit(x_oversampled, y_oversampled)"
   ]
  },
  {
   "cell_type": "code",
   "execution_count": 8,
   "metadata": {},
   "outputs": [],
   "source": [
    "y_pred=clf.predict(x_test)"
   ]
  },
  {
   "cell_type": "code",
   "execution_count": 9,
   "metadata": {},
   "outputs": [
    {
     "data": {
      "text/plain": [
       "array([[1725,  196,   89],\n",
       "       [ 148,   66,    6],\n",
       "       [  81,   12,    8]], dtype=int64)"
      ]
     },
     "execution_count": 9,
     "metadata": {},
     "output_type": "execute_result"
    }
   ],
   "source": [
    "confusion_matrix(y_test.values, y_pred)"
   ]
  },
  {
   "cell_type": "code",
   "execution_count": 10,
   "metadata": {},
   "outputs": [
    {
     "data": {
      "text/plain": [
       "{0: 0.8582089552238806, 1: 0.3, 2: 0.07920792079207921}"
      ]
     },
     "execution_count": 10,
     "metadata": {},
     "output_type": "execute_result"
    }
   ],
   "source": [
    "class_wise_acc(y_test.values, y_pred)"
   ]
  },
  {
   "cell_type": "code",
   "execution_count": 11,
   "metadata": {},
   "outputs": [
    {
     "data": {
      "text/plain": [
       "array([0.02545261, 0.02166582, 0.18915593, 0.15413142, 0.03977214,\n",
       "       0.08491076, 0.07966087, 0.14421182, 0.03964544, 0.12244867,\n",
       "       0.01465426, 0.08429026])"
      ]
     },
     "execution_count": 11,
     "metadata": {},
     "output_type": "execute_result"
    }
   ],
   "source": [
    "clf.feature_importances_"
   ]
  },
  {
   "cell_type": "code",
   "execution_count": 22,
   "metadata": {},
   "outputs": [
    {
     "data": {
      "image/png": "[encoded data removed]",
      "text/plain": [
       "<Figure size 720x720 with 1 Axes>"
      ]
     },
     "metadata": {
      "needs_background": "light"
     },
     "output_type": "display_data"
    }
   ],
   "source": [
    "columns = df.columns.values\n",
    "index = np.argwhere(columns=='prediction class')\n",
    "columns = np.delete(columns, index)\n",
    "\n",
    "plt.figure(figsize=(10,10))\n",
    "plt.bar(range(len(clf.feature_importances_)),clf.feature_importances_)\n",
    "plt.xticks(range(len(clf.feature_importances_)),columns,rotation=45)\n",
    "plt.show()"
   ]
  },
  {
   "cell_type": "code",
   "execution_count": null,
   "metadata": {},
   "outputs": [],
   "source": []
  }
 ],
 "metadata": {
  "kernelspec": {
   "display_name": "Python 3",
   "language": "python",
   "name": "python3"
  },
  "language_info": {
   "codemirror_mode": {
    "name": "ipython",
    "version": 3
   },
   "file_extension": ".py",
   "mimetype": "text/x-python",
   "name": "python",
   "nbconvert_exporter": "python",
   "pygments_lexer": "ipython3",
   "version": "3.6.9"
  }
 },
 "nbformat": 4,
 "nbformat_minor": 2
}
