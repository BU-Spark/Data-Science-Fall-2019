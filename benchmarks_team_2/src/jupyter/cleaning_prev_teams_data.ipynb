{
 "cells": [
  {
   "cell_type": "markdown",
   "metadata": {},
   "source": [
    "## Notebook for preprocessing \n",
    "\n",
    "Preprocessing the data in `criminal_civil_cases.csv` to make it suitable for a prediction task. Aim to predict reversal status of case\n",
    "\n",
    "## Author : Rahul Suresh\n"
   ]
  },
  {
   "cell_type": "code",
   "execution_count": 1,
   "metadata": {},
   "outputs": [],
   "source": [
    "import pandas as pd\n",
    "import numpy as np\n",
    "import seaborn as sns\n",
    "import matplotlib.pyplot as plt\n",
    "from sklearn.feature_extraction.text import TfidfVectorizer\n",
    "from scipy.sparse import save_npz"
   ]
  },
  {
   "cell_type": "code",
   "execution_count": 2,
   "metadata": {},
   "outputs": [
    {
     "name": "stderr",
     "output_type": "stream",
     "text": [
      "c:\\users\\sures\\anaconda3\\envs\\sample\\lib\\site-packages\\IPython\\core\\interactiveshell.py:3051: DtypeWarning: Columns (5,10,11,12,13,14,15,18,19,21,23,24,25,26,28,32,33,35,36,40,42,43,44,45,47,50,51,52,53,54,55,57,58,60,61,63,66,67,69,71,72,73,74,77,78,79,85,86,90,91,92,98,99,100,102,103,106,107,108,109,110,111,115,118,119,121,124,125,126,127,128,129,130,131,132,133,137,139,141,142,144,148) have mixed types. Specify dtype option on import or set low_memory=False.\n",
      "  interactivity=interactivity, compiler=compiler, result=result)\n"
     ]
    }
   ],
   "source": [
    "df=pd.read_csv('../../data/previous_gp/criminal_civil_cases.csv')"
   ]
  },
  {
   "cell_type": "code",
   "execution_count": 3,
   "metadata": {},
   "outputs": [
    {
     "name": "stdout",
     "output_type": "stream",
     "text": [
      "<class 'pandas.core.frame.DataFrame'>\n",
      "RangeIndex: 13462 entries, 0 to 13461\n",
      "Columns: 149 entries, Case Id to Defendant\n",
      "dtypes: float64(52), object(97)\n",
      "memory usage: 15.3+ MB\n"
     ]
    }
   ],
   "source": [
    "df.info()"
   ]
  },
  {
   "cell_type": "code",
   "execution_count": 4,
   "metadata": {},
   "outputs": [
    {
     "data": {
      "text/html": [
       "<div>\n",
       "<style scoped>\n",
       "    .dataframe tbody tr th:only-of-type {\n",
       "        vertical-align: middle;\n",
       "    }\n",
       "\n",
       "    .dataframe tbody tr th {\n",
       "        vertical-align: top;\n",
       "    }\n",
       "\n",
       "    .dataframe thead th {\n",
       "        text-align: right;\n",
       "    }\n",
       "</style>\n",
       "<table border=\"1\" class=\"dataframe\">\n",
       "  <thead>\n",
       "    <tr style=\"text-align: right;\">\n",
       "      <th></th>\n",
       "      <th>Case Id</th>\n",
       "      <th>Case Name</th>\n",
       "      <th>Case Type</th>\n",
       "      <th>Case Status</th>\n",
       "      <th>Entry Date</th>\n",
       "      <th>Argued Date</th>\n",
       "      <th>Status Date</th>\n",
       "      <th>Decision Date</th>\n",
       "      <th>Has Affirm</th>\n",
       "      <th>Has Reverse</th>\n",
       "      <th>...</th>\n",
       "      <th>e3pp</th>\n",
       "      <th>Pro Se Third-party Defendant Extension Days</th>\n",
       "      <th>Lower Ct Judge</th>\n",
       "      <th>SJ Number</th>\n",
       "      <th>Pro Se Other Appellant Extensions</th>\n",
       "      <th>Nominal Party</th>\n",
       "      <th>Defendant Extension Days</th>\n",
       "      <th>Student appearing under SJC Rule 3:03</th>\n",
       "      <th>Out-of-state attorney</th>\n",
       "      <th>Defendant</th>\n",
       "    </tr>\n",
       "  </thead>\n",
       "  <tbody>\n",
       "    <tr>\n",
       "      <th>0</th>\n",
       "      <td>2008-P-0001</td>\n",
       "      <td>PETER G. HILL vs. JAMES LUKOWIAK</td>\n",
       "      <td>Civil</td>\n",
       "      <td>Closed: Rescript issued</td>\n",
       "      <td>1/2/2008</td>\n",
       "      <td>NaN</td>\n",
       "      <td>1/20/2009</td>\n",
       "      <td>12/22/2008</td>\n",
       "      <td>Yes</td>\n",
       "      <td>NaN</td>\n",
       "      <td>...</td>\n",
       "      <td>NaN</td>\n",
       "      <td>NaN</td>\n",
       "      <td>Bruce R. Henry, J.</td>\n",
       "      <td>NaN</td>\n",
       "      <td>NaN</td>\n",
       "      <td>NaN</td>\n",
       "      <td>NaN</td>\n",
       "      <td>NaN</td>\n",
       "      <td>NaN</td>\n",
       "      <td>NaN</td>\n",
       "    </tr>\n",
       "    <tr>\n",
       "      <th>1</th>\n",
       "      <td>2008-P-1002</td>\n",
       "      <td>CASELLA WASTE MANAGEMENT OF MA vs. JOHN TAMBURO</td>\n",
       "      <td>Civil</td>\n",
       "      <td>Closed: Rescript issued</td>\n",
       "      <td>6/13/2008</td>\n",
       "      <td>NaN</td>\n",
       "      <td>8/4/2010</td>\n",
       "      <td>5/4/2010</td>\n",
       "      <td>Yes</td>\n",
       "      <td>NaN</td>\n",
       "      <td>...</td>\n",
       "      <td>NaN</td>\n",
       "      <td>NaN</td>\n",
       "      <td>David A. McLaughlin, J.</td>\n",
       "      <td>NaN</td>\n",
       "      <td>NaN</td>\n",
       "      <td>NaN</td>\n",
       "      <td>133.0</td>\n",
       "      <td>NaN</td>\n",
       "      <td>NaN</td>\n",
       "      <td>John  Tamburo</td>\n",
       "    </tr>\n",
       "    <tr>\n",
       "      <th>2</th>\n",
       "      <td>2008-P-1006</td>\n",
       "      <td>FARMER &amp; FLIER ASSOCIATES vs. GUILFORD TRANSPO...</td>\n",
       "      <td>Civil</td>\n",
       "      <td>Closed: Rescript issued</td>\n",
       "      <td>6/13/2008</td>\n",
       "      <td>NaN</td>\n",
       "      <td>11/4/2009</td>\n",
       "      <td>7/15/2009</td>\n",
       "      <td>Yes</td>\n",
       "      <td>NaN</td>\n",
       "      <td>...</td>\n",
       "      <td>NaN</td>\n",
       "      <td>NaN</td>\n",
       "      <td>Herman J. Smith, Jr., J.</td>\n",
       "      <td>NaN</td>\n",
       "      <td>NaN</td>\n",
       "      <td>NaN</td>\n",
       "      <td>NaN</td>\n",
       "      <td>NaN</td>\n",
       "      <td>NaN</td>\n",
       "      <td>Guilford Transportation Indus.</td>\n",
       "    </tr>\n",
       "    <tr>\n",
       "      <th>3</th>\n",
       "      <td>2008-P-1007</td>\n",
       "      <td>B.M. vs. J.C.</td>\n",
       "      <td>Civil</td>\n",
       "      <td>Closed: Rescript issued</td>\n",
       "      <td>6/16/2008</td>\n",
       "      <td>NaN</td>\n",
       "      <td>6/24/2009</td>\n",
       "      <td>5/27/2009</td>\n",
       "      <td>Yes</td>\n",
       "      <td>NaN</td>\n",
       "      <td>...</td>\n",
       "      <td>NaN</td>\n",
       "      <td>NaN</td>\n",
       "      <td>Judith Nelson Dilday, J.</td>\n",
       "      <td>NaN</td>\n",
       "      <td>NaN</td>\n",
       "      <td>NaN</td>\n",
       "      <td>NaN</td>\n",
       "      <td>NaN</td>\n",
       "      <td>NaN</td>\n",
       "      <td>NaN</td>\n",
       "    </tr>\n",
       "    <tr>\n",
       "      <th>4</th>\n",
       "      <td>2008-P-1014</td>\n",
       "      <td>SOLANGE DASILVA vs. MICHAEL BERMAN</td>\n",
       "      <td>Civil</td>\n",
       "      <td>Closed: Rescript issued</td>\n",
       "      <td>6/18/2008</td>\n",
       "      <td>NaN</td>\n",
       "      <td>6/16/2009</td>\n",
       "      <td>5/19/2009</td>\n",
       "      <td>Yes</td>\n",
       "      <td>NaN</td>\n",
       "      <td>...</td>\n",
       "      <td>NaN</td>\n",
       "      <td>NaN</td>\n",
       "      <td>Thayer Fremont-Smith, J.</td>\n",
       "      <td>NaN</td>\n",
       "      <td>NaN</td>\n",
       "      <td>NaN</td>\n",
       "      <td>NaN</td>\n",
       "      <td>NaN</td>\n",
       "      <td>NaN</td>\n",
       "      <td>Michael  Berman</td>\n",
       "    </tr>\n",
       "    <tr>\n",
       "      <th>...</th>\n",
       "      <td>...</td>\n",
       "      <td>...</td>\n",
       "      <td>...</td>\n",
       "      <td>...</td>\n",
       "      <td>...</td>\n",
       "      <td>...</td>\n",
       "      <td>...</td>\n",
       "      <td>...</td>\n",
       "      <td>...</td>\n",
       "      <td>...</td>\n",
       "      <td>...</td>\n",
       "      <td>...</td>\n",
       "      <td>...</td>\n",
       "      <td>...</td>\n",
       "      <td>...</td>\n",
       "      <td>...</td>\n",
       "      <td>...</td>\n",
       "      <td>...</td>\n",
       "      <td>...</td>\n",
       "      <td>...</td>\n",
       "      <td>...</td>\n",
       "    </tr>\n",
       "    <tr>\n",
       "      <th>13457</th>\n",
       "      <td>SJC-12342</td>\n",
       "      <td>COMMONWEALTH vs. ANTHONY F. MANHA</td>\n",
       "      <td>Criminal</td>\n",
       "      <td>Decided, Rescript issued</td>\n",
       "      <td>6/15/2017</td>\n",
       "      <td>12/5/2017</td>\n",
       "      <td>3/29/2018</td>\n",
       "      <td>2/28/2018</td>\n",
       "      <td>Yes</td>\n",
       "      <td>NaN</td>\n",
       "      <td>...</td>\n",
       "      <td>NaN</td>\n",
       "      <td>NaN</td>\n",
       "      <td>NaN</td>\n",
       "      <td>NaN</td>\n",
       "      <td>NaN</td>\n",
       "      <td>Further Appellate Review</td>\n",
       "      <td>NaN</td>\n",
       "      <td>NaN</td>\n",
       "      <td>NaN</td>\n",
       "      <td>NaN</td>\n",
       "    </tr>\n",
       "    <tr>\n",
       "      <th>13458</th>\n",
       "      <td>SJC-12344</td>\n",
       "      <td>COMMONWEALTH vs. ROGELIO R. BUCKLEY</td>\n",
       "      <td>Criminal</td>\n",
       "      <td>Decided, Rescript issued</td>\n",
       "      <td>6/28/2017</td>\n",
       "      <td>10/5/2017</td>\n",
       "      <td>3/15/2018</td>\n",
       "      <td>2/14/2018</td>\n",
       "      <td>Yes</td>\n",
       "      <td>NaN</td>\n",
       "      <td>...</td>\n",
       "      <td>NaN</td>\n",
       "      <td>NaN</td>\n",
       "      <td>NaN</td>\n",
       "      <td>NaN</td>\n",
       "      <td>NaN</td>\n",
       "      <td>Direct Appellate Review</td>\n",
       "      <td>NaN</td>\n",
       "      <td>NaN</td>\n",
       "      <td>NaN</td>\n",
       "      <td>NaN</td>\n",
       "    </tr>\n",
       "    <tr>\n",
       "      <th>13459</th>\n",
       "      <td>SJC-12345</td>\n",
       "      <td>COMMONWEALTH vs. CHRISTOPHER KENNEDY</td>\n",
       "      <td>Criminal</td>\n",
       "      <td>Decided, Rescript issued</td>\n",
       "      <td>6/28/2017</td>\n",
       "      <td>10/3/2017</td>\n",
       "      <td>3/12/2018</td>\n",
       "      <td>2/9/2018</td>\n",
       "      <td>Yes</td>\n",
       "      <td>NaN</td>\n",
       "      <td>...</td>\n",
       "      <td>NaN</td>\n",
       "      <td>NaN</td>\n",
       "      <td>NaN</td>\n",
       "      <td>NaN</td>\n",
       "      <td>NaN</td>\n",
       "      <td>Direct Appellate Review</td>\n",
       "      <td>NaN</td>\n",
       "      <td>NaN</td>\n",
       "      <td>NaN</td>\n",
       "      <td>NaN</td>\n",
       "    </tr>\n",
       "    <tr>\n",
       "      <th>13460</th>\n",
       "      <td>SJC-12349</td>\n",
       "      <td>COMMONWEALTH vs. KENYA DABNEY</td>\n",
       "      <td>Criminal</td>\n",
       "      <td>Decided, Rescript issued</td>\n",
       "      <td>6/28/2017</td>\n",
       "      <td>11/6/2017</td>\n",
       "      <td>3/7/2018</td>\n",
       "      <td>2/13/2018</td>\n",
       "      <td>Yes</td>\n",
       "      <td>NaN</td>\n",
       "      <td>...</td>\n",
       "      <td>NaN</td>\n",
       "      <td>NaN</td>\n",
       "      <td>NaN</td>\n",
       "      <td>NaN</td>\n",
       "      <td>NaN</td>\n",
       "      <td>Direct Appellate Review</td>\n",
       "      <td>NaN</td>\n",
       "      <td>NaN</td>\n",
       "      <td>NaN</td>\n",
       "      <td>NaN</td>\n",
       "    </tr>\n",
       "    <tr>\n",
       "      <th>13461</th>\n",
       "      <td>SJC-12354</td>\n",
       "      <td>IMPOUNDED CASE</td>\n",
       "      <td>Criminal</td>\n",
       "      <td>Decided, Rescript issued</td>\n",
       "      <td>6/29/2017</td>\n",
       "      <td>11/7/2017</td>\n",
       "      <td>3/6/2018</td>\n",
       "      <td>2/5/2018</td>\n",
       "      <td>NaN</td>\n",
       "      <td>NaN</td>\n",
       "      <td>...</td>\n",
       "      <td>NaN</td>\n",
       "      <td>NaN</td>\n",
       "      <td>NaN</td>\n",
       "      <td>NaN</td>\n",
       "      <td>NaN</td>\n",
       "      <td>Sua Sponte Transfer from Appeals Court</td>\n",
       "      <td>NaN</td>\n",
       "      <td>NaN</td>\n",
       "      <td>NaN</td>\n",
       "      <td>NaN</td>\n",
       "    </tr>\n",
       "  </tbody>\n",
       "</table>\n",
       "<p>13462 rows × 149 columns</p>\n",
       "</div>"
      ],
      "text/plain": [
       "           Case Id                                          Case Name  \\\n",
       "0      2008-P-0001                   PETER G. HILL vs. JAMES LUKOWIAK   \n",
       "1      2008-P-1002    CASELLA WASTE MANAGEMENT OF MA vs. JOHN TAMBURO   \n",
       "2      2008-P-1006  FARMER & FLIER ASSOCIATES vs. GUILFORD TRANSPO...   \n",
       "3      2008-P-1007                                      B.M. vs. J.C.   \n",
       "4      2008-P-1014                 SOLANGE DASILVA vs. MICHAEL BERMAN   \n",
       "...            ...                                                ...   \n",
       "13457    SJC-12342                  COMMONWEALTH vs. ANTHONY F. MANHA   \n",
       "13458    SJC-12344                COMMONWEALTH vs. ROGELIO R. BUCKLEY   \n",
       "13459    SJC-12345               COMMONWEALTH vs. CHRISTOPHER KENNEDY   \n",
       "13460    SJC-12349                      COMMONWEALTH vs. KENYA DABNEY   \n",
       "13461    SJC-12354                                     IMPOUNDED CASE   \n",
       "\n",
       "      Case Type               Case Status Entry Date Argued Date Status Date  \\\n",
       "0         Civil   Closed: Rescript issued   1/2/2008         NaN   1/20/2009   \n",
       "1         Civil   Closed: Rescript issued  6/13/2008         NaN    8/4/2010   \n",
       "2         Civil   Closed: Rescript issued  6/13/2008         NaN   11/4/2009   \n",
       "3         Civil   Closed: Rescript issued  6/16/2008         NaN   6/24/2009   \n",
       "4         Civil   Closed: Rescript issued  6/18/2008         NaN   6/16/2009   \n",
       "...         ...                       ...        ...         ...         ...   \n",
       "13457  Criminal  Decided, Rescript issued  6/15/2017   12/5/2017   3/29/2018   \n",
       "13458  Criminal  Decided, Rescript issued  6/28/2017   10/5/2017   3/15/2018   \n",
       "13459  Criminal  Decided, Rescript issued  6/28/2017   10/3/2017   3/12/2018   \n",
       "13460  Criminal  Decided, Rescript issued  6/28/2017   11/6/2017    3/7/2018   \n",
       "13461  Criminal  Decided, Rescript issued  6/29/2017   11/7/2017    3/6/2018   \n",
       "\n",
       "      Decision Date Has Affirm Has Reverse  ... e3pp  \\\n",
       "0        12/22/2008        Yes         NaN  ...  NaN   \n",
       "1          5/4/2010        Yes         NaN  ...  NaN   \n",
       "2         7/15/2009        Yes         NaN  ...  NaN   \n",
       "3         5/27/2009        Yes         NaN  ...  NaN   \n",
       "4         5/19/2009        Yes         NaN  ...  NaN   \n",
       "...             ...        ...         ...  ...  ...   \n",
       "13457     2/28/2018        Yes         NaN  ...  NaN   \n",
       "13458     2/14/2018        Yes         NaN  ...  NaN   \n",
       "13459      2/9/2018        Yes         NaN  ...  NaN   \n",
       "13460     2/13/2018        Yes         NaN  ...  NaN   \n",
       "13461      2/5/2018        NaN         NaN  ...  NaN   \n",
       "\n",
       "      Pro Se Third-party Defendant Extension Days            Lower Ct Judge  \\\n",
       "0                                             NaN        Bruce R. Henry, J.   \n",
       "1                                             NaN   David A. McLaughlin, J.   \n",
       "2                                             NaN  Herman J. Smith, Jr., J.   \n",
       "3                                             NaN  Judith Nelson Dilday, J.   \n",
       "4                                             NaN  Thayer Fremont-Smith, J.   \n",
       "...                                           ...                       ...   \n",
       "13457                                         NaN                       NaN   \n",
       "13458                                         NaN                       NaN   \n",
       "13459                                         NaN                       NaN   \n",
       "13460                                         NaN                       NaN   \n",
       "13461                                         NaN                       NaN   \n",
       "\n",
       "      SJ Number Pro Se Other Appellant Extensions  \\\n",
       "0           NaN                               NaN   \n",
       "1           NaN                               NaN   \n",
       "2           NaN                               NaN   \n",
       "3           NaN                               NaN   \n",
       "4           NaN                               NaN   \n",
       "...         ...                               ...   \n",
       "13457       NaN                               NaN   \n",
       "13458       NaN                               NaN   \n",
       "13459       NaN                               NaN   \n",
       "13460       NaN                               NaN   \n",
       "13461       NaN                               NaN   \n",
       "\n",
       "                                Nominal Party  Defendant Extension Days  \\\n",
       "0                                         NaN                       NaN   \n",
       "1                                         NaN                     133.0   \n",
       "2                                         NaN                       NaN   \n",
       "3                                         NaN                       NaN   \n",
       "4                                         NaN                       NaN   \n",
       "...                                       ...                       ...   \n",
       "13457                Further Appellate Review                       NaN   \n",
       "13458                 Direct Appellate Review                       NaN   \n",
       "13459                 Direct Appellate Review                       NaN   \n",
       "13460                 Direct Appellate Review                       NaN   \n",
       "13461  Sua Sponte Transfer from Appeals Court                       NaN   \n",
       "\n",
       "       Student appearing under SJC Rule 3:03 Out-of-state attorney  \\\n",
       "0                                        NaN                   NaN   \n",
       "1                                        NaN                   NaN   \n",
       "2                                        NaN                   NaN   \n",
       "3                                        NaN                   NaN   \n",
       "4                                        NaN                   NaN   \n",
       "...                                      ...                   ...   \n",
       "13457                                    NaN                   NaN   \n",
       "13458                                    NaN                   NaN   \n",
       "13459                                    NaN                   NaN   \n",
       "13460                                    NaN                   NaN   \n",
       "13461                                    NaN                   NaN   \n",
       "\n",
       "                            Defendant  \n",
       "0                                 NaN  \n",
       "1                       John  Tamburo  \n",
       "2      Guilford Transportation Indus.  \n",
       "3                                 NaN  \n",
       "4                     Michael  Berman  \n",
       "...                               ...  \n",
       "13457                             NaN  \n",
       "13458                             NaN  \n",
       "13459                             NaN  \n",
       "13460                             NaN  \n",
       "13461                             NaN  \n",
       "\n",
       "[13462 rows x 149 columns]"
      ]
     },
     "execution_count": 4,
     "metadata": {},
     "output_type": "execute_result"
    }
   ],
   "source": [
    "df"
   ]
  },
  {
   "cell_type": "code",
   "execution_count": 5,
   "metadata": {},
   "outputs": [
    {
     "name": "stdout",
     "output_type": "stream",
     "text": [
      "Case Id\n",
      "Case Name\n",
      "Case Type\n",
      "Case Status\n",
      "Entry Date\n",
      "Argued Date\n",
      "Status Date\n",
      "Decision Date\n",
      "Has Affirm\n",
      "Has Reverse\n",
      "Party Name Impounded Extension Days\n",
      "FAR Number\n",
      "Sub-Nature\n",
      "Pro Se Defendant Extensions\n",
      "Pro Se Other interested party\n",
      "Out-of-state counsel for plaintiff\n",
      "comp\n",
      "Respondent Extension Days\n",
      "TC Entry Date\n",
      "Pro Se Respondent\n",
      "Third-party defendant\n",
      "Pro Se Plaintiff Extensions\n",
      "Out of state counsel (plaintiff)\n",
      "Student Attorney purs to SJC 3:03\n",
      "Other interested party\n",
      "Petitioner Extension Days\n",
      "Amicus\n",
      "Voluntary Dismissal as Party\n",
      "Pro Se Plaintiff Extension Days\n",
      "Single Justice\n",
      "Pet Role Below\n",
      "Pro Se Other Appellant Extension Days\n",
      "Intervener Extensions\n",
      "Student attorney purs to SJC 3:03\n",
      "amid\n",
      "Minor\n",
      "Court Type\n",
      "Pro Se Defendant Extension Days\n",
      "Petitioner Extensions\n",
      "Student Atty for Commonwealth\n",
      "Pro Se Other\n",
      "Intervener-Petitioner\n",
      "Receiver\n",
      "Quorum\n",
      "(Lower Court: Jury)\n",
      "Pro Se Intervener\n",
      "Defendant Extensions\n",
      "Pro Se Plaintiff\n",
      "Third party plaintiff Extension Days\n",
      "Pro Se Third-party Defendant Extensions\n",
      "Lower Court\n",
      "Other Appellee\n",
      "Massachusetts Correctional Institution\n",
      "Pro Se Third-party plaintiff\n",
      "Brief Status\n",
      "Out-of-state counsel for amicus\n",
      "Transferred to Court\n",
      "Citation\n",
      "Third-party Defendant Extension Days\n",
      "Clerk for Commonwealth\n",
      "Student appearing under Rule 3:03\n",
      "Pro Se pet\n",
      "Pro Se Other Appellee\n",
      "Pro Se Petitioner\n",
      "Hearing Officer\n",
      "Party Name Impounded Extensions\n",
      "Pro Se Other Appellant\n",
      "Other Appellant\n",
      "3pp\n",
      "Other\n",
      "scom\n",
      "res\n",
      "Guardian ad litem\n",
      "pet\n",
      "Pro Se Guardian ad litem\n",
      "Nominal Defendant\n",
      "Third-party plaintiff Extensions\n",
      "Respondent\n",
      "Argued/Submitted\n",
      "AC/SJ Number\n",
      "Plaintiff Extensions\n",
      "Panel\n",
      "Pro Se Intervener Extension Days\n",
      "Brief Due\n",
      "Party Name Impounded\n",
      "Appellant\n",
      "Pro Se Petitioner Extension Days\n",
      "Third-party plaintiff Extension Days\n",
      "(Lower Court: jury)\n",
      "Out of state counsel (defendant)\n",
      "Plaintiff\n",
      "Third party plaintiff\n",
      "Out-of-state counsel for appellant\n",
      "Third-party Defendant Extensions\n",
      "Pro Se Other Extension Days\n",
      "Other Extensions\n",
      "Intervener Extension Days\n",
      "Other Extension Days\n",
      "rplf\n",
      "resp\n",
      "Pro Se Intervener Extensions\n",
      "clk\n",
      "Third party plaintiff Extensions\n",
      "Out-of-state counsel\n",
      "Pro Se Other Extensions\n",
      "Out-of-state counsel for defendant\n",
      "Third-party plaintiff\n",
      "Route to SJC\n",
      "Lower Ct Number\n",
      "Pro Se Third-party defendant\n",
      "SJC Number\n",
      "Pro Se Third-party Defendant\n",
      "TC Number\n",
      "Pro Se Petitioner Extensions\n",
      "Witness\n",
      "Amicus (plaintiff)\n",
      "Pro Se poth\n",
      "Massacusetts Correctional Institution\n",
      "Massachusetts attorney pending BBO number\n",
      "Intervener\n",
      "Amicus (defendant)\n",
      "Nature\n",
      "Pro Se Amicus (plaintiff)\n",
      "CPCS administrator\n",
      "Plaintiff Extension Days\n",
      "Third-party Defendant\n",
      "amip\n",
      "Out of state counsel\n",
      "Invited to file amicus brief\n",
      "cmt\n",
      "DAR/FAR Number\n",
      "Pro Se Defendant\n",
      "Out-of-state counsel for appellee\n",
      "Petitioner\n",
      "URL\n",
      "Respondent Extensions\n",
      "3pd\n",
      "Pro Se Amicus\n",
      "Pro Se Student Atty for Commonwealth\n",
      "e3pp\n",
      "Pro Se Third-party Defendant Extension Days\n",
      "Lower Ct Judge\n",
      "SJ Number\n",
      "Pro Se Other Appellant Extensions\n",
      "Nominal Party\n",
      "Defendant Extension Days\n",
      "Student appearing under SJC Rule 3:03\n",
      "Out-of-state attorney\n",
      "Defendant\n"
     ]
    }
   ],
   "source": [
    "columns = df.columns\n",
    "for column in columns:\n",
    "    print(column)"
   ]
  },
  {
   "cell_type": "markdown",
   "metadata": {},
   "source": [
    "### First delete columns which can have more that 90% NULL values"
   ]
  },
  {
   "cell_type": "code",
   "execution_count": 6,
   "metadata": {},
   "outputs": [],
   "source": [
    "count_dict=df.isna().sum().to_dict()"
   ]
  },
  {
   "cell_type": "code",
   "execution_count": 7,
   "metadata": {},
   "outputs": [],
   "source": [
    "for key in count_dict:\n",
    "    if(count_dict[key]>=df.shape[0] * 0.9):\n",
    "        if(key!='Has Reverse'):\n",
    "            df = df.drop(columns=[key])"
   ]
  },
  {
   "cell_type": "code",
   "execution_count": 8,
   "metadata": {},
   "outputs": [
    {
     "data": {
      "text/plain": [
       "Case Id                                     0\n",
       "Case Name                                   0\n",
       "Case Type                                   0\n",
       "Case Status                                 0\n",
       "Entry Date                                  0\n",
       "Status Date                                 0\n",
       "Decision Date                               3\n",
       "Has Affirm                               2914\n",
       "Has Reverse                             11824\n",
       "FAR Number                              11190\n",
       "Sub-Nature                               8799\n",
       "TC Entry Date                            7009\n",
       "Pro Se Plaintiff Extensions              6559\n",
       "Other interested party                  10232\n",
       "Pro Se Plaintiff Extension Days          7014\n",
       "Intervener Extensions                    7073\n",
       "Court Type                               6650\n",
       "Lower Court                              6659\n",
       "Citation                                 6660\n",
       "Third-party Defendant Extension Days     7268\n",
       "Pro Se pet                               9203\n",
       "Pro Se Other Appellant                   7268\n",
       "Other Appellant                         10992\n",
       "Argued/Submitted                         7040\n",
       "Panel                                    6885\n",
       "Brief Due                                5607\n",
       "Appellant                                6650\n",
       "Plaintiff                                8447\n",
       "Out-of-state counsel for appellant       8029\n",
       "resp                                     6961\n",
       "Pro Se Intervener Extensions             6811\n",
       "Pro Se Third-party defendant             6812\n",
       "TC Number                               10996\n",
       "Amicus (defendant)                       7352\n",
       "Nature                                   7576\n",
       "Pro Se Amicus (plaintiff)                6810\n",
       "Out-of-state counsel for appellee        6822\n",
       "URL                                      6588\n",
       "Pro Se Student Atty for Commonwealth    10535\n",
       "Lower Ct Judge                           7414\n",
       "Defendant                                8016\n",
       "dtype: int64"
      ]
     },
     "execution_count": 8,
     "metadata": {},
     "output_type": "execute_result"
    }
   ],
   "source": [
    "# Check Null values\n",
    "df.isna().sum()"
   ]
  },
  {
   "cell_type": "markdown",
   "metadata": {},
   "source": [
    "### Next delete columns which can are not using useful for forming an hypothesis for case reversal\n",
    "\n",
    "Note : This is according to my hypothesis. Feel free to revisit and modify if you get a better hypothesis"
   ]
  },
  {
   "cell_type": "code",
   "execution_count": 9,
   "metadata": {},
   "outputs": [],
   "source": [
    "columns_to_drop=['Case Id','Case Name','FAR Number',\n",
    "                 'Defendant','URL','Citation','Argued/Submitted']"
   ]
  },
  {
   "cell_type": "code",
   "execution_count": 10,
   "metadata": {},
   "outputs": [],
   "source": [
    "df = df.drop(columns=columns_to_drop)"
   ]
  },
  {
   "cell_type": "code",
   "execution_count": 11,
   "metadata": {},
   "outputs": [
    {
     "name": "stdout",
     "output_type": "stream",
     "text": [
      "<class 'pandas.core.frame.DataFrame'>\n",
      "RangeIndex: 13462 entries, 0 to 13461\n",
      "Data columns (total 34 columns):\n",
      "Case Type                               13462 non-null object\n",
      "Case Status                             13462 non-null object\n",
      "Entry Date                              13462 non-null object\n",
      "Status Date                             13462 non-null object\n",
      "Decision Date                           13459 non-null object\n",
      "Has Affirm                              10548 non-null object\n",
      "Has Reverse                             1638 non-null object\n",
      "Sub-Nature                              4663 non-null object\n",
      "TC Entry Date                           6453 non-null object\n",
      "Pro Se Plaintiff Extensions             6903 non-null object\n",
      "Other interested party                  3230 non-null object\n",
      "Pro Se Plaintiff Extension Days         6448 non-null object\n",
      "Intervener Extensions                   6389 non-null object\n",
      "Court Type                              6812 non-null object\n",
      "Lower Court                             6803 non-null object\n",
      "Third-party Defendant Extension Days    6194 non-null object\n",
      "Pro Se pet                              4259 non-null object\n",
      "Pro Se Other Appellant                  6194 non-null object\n",
      "Other Appellant                         2470 non-null object\n",
      "Panel                                   6577 non-null object\n",
      "Brief Due                               7855 non-null object\n",
      "Appellant                               6812 non-null object\n",
      "Plaintiff                               5015 non-null object\n",
      "Out-of-state counsel for appellant      5433 non-null object\n",
      "resp                                    6501 non-null object\n",
      "Pro Se Intervener Extensions            6651 non-null object\n",
      "Pro Se Third-party defendant            6650 non-null object\n",
      "TC Number                               2466 non-null float64\n",
      "Amicus (defendant)                      6110 non-null object\n",
      "Nature                                  5886 non-null object\n",
      "Pro Se Amicus (plaintiff)               6652 non-null object\n",
      "Out-of-state counsel for appellee       6640 non-null object\n",
      "Pro Se Student Atty for Commonwealth    2927 non-null float64\n",
      "Lower Ct Judge                          6048 non-null object\n",
      "dtypes: float64(2), object(32)\n",
      "memory usage: 3.5+ MB\n"
     ]
    }
   ],
   "source": [
    "df.info()"
   ]
  },
  {
   "cell_type": "markdown",
   "metadata": {},
   "source": [
    "### To make analysis easier drop certain columns\n",
    "\n",
    "Note : This ia a potential future work where data from these columns could be used too"
   ]
  },
  {
   "cell_type": "code",
   "execution_count": 12,
   "metadata": {},
   "outputs": [],
   "source": [
    "extra_columns_to_drop=['Lower Ct Judge','Plaintiff','Panel','Lower Court','Brief Due','TC Entry Date',\n",
    "                       'Pro Se Student Atty for Commonwealth','Out-of-state counsel for appellee',\n",
    "                       'Pro Se Amicus (plaintiff)','Amicus (defendant)','TC Number','Pro Se Third-party defendant',\n",
    "                       'Pro Se Intervener Extensions','resp','Out-of-state counsel for appellant','Pro Se pet',\n",
    "                       'Third-party Defendant Extension Days','Intervener Extensions','Pro Se Plaintiff Extension Days',\n",
    "                       'Other interested party','Pro Se Plaintiff Extensions','Pro Se Other Appellant','Other Appellant']"
   ]
  },
  {
   "cell_type": "code",
   "execution_count": 13,
   "metadata": {},
   "outputs": [],
   "source": [
    "# extra_columns_to_drop=['Lower Ct Judge','Plaintiff','Panel','Brief Status','Lower Court','Brief Due','TC Entry Date']"
   ]
  },
  {
   "cell_type": "code",
   "execution_count": 14,
   "metadata": {},
   "outputs": [],
   "source": [
    "df = df.drop(columns=extra_columns_to_drop)"
   ]
  },
  {
   "cell_type": "code",
   "execution_count": 15,
   "metadata": {},
   "outputs": [
    {
     "name": "stdout",
     "output_type": "stream",
     "text": [
      "<class 'pandas.core.frame.DataFrame'>\n",
      "RangeIndex: 13462 entries, 0 to 13461\n",
      "Data columns (total 11 columns):\n",
      "Case Type        13462 non-null object\n",
      "Case Status      13462 non-null object\n",
      "Entry Date       13462 non-null object\n",
      "Status Date      13462 non-null object\n",
      "Decision Date    13459 non-null object\n",
      "Has Affirm       10548 non-null object\n",
      "Has Reverse      1638 non-null object\n",
      "Sub-Nature       4663 non-null object\n",
      "Court Type       6812 non-null object\n",
      "Appellant        6812 non-null object\n",
      "Nature           5886 non-null object\n",
      "dtypes: object(11)\n",
      "memory usage: 1.1+ MB\n"
     ]
    }
   ],
   "source": [
    "df.info()"
   ]
  },
  {
   "cell_type": "markdown",
   "metadata": {},
   "source": [
    "Now we have to process each column separately"
   ]
  },
  {
   "cell_type": "markdown",
   "metadata": {},
   "source": [
    "## Processing for case status"
   ]
  },
  {
   "cell_type": "code",
   "execution_count": 16,
   "metadata": {},
   "outputs": [
    {
     "data": {
      "text/plain": [
       "Closed: Rescript issued     12661\n",
       "Decided, Rescript issued      801\n",
       "Name: Case Status, dtype: int64"
      ]
     },
     "execution_count": 16,
     "metadata": {},
     "output_type": "execute_result"
    }
   ],
   "source": [
    "df['Case Status'].value_counts()"
   ]
  },
  {
   "cell_type": "code",
   "execution_count": 17,
   "metadata": {},
   "outputs": [
    {
     "data": {
      "text/plain": [
       "(13462, 11)"
      ]
     },
     "execution_count": 17,
     "metadata": {},
     "output_type": "execute_result"
    }
   ],
   "source": [
    "df.shape"
   ]
  },
  {
   "cell_type": "code",
   "execution_count": 18,
   "metadata": {},
   "outputs": [],
   "source": [
    "df['Case Status']=df['Case Status'].astype(str)"
   ]
  },
  {
   "cell_type": "code",
   "execution_count": 19,
   "metadata": {},
   "outputs": [],
   "source": [
    "case_values=df['Case Status'].values"
   ]
  },
  {
   "cell_type": "code",
   "execution_count": 20,
   "metadata": {},
   "outputs": [
    {
     "data": {
      "text/plain": [
       "array([ True,  True,  True, ..., False, False, False])"
      ]
     },
     "execution_count": 20,
     "metadata": {},
     "output_type": "execute_result"
    }
   ],
   "source": [
    "case_values=='Closed: Rescript issued'"
   ]
  },
  {
   "cell_type": "code",
   "execution_count": 21,
   "metadata": {},
   "outputs": [],
   "source": [
    "status_closed=[]\n",
    "status_decided=[]"
   ]
  },
  {
   "cell_type": "code",
   "execution_count": 22,
   "metadata": {},
   "outputs": [],
   "source": [
    "# try one hot encoding\n",
    "for val in case_values:\n",
    "    if(val=='Closed: Rescript issued'):\n",
    "        status_closed.append(1)\n",
    "        status_decided.append(0)\n",
    "    elif(val=='Decided, Rescript issued'):\n",
    "        status_closed.append(0)\n",
    "        status_decided.append(1)    "
   ]
  },
  {
   "cell_type": "code",
   "execution_count": 23,
   "metadata": {},
   "outputs": [],
   "source": [
    "df['Status Closed']=np.array(status_closed)\n",
    "df['Status Decided']=np.array(status_decided)"
   ]
  },
  {
   "cell_type": "code",
   "execution_count": 24,
   "metadata": {},
   "outputs": [],
   "source": [
    "df = df.drop(columns=['Case Status'])"
   ]
  },
  {
   "cell_type": "markdown",
   "metadata": {},
   "source": [
    "## Processing for Decision Date"
   ]
  },
  {
   "cell_type": "code",
   "execution_count": 25,
   "metadata": {},
   "outputs": [],
   "source": [
    "df = df.dropna(axis=0, subset=['Decision Date'])"
   ]
  },
  {
   "cell_type": "markdown",
   "metadata": {},
   "source": [
    "## Processing for all Dates"
   ]
  },
  {
   "cell_type": "code",
   "execution_count": 26,
   "metadata": {},
   "outputs": [],
   "source": [
    "#convert to time stamp"
   ]
  },
  {
   "cell_type": "code",
   "execution_count": 27,
   "metadata": {},
   "outputs": [],
   "source": [
    "from datetime import datetime"
   ]
  },
  {
   "cell_type": "code",
   "execution_count": 28,
   "metadata": {},
   "outputs": [],
   "source": [
    "df[\"Entry Date\"] = df[\"Entry Date\"].apply(\n",
    "    lambda x: datetime.timestamp(datetime.strptime(x, \"%m/%d/%Y\")) if not pd.isnull(x) else 0.0)"
   ]
  },
  {
   "cell_type": "code",
   "execution_count": 29,
   "metadata": {},
   "outputs": [],
   "source": [
    "df[\"Status Date\"] = df[\"Status Date\"].apply(\n",
    "    lambda x: datetime.timestamp(datetime.strptime(x, \"%m/%d/%Y\")) if not pd.isnull(x) else 0.0)"
   ]
  },
  {
   "cell_type": "code",
   "execution_count": 30,
   "metadata": {},
   "outputs": [],
   "source": [
    "df[\"Decision Date\"] = df[\"Decision Date\"].apply(\n",
    "    lambda x: datetime.timestamp(datetime.strptime(x, \"%m/%d/%Y\")) if not pd.isnull(x) else 0.0)"
   ]
  },
  {
   "cell_type": "code",
   "execution_count": 31,
   "metadata": {},
   "outputs": [],
   "source": [
    "# I feel the difference between the dates would be important"
   ]
  },
  {
   "cell_type": "code",
   "execution_count": 32,
   "metadata": {},
   "outputs": [],
   "source": [
    "df['Status Entry diff']=df['Status Date']-df['Entry Date']"
   ]
  },
  {
   "cell_type": "code",
   "execution_count": 33,
   "metadata": {},
   "outputs": [],
   "source": [
    "df['Decision Entry diff']=df['Decision Date']-df['Entry Date']"
   ]
  },
  {
   "cell_type": "code",
   "execution_count": 34,
   "metadata": {},
   "outputs": [],
   "source": [
    "df = df.drop(columns=['Decision Date','Status Date','Entry Date'])"
   ]
  },
  {
   "cell_type": "markdown",
   "metadata": {},
   "source": [
    "## Processing for all Extensions"
   ]
  },
  {
   "cell_type": "code",
   "execution_count": 35,
   "metadata": {},
   "outputs": [],
   "source": [
    "# df['Defendant Extensions'].describe()"
   ]
  },
  {
   "cell_type": "code",
   "execution_count": 36,
   "metadata": {},
   "outputs": [],
   "source": [
    "# Have to fine tune and see"
   ]
  },
  {
   "cell_type": "code",
   "execution_count": 37,
   "metadata": {},
   "outputs": [],
   "source": [
    "# df['Defendant Extensions']=df['Defendant Extensions'].fillna(0)"
   ]
  },
  {
   "cell_type": "code",
   "execution_count": 38,
   "metadata": {},
   "outputs": [],
   "source": [
    "# df['Plaintiff Extensions']=df['Plaintiff Extensions'].fillna(0)"
   ]
  },
  {
   "cell_type": "code",
   "execution_count": 39,
   "metadata": {},
   "outputs": [],
   "source": [
    "# df['Plaintiff Extension Days']"
   ]
  },
  {
   "cell_type": "code",
   "execution_count": 40,
   "metadata": {},
   "outputs": [],
   "source": [
    "# df['Plaintiff Extension Days']=df['Plaintiff Extension Days'].fillna(0)"
   ]
  },
  {
   "cell_type": "code",
   "execution_count": 41,
   "metadata": {},
   "outputs": [],
   "source": [
    "# df['Defendant Extension Days']=df['Defendant Extension Days'].fillna(0)"
   ]
  },
  {
   "cell_type": "markdown",
   "metadata": {},
   "source": [
    "## Processing for case type"
   ]
  },
  {
   "cell_type": "code",
   "execution_count": 42,
   "metadata": {},
   "outputs": [],
   "source": [
    "case_values=df['Case Type'].values\n",
    "\n",
    "criminal=[]\n",
    "civil=[]\n",
    "for val in case_values:\n",
    "    if(val=='Civil'):\n",
    "        civil.append(1)\n",
    "        criminal.append(0)\n",
    "    elif(val=='Criminal'):\n",
    "        civil.append(0)\n",
    "        criminal.append(1)\n",
    "        \n",
    "df['civil cases']=np.array(civil)\n",
    "df['criminal cases']=np.array(criminal)\n",
    "\n",
    "df = df.drop(columns=['Case Type'])"
   ]
  },
  {
   "cell_type": "markdown",
   "metadata": {},
   "source": [
    "## Processing for all Applelant"
   ]
  },
  {
   "cell_type": "code",
   "execution_count": 43,
   "metadata": {},
   "outputs": [
    {
     "data": {
      "text/plain": [
       "Plaintiff          3860\n",
       "Defendant          2651\n",
       "Both Plf & Deft     238\n",
       "Other                48\n",
       "Intervener           11\n",
       "L                     1\n",
       "E                     1\n",
       "Name: Appellant, dtype: int64"
      ]
     },
     "execution_count": 43,
     "metadata": {},
     "output_type": "execute_result"
    }
   ],
   "source": [
    "df['Appellant'].value_counts()"
   ]
  },
  {
   "cell_type": "code",
   "execution_count": 44,
   "metadata": {},
   "outputs": [],
   "source": [
    "appellant_values=df['Appellant'].values"
   ]
  },
  {
   "cell_type": "code",
   "execution_count": 45,
   "metadata": {},
   "outputs": [],
   "source": [
    "plaintiff=[]\n",
    "defendant=[]\n",
    "both=[]\n",
    "other=[]\n",
    "for val in appellant_values:\n",
    "    if(val=='Plaintiff'):\n",
    "        plaintiff.append(1)\n",
    "        defendant.append(0)\n",
    "        both.append(0)\n",
    "        other.append(0)\n",
    "    elif(val=='Defendant'):\n",
    "        plaintiff.append(0)\n",
    "        defendant.append(1)\n",
    "        both.append(0)\n",
    "        other.append(0)\n",
    "    elif(val=='Both Plf & Deftf'):\n",
    "        plaintiff.append(0)\n",
    "        defendant.append(0)\n",
    "        both.append(1)\n",
    "        other.append(0)\n",
    "    else:\n",
    "        plaintiff.append(0)\n",
    "        defendant.append(0)\n",
    "        both.append(0)\n",
    "        other.append(1)\n"
   ]
  },
  {
   "cell_type": "code",
   "execution_count": 46,
   "metadata": {},
   "outputs": [],
   "source": [
    "df['appellant plaintiff']=np.array(plaintiff)\n",
    "df['appellant defendant']=np.array(defendant)\n",
    "df['appellant other']=np.array(other)\n",
    "df['appellant both']=np.array(both)"
   ]
  },
  {
   "cell_type": "code",
   "execution_count": 47,
   "metadata": {},
   "outputs": [],
   "source": [
    "df = df.drop(columns=['Appellant','appellant both'])\n",
    "# droppping appellant both because it has only zeros"
   ]
  },
  {
   "cell_type": "markdown",
   "metadata": {},
   "source": [
    "## Processing for court type"
   ]
  },
  {
   "cell_type": "code",
   "execution_count": 48,
   "metadata": {},
   "outputs": [
    {
     "data": {
      "text/plain": [
       "APPEALS COURT             6436\n",
       "SUPREME JUDICIAL COURT     374\n",
       "Name: Court Type, dtype: int64"
      ]
     },
     "execution_count": 48,
     "metadata": {},
     "output_type": "execute_result"
    }
   ],
   "source": [
    "df['Court Type'].value_counts()"
   ]
  },
  {
   "cell_type": "code",
   "execution_count": 49,
   "metadata": {},
   "outputs": [],
   "source": [
    "court_values=df['Court Type'].values"
   ]
  },
  {
   "cell_type": "code",
   "execution_count": 50,
   "metadata": {},
   "outputs": [],
   "source": [
    "appeal_court=[]\n",
    "supreme_court=[]\n",
    "unknown=[]\n",
    "for val in court_values:\n",
    "    if(val=='APPEALS COURT'):\n",
    "        appeal_court.append(1)\n",
    "        supreme_court.append(0)\n",
    "        unknown.append(0)\n",
    "    elif(val=='SUPREME JUDICIAL COURT'):\n",
    "        appeal_court.append(0)\n",
    "        supreme_court.append(1)\n",
    "        unknown.append(0)\n",
    "    else:\n",
    "        appeal_court.append(0)\n",
    "        supreme_court.append(0)\n",
    "        unknown.append(1)"
   ]
  },
  {
   "cell_type": "code",
   "execution_count": 51,
   "metadata": {},
   "outputs": [],
   "source": [
    "df['appeal court']=np.array(appeal_court)\n",
    "df['supreme court']=np.array(supreme_court)\n",
    "df['unknown court']=np.array(unknown)"
   ]
  },
  {
   "cell_type": "code",
   "execution_count": 52,
   "metadata": {},
   "outputs": [],
   "source": [
    "df = df.drop(columns=['Court Type'])"
   ]
  },
  {
   "cell_type": "markdown",
   "metadata": {},
   "source": [
    "## Processing for all output values"
   ]
  },
  {
   "cell_type": "code",
   "execution_count": 53,
   "metadata": {},
   "outputs": [],
   "source": [
    "df['Has Affirm']=df['Has Affirm'].fillna(0)"
   ]
  },
  {
   "cell_type": "code",
   "execution_count": 54,
   "metadata": {},
   "outputs": [],
   "source": [
    "df['Has Reverse']=df['Has Reverse'].fillna(0)"
   ]
  },
  {
   "cell_type": "code",
   "execution_count": 55,
   "metadata": {},
   "outputs": [],
   "source": [
    "df['Has Affirm']=df['Has Affirm'].astype(str)\n",
    "df['Has Reverse']=df['Has Reverse'].astype(str)"
   ]
  },
  {
   "cell_type": "code",
   "execution_count": 56,
   "metadata": {},
   "outputs": [],
   "source": [
    "has_affirm_values=df['Has Affirm'].values\n",
    "has_reverse_values=df['Has Reverse'].values"
   ]
  },
  {
   "cell_type": "code",
   "execution_count": 57,
   "metadata": {},
   "outputs": [],
   "source": [
    "prediction_class=[]\n",
    "# 1-> affirmed\n",
    "# 2-> reversed\n",
    "# 3-> partially\n",
    "# 4 -> undecided as of then\n",
    "for i in range(df.shape[0]):\n",
    "    if(has_affirm_values[i]=='Yes' and has_reverse_values[i]=='0'):\n",
    "        prediction_class.append(0)\n",
    "    elif(has_affirm_values[i]=='0' and has_reverse_values[i]=='Yes'):\n",
    "        prediction_class.append(1)\n",
    "    elif(has_affirm_values[i]=='Yes' and has_reverse_values[i]=='Yes'):\n",
    "        prediction_class.append(2)\n",
    "    elif(has_affirm_values[i]=='0' and has_reverse_values[i]=='0'):\n",
    "        prediction_class.append(3)\n",
    "        \n",
    "    "
   ]
  },
  {
   "cell_type": "code",
   "execution_count": 58,
   "metadata": {},
   "outputs": [],
   "source": [
    "df['prediction class']=np.array(prediction_class)"
   ]
  },
  {
   "cell_type": "code",
   "execution_count": 59,
   "metadata": {},
   "outputs": [],
   "source": [
    "df = df.drop(columns=['Has Affirm','Has Reverse'])"
   ]
  },
  {
   "cell_type": "code",
   "execution_count": 60,
   "metadata": {},
   "outputs": [
    {
     "data": {
      "text/plain": [
       "0    10014\n",
       "3     1807\n",
       "1     1104\n",
       "2      534\n",
       "Name: prediction class, dtype: int64"
      ]
     },
     "execution_count": 60,
     "metadata": {},
     "output_type": "execute_result"
    }
   ],
   "source": [
    "df['prediction class'].value_counts()"
   ]
  },
  {
   "cell_type": "code",
   "execution_count": 61,
   "metadata": {},
   "outputs": [],
   "source": [
    "df = df[df['prediction class'] != 3]"
   ]
  },
  {
   "cell_type": "code",
   "execution_count": 62,
   "metadata": {
    "scrolled": true
   },
   "outputs": [
    {
     "data": {
      "text/plain": [
       "Sub-Nature             7283\n",
       "Nature                 6228\n",
       "Status Closed             0\n",
       "Status Decided            0\n",
       "Status Entry diff         0\n",
       "Decision Entry diff       0\n",
       "civil cases               0\n",
       "criminal cases            0\n",
       "appellant plaintiff       0\n",
       "appellant defendant       0\n",
       "appellant other           0\n",
       "appeal court              0\n",
       "supreme court             0\n",
       "unknown court             0\n",
       "prediction class          0\n",
       "dtype: int64"
      ]
     },
     "execution_count": 62,
     "metadata": {},
     "output_type": "execute_result"
    }
   ],
   "source": [
    "df.isna().sum()"
   ]
  },
  {
   "cell_type": "code",
   "execution_count": 63,
   "metadata": {},
   "outputs": [],
   "source": [
    "no_text_df=df.drop(columns=['Nature','Sub-Nature'])"
   ]
  },
  {
   "cell_type": "code",
   "execution_count": 64,
   "metadata": {},
   "outputs": [],
   "source": [
    "no_text_df.to_csv('../../data/previous_gp/processed_cases.csv',index=False)"
   ]
  },
  {
   "cell_type": "markdown",
   "metadata": {},
   "source": [
    "## Using Nature and Sub Nature"
   ]
  },
  {
   "cell_type": "code",
   "execution_count": 65,
   "metadata": {},
   "outputs": [],
   "source": [
    "df['Nature'] = df['Nature'] + df['Sub-Nature']\n",
    "df = df.drop(columns=['Sub-Nature'])\n",
    "# For now drop all Null in Nature\n",
    "df = df.dropna(axis=0, subset=['Nature'])\n",
    "\n",
    "vectorizer = TfidfVectorizer()\n",
    "X = vectorizer.fit_transform(df['Nature'])\n",
    "\n",
    "# df['Nature']=np.asarray(X.todense()).tolist()\n",
    "save_npz('../../data/previous_gp/text_matrix.npz', X)\n",
    "\n",
    "df = df.drop(columns=['Nature'])"
   ]
  },
  {
   "cell_type": "code",
   "execution_count": 66,
   "metadata": {},
   "outputs": [
    {
     "data": {
      "text/plain": [
       "(4369, 13)"
      ]
     },
     "execution_count": 66,
     "metadata": {},
     "output_type": "execute_result"
    }
   ],
   "source": [
    "df.shape"
   ]
  },
  {
   "cell_type": "code",
   "execution_count": 67,
   "metadata": {},
   "outputs": [],
   "source": [
    "df.to_csv('../../data/previous_gp/text_processed_cases.csv',index=False)"
   ]
  },
  {
   "cell_type": "code",
   "execution_count": null,
   "metadata": {},
   "outputs": [],
   "source": []
  }
 ],
 "metadata": {
  "kernelspec": {
   "display_name": "Python 3",
   "language": "python",
   "name": "python3"
  },
  "language_info": {
   "codemirror_mode": {
    "name": "ipython",
    "version": 3
   },
   "file_extension": ".py",
   "mimetype": "text/x-python",
   "name": "python",
   "nbconvert_exporter": "python",
   "pygments_lexer": "ipython3",
   "version": "3.6.9"
  }
 },
 "nbformat": 4,
 "nbformat_minor": 2
}
