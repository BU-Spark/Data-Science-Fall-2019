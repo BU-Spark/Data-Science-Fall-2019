{
 "cells": [
  {
   "cell_type": "code",
   "execution_count": 51,
   "metadata": {},
   "outputs": [],
   "source": [
    "import pandas as pd\n",
    "import re\n",
    "import numpy as np\n",
    "import gc\n",
    "from fuzzywuzzy import fuzz"
   ]
  },
  {
   "cell_type": "code",
   "execution_count": 52,
   "metadata": {},
   "outputs": [],
   "source": [
    "df_contribuion = pd.read_csv('data/contribution_processed.csv')\n",
    "df_companies = pd.read_csv('data/ma-companies-on-linkedin.csv', sep = ';')"
   ]
  },
  {
   "cell_type": "code",
   "execution_count": 53,
   "metadata": {},
   "outputs": [],
   "source": [
    "companies_list = df_companies['Company name'].unique()"
   ]
  },
  {
   "cell_type": "code",
   "execution_count": 54,
   "metadata": {},
   "outputs": [],
   "source": [
    "employer_list = df_contribuion['Employer'].unique()"
   ]
  },
  {
   "cell_type": "code",
   "execution_count": 57,
   "metadata": {},
   "outputs": [],
   "source": [
    "def clean_text(text):\n",
    "    '''\n",
    "    Remove special charecters, numbers\n",
    "    Return lower case alphabet charecters only\n",
    "    '''\n",
    "    text = str(text).lower()\n",
    "    text = re.sub('[^A-Za-z]+', '', text)\n",
    "    return text"
   ]
  },
  {
   "cell_type": "code",
   "execution_count": 58,
   "metadata": {},
   "outputs": [],
   "source": [
    "companies_list_clean = np.array([clean_text(x) for x in companies_list.copy()])"
   ]
  },
  {
   "cell_type": "code",
   "execution_count": 59,
   "metadata": {},
   "outputs": [],
   "source": [
    "employer_list_clean = np.array([clean_text(x) for x in employer_list.copy()])"
   ]
  },
  {
   "cell_type": "code",
   "execution_count": 37,
   "metadata": {},
   "outputs": [],
   "source": [
    "# MATCHING"
   ]
  },
  {
   "cell_type": "code",
   "execution_count": 81,
   "metadata": {
    "scrolled": true
   },
   "outputs": [],
   "source": [
    "match = []\n",
    "companies_list_clean = companies_list_clean.astype('O')\n",
    "employer_list_clean = employer_list_clean.astype('O')\n",
    "\n",
    "for employer in employer_list_clean:\n",
    "    for company in companies_list_clean:\n",
    "        if fuzz.ratio(employer, company) >= 85:\n",
    "            match.append(employer)"
   ]
  },
  {
   "cell_type": "code",
   "execution_count": 83,
   "metadata": {},
   "outputs": [],
   "source": [
    "match_set = set(match)"
   ]
  },
  {
   "cell_type": "code",
   "execution_count": 88,
   "metadata": {},
   "outputs": [],
   "source": [
    "df_contribuion['Employer_clean'] = df_contribuion['Employer'].apply(clean_text)"
   ]
  },
  {
   "cell_type": "code",
   "execution_count": 93,
   "metadata": {},
   "outputs": [],
   "source": [
    "df_companies['Company_clean'] = df_companies['Company name'].apply(clean_text)"
   ]
  },
  {
   "cell_type": "code",
   "execution_count": 89,
   "metadata": {},
   "outputs": [],
   "source": [
    "def company_search(name):\n",
    "    return name in match_set"
   ]
  },
  {
   "cell_type": "code",
   "execution_count": 90,
   "metadata": {},
   "outputs": [],
   "source": [
    "df_contribuion['Industry_new'] = df_contribuion['Employer_clean'].apply(company_search)"
   ]
  },
  {
   "cell_type": "code",
   "execution_count": 92,
   "metadata": {},
   "outputs": [
    {
     "data": {
      "text/plain": [
       "False    95910\n",
       "True     22551\n",
       "Name: Industry_new, dtype: int64"
      ]
     },
     "execution_count": 92,
     "metadata": {},
     "output_type": "execute_result"
    }
   ],
   "source": [
    "df_contribuion['Industry_new'].value_counts()"
   ]
  },
  {
   "cell_type": "code",
   "execution_count": 116,
   "metadata": {},
   "outputs": [],
   "source": [
    "match_ind = {}\n",
    "for com in match_set:\n",
    "    industry = df_companies[df_companies['Company_clean'] == com]['Industry'].values\n",
    "    if len(industry) == 0:\n",
    "        continue\n",
    "    match_ind[com] = industry[0]"
   ]
  },
  {
   "cell_type": "code",
   "execution_count": 124,
   "metadata": {},
   "outputs": [],
   "source": [
    "employer_dict = {}\n",
    "for employer in match_set:\n",
    "    for company in companies_list_clean:\n",
    "        if fuzz.ratio(employer, company) >= 85:\n",
    "            employer_dict[employer] = company"
   ]
  },
  {
   "cell_type": "code",
   "execution_count": 131,
   "metadata": {},
   "outputs": [],
   "source": [
    "employer_dict_list = list(employer_dict.keys())\n",
    "company_dict_list = list(employer_dict.values())"
   ]
  },
  {
   "cell_type": "code",
   "execution_count": 145,
   "metadata": {},
   "outputs": [],
   "source": [
    "def com_search(name):\n",
    "    if name in employer_dict.keys():\n",
    "        industry = df_companies[df_companies['Company_clean'] == employer_dict[name]]['Industry'].values[0]\n",
    "        return industry"
   ]
  },
  {
   "cell_type": "code",
   "execution_count": 146,
   "metadata": {},
   "outputs": [],
   "source": [
    "df_contribuion['Industry_new'] = df_contribuion['Employer_clean'].apply(com_search)"
   ]
  },
  {
   "cell_type": "code",
   "execution_count": 158,
   "metadata": {},
   "outputs": [],
   "source": [
    "df_contribuion.drop(columns=['Employer_clean'], inplace=True)"
   ]
  },
  {
   "cell_type": "code",
   "execution_count": 161,
   "metadata": {},
   "outputs": [
    {
     "data": {
      "text/html": [
       "<div>\n",
       "<style scoped>\n",
       "    .dataframe tbody tr th:only-of-type {\n",
       "        vertical-align: middle;\n",
       "    }\n",
       "\n",
       "    .dataframe tbody tr th {\n",
       "        vertical-align: top;\n",
       "    }\n",
       "\n",
       "    .dataframe thead th {\n",
       "        text-align: right;\n",
       "    }\n",
       "</style>\n",
       "<table border=\"1\" class=\"dataframe\">\n",
       "  <thead>\n",
       "    <tr style=\"text-align: right;\">\n",
       "      <th></th>\n",
       "      <th>Unnamed: 0</th>\n",
       "      <th>Unnamed: 0.1</th>\n",
       "      <th>Address</th>\n",
       "      <th>Amount</th>\n",
       "      <th>City</th>\n",
       "      <th>Contributor_ID</th>\n",
       "      <th>Contributor_Type</th>\n",
       "      <th>Date</th>\n",
       "      <th>Employer</th>\n",
       "      <th>First_Name</th>\n",
       "      <th>...</th>\n",
       "      <th>Occupation</th>\n",
       "      <th>Principal_Officer</th>\n",
       "      <th>Report_ID</th>\n",
       "      <th>State</th>\n",
       "      <th>Zip</th>\n",
       "      <th>Donor_Name</th>\n",
       "      <th>Industry</th>\n",
       "      <th>PAC</th>\n",
       "      <th>Lobbyist</th>\n",
       "      <th>Industry_new</th>\n",
       "    </tr>\n",
       "  </thead>\n",
       "  <tbody>\n",
       "    <tr>\n",
       "      <td>0</td>\n",
       "      <td>0</td>\n",
       "      <td>7373</td>\n",
       "      <td>270 S. Common Street</td>\n",
       "      <td>500.0</td>\n",
       "      <td>Lynn</td>\n",
       "      <td>NaN</td>\n",
       "      <td>Individual</td>\n",
       "      <td>2015-01-01</td>\n",
       "      <td>McGrath Enterprises</td>\n",
       "      <td>Patrick</td>\n",
       "      <td>...</td>\n",
       "      <td>Developer</td>\n",
       "      <td>NaN</td>\n",
       "      <td>217037</td>\n",
       "      <td>MA</td>\n",
       "      <td>01905</td>\n",
       "      <td>PATRICK MCGRATH</td>\n",
       "      <td>NaN</td>\n",
       "      <td>NaN</td>\n",
       "      <td>False</td>\n",
       "      <td>None</td>\n",
       "    </tr>\n",
       "    <tr>\n",
       "      <td>1</td>\n",
       "      <td>1</td>\n",
       "      <td>7374</td>\n",
       "      <td>186 Perkins Row</td>\n",
       "      <td>250.0</td>\n",
       "      <td>Topsfield</td>\n",
       "      <td>NaN</td>\n",
       "      <td>Individual</td>\n",
       "      <td>2015-01-15</td>\n",
       "      <td>Self</td>\n",
       "      <td>Thomas</td>\n",
       "      <td>...</td>\n",
       "      <td>Attorney</td>\n",
       "      <td>NaN</td>\n",
       "      <td>217037</td>\n",
       "      <td>MA</td>\n",
       "      <td>01983</td>\n",
       "      <td>THOMAS DEMAKIS</td>\n",
       "      <td>Healthcare</td>\n",
       "      <td>NaN</td>\n",
       "      <td>False</td>\n",
       "      <td>professional training &amp; coaching</td>\n",
       "    </tr>\n",
       "    <tr>\n",
       "      <td>2</td>\n",
       "      <td>2</td>\n",
       "      <td>7634</td>\n",
       "      <td>11 Lake Ave.</td>\n",
       "      <td>25.0</td>\n",
       "      <td>Lynn</td>\n",
       "      <td>NaN</td>\n",
       "      <td>Individual</td>\n",
       "      <td>2015-03-02</td>\n",
       "      <td>NaN</td>\n",
       "      <td>Loretta</td>\n",
       "      <td>...</td>\n",
       "      <td>NaN</td>\n",
       "      <td>NaN</td>\n",
       "      <td>217124</td>\n",
       "      <td>MA</td>\n",
       "      <td>10904</td>\n",
       "      <td>LORETTA O'DONNELL</td>\n",
       "      <td>NaN</td>\n",
       "      <td>NaN</td>\n",
       "      <td>False</td>\n",
       "      <td>None</td>\n",
       "    </tr>\n",
       "    <tr>\n",
       "      <td>3</td>\n",
       "      <td>3</td>\n",
       "      <td>7635</td>\n",
       "      <td>7 William St.</td>\n",
       "      <td>50.0</td>\n",
       "      <td>Lynn</td>\n",
       "      <td>NaN</td>\n",
       "      <td>Individual</td>\n",
       "      <td>2015-03-02</td>\n",
       "      <td>NaN</td>\n",
       "      <td>Stephen</td>\n",
       "      <td>...</td>\n",
       "      <td>NaN</td>\n",
       "      <td>NaN</td>\n",
       "      <td>217124</td>\n",
       "      <td>MA</td>\n",
       "      <td>01904</td>\n",
       "      <td>STEPHEN SPENCER</td>\n",
       "      <td>NaN</td>\n",
       "      <td>NaN</td>\n",
       "      <td>False</td>\n",
       "      <td>None</td>\n",
       "    </tr>\n",
       "    <tr>\n",
       "      <td>4</td>\n",
       "      <td>4</td>\n",
       "      <td>7636</td>\n",
       "      <td>20 Bulfinch Ter.</td>\n",
       "      <td>50.0</td>\n",
       "      <td>Lynn</td>\n",
       "      <td>NaN</td>\n",
       "      <td>Individual</td>\n",
       "      <td>2015-03-02</td>\n",
       "      <td>NaN</td>\n",
       "      <td>Ann Marie</td>\n",
       "      <td>...</td>\n",
       "      <td>NaN</td>\n",
       "      <td>NaN</td>\n",
       "      <td>217124</td>\n",
       "      <td>MA</td>\n",
       "      <td>01902</td>\n",
       "      <td>ANN MARIE LEONARD</td>\n",
       "      <td>NaN</td>\n",
       "      <td>NaN</td>\n",
       "      <td>False</td>\n",
       "      <td>None</td>\n",
       "    </tr>\n",
       "  </tbody>\n",
       "</table>\n",
       "<p>5 rows × 24 columns</p>\n",
       "</div>"
      ],
      "text/plain": [
       "   Unnamed: 0  Unnamed: 0.1               Address  Amount       City  \\\n",
       "0           0          7373  270 S. Common Street   500.0       Lynn   \n",
       "1           1          7374       186 Perkins Row   250.0  Topsfield   \n",
       "2           2          7634          11 Lake Ave.    25.0       Lynn   \n",
       "3           3          7635         7 William St.    50.0       Lynn   \n",
       "4           4          7636      20 Bulfinch Ter.    50.0       Lynn   \n",
       "\n",
       "   Contributor_ID Contributor_Type        Date             Employer  \\\n",
       "0             NaN       Individual  2015-01-01  McGrath Enterprises   \n",
       "1             NaN       Individual  2015-01-15                 Self   \n",
       "2             NaN       Individual  2015-03-02                  NaN   \n",
       "3             NaN       Individual  2015-03-02                  NaN   \n",
       "4             NaN       Individual  2015-03-02                  NaN   \n",
       "\n",
       "  First_Name  ... Occupation  Principal_Officer Report_ID  State    Zip  \\\n",
       "0    Patrick  ...  Developer                NaN    217037     MA  01905   \n",
       "1     Thomas  ...   Attorney                NaN    217037     MA  01983   \n",
       "2    Loretta  ...        NaN                NaN    217124     MA  10904   \n",
       "3    Stephen  ...        NaN                NaN    217124     MA  01904   \n",
       "4  Ann Marie  ...        NaN                NaN    217124     MA  01902   \n",
       "\n",
       "          Donor_Name    Industry  PAC Lobbyist  \\\n",
       "0    PATRICK MCGRATH         NaN  NaN    False   \n",
       "1     THOMAS DEMAKIS  Healthcare  NaN    False   \n",
       "2  LORETTA O'DONNELL         NaN  NaN    False   \n",
       "3    STEPHEN SPENCER         NaN  NaN    False   \n",
       "4  ANN MARIE LEONARD         NaN  NaN    False   \n",
       "\n",
       "                       Industry_new  \n",
       "0                              None  \n",
       "1  professional training & coaching  \n",
       "2                              None  \n",
       "3                              None  \n",
       "4                              None  \n",
       "\n",
       "[5 rows x 24 columns]"
      ]
     },
     "execution_count": 161,
     "metadata": {},
     "output_type": "execute_result"
    }
   ],
   "source": [
    "df_contribuion.head()"
   ]
  },
  {
   "cell_type": "code",
   "execution_count": 162,
   "metadata": {},
   "outputs": [],
   "source": [
    "df_contribuion.to_csv('data/contribution_experiment.csv')"
   ]
  }
 ],
 "metadata": {
  "kernelspec": {
   "display_name": "Python 3",
   "language": "python",
   "name": "python3"
  },
  "language_info": {
   "codemirror_mode": {
    "name": "ipython",
    "version": 3
   },
   "file_extension": ".py",
   "mimetype": "text/x-python",
   "name": "python",
   "nbconvert_exporter": "python",
   "pygments_lexer": "ipython3",
   "version": "3.7.1"
  }
 },
 "nbformat": 4,
 "nbformat_minor": 2
}
