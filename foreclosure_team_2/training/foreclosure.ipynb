{
 "cells": [
  {
   "cell_type": "code",
   "execution_count": 1,
   "metadata": {
    "collapsed": true
   },
   "outputs": [],
   "source": [
    "import os\n",
    "import time\n",
    "import numpy as np \n",
    "import pandas as pd\n",
    "from sklearn.model_selection import train_test_split\n",
    "from sklearn.preprocessing import StandardScaler\n",
    "\n",
    "from sklearn.metrics import mean_squared_error\n",
    "from sklearn.model_selection import cross_val_score, GridSearchCV, KFold, RandomizedSearchCV, train_test_split\n",
    "import math\n",
    "import sklearn.model_selection as ms\n",
    "import sklearn.metrics as sklm\n",
    "from sklearn.model_selection import KFold"
   ]
  },
  {
   "cell_type": "code",
   "execution_count": 2,
   "metadata": {
    "collapsed": true
   },
   "outputs": [],
   "source": [
    "data = pd.read_csv('311_featured.csv', engine='python')"
   ]
  },
  {
   "cell_type": "code",
   "execution_count": 3,
   "metadata": {},
   "outputs": [
    {
     "data": {
      "text/html": [
       "<div>\n",
       "<style>\n",
       "    .dataframe thead tr:only-child th {\n",
       "        text-align: right;\n",
       "    }\n",
       "\n",
       "    .dataframe thead th {\n",
       "        text-align: left;\n",
       "    }\n",
       "\n",
       "    .dataframe tbody tr th {\n",
       "        vertical-align: top;\n",
       "    }\n",
       "</style>\n",
       "<table border=\"1\" class=\"dataframe\">\n",
       "  <thead>\n",
       "    <tr style=\"text-align: right;\">\n",
       "      <th></th>\n",
       "      <th>case_enquiry_id</th>\n",
       "      <th>open_dt</th>\n",
       "      <th>target_dt</th>\n",
       "      <th>closed_dt</th>\n",
       "      <th>ontime</th>\n",
       "      <th>case_status</th>\n",
       "      <th>closure_reason</th>\n",
       "      <th>case_title</th>\n",
       "      <th>subject</th>\n",
       "      <th>reason</th>\n",
       "      <th>...</th>\n",
       "      <th>Administrative</th>\n",
       "      <th>Disability</th>\n",
       "      <th>Metrolist</th>\n",
       "      <th>Call Inquiry</th>\n",
       "      <th>Consumer Affairs Issues</th>\n",
       "      <th>Call Center Intake</th>\n",
       "      <th>Investigations and Enforcement</th>\n",
       "      <th>Boston Bikes</th>\n",
       "      <th>Participatory Budgeting Idea Collection</th>\n",
       "      <th>Potential Foreclosure</th>\n",
       "    </tr>\n",
       "  </thead>\n",
       "  <tbody>\n",
       "    <tr>\n",
       "      <th>0</th>\n",
       "      <td>101000295615</td>\n",
       "      <td>2011-07-01 02:28:04</td>\n",
       "      <td>2011-08-15 02:28:04</td>\n",
       "      <td>2011-08-01 15:21:46</td>\n",
       "      <td>ONTIME</td>\n",
       "      <td>Closed</td>\n",
       "      <td>Case Closed Case Resolved No Sidewalk and poor...</td>\n",
       "      <td>New Sign  Crosswalk or Pavement Marking</td>\n",
       "      <td>Transportation - Traffic Division</td>\n",
       "      <td>Signs &amp; Signals</td>\n",
       "      <td>...</td>\n",
       "      <td>0</td>\n",
       "      <td>0</td>\n",
       "      <td>0</td>\n",
       "      <td>0</td>\n",
       "      <td>0</td>\n",
       "      <td>0</td>\n",
       "      <td>0</td>\n",
       "      <td>0</td>\n",
       "      <td>0</td>\n",
       "      <td>0</td>\n",
       "    </tr>\n",
       "    <tr>\n",
       "      <th>1</th>\n",
       "      <td>101000295616</td>\n",
       "      <td>2011-07-01 03:03:48</td>\n",
       "      <td>2011-07-15 03:03:48</td>\n",
       "      <td>2011-07-22 16:13:45</td>\n",
       "      <td>OVERDUE</td>\n",
       "      <td>Closed</td>\n",
       "      <td>Case Closed Case Resolved completed</td>\n",
       "      <td>Street Light Outages</td>\n",
       "      <td>Public Works Department</td>\n",
       "      <td>Street Lights</td>\n",
       "      <td>...</td>\n",
       "      <td>0</td>\n",
       "      <td>0</td>\n",
       "      <td>0</td>\n",
       "      <td>0</td>\n",
       "      <td>0</td>\n",
       "      <td>0</td>\n",
       "      <td>0</td>\n",
       "      <td>0</td>\n",
       "      <td>0</td>\n",
       "      <td>0</td>\n",
       "    </tr>\n",
       "    <tr>\n",
       "      <th>2</th>\n",
       "      <td>101000295617</td>\n",
       "      <td>2011-07-01 03:12:31</td>\n",
       "      <td>NaN</td>\n",
       "      <td>2011-07-01 06:12:38</td>\n",
       "      <td>ONTIME</td>\n",
       "      <td>Closed</td>\n",
       "      <td>Case Closed Case Resolved</td>\n",
       "      <td>Highway Maintenance</td>\n",
       "      <td>Public Works Department</td>\n",
       "      <td>Highway Maintenance</td>\n",
       "      <td>...</td>\n",
       "      <td>0</td>\n",
       "      <td>0</td>\n",
       "      <td>0</td>\n",
       "      <td>0</td>\n",
       "      <td>0</td>\n",
       "      <td>0</td>\n",
       "      <td>0</td>\n",
       "      <td>0</td>\n",
       "      <td>0</td>\n",
       "      <td>0</td>\n",
       "    </tr>\n",
       "    <tr>\n",
       "      <th>3</th>\n",
       "      <td>101000295618</td>\n",
       "      <td>2011-07-01 03:43:07</td>\n",
       "      <td>NaN</td>\n",
       "      <td>2011-07-05 09:16:10</td>\n",
       "      <td>ONTIME</td>\n",
       "      <td>Closed</td>\n",
       "      <td>Case Closed Case Noted</td>\n",
       "      <td>Notification</td>\n",
       "      <td>Mayor's 24 Hour Hotline</td>\n",
       "      <td>Notification</td>\n",
       "      <td>...</td>\n",
       "      <td>0</td>\n",
       "      <td>0</td>\n",
       "      <td>0</td>\n",
       "      <td>0</td>\n",
       "      <td>0</td>\n",
       "      <td>0</td>\n",
       "      <td>0</td>\n",
       "      <td>0</td>\n",
       "      <td>0</td>\n",
       "      <td>0</td>\n",
       "    </tr>\n",
       "    <tr>\n",
       "      <th>4</th>\n",
       "      <td>101000295619</td>\n",
       "      <td>2011-07-01 05:35:41</td>\n",
       "      <td>2011-08-15 05:35:41</td>\n",
       "      <td>2011-10-17 12:33:28</td>\n",
       "      <td>OVERDUE</td>\n",
       "      <td>Closed</td>\n",
       "      <td>Case Closed Case Noted Duplicate request</td>\n",
       "      <td>New Sign  Crosswalk or Pavement Marking</td>\n",
       "      <td>Transportation - Traffic Division</td>\n",
       "      <td>Signs &amp; Signals</td>\n",
       "      <td>...</td>\n",
       "      <td>0</td>\n",
       "      <td>0</td>\n",
       "      <td>0</td>\n",
       "      <td>0</td>\n",
       "      <td>0</td>\n",
       "      <td>0</td>\n",
       "      <td>0</td>\n",
       "      <td>0</td>\n",
       "      <td>0</td>\n",
       "      <td>0</td>\n",
       "    </tr>\n",
       "  </tbody>\n",
       "</table>\n",
       "<p>5 rows × 89 columns</p>\n",
       "</div>"
      ],
      "text/plain": [
       "   case_enquiry_id              open_dt            target_dt  \\\n",
       "0     101000295615  2011-07-01 02:28:04  2011-08-15 02:28:04   \n",
       "1     101000295616  2011-07-01 03:03:48  2011-07-15 03:03:48   \n",
       "2     101000295617  2011-07-01 03:12:31                  NaN   \n",
       "3     101000295618  2011-07-01 03:43:07                  NaN   \n",
       "4     101000295619  2011-07-01 05:35:41  2011-08-15 05:35:41   \n",
       "\n",
       "             closed_dt   ontime case_status  \\\n",
       "0  2011-08-01 15:21:46   ONTIME      Closed   \n",
       "1  2011-07-22 16:13:45  OVERDUE      Closed   \n",
       "2  2011-07-01 06:12:38   ONTIME      Closed   \n",
       "3  2011-07-05 09:16:10   ONTIME      Closed   \n",
       "4  2011-10-17 12:33:28  OVERDUE      Closed   \n",
       "\n",
       "                                      closure_reason  \\\n",
       "0  Case Closed Case Resolved No Sidewalk and poor...   \n",
       "1               Case Closed Case Resolved completed    \n",
       "2                         Case Closed Case Resolved    \n",
       "3                            Case Closed Case Noted    \n",
       "4          Case Closed Case Noted Duplicate request    \n",
       "\n",
       "                                case_title                            subject  \\\n",
       "0  New Sign  Crosswalk or Pavement Marking  Transportation - Traffic Division   \n",
       "1                     Street Light Outages            Public Works Department   \n",
       "2                      Highway Maintenance            Public Works Department   \n",
       "3                             Notification            Mayor's 24 Hour Hotline   \n",
       "4  New Sign  Crosswalk or Pavement Marking  Transportation - Traffic Division   \n",
       "\n",
       "                reason          ...          Administrative Disability  \\\n",
       "0      Signs & Signals          ...                       0          0   \n",
       "1        Street Lights          ...                       0          0   \n",
       "2  Highway Maintenance          ...                       0          0   \n",
       "3         Notification          ...                       0          0   \n",
       "4      Signs & Signals          ...                       0          0   \n",
       "\n",
       "  Metrolist Call Inquiry Consumer Affairs Issues Call Center Intake  \\\n",
       "0         0            0                       0                  0   \n",
       "1         0            0                       0                  0   \n",
       "2         0            0                       0                  0   \n",
       "3         0            0                       0                  0   \n",
       "4         0            0                       0                  0   \n",
       "\n",
       "  Investigations and Enforcement Boston Bikes  \\\n",
       "0                              0            0   \n",
       "1                              0            0   \n",
       "2                              0            0   \n",
       "3                              0            0   \n",
       "4                              0            0   \n",
       "\n",
       "  Participatory Budgeting Idea Collection Potential Foreclosure  \n",
       "0                                       0                     0  \n",
       "1                                       0                     0  \n",
       "2                                       0                     0  \n",
       "3                                       0                     0  \n",
       "4                                       0                     0  \n",
       "\n",
       "[5 rows x 89 columns]"
      ]
     },
     "execution_count": 3,
     "metadata": {},
     "output_type": "execute_result"
    }
   ],
   "source": [
    "data.head()"
   ]
  },
  {
   "cell_type": "code",
   "execution_count": 4,
   "metadata": {},
   "outputs": [
    {
     "data": {
      "text/plain": [
       "Index(['case_enquiry_id', 'open_dt', 'target_dt', 'closed_dt', 'ontime',\n",
       "       'case_status', 'closure_reason', 'case_title', 'subject', 'reason',\n",
       "       'type', 'queue', 'department', 'submittedphoto', 'closedphoto',\n",
       "       'location', 'fire_district', 'pwd_district', 'city_council_district',\n",
       "       'police_district', 'neighborhood', 'neighborhood_services_district',\n",
       "       'ward', 'precinct', 'location_street_name', 'location_zipcode',\n",
       "       'latitude', 'longitude', 'source', 'Street Lights', 'Sanitation',\n",
       "       'Signs & Signals', 'Highway Maintenance', 'Notification',\n",
       "       'Street Cleaning', 'Code Enforcement', 'Recycling',\n",
       "       'Environmental Services', 'Graffiti', 'Building',\n",
       "       'Employee & General Comments', 'Enforcement & Abandoned Vehicles',\n",
       "       'Housing', 'Trees', 'Health', 'Weights and Measures',\n",
       "       'Park Maintenance & Safety', 'Abandoned Bicycle',\n",
       "       'Administrative & General Requests', 'Operations',\n",
       "       'Traffic Management & Engineering', 'Cemetery',\n",
       "       'Office of The Parking Clerk', 'Volunteer & Corporate Groups',\n",
       "       'Bridge Maintenance', 'Valet', 'Alert Boston', 'Parking Complaints',\n",
       "       'Programs', 'Current Events', 'Catchbasin', 'Water Issues',\n",
       "       'Fire Hydrant', 'School Transportation', 'School Department',\n",
       "       'Sidewalk Cover / Manhole', 'Billing', 'MBTA', 'Pothole',\n",
       "       'General Request', 'Fire Department', 'Survey', 'Animal Issues',\n",
       "       'Neighborhood Services Issues', 'Generic Noise Disturbance', 'Massport',\n",
       "       'Noise Disturbance', 'Air Pollution Control', 'Administration',\n",
       "       'Administrative', 'Disability', 'Metrolist', 'Call Inquiry',\n",
       "       'Consumer Affairs Issues', 'Call Center Intake',\n",
       "       'Investigations and Enforcement', 'Boston Bikes',\n",
       "       'Participatory Budgeting Idea Collection', 'Potential Foreclosure'],\n",
       "      dtype='object')"
      ]
     },
     "execution_count": 4,
     "metadata": {},
     "output_type": "execute_result"
    }
   ],
   "source": [
    "data.columns"
   ]
  },
  {
   "cell_type": "code",
   "execution_count": 3,
   "metadata": {
    "collapsed": true
   },
   "outputs": [],
   "source": [
    "y = data['Potential Foreclosure']"
   ]
  },
  {
   "cell_type": "code",
   "execution_count": 4,
   "metadata": {
    "collapsed": true
   },
   "outputs": [],
   "source": [
    "X = data.iloc[:, 29:-1].copy()"
   ]
  },
  {
   "cell_type": "code",
   "execution_count": 5,
   "metadata": {},
   "outputs": [
    {
     "data": {
      "text/html": [
       "<div>\n",
       "<style>\n",
       "    .dataframe thead tr:only-child th {\n",
       "        text-align: right;\n",
       "    }\n",
       "\n",
       "    .dataframe thead th {\n",
       "        text-align: left;\n",
       "    }\n",
       "\n",
       "    .dataframe tbody tr th {\n",
       "        vertical-align: top;\n",
       "    }\n",
       "</style>\n",
       "<table border=\"1\" class=\"dataframe\">\n",
       "  <thead>\n",
       "    <tr style=\"text-align: right;\">\n",
       "      <th></th>\n",
       "      <th>Street Lights</th>\n",
       "      <th>Sanitation</th>\n",
       "      <th>Signs &amp; Signals</th>\n",
       "      <th>Highway Maintenance</th>\n",
       "      <th>Notification</th>\n",
       "      <th>Street Cleaning</th>\n",
       "      <th>Code Enforcement</th>\n",
       "      <th>Recycling</th>\n",
       "      <th>Environmental Services</th>\n",
       "      <th>Graffiti</th>\n",
       "      <th>...</th>\n",
       "      <th>Administration</th>\n",
       "      <th>Administrative</th>\n",
       "      <th>Disability</th>\n",
       "      <th>Metrolist</th>\n",
       "      <th>Call Inquiry</th>\n",
       "      <th>Consumer Affairs Issues</th>\n",
       "      <th>Call Center Intake</th>\n",
       "      <th>Investigations and Enforcement</th>\n",
       "      <th>Boston Bikes</th>\n",
       "      <th>Participatory Budgeting Idea Collection</th>\n",
       "    </tr>\n",
       "  </thead>\n",
       "  <tbody>\n",
       "    <tr>\n",
       "      <th>0</th>\n",
       "      <td>0</td>\n",
       "      <td>0</td>\n",
       "      <td>1</td>\n",
       "      <td>0</td>\n",
       "      <td>0</td>\n",
       "      <td>0</td>\n",
       "      <td>0</td>\n",
       "      <td>0</td>\n",
       "      <td>0</td>\n",
       "      <td>0</td>\n",
       "      <td>...</td>\n",
       "      <td>0</td>\n",
       "      <td>0</td>\n",
       "      <td>0</td>\n",
       "      <td>0</td>\n",
       "      <td>0</td>\n",
       "      <td>0</td>\n",
       "      <td>0</td>\n",
       "      <td>0</td>\n",
       "      <td>0</td>\n",
       "      <td>0</td>\n",
       "    </tr>\n",
       "    <tr>\n",
       "      <th>1</th>\n",
       "      <td>1</td>\n",
       "      <td>0</td>\n",
       "      <td>0</td>\n",
       "      <td>0</td>\n",
       "      <td>0</td>\n",
       "      <td>0</td>\n",
       "      <td>0</td>\n",
       "      <td>0</td>\n",
       "      <td>0</td>\n",
       "      <td>0</td>\n",
       "      <td>...</td>\n",
       "      <td>0</td>\n",
       "      <td>0</td>\n",
       "      <td>0</td>\n",
       "      <td>0</td>\n",
       "      <td>0</td>\n",
       "      <td>0</td>\n",
       "      <td>0</td>\n",
       "      <td>0</td>\n",
       "      <td>0</td>\n",
       "      <td>0</td>\n",
       "    </tr>\n",
       "    <tr>\n",
       "      <th>2</th>\n",
       "      <td>0</td>\n",
       "      <td>0</td>\n",
       "      <td>0</td>\n",
       "      <td>1</td>\n",
       "      <td>0</td>\n",
       "      <td>0</td>\n",
       "      <td>0</td>\n",
       "      <td>0</td>\n",
       "      <td>0</td>\n",
       "      <td>0</td>\n",
       "      <td>...</td>\n",
       "      <td>0</td>\n",
       "      <td>0</td>\n",
       "      <td>0</td>\n",
       "      <td>0</td>\n",
       "      <td>0</td>\n",
       "      <td>0</td>\n",
       "      <td>0</td>\n",
       "      <td>0</td>\n",
       "      <td>0</td>\n",
       "      <td>0</td>\n",
       "    </tr>\n",
       "    <tr>\n",
       "      <th>3</th>\n",
       "      <td>0</td>\n",
       "      <td>0</td>\n",
       "      <td>0</td>\n",
       "      <td>0</td>\n",
       "      <td>1</td>\n",
       "      <td>0</td>\n",
       "      <td>0</td>\n",
       "      <td>0</td>\n",
       "      <td>0</td>\n",
       "      <td>0</td>\n",
       "      <td>...</td>\n",
       "      <td>0</td>\n",
       "      <td>0</td>\n",
       "      <td>0</td>\n",
       "      <td>0</td>\n",
       "      <td>0</td>\n",
       "      <td>0</td>\n",
       "      <td>0</td>\n",
       "      <td>0</td>\n",
       "      <td>0</td>\n",
       "      <td>0</td>\n",
       "    </tr>\n",
       "    <tr>\n",
       "      <th>4</th>\n",
       "      <td>0</td>\n",
       "      <td>0</td>\n",
       "      <td>1</td>\n",
       "      <td>0</td>\n",
       "      <td>0</td>\n",
       "      <td>0</td>\n",
       "      <td>0</td>\n",
       "      <td>0</td>\n",
       "      <td>0</td>\n",
       "      <td>0</td>\n",
       "      <td>...</td>\n",
       "      <td>0</td>\n",
       "      <td>0</td>\n",
       "      <td>0</td>\n",
       "      <td>0</td>\n",
       "      <td>0</td>\n",
       "      <td>0</td>\n",
       "      <td>0</td>\n",
       "      <td>0</td>\n",
       "      <td>0</td>\n",
       "      <td>0</td>\n",
       "    </tr>\n",
       "  </tbody>\n",
       "</table>\n",
       "<p>5 rows × 59 columns</p>\n",
       "</div>"
      ],
      "text/plain": [
       "   Street Lights  Sanitation  Signs & Signals  Highway Maintenance  \\\n",
       "0              0           0                1                    0   \n",
       "1              1           0                0                    0   \n",
       "2              0           0                0                    1   \n",
       "3              0           0                0                    0   \n",
       "4              0           0                1                    0   \n",
       "\n",
       "   Notification  Street Cleaning  Code Enforcement  Recycling  \\\n",
       "0             0                0                 0          0   \n",
       "1             0                0                 0          0   \n",
       "2             0                0                 0          0   \n",
       "3             1                0                 0          0   \n",
       "4             0                0                 0          0   \n",
       "\n",
       "   Environmental Services  Graffiti                   ...                     \\\n",
       "0                       0         0                   ...                      \n",
       "1                       0         0                   ...                      \n",
       "2                       0         0                   ...                      \n",
       "3                       0         0                   ...                      \n",
       "4                       0         0                   ...                      \n",
       "\n",
       "   Administration  Administrative  Disability  Metrolist  Call Inquiry  \\\n",
       "0               0               0           0          0             0   \n",
       "1               0               0           0          0             0   \n",
       "2               0               0           0          0             0   \n",
       "3               0               0           0          0             0   \n",
       "4               0               0           0          0             0   \n",
       "\n",
       "   Consumer Affairs Issues  Call Center Intake  \\\n",
       "0                        0                   0   \n",
       "1                        0                   0   \n",
       "2                        0                   0   \n",
       "3                        0                   0   \n",
       "4                        0                   0   \n",
       "\n",
       "   Investigations and Enforcement  Boston Bikes  \\\n",
       "0                               0             0   \n",
       "1                               0             0   \n",
       "2                               0             0   \n",
       "3                               0             0   \n",
       "4                               0             0   \n",
       "\n",
       "   Participatory Budgeting Idea Collection  \n",
       "0                                        0  \n",
       "1                                        0  \n",
       "2                                        0  \n",
       "3                                        0  \n",
       "4                                        0  \n",
       "\n",
       "[5 rows x 59 columns]"
      ]
     },
     "execution_count": 5,
     "metadata": {},
     "output_type": "execute_result"
    }
   ],
   "source": [
    "X.head()"
   ]
  },
  {
   "cell_type": "code",
   "execution_count": 16,
   "metadata": {},
   "outputs": [
    {
     "data": {
      "text/plain": [
       "Index(['Street Lights', 'Sanitation', 'Signs & Signals', 'Highway Maintenance',\n",
       "       'Notification', 'Street Cleaning', 'Code Enforcement', 'Recycling',\n",
       "       'Environmental Services', 'Graffiti', 'Building',\n",
       "       'Employee & General Comments', 'Enforcement & Abandoned Vehicles',\n",
       "       'Housing', 'Trees', 'Health', 'Weights and Measures',\n",
       "       'Park Maintenance & Safety', 'Abandoned Bicycle',\n",
       "       'Administrative & General Requests', 'Operations',\n",
       "       'Traffic Management & Engineering', 'Cemetery',\n",
       "       'Office of The Parking Clerk', 'Volunteer & Corporate Groups',\n",
       "       'Bridge Maintenance', 'Valet', 'Alert Boston', 'Parking Complaints',\n",
       "       'Programs', 'Current Events', 'Catchbasin', 'Water Issues',\n",
       "       'Fire Hydrant', 'School Transportation', 'School Department',\n",
       "       'Sidewalk Cover / Manhole', 'Billing', 'MBTA', 'Pothole',\n",
       "       'General Request', 'Fire Department', 'Survey', 'Animal Issues',\n",
       "       'Neighborhood Services Issues', 'Generic Noise Disturbance', 'Massport',\n",
       "       'Noise Disturbance', 'Air Pollution Control', 'Administration',\n",
       "       'Administrative', 'Disability', 'Metrolist', 'Call Inquiry',\n",
       "       'Consumer Affairs Issues', 'Call Center Intake',\n",
       "       'Investigations and Enforcement', 'Boston Bikes',\n",
       "       'Participatory Budgeting Idea Collection'],\n",
       "      dtype='object')"
      ]
     },
     "execution_count": 16,
     "metadata": {},
     "output_type": "execute_result"
    }
   ],
   "source": [
    "X.columns"
   ]
  },
  {
   "cell_type": "code",
   "execution_count": 6,
   "metadata": {
    "collapsed": true
   },
   "outputs": [],
   "source": [
    "X_train, X_test, y_train, y_test = train_test_split(X, y, test_size=0.3)"
   ]
  },
  {
   "cell_type": "code",
   "execution_count": 7,
   "metadata": {
    "collapsed": true
   },
   "outputs": [],
   "source": [
    "from sklearn.linear_model import LogisticRegression, LogisticRegressionCV"
   ]
  },
  {
   "cell_type": "code",
   "execution_count": 8,
   "metadata": {
    "collapsed": true
   },
   "outputs": [],
   "source": [
    "clf = LogisticRegression(solver='lbfgs').fit(X_train, y_train)"
   ]
  },
  {
   "cell_type": "code",
   "execution_count": 9,
   "metadata": {
    "collapsed": true
   },
   "outputs": [],
   "source": [
    "y_pred = clf.predict(X)"
   ]
  },
  {
   "cell_type": "code",
   "execution_count": 10,
   "metadata": {
    "collapsed": true
   },
   "outputs": [],
   "source": [
    "df_original = data[['latitude', 'longitude','Potential Foreclosure']]"
   ]
  },
  {
   "cell_type": "code",
   "execution_count": 12,
   "metadata": {},
   "outputs": [],
   "source": [
    "df_pred = data[['latitude', 'longitude']].copy()\n",
    "df_pred['Potential Foreclosure'] = y_pred"
   ]
  },
  {
   "cell_type": "code",
   "execution_count": 15,
   "metadata": {},
   "outputs": [],
   "source": [
    "foreclosure = df_pred[df_pred['Potential Foreclosure'] == 1][['latitude', 'longitude']].copy()"
   ]
  },
  {
   "cell_type": "code",
   "execution_count": 17,
   "metadata": {},
   "outputs": [],
   "source": [
    "import folium\n",
    "from folium.plugins import HeatMap\n",
    "import pandas as pd\n",
    "import matplotlib.pyplot as plt"
   ]
  },
  {
   "cell_type": "code",
   "execution_count": 18,
   "metadata": {
    "collapsed": true
   },
   "outputs": [],
   "source": [
    "def generateBaseMap(default_location = [42.3601, -71.0589], default_zoom_start=11):\n",
    "    base_map = folium .Map(location=default_location, control_scale=True, zoom_start=default_zoom_start)\n",
    "    return base_map"
   ]
  },
  {
   "cell_type": "code",
   "execution_count": 19,
   "metadata": {
    "collapsed": true
   },
   "outputs": [],
   "source": [
    "base_map = generateBaseMap()\n",
    "HeatMap(data=foreclosure, radius=8, max_zoom=13).add_to(base_map)\n",
    "base_map.save('predictions_heatmap.html')"
   ]
  },
  {
   "cell_type": "code",
   "execution_count": 21,
   "metadata": {},
   "outputs": [
    {
     "data": {
      "text/plain": [
       "0.9191393916509262"
      ]
     },
     "execution_count": 21,
     "metadata": {},
     "output_type": "execute_result"
    }
   ],
   "source": [
    "clf.score(X_train, y_train)"
   ]
  },
  {
   "cell_type": "code",
   "execution_count": 22,
   "metadata": {},
   "outputs": [
    {
     "data": {
      "text/plain": [
       "0.9194379086824919"
      ]
     },
     "execution_count": 22,
     "metadata": {},
     "output_type": "execute_result"
    }
   ],
   "source": [
    "clf.score(X_test, y_test)"
   ]
  },
  {
   "cell_type": "code",
   "execution_count": 17,
   "metadata": {},
   "outputs": [
    {
     "name": "stdout",
     "output_type": "stream",
     "text": [
      "[-0.07527262 -0.0850688  -0.07970353 -0.07894528 -0.08926527]\n"
     ]
    }
   ],
   "source": [
    "clf = LogisticRegression(solver='lbfgs')\n",
    "print(ms.cross_val_score(clf, X, y, scoring='neg_mean_squared_error', cv=5))"
   ]
  },
  {
   "cell_type": "code",
   "execution_count": 28,
   "metadata": {},
   "outputs": [
    {
     "data": {
      "text/plain": [
       "pandas.core.frame.DataFrame"
      ]
     },
     "execution_count": 28,
     "metadata": {},
     "output_type": "execute_result"
    }
   ],
   "source": [
    "type(X)"
   ]
  },
  {
   "cell_type": "code",
   "execution_count": 27,
   "metadata": {},
   "outputs": [
    {
     "name": "stdout",
     "output_type": "stream",
     "text": [
      "Train Index:  [ 328393  328394  328395 ... 1641959 1641960 1641961] \n",
      "\n",
      "Test Index:  [     0      1      2 ... 328390 328391 328392]\n"
     ]
    },
    {
     "ename": "KeyError",
     "evalue": "'[ 328393  328394  328395 ... 1641959 1641960 1641961] not in index'",
     "output_type": "error",
     "traceback": [
      "\u001b[0;31m---------------------------------------------------------------------------\u001b[0m",
      "\u001b[0;31mKeyError\u001b[0m                                  Traceback (most recent call last)",
      "\u001b[0;32m<ipython-input-27-a0e501d8ae5c>\u001b[0m in \u001b[0;36m<module>\u001b[0;34m()\u001b[0m\n\u001b[1;32m      5\u001b[0m     \u001b[0mprint\u001b[0m\u001b[1;33m(\u001b[0m\u001b[1;34m\"Train Index: \"\u001b[0m\u001b[1;33m,\u001b[0m \u001b[0mtrain_index\u001b[0m\u001b[1;33m,\u001b[0m \u001b[1;34m\"\\n\"\u001b[0m\u001b[1;33m)\u001b[0m\u001b[1;33m\u001b[0m\u001b[0m\n\u001b[1;32m      6\u001b[0m     \u001b[0mprint\u001b[0m\u001b[1;33m(\u001b[0m\u001b[1;34m\"Test Index: \"\u001b[0m\u001b[1;33m,\u001b[0m \u001b[0mtest_index\u001b[0m\u001b[1;33m)\u001b[0m\u001b[1;33m\u001b[0m\u001b[0m\n\u001b[0;32m----> 7\u001b[0;31m     \u001b[0mX_train_loc\u001b[0m\u001b[1;33m,\u001b[0m \u001b[0mX_test_loc\u001b[0m\u001b[1;33m,\u001b[0m \u001b[0my_train_loc\u001b[0m\u001b[1;33m,\u001b[0m \u001b[0my_test_loc\u001b[0m \u001b[1;33m=\u001b[0m \u001b[0mX\u001b[0m\u001b[1;33m[\u001b[0m\u001b[0mtrain_index\u001b[0m\u001b[1;33m]\u001b[0m\u001b[1;33m,\u001b[0m \u001b[0mX\u001b[0m\u001b[1;33m[\u001b[0m\u001b[0mtest_index\u001b[0m\u001b[1;33m]\u001b[0m\u001b[1;33m,\u001b[0m \u001b[0my\u001b[0m\u001b[1;33m[\u001b[0m\u001b[0mtrain_index\u001b[0m\u001b[1;33m]\u001b[0m\u001b[1;33m,\u001b[0m \u001b[0my\u001b[0m\u001b[1;33m[\u001b[0m\u001b[0mtest_index\u001b[0m\u001b[1;33m]\u001b[0m\u001b[1;33m\u001b[0m\u001b[0m\n\u001b[0m\u001b[1;32m      8\u001b[0m     \u001b[0mclf\u001b[0m\u001b[1;33m.\u001b[0m\u001b[0mfit\u001b[0m\u001b[1;33m(\u001b[0m\u001b[0mX_train_loc\u001b[0m\u001b[1;33m,\u001b[0m \u001b[0my_train_loc\u001b[0m\u001b[1;33m)\u001b[0m\u001b[1;33m\u001b[0m\u001b[0m\n\u001b[1;32m      9\u001b[0m     \u001b[0mscores\u001b[0m\u001b[1;33m.\u001b[0m\u001b[0mappend\u001b[0m\u001b[1;33m(\u001b[0m\u001b[0mclf\u001b[0m\u001b[1;33m.\u001b[0m\u001b[0mscore\u001b[0m\u001b[1;33m(\u001b[0m\u001b[0mX_test_loc\u001b[0m\u001b[1;33m,\u001b[0m \u001b[0my_test_loc\u001b[0m\u001b[1;33m)\u001b[0m\u001b[1;33m)\u001b[0m\u001b[1;33m\u001b[0m\u001b[0m\n",
      "\u001b[0;32mC:\\Users\\46176\\Anaconda3\\lib\\site-packages\\pandas\\core\\frame.py\u001b[0m in \u001b[0;36m__getitem__\u001b[0;34m(self, key)\u001b[0m\n\u001b[1;32m   1956\u001b[0m         \u001b[1;32mif\u001b[0m \u001b[0misinstance\u001b[0m\u001b[1;33m(\u001b[0m\u001b[0mkey\u001b[0m\u001b[1;33m,\u001b[0m \u001b[1;33m(\u001b[0m\u001b[0mSeries\u001b[0m\u001b[1;33m,\u001b[0m \u001b[0mnp\u001b[0m\u001b[1;33m.\u001b[0m\u001b[0mndarray\u001b[0m\u001b[1;33m,\u001b[0m \u001b[0mIndex\u001b[0m\u001b[1;33m,\u001b[0m \u001b[0mlist\u001b[0m\u001b[1;33m)\u001b[0m\u001b[1;33m)\u001b[0m\u001b[1;33m:\u001b[0m\u001b[1;33m\u001b[0m\u001b[0m\n\u001b[1;32m   1957\u001b[0m             \u001b[1;31m# either boolean or fancy integer index\u001b[0m\u001b[1;33m\u001b[0m\u001b[1;33m\u001b[0m\u001b[0m\n\u001b[0;32m-> 1958\u001b[0;31m             \u001b[1;32mreturn\u001b[0m \u001b[0mself\u001b[0m\u001b[1;33m.\u001b[0m\u001b[0m_getitem_array\u001b[0m\u001b[1;33m(\u001b[0m\u001b[0mkey\u001b[0m\u001b[1;33m)\u001b[0m\u001b[1;33m\u001b[0m\u001b[0m\n\u001b[0m\u001b[1;32m   1959\u001b[0m         \u001b[1;32melif\u001b[0m \u001b[0misinstance\u001b[0m\u001b[1;33m(\u001b[0m\u001b[0mkey\u001b[0m\u001b[1;33m,\u001b[0m \u001b[0mDataFrame\u001b[0m\u001b[1;33m)\u001b[0m\u001b[1;33m:\u001b[0m\u001b[1;33m\u001b[0m\u001b[0m\n\u001b[1;32m   1960\u001b[0m             \u001b[1;32mreturn\u001b[0m \u001b[0mself\u001b[0m\u001b[1;33m.\u001b[0m\u001b[0m_getitem_frame\u001b[0m\u001b[1;33m(\u001b[0m\u001b[0mkey\u001b[0m\u001b[1;33m)\u001b[0m\u001b[1;33m\u001b[0m\u001b[0m\n",
      "\u001b[0;32mC:\\Users\\46176\\Anaconda3\\lib\\site-packages\\pandas\\core\\frame.py\u001b[0m in \u001b[0;36m_getitem_array\u001b[0;34m(self, key)\u001b[0m\n\u001b[1;32m   2000\u001b[0m             \u001b[1;32mreturn\u001b[0m \u001b[0mself\u001b[0m\u001b[1;33m.\u001b[0m\u001b[0mtake\u001b[0m\u001b[1;33m(\u001b[0m\u001b[0mindexer\u001b[0m\u001b[1;33m,\u001b[0m \u001b[0maxis\u001b[0m\u001b[1;33m=\u001b[0m\u001b[1;36m0\u001b[0m\u001b[1;33m,\u001b[0m \u001b[0mconvert\u001b[0m\u001b[1;33m=\u001b[0m\u001b[1;32mFalse\u001b[0m\u001b[1;33m)\u001b[0m\u001b[1;33m\u001b[0m\u001b[0m\n\u001b[1;32m   2001\u001b[0m         \u001b[1;32melse\u001b[0m\u001b[1;33m:\u001b[0m\u001b[1;33m\u001b[0m\u001b[0m\n\u001b[0;32m-> 2002\u001b[0;31m             \u001b[0mindexer\u001b[0m \u001b[1;33m=\u001b[0m \u001b[0mself\u001b[0m\u001b[1;33m.\u001b[0m\u001b[0mloc\u001b[0m\u001b[1;33m.\u001b[0m\u001b[0m_convert_to_indexer\u001b[0m\u001b[1;33m(\u001b[0m\u001b[0mkey\u001b[0m\u001b[1;33m,\u001b[0m \u001b[0maxis\u001b[0m\u001b[1;33m=\u001b[0m\u001b[1;36m1\u001b[0m\u001b[1;33m)\u001b[0m\u001b[1;33m\u001b[0m\u001b[0m\n\u001b[0m\u001b[1;32m   2003\u001b[0m             \u001b[1;32mreturn\u001b[0m \u001b[0mself\u001b[0m\u001b[1;33m.\u001b[0m\u001b[0mtake\u001b[0m\u001b[1;33m(\u001b[0m\u001b[0mindexer\u001b[0m\u001b[1;33m,\u001b[0m \u001b[0maxis\u001b[0m\u001b[1;33m=\u001b[0m\u001b[1;36m1\u001b[0m\u001b[1;33m,\u001b[0m \u001b[0mconvert\u001b[0m\u001b[1;33m=\u001b[0m\u001b[1;32mTrue\u001b[0m\u001b[1;33m)\u001b[0m\u001b[1;33m\u001b[0m\u001b[0m\n\u001b[1;32m   2004\u001b[0m \u001b[1;33m\u001b[0m\u001b[0m\n",
      "\u001b[0;32mC:\\Users\\46176\\Anaconda3\\lib\\site-packages\\pandas\\core\\indexing.py\u001b[0m in \u001b[0;36m_convert_to_indexer\u001b[0;34m(self, obj, axis, is_setter)\u001b[0m\n\u001b[1;32m   1229\u001b[0m                 \u001b[0mmask\u001b[0m \u001b[1;33m=\u001b[0m \u001b[0mcheck\u001b[0m \u001b[1;33m==\u001b[0m \u001b[1;33m-\u001b[0m\u001b[1;36m1\u001b[0m\u001b[1;33m\u001b[0m\u001b[0m\n\u001b[1;32m   1230\u001b[0m                 \u001b[1;32mif\u001b[0m \u001b[0mmask\u001b[0m\u001b[1;33m.\u001b[0m\u001b[0many\u001b[0m\u001b[1;33m(\u001b[0m\u001b[1;33m)\u001b[0m\u001b[1;33m:\u001b[0m\u001b[1;33m\u001b[0m\u001b[0m\n\u001b[0;32m-> 1231\u001b[0;31m                     \u001b[1;32mraise\u001b[0m \u001b[0mKeyError\u001b[0m\u001b[1;33m(\u001b[0m\u001b[1;34m'%s not in index'\u001b[0m \u001b[1;33m%\u001b[0m \u001b[0mobjarr\u001b[0m\u001b[1;33m[\u001b[0m\u001b[0mmask\u001b[0m\u001b[1;33m]\u001b[0m\u001b[1;33m)\u001b[0m\u001b[1;33m\u001b[0m\u001b[0m\n\u001b[0m\u001b[1;32m   1232\u001b[0m \u001b[1;33m\u001b[0m\u001b[0m\n\u001b[1;32m   1233\u001b[0m                 \u001b[1;32mreturn\u001b[0m \u001b[0m_values_from_object\u001b[0m\u001b[1;33m(\u001b[0m\u001b[0mindexer\u001b[0m\u001b[1;33m)\u001b[0m\u001b[1;33m\u001b[0m\u001b[0m\n",
      "\u001b[0;31mKeyError\u001b[0m: '[ 328393  328394  328395 ... 1641959 1641960 1641961] not in index'"
     ]
    }
   ],
   "source": [
    "scores = []\n",
    "clf = LogisticRegression(solver='lbfgs')\n",
    "cv = KFold(n_splits=5, random_state=0, shuffle=False)\n",
    "for train_index, test_index in cv.split(X):\n",
    "    print(\"Train Index: \", train_index, \"\\n\")\n",
    "    print(\"Test Index: \", test_index)\n",
    "    X_train_loc, X_test_loc, y_train_loc, y_test_loc = X[train_index], X[test_index], y[train_index], y[test_index]\n",
    "    clf.fit(X_train_loc, y_train_loc)\n",
    "    scores.append(clf.score(X_test_loc, y_test_loc))"
   ]
  },
  {
   "cell_type": "code",
   "execution_count": null,
   "metadata": {
    "collapsed": true
   },
   "outputs": [],
   "source": [
    "scores"
   ]
  }
 ],
 "metadata": {
  "anaconda-cloud": {},
  "kernelspec": {
   "display_name": "Python [conda root]",
   "language": "python",
   "name": "conda-root-py"
  },
  "language_info": {
   "codemirror_mode": {
    "name": "ipython",
    "version": 3
   },
   "file_extension": ".py",
   "mimetype": "text/x-python",
   "name": "python",
   "nbconvert_exporter": "python",
   "pygments_lexer": "ipython3",
   "version": "3.5.2"
  }
 },
 "nbformat": 4,
 "nbformat_minor": 2
}
