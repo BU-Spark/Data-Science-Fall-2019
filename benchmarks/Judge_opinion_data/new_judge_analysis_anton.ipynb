{
 "cells": [
  {
   "cell_type": "markdown",
   "metadata": {},
   "source": [
    "### Analysis on new_judge dataset by Anton Njavro\n",
    "### CS506 Group"
   ]
  },
  {
   "cell_type": "code",
   "execution_count": 122,
   "metadata": {},
   "outputs": [],
   "source": [
    "import numpy as np \n",
    "import pandas as pd \n",
    "import matplotlib.pyplot as plt \n",
    "from sklearn.preprocessing import LabelEncoder"
   ]
  },
  {
   "cell_type": "code",
   "execution_count": 123,
   "metadata": {},
   "outputs": [],
   "source": [
    "#Import new_judge_Data\n",
    "sjc_draft = pd.read_csv('sjc_draft.csv')\n",
    "new_sjc_draft = sjc_draft[317:]\n",
    "judges_fill = pd.read_csv('judge_fill.csv')\n",
    "jud=judges_fill['judge']\n",
    "new_judge_data=new_sjc_draft.assign(judge=jud.values)"
   ]
  },
  {
   "cell_type": "code",
   "execution_count": 124,
   "metadata": {},
   "outputs": [],
   "source": [
    "# get is reversed\n",
    "yesls=[317,322,324,326,327,330,333,338,341,343,344,352,354,370,373,374,376,384,386,388,394,395,407,411,412,414,417,419,422,423,425,426,428,430,432,436,438,441,463,465,470,471,473,475,484,487,493,499,500,501,505,506,509,515,516,545,549,550,554,558,566,568,575,576,577,579,580,581,585,586,590,591,595,596,599,600,613,619,620,625,628,631,643]\n",
    "nols=[318,319,320,323,325,328,329,331,332,335,336,337,339,340,342,345,346,347,348,349,350,353,356,358,359,361,362,364,365,366,367,368,369,371,372,375,377,378,379,380,381,382,383,389,390,391,392,393,396,397,398,399,400,401,402,403,404,405,406,408,410,413,415,416,418,420,421,424,427,433,434,437,435,439,440,442,443,444,445,447,448,449,450,451,452,453,454,455,456,457,458,459,460,461,462,464,466,467,468,469,472,474,476,477,478,479,480,481,482,483,485,486,488,489,490,491,492,494,495,496,497,498,502,503,504,507,508,511,512,513,514,517,518,519,520,521,522,523,524,525,526,527,528,529,530,531,532,533,534,535,536,537,538,539,540,541,542,543,544,546,547,548,551,552,555,556,557,559,561,562,563,564,565,567,569,570,571,572,573,574,578,582,583,584,587,588,589,592,594,597,598,601,602,603,604,605,606,607,608,609,610,611,612,614,615,616,617,618,621,622,624,626,627,629,630,632,635,636,637,638,640,642,644]\n",
    "parls=[321,334,351,355,357,360,363,385,387,409,429,431,446,510,553,560,593,623,633,634,639,641,645]\n",
    "#Add case status\n",
    "for i in yesls:\n",
    "    new_sjc_draft.at[i,'appealed']='Yes'\n",
    "for i in nols:\n",
    "    new_sjc_draft.at[i,'appealed']='No'\n",
    "for i in parls:\n",
    "    new_sjc_draft.at[i,'appealed']='Partially'\n",
    "judges_fill = pd.read_csv('judge_fill.csv')\n",
    "jud=judges_fill['judge']\n",
    "new_judge_data=new_sjc_draft.assign(judge=jud.values)"
   ]
  },
  {
   "cell_type": "code",
   "execution_count": 125,
   "metadata": {},
   "outputs": [
    {
     "data": {
      "text/html": [
       "<div>\n",
       "<style scoped>\n",
       "    .dataframe tbody tr th:only-of-type {\n",
       "        vertical-align: middle;\n",
       "    }\n",
       "\n",
       "    .dataframe tbody tr th {\n",
       "        vertical-align: top;\n",
       "    }\n",
       "\n",
       "    .dataframe thead th {\n",
       "        text-align: right;\n",
       "    }\n",
       "</style>\n",
       "<table border=\"1\" class=\"dataframe\">\n",
       "  <thead>\n",
       "    <tr style=\"text-align: right;\">\n",
       "      <th></th>\n",
       "      <th>cases</th>\n",
       "      <th>headnote</th>\n",
       "      <th>text</th>\n",
       "      <th>type</th>\n",
       "      <th>caseid</th>\n",
       "      <th>appealed</th>\n",
       "      <th>judge</th>\n",
       "    </tr>\n",
       "  </thead>\n",
       "  <tbody>\n",
       "    <tr>\n",
       "      <th>317</th>\n",
       "      <td>in the matter of e.c.</td>\n",
       "      <td>sjc-12230incompetent person, commitment.  prac...</td>\n",
       "      <td>in this appeal, we consider whether the dismis...</td>\n",
       "      <td>criminal</td>\n",
       "      <td>sjc-12230</td>\n",
       "      <td>Yes</td>\n",
       "      <td>Not Mentioned</td>\n",
       "    </tr>\n",
       "    <tr>\n",
       "      <th>318</th>\n",
       "      <td>commonwealth  vs.  joseph wright.</td>\n",
       "      <td>sjc-11950homicide.  constitutional law, admiss...</td>\n",
       "      <td>the defendant, joseph wright, appeals from two...</td>\n",
       "      <td>criminal</td>\n",
       "      <td>sjc-11950</td>\n",
       "      <td>No</td>\n",
       "      <td>Howard J. Whitehead, J.</td>\n",
       "    </tr>\n",
       "    <tr>\n",
       "      <th>319</th>\n",
       "      <td>brian rafferty  vs.  merck &amp; co., inc., &amp; anot...</td>\n",
       "      <td>sjc-12347negligence, pharmaceutical manufactur...</td>\n",
       "      <td>under federal law, a manufacturer of a generic...</td>\n",
       "      <td>civil</td>\n",
       "      <td>sjc-12347</td>\n",
       "      <td>No</td>\n",
       "      <td>Kenneth J. Fishman, J.</td>\n",
       "    </tr>\n",
       "    <tr>\n",
       "      <th>320</th>\n",
       "      <td>commonwealth  vs.  johnelle m. brown.</td>\n",
       "      <td>sjc-12313assault and battery.  intimidation of...</td>\n",
       "      <td>a jury in the district court convicted the def...</td>\n",
       "      <td>criminal</td>\n",
       "      <td>sjc-12313</td>\n",
       "      <td>No</td>\n",
       "      <td>Michele B. Hogan, J.</td>\n",
       "    </tr>\n",
       "    <tr>\n",
       "      <th>321</th>\n",
       "      <td>commonwealth  vs.  g.f.</td>\n",
       "      <td>amended april 13, 2018. amended may 11, 2018.s...</td>\n",
       "      <td>this case concerns g. l. c. 123a, the statute ...</td>\n",
       "      <td>civil</td>\n",
       "      <td>NaN</td>\n",
       "      <td>Partially</td>\n",
       "      <td>Not Mentioned</td>\n",
       "    </tr>\n",
       "  </tbody>\n",
       "</table>\n",
       "</div>"
      ],
      "text/plain": [
       "                                                 cases  \\\n",
       "317                              in the matter of e.c.   \n",
       "318                  commonwealth  vs.  joseph wright.   \n",
       "319  brian rafferty  vs.  merck & co., inc., & anot...   \n",
       "320              commonwealth  vs.  johnelle m. brown.   \n",
       "321                            commonwealth  vs.  g.f.   \n",
       "\n",
       "                                              headnote  \\\n",
       "317  sjc-12230incompetent person, commitment.  prac...   \n",
       "318  sjc-11950homicide.  constitutional law, admiss...   \n",
       "319  sjc-12347negligence, pharmaceutical manufactur...   \n",
       "320  sjc-12313assault and battery.  intimidation of...   \n",
       "321  amended april 13, 2018. amended may 11, 2018.s...   \n",
       "\n",
       "                                                  text      type     caseid  \\\n",
       "317  in this appeal, we consider whether the dismis...  criminal  sjc-12230   \n",
       "318  the defendant, joseph wright, appeals from two...  criminal  sjc-11950   \n",
       "319  under federal law, a manufacturer of a generic...     civil  sjc-12347   \n",
       "320  a jury in the district court convicted the def...  criminal  sjc-12313   \n",
       "321  this case concerns g. l. c. 123a, the statute ...     civil        NaN   \n",
       "\n",
       "      appealed                    judge  \n",
       "317        Yes            Not Mentioned  \n",
       "318         No  Howard J. Whitehead, J.  \n",
       "319         No   Kenneth J. Fishman, J.  \n",
       "320         No     Michele B. Hogan, J.  \n",
       "321  Partially            Not Mentioned  "
      ]
     },
     "execution_count": 125,
     "metadata": {},
     "output_type": "execute_result"
    }
   ],
   "source": [
    "new_judge_data.head(5)"
   ]
  },
  {
   "cell_type": "code",
   "execution_count": 126,
   "metadata": {},
   "outputs": [
    {
     "data": {
      "text/plain": [
       "pandas.core.series.Series"
      ]
     },
     "execution_count": 126,
     "metadata": {},
     "output_type": "execute_result"
    }
   ],
   "source": [
    "type(new_judge_data.judge.value_counts()[1:])"
   ]
  },
  {
   "cell_type": "code",
   "execution_count": 127,
   "metadata": {},
   "outputs": [],
   "source": [
    "#Create dictionary with format {JudgeName:#OfCases}\n",
    "#Save judges only with number of cases greater than 3\n",
    "judge_dict = {}\n",
    "judge_names = set()\n",
    "for items in new_judge_data.judge.value_counts()[1:].iteritems(): \n",
    "    if items[1] > 3:\n",
    "        judge_names.add(items[0])\n",
    "        judge_dict[items[0]] = items[1]"
   ]
  },
  {
   "cell_type": "code",
   "execution_count": 128,
   "metadata": {},
   "outputs": [
    {
     "data": {
      "text/plain": [
       "{'Barbara A. Lenk, J.',\n",
       " 'Christine M. Roach, J.',\n",
       " 'Daniel M. Wrenn, J.',\n",
       " 'David A. Lowy, J.',\n",
       " 'Douglas H. Wilkins, J.',\n",
       " 'Elspeth B. Cypher, J.',\n",
       " 'Frank M. Gaziano, J.',\n",
       " 'Gary A. Nickerson, J.',\n",
       " 'Heidi E. Brieger, J.',\n",
       " 'Janet Kenton-Walker, J.',\n",
       " 'Janet L. Sanders, J.',\n",
       " 'Kenneth W. Salinger, J.',\n",
       " 'Kimberly S. Budd, J.',\n",
       " 'Linda E. Giles, J.',\n",
       " 'Maynard M. Kirpalani, J.',\n",
       " 'Peter M. Lauriat, J.',\n",
       " 'Richard J. Carey, J.',\n",
       " 'Scott L. Kafker, J.',\n",
       " 'Thomas F. McGuire, Jr., J.'}"
      ]
     },
     "execution_count": 128,
     "metadata": {},
     "output_type": "execute_result"
    }
   ],
   "source": [
    "judge_names"
   ]
  },
  {
   "cell_type": "code",
   "execution_count": 129,
   "metadata": {},
   "outputs": [],
   "source": [
    "#Extract the dataset with judges that have 3< cases\n",
    "#Length of reduced_new_judge_data is 108\n",
    "reduced_new_judge_data = new_judge_data[new_judge_data['judge'].isin(judge_names)]"
   ]
  },
  {
   "cell_type": "code",
   "execution_count": 130,
   "metadata": {},
   "outputs": [
    {
     "data": {
      "text/html": [
       "<div>\n",
       "<style scoped>\n",
       "    .dataframe tbody tr th:only-of-type {\n",
       "        vertical-align: middle;\n",
       "    }\n",
       "\n",
       "    .dataframe tbody tr th {\n",
       "        vertical-align: top;\n",
       "    }\n",
       "\n",
       "    .dataframe thead th {\n",
       "        text-align: right;\n",
       "    }\n",
       "</style>\n",
       "<table border=\"1\" class=\"dataframe\">\n",
       "  <thead>\n",
       "    <tr style=\"text-align: right;\">\n",
       "      <th></th>\n",
       "      <th>cases</th>\n",
       "      <th>headnote</th>\n",
       "      <th>text</th>\n",
       "      <th>type</th>\n",
       "      <th>caseid</th>\n",
       "      <th>appealed</th>\n",
       "      <th>judge</th>\n",
       "    </tr>\n",
       "  </thead>\n",
       "  <tbody>\n",
       "    <tr>\n",
       "      <th>326</th>\n",
       "      <td>care and protection of m.c.</td>\n",
       "      <td>sjc-12339impoundment.  minor, care and protect...</td>\n",
       "      <td>in this case, we consider the appropriate stan...</td>\n",
       "      <td>criminal</td>\n",
       "      <td>sjc-12339</td>\n",
       "      <td>Yes</td>\n",
       "      <td>Barbara A. Lenk, J.</td>\n",
       "    </tr>\n",
       "    <tr>\n",
       "      <th>329</th>\n",
       "      <td>j.h.  vs.  commonwealth.</td>\n",
       "      <td>sjc-12395juvenile court, delinquent child.  pr...</td>\n",
       "      <td>a single justice of the county court reserved ...</td>\n",
       "      <td>criminal</td>\n",
       "      <td>sjc-12395</td>\n",
       "      <td>No</td>\n",
       "      <td>Barbara A. Lenk, J.</td>\n",
       "    </tr>\n",
       "    <tr>\n",
       "      <th>332</th>\n",
       "      <td>exxon mobil corporation  vs.  attorney general.</td>\n",
       "      <td>sjc-12376attorney general.  consumer protectio...</td>\n",
       "      <td>in 2015, news reporters released internal docu...</td>\n",
       "      <td>civil</td>\n",
       "      <td>sjc-12376</td>\n",
       "      <td>No</td>\n",
       "      <td>Heidi E. Brieger, J.</td>\n",
       "    </tr>\n",
       "    <tr>\n",
       "      <th>336</th>\n",
       "      <td>jane doe no. 1&amp; othersvs.  secretary of educat...</td>\n",
       "      <td>sjc-12275education, charter school.  education...</td>\n",
       "      <td>five students who attend public schools in the...</td>\n",
       "      <td>civil</td>\n",
       "      <td>sjc-12275</td>\n",
       "      <td>No</td>\n",
       "      <td>Heidi E. Brieger, J.</td>\n",
       "    </tr>\n",
       "    <tr>\n",
       "      <th>348</th>\n",
       "      <td>commonwealth  vs.  marcelo almeida.</td>\n",
       "      <td>sjc-12179homicide.  evidence, prior misconduct...</td>\n",
       "      <td>the defendant, marcelo almeida, stabbed the vi...</td>\n",
       "      <td>criminal</td>\n",
       "      <td>sjc-12179</td>\n",
       "      <td>No</td>\n",
       "      <td>Thomas F. McGuire, Jr., J.</td>\n",
       "    </tr>\n",
       "  </tbody>\n",
       "</table>\n",
       "</div>"
      ],
      "text/plain": [
       "                                                 cases  \\\n",
       "326                        care and protection of m.c.   \n",
       "329                           j.h.  vs.  commonwealth.   \n",
       "332    exxon mobil corporation  vs.  attorney general.   \n",
       "336  jane doe no. 1& othersvs.  secretary of educat...   \n",
       "348                commonwealth  vs.  marcelo almeida.   \n",
       "\n",
       "                                              headnote  \\\n",
       "326  sjc-12339impoundment.  minor, care and protect...   \n",
       "329  sjc-12395juvenile court, delinquent child.  pr...   \n",
       "332  sjc-12376attorney general.  consumer protectio...   \n",
       "336  sjc-12275education, charter school.  education...   \n",
       "348  sjc-12179homicide.  evidence, prior misconduct...   \n",
       "\n",
       "                                                  text      type     caseid  \\\n",
       "326  in this case, we consider the appropriate stan...  criminal  sjc-12339   \n",
       "329  a single justice of the county court reserved ...  criminal  sjc-12395   \n",
       "332  in 2015, news reporters released internal docu...     civil  sjc-12376   \n",
       "336  five students who attend public schools in the...     civil  sjc-12275   \n",
       "348  the defendant, marcelo almeida, stabbed the vi...  criminal  sjc-12179   \n",
       "\n",
       "    appealed                       judge  \n",
       "326      Yes         Barbara A. Lenk, J.  \n",
       "329       No         Barbara A. Lenk, J.  \n",
       "332       No        Heidi E. Brieger, J.  \n",
       "336       No        Heidi E. Brieger, J.  \n",
       "348       No  Thomas F. McGuire, Jr., J.  "
      ]
     },
     "execution_count": 130,
     "metadata": {},
     "output_type": "execute_result"
    }
   ],
   "source": [
    "reduced_new_judge_data.head(5)"
   ]
  },
  {
   "cell_type": "code",
   "execution_count": 131,
   "metadata": {},
   "outputs": [
    {
     "name": "stderr",
     "output_type": "stream",
     "text": [
      "/Users/antonnjavro/anaconda3/lib/python3.7/site-packages/ipykernel_launcher.py:10: SettingWithCopyWarning: \n",
      "A value is trying to be set on a copy of a slice from a DataFrame.\n",
      "Try using .loc[row_indexer,col_indexer] = value instead\n",
      "\n",
      "See the caveats in the documentation: http://pandas.pydata.org/pandas-docs/stable/indexing.html#indexing-view-versus-copy\n",
      "  # Remove the CWD from sys.path while we load stuff.\n"
     ]
    }
   ],
   "source": [
    "#Replace columns 'appealed' with 'case status', and 'No'->'Affirm', 'Partially'->'Partially', 'Yes'->'Reverse'\n",
    "def changeAppealed(input_string):\n",
    "    if input_string == 'Yes':\n",
    "        return 'Reverse'\n",
    "    elif input_string == 'Partially':\n",
    "        return 'Partially'\n",
    "    elif input_string == 'No':\n",
    "        return 'Affirm'\n",
    "\n",
    "reduced_new_judge_data['case status'] = reduced_new_judge_data['appealed'].apply(changeAppealed)\n",
    "del reduced_new_judge_data['appealed']"
   ]
  },
  {
   "cell_type": "code",
   "execution_count": 132,
   "metadata": {},
   "outputs": [],
   "source": [
    "#Create list [number_of_reversed,number_of_affirmed,number_of_partial,total_number_of_cases] for each judge \n",
    "#in dict judge_count, with key being judge's name\n",
    "judge_count = {}\n",
    "for i, j in reduced_new_judge_data.iterrows():\n",
    "    #print(j['judge'])\n",
    "    #print(j['judge'])\n",
    "    if j['judge'] not in judge_count:\n",
    "        #print(\"{} is not yet in our dict.\".format(j['judge']))\n",
    "        #Create new entry for a judge\n",
    "        #Check for all three cases\n",
    "        if j['case status'] == 'Affirm':\n",
    "            #Affirmed [0,1,0,1]\n",
    "            judge_count[j['judge']] = [0,1,0,1]\n",
    "        elif j['case status'] == 'Reverse':\n",
    "            #Reverse [1,0,0,1]\n",
    "            judge_count[j['judge']] = [1,0,0,1]\n",
    "        elif j['case status'] == 'Partially':\n",
    "            #Partially [0,0,1,1]\n",
    "            judge_count[j['judge']] = [0,0,1,1]\n",
    "    else:\n",
    "        #Judge already in the dict, increment accordingly\n",
    "        if j['case status'] == 'Affirm':\n",
    "            #Affirmed [0,1,0,1]\n",
    "            judge_count[j['judge']][1] += 1\n",
    "            judge_count[j['judge']][-1] += 1\n",
    "        elif j['case status'] == 'Reverse':\n",
    "            #Reverse [1,0,0,1]\n",
    "            judge_count[j['judge']][0] += 1\n",
    "            judge_count[j['judge']][-1] += 1\n",
    "        elif j['case status'] == 'Partially':\n",
    "            #Partially [0,0,1,1]\n",
    "            judge_count[j['judge']][2] += 1\n",
    "            judge_count[j['judge']][-1] += 1\n",
    "       "
   ]
  },
  {
   "cell_type": "code",
   "execution_count": 133,
   "metadata": {},
   "outputs": [],
   "source": [
    "#Print out percentages\n",
    "def print_stats(judge_name,given_judge):\n",
    "    #We're given list of certain judge [number_of_reversed,number_of_affirmed,number_of_partial,total_number_of_cases]\n",
    "    #Pct reversed:\n",
    "    pct_reversed = round((given_judge[0]/given_judge[-1])*100,2)\n",
    "    #Pct affirmed\n",
    "    pct_affirmed = round((given_judge[1]/given_judge[-1])*100,2)\n",
    "    #Pct partial\n",
    "    pct_partial = round((given_judge[2]/given_judge[-1])*100,2)\n",
    "    print(\"Judge {} has {}% of cases reversed, {}% of cases affirmed, and {}% of cases partially affirmed/reversed.\".format(judge_name,pct_reversed,pct_affirmed,pct_partial))\n",
    "    print()\n",
    "    \n",
    "    \n",
    "\n",
    "for judge in judge_count:\n",
    "    #Uncomment if you want to see percentages for each judge\n",
    "    #print_stats(judge,judge_count[judge])\n",
    "    pass"
   ]
  },
  {
   "cell_type": "markdown",
   "metadata": {},
   "source": [
    "### Visualizations for new judges"
   ]
  },
  {
   "cell_type": "code",
   "execution_count": 134,
   "metadata": {},
   "outputs": [
    {
     "data": {
      "text/plain": [
       "19"
      ]
     },
     "execution_count": 134,
     "metadata": {},
     "output_type": "execute_result"
    }
   ],
   "source": [
    "len(judge_count)"
   ]
  },
  {
   "cell_type": "code",
   "execution_count": 135,
   "metadata": {},
   "outputs": [
    {
     "data": {
      "text/html": [
       "<div>\n",
       "<style scoped>\n",
       "    .dataframe tbody tr th:only-of-type {\n",
       "        vertical-align: middle;\n",
       "    }\n",
       "\n",
       "    .dataframe tbody tr th {\n",
       "        vertical-align: top;\n",
       "    }\n",
       "\n",
       "    .dataframe thead th {\n",
       "        text-align: right;\n",
       "    }\n",
       "</style>\n",
       "<table border=\"1\" class=\"dataframe\">\n",
       "  <thead>\n",
       "    <tr style=\"text-align: right;\">\n",
       "      <th></th>\n",
       "      <th>Reversed</th>\n",
       "      <th>Affirmed</th>\n",
       "      <th>Partial</th>\n",
       "      <th>Total</th>\n",
       "    </tr>\n",
       "  </thead>\n",
       "  <tbody>\n",
       "    <tr>\n",
       "      <th>David A. Lowy, J.</th>\n",
       "      <td>0</td>\n",
       "      <td>13</td>\n",
       "      <td>1</td>\n",
       "      <td>14</td>\n",
       "    </tr>\n",
       "    <tr>\n",
       "      <th>Frank M. Gaziano, J.</th>\n",
       "      <td>1</td>\n",
       "      <td>8</td>\n",
       "      <td>1</td>\n",
       "      <td>10</td>\n",
       "    </tr>\n",
       "    <tr>\n",
       "      <th>Scott L. Kafker, J.</th>\n",
       "      <td>0</td>\n",
       "      <td>9</td>\n",
       "      <td>0</td>\n",
       "      <td>9</td>\n",
       "    </tr>\n",
       "    <tr>\n",
       "      <th>Elspeth B. Cypher, J.</th>\n",
       "      <td>1</td>\n",
       "      <td>7</td>\n",
       "      <td>0</td>\n",
       "      <td>8</td>\n",
       "    </tr>\n",
       "    <tr>\n",
       "      <th>Janet L. Sanders, J.</th>\n",
       "      <td>0</td>\n",
       "      <td>4</td>\n",
       "      <td>2</td>\n",
       "      <td>6</td>\n",
       "    </tr>\n",
       "    <tr>\n",
       "      <th>Richard J. Carey, J.</th>\n",
       "      <td>2</td>\n",
       "      <td>4</td>\n",
       "      <td>0</td>\n",
       "      <td>6</td>\n",
       "    </tr>\n",
       "    <tr>\n",
       "      <th>Heidi E. Brieger, J.</th>\n",
       "      <td>2</td>\n",
       "      <td>4</td>\n",
       "      <td>0</td>\n",
       "      <td>6</td>\n",
       "    </tr>\n",
       "    <tr>\n",
       "      <th>Douglas H. Wilkins, J.</th>\n",
       "      <td>3</td>\n",
       "      <td>2</td>\n",
       "      <td>0</td>\n",
       "      <td>5</td>\n",
       "    </tr>\n",
       "    <tr>\n",
       "      <th>Maynard M. Kirpalani, J.</th>\n",
       "      <td>0</td>\n",
       "      <td>4</td>\n",
       "      <td>0</td>\n",
       "      <td>4</td>\n",
       "    </tr>\n",
       "    <tr>\n",
       "      <th>Gary A. Nickerson, J.</th>\n",
       "      <td>0</td>\n",
       "      <td>4</td>\n",
       "      <td>0</td>\n",
       "      <td>4</td>\n",
       "    </tr>\n",
       "    <tr>\n",
       "      <th>Kenneth W. Salinger, J.</th>\n",
       "      <td>3</td>\n",
       "      <td>1</td>\n",
       "      <td>0</td>\n",
       "      <td>4</td>\n",
       "    </tr>\n",
       "    <tr>\n",
       "      <th>Christine M. Roach, J.</th>\n",
       "      <td>2</td>\n",
       "      <td>2</td>\n",
       "      <td>0</td>\n",
       "      <td>4</td>\n",
       "    </tr>\n",
       "    <tr>\n",
       "      <th>Peter M. Lauriat, J.</th>\n",
       "      <td>1</td>\n",
       "      <td>3</td>\n",
       "      <td>0</td>\n",
       "      <td>4</td>\n",
       "    </tr>\n",
       "    <tr>\n",
       "      <th>Janet Kenton-Walker, J.</th>\n",
       "      <td>2</td>\n",
       "      <td>2</td>\n",
       "      <td>0</td>\n",
       "      <td>4</td>\n",
       "    </tr>\n",
       "    <tr>\n",
       "      <th>Linda E. Giles, J.</th>\n",
       "      <td>0</td>\n",
       "      <td>4</td>\n",
       "      <td>0</td>\n",
       "      <td>4</td>\n",
       "    </tr>\n",
       "    <tr>\n",
       "      <th>Daniel M. Wrenn, J.</th>\n",
       "      <td>1</td>\n",
       "      <td>2</td>\n",
       "      <td>1</td>\n",
       "      <td>4</td>\n",
       "    </tr>\n",
       "    <tr>\n",
       "      <th>Kimberly S. Budd, J.</th>\n",
       "      <td>0</td>\n",
       "      <td>4</td>\n",
       "      <td>0</td>\n",
       "      <td>4</td>\n",
       "    </tr>\n",
       "    <tr>\n",
       "      <th>Thomas F. McGuire, Jr., J.</th>\n",
       "      <td>1</td>\n",
       "      <td>3</td>\n",
       "      <td>0</td>\n",
       "      <td>4</td>\n",
       "    </tr>\n",
       "    <tr>\n",
       "      <th>Barbara A. Lenk, J.</th>\n",
       "      <td>2</td>\n",
       "      <td>2</td>\n",
       "      <td>0</td>\n",
       "      <td>4</td>\n",
       "    </tr>\n",
       "  </tbody>\n",
       "</table>\n",
       "</div>"
      ],
      "text/plain": [
       "                            Reversed  Affirmed  Partial  Total\n",
       "David A. Lowy, J.                  0        13        1     14\n",
       "Frank M. Gaziano, J.               1         8        1     10\n",
       "Scott L. Kafker, J.                0         9        0      9\n",
       "Elspeth B. Cypher, J.              1         7        0      8\n",
       "Janet L. Sanders, J.               0         4        2      6\n",
       "Richard J. Carey, J.               2         4        0      6\n",
       "Heidi E. Brieger, J.               2         4        0      6\n",
       "Douglas H. Wilkins, J.             3         2        0      5\n",
       "Maynard M. Kirpalani, J.           0         4        0      4\n",
       "Gary A. Nickerson, J.              0         4        0      4\n",
       "Kenneth W. Salinger, J.            3         1        0      4\n",
       "Christine M. Roach, J.             2         2        0      4\n",
       "Peter M. Lauriat, J.               1         3        0      4\n",
       "Janet Kenton-Walker, J.            2         2        0      4\n",
       "Linda E. Giles, J.                 0         4        0      4\n",
       "Daniel M. Wrenn, J.                1         2        1      4\n",
       "Kimberly S. Budd, J.               0         4        0      4\n",
       "Thomas F. McGuire, Jr., J.         1         3        0      4\n",
       "Barbara A. Lenk, J.                2         2        0      4"
      ]
     },
     "execution_count": 135,
     "metadata": {},
     "output_type": "execute_result"
    }
   ],
   "source": [
    "#Create Dataframe with columns, name of judge and its statistics in order to graph it\n",
    "judges_data = pd.DataFrame.from_dict(judge_count).transpose()\n",
    "judges_data.rename(columns = {0:'Reversed',1:'Affirmed',2:'Partial',3:'Total'}, inplace = True)\n",
    "#Sort data by number of cases\n",
    "judges_data = judges_data.sort_values('Total',ascending=False)\n",
    "judges_data"
   ]
  },
  {
   "cell_type": "markdown",
   "metadata": {},
   "source": [
    "### Plotted graphs display numbers for affirmed/reversed/partial cases for all judges"
   ]
  },
  {
   "cell_type": "code",
   "execution_count": 136,
   "metadata": {},
   "outputs": [
    {
     "data": {
      "text/plain": [
       "<matplotlib.axes._subplots.AxesSubplot at 0x1a1883cf28>"
      ]
     },
     "execution_count": 136,
     "metadata": {},
     "output_type": "execute_result"
    },
    {
     "data": {
      "image/png": "[encoded data removed]",
      "text/plain": [
       "<Figure size 432x288 with 1 Axes>"
      ]
     },
     "metadata": {
      "needs_background": "light"
     },
     "output_type": "display_data"
    }
   ],
   "source": [
    "judges_data['Reversed'].hist()"
   ]
  },
  {
   "cell_type": "code",
   "execution_count": 137,
   "metadata": {},
   "outputs": [
    {
     "data": {
      "text/plain": [
       "<matplotlib.axes._subplots.AxesSubplot at 0x1a1883cbe0>"
      ]
     },
     "execution_count": 137,
     "metadata": {},
     "output_type": "execute_result"
    },
    {
     "data": {
      "image/png": "[encoded data removed]",
      "text/plain": [
       "<Figure size 432x288 with 1 Axes>"
      ]
     },
     "metadata": {
      "needs_background": "light"
     },
     "output_type": "display_data"
    }
   ],
   "source": [
    "judges_data['Affirmed'].hist()"
   ]
  },
  {
   "cell_type": "code",
   "execution_count": 138,
   "metadata": {},
   "outputs": [
    {
     "data": {
      "text/plain": [
       "<matplotlib.axes._subplots.AxesSubplot at 0x1a182a5668>"
      ]
     },
     "execution_count": 138,
     "metadata": {},
     "output_type": "execute_result"
    },
    {
     "data": {
      "image/png": "[encoded data removed]",
      "text/plain": [
       "<Figure size 432x288 with 1 Axes>"
      ]
     },
     "metadata": {
      "needs_background": "light"
     },
     "output_type": "display_data"
    }
   ],
   "source": [
    "judges_data['Partial'].hist()"
   ]
  },
  {
   "cell_type": "markdown",
   "metadata": {},
   "source": [
    "### Let's try to visualize numbers by judges, we will try to visualize only top 8 judges since visualizations for 19 is very unpractical"
   ]
  },
  {
   "cell_type": "code",
   "execution_count": 139,
   "metadata": {},
   "outputs": [],
   "source": [
    "#Function to plot Pie-charts given series from pandas (only top 8)\n",
    "def pie_chart(s):\n",
    "    #Try to check if it's 0 and if it is remove it, and once removed take top 8\n",
    "    s = s[s!=0]\n",
    "    if len(s)>8:\n",
    "        s[:8].plot.pie(y=df.index,shadow=False, startangle=90,autopct='%1.1f%%')\n",
    "    else:\n",
    "        s.plot.pie(y=df.index,shadow=False, startangle=90,autopct='%1.1f%%')\n",
    "    plt.axis('equal')\n",
    "    plt.tight_layout()\n",
    "    plt.show()"
   ]
  },
  {
   "cell_type": "code",
   "execution_count": 140,
   "metadata": {},
   "outputs": [
    {
     "data": {
      "text/plain": [
       "David A. Lowy, J.        13\n",
       "Frank M. Gaziano, J.      8\n",
       "Scott L. Kafker, J.       9\n",
       "Elspeth B. Cypher, J.     7\n",
       "Janet L. Sanders, J.      4\n",
       "Name: Affirmed, dtype: int64"
      ]
     },
     "execution_count": 140,
     "metadata": {},
     "output_type": "execute_result"
    }
   ],
   "source": [
    "affirmed_series = judges_data['Affirmed']\n",
    "reversed_series = judges_data['Reversed']\n",
    "partial_series = judges_data['Partial']\n",
    "affirmed_series.head()"
   ]
  },
  {
   "cell_type": "markdown",
   "metadata": {},
   "source": [
    "### Let's try to perform analysis on data from 2008-2018 about with our important judges from this dataset"
   ]
  },
  {
   "cell_type": "code",
   "execution_count": 160,
   "metadata": {},
   "outputs": [],
   "source": [
    "#Load in data from 2008-2018\n",
    "old_data = pd.read_csv('10yrs_civil_cases.csv')"
   ]
  },
  {
   "cell_type": "code",
   "execution_count": 161,
   "metadata": {},
   "outputs": [
    {
     "data": {
      "text/html": [
       "<div>\n",
       "<style scoped>\n",
       "    .dataframe tbody tr th:only-of-type {\n",
       "        vertical-align: middle;\n",
       "    }\n",
       "\n",
       "    .dataframe tbody tr th {\n",
       "        vertical-align: top;\n",
       "    }\n",
       "\n",
       "    .dataframe thead th {\n",
       "        text-align: right;\n",
       "    }\n",
       "</style>\n",
       "<table border=\"1\" class=\"dataframe\">\n",
       "  <thead>\n",
       "    <tr style=\"text-align: right;\">\n",
       "      <th></th>\n",
       "      <th>Unnamed: 0</th>\n",
       "      <th>Case Id</th>\n",
       "      <th>Case Type</th>\n",
       "      <th>Case Name</th>\n",
       "      <th>Decision Date</th>\n",
       "      <th>Lower Ct Judge</th>\n",
       "      <th>case status</th>\n",
       "    </tr>\n",
       "  </thead>\n",
       "  <tbody>\n",
       "    <tr>\n",
       "      <th>0</th>\n",
       "      <td>0</td>\n",
       "      <td>2008-P-0001</td>\n",
       "      <td>Civil</td>\n",
       "      <td>PETER G. HILL vs. JAMES LUKOWIAK</td>\n",
       "      <td>12/22/2008</td>\n",
       "      <td>Bruce R. Henry, J.</td>\n",
       "      <td>Affirm</td>\n",
       "    </tr>\n",
       "    <tr>\n",
       "      <th>1</th>\n",
       "      <td>1</td>\n",
       "      <td>2008-P-1002</td>\n",
       "      <td>Civil</td>\n",
       "      <td>CASELLA WASTE MANAGEMENT OF MA vs. JOHN TAMBURO</td>\n",
       "      <td>05/04/2010</td>\n",
       "      <td>David A. McLaughlin, J.</td>\n",
       "      <td>Affirm</td>\n",
       "    </tr>\n",
       "    <tr>\n",
       "      <th>2</th>\n",
       "      <td>2</td>\n",
       "      <td>2008-P-1006</td>\n",
       "      <td>Civil</td>\n",
       "      <td>FARMER &amp; FLIER ASSOCIATES vs. GUILFORD TRANSPO...</td>\n",
       "      <td>07/15/2009</td>\n",
       "      <td>Herman J. Smith, Jr., J.</td>\n",
       "      <td>Affirm</td>\n",
       "    </tr>\n",
       "    <tr>\n",
       "      <th>3</th>\n",
       "      <td>3</td>\n",
       "      <td>2008-P-1007</td>\n",
       "      <td>Civil</td>\n",
       "      <td>B.M. vs. J.C.</td>\n",
       "      <td>05/27/2009</td>\n",
       "      <td>Judith Nelson Dilday, J.</td>\n",
       "      <td>Affirm</td>\n",
       "    </tr>\n",
       "    <tr>\n",
       "      <th>4</th>\n",
       "      <td>4</td>\n",
       "      <td>2008-P-1014</td>\n",
       "      <td>Civil</td>\n",
       "      <td>SOLANGE DASILVA vs. MICHAEL BERMAN</td>\n",
       "      <td>05/19/2009</td>\n",
       "      <td>Thayer Fremont-Smith, J.</td>\n",
       "      <td>Affirm</td>\n",
       "    </tr>\n",
       "  </tbody>\n",
       "</table>\n",
       "</div>"
      ],
      "text/plain": [
       "   Unnamed: 0      Case Id Case Type  \\\n",
       "0           0  2008-P-0001     Civil   \n",
       "1           1  2008-P-1002     Civil   \n",
       "2           2  2008-P-1006     Civil   \n",
       "3           3  2008-P-1007     Civil   \n",
       "4           4  2008-P-1014     Civil   \n",
       "\n",
       "                                           Case Name Decision Date  \\\n",
       "0                   PETER G. HILL vs. JAMES LUKOWIAK    12/22/2008   \n",
       "1    CASELLA WASTE MANAGEMENT OF MA vs. JOHN TAMBURO    05/04/2010   \n",
       "2  FARMER & FLIER ASSOCIATES vs. GUILFORD TRANSPO...    07/15/2009   \n",
       "3                                      B.M. vs. J.C.    05/27/2009   \n",
       "4                 SOLANGE DASILVA vs. MICHAEL BERMAN    05/19/2009   \n",
       "\n",
       "             Lower Ct Judge case status  \n",
       "0        Bruce R. Henry, J.      Affirm  \n",
       "1   David A. McLaughlin, J.      Affirm  \n",
       "2  Herman J. Smith, Jr., J.      Affirm  \n",
       "3  Judith Nelson Dilday, J.      Affirm  \n",
       "4  Thayer Fremont-Smith, J.      Affirm  "
      ]
     },
     "execution_count": 161,
     "metadata": {},
     "output_type": "execute_result"
    }
   ],
   "source": [
    "old_data.head()"
   ]
  },
  {
   "cell_type": "code",
   "execution_count": 162,
   "metadata": {},
   "outputs": [],
   "source": [
    "#The overlap from 2008-2018 data and 2018-2019 data is 532. (There are 532 cases tried by our new judges)\n",
    "old_data = old_data[old_data['Lower Ct Judge'].isin(judge_names)]"
   ]
  },
  {
   "cell_type": "code",
   "execution_count": 163,
   "metadata": {},
   "outputs": [
    {
     "data": {
      "text/plain": [
       "Janet L. Sanders, J.          51\n",
       "Peter M. Lauriat, J.          51\n",
       "Douglas H. Wilkins, J.        46\n",
       "Christine M. Roach, J.        41\n",
       "Gary A. Nickerson, J.         38\n",
       "Janet Kenton-Walker, J.       37\n",
       "Heidi E. Brieger, J.          29\n",
       "Daniel M. Wrenn, J.           27\n",
       "Kimberly S. Budd, J.          26\n",
       "Thomas F. McGuire, Jr., J.    25\n",
       "Maynard M. Kirpalani, J.      22\n",
       "Kenneth W. Salinger, J.       19\n",
       "Frank M. Gaziano, J.          19\n",
       "Richard J. Carey, J.          15\n",
       "David A. Lowy, J.             13\n",
       "Barbara A. Lenk, J.            7\n",
       "Scott L. Kafker, J.            3\n",
       "Elspeth B. Cypher, J.          3\n",
       "Name: Lower Ct Judge, dtype: int64"
      ]
     },
     "execution_count": 163,
     "metadata": {},
     "output_type": "execute_result"
    }
   ],
   "source": [
    "old_data['Lower Ct Judge'].value_counts()[1:]"
   ]
  },
  {
   "cell_type": "code",
   "execution_count": 164,
   "metadata": {},
   "outputs": [],
   "source": [
    "#Take judges that have only more than 20 cases in 2008-2018 period\n",
    "#There's 11 of them\n",
    "old_judge_names = set()\n",
    "old_judge_dict = {}\n",
    "for items in old_data['Lower Ct Judge'].value_counts()[1:].iteritems(): \n",
    "    if items[1] > 20:\n",
    "        old_judge_names.add(items[0])\n",
    "        old_judge_dict[items[0]] = items[1]"
   ]
  },
  {
   "cell_type": "code",
   "execution_count": 165,
   "metadata": {},
   "outputs": [
    {
     "data": {
      "text/plain": [
       "8"
      ]
     },
     "execution_count": 165,
     "metadata": {},
     "output_type": "execute_result"
    }
   ],
   "source": [
    "(len(judge_names) - len(old_judge_names))"
   ]
  },
  {
   "cell_type": "code",
   "execution_count": 166,
   "metadata": {},
   "outputs": [],
   "source": [
    "#There are 393 of cases by those 11 judges\n",
    "reduced_old_data = old_data[old_data['Lower Ct Judge'].isin(old_judge_names)]"
   ]
  },
  {
   "cell_type": "code",
   "execution_count": 169,
   "metadata": {},
   "outputs": [
    {
     "data": {
      "text/html": [
       "<div>\n",
       "<style scoped>\n",
       "    .dataframe tbody tr th:only-of-type {\n",
       "        vertical-align: middle;\n",
       "    }\n",
       "\n",
       "    .dataframe tbody tr th {\n",
       "        vertical-align: top;\n",
       "    }\n",
       "\n",
       "    .dataframe thead th {\n",
       "        text-align: right;\n",
       "    }\n",
       "</style>\n",
       "<table border=\"1\" class=\"dataframe\">\n",
       "  <thead>\n",
       "    <tr style=\"text-align: right;\">\n",
       "      <th></th>\n",
       "      <th>Unnamed: 0</th>\n",
       "      <th>Case Id</th>\n",
       "      <th>Case Type</th>\n",
       "      <th>Case Name</th>\n",
       "      <th>Decision Date</th>\n",
       "      <th>Lower Ct Judge</th>\n",
       "      <th>case status</th>\n",
       "    </tr>\n",
       "  </thead>\n",
       "  <tbody>\n",
       "    <tr>\n",
       "      <th>149</th>\n",
       "      <td>149</td>\n",
       "      <td>2008-P-1525</td>\n",
       "      <td>Civil</td>\n",
       "      <td>SUZANNE BEATH vs. TIMOTHY NEE &amp; another</td>\n",
       "      <td>06/23/2009</td>\n",
       "      <td>Janet L. Sanders, J.</td>\n",
       "      <td>Affirm</td>\n",
       "    </tr>\n",
       "    <tr>\n",
       "      <th>178</th>\n",
       "      <td>178</td>\n",
       "      <td>2008-P-0168</td>\n",
       "      <td>Civil</td>\n",
       "      <td>JOSEPH W. GORDON vs. MASS REGISTRY OF MOTOR VE...</td>\n",
       "      <td>08/24/2009</td>\n",
       "      <td>Gary A. Nickerson, J.</td>\n",
       "      <td>Affirm</td>\n",
       "    </tr>\n",
       "    <tr>\n",
       "      <th>189</th>\n",
       "      <td>189</td>\n",
       "      <td>2008-P-1723</td>\n",
       "      <td>Civil</td>\n",
       "      <td>COMMONWEALTH vs. GEORGE SOUZA</td>\n",
       "      <td>12/17/2009</td>\n",
       "      <td>Gary A. Nickerson, J.</td>\n",
       "      <td>Affirm</td>\n",
       "    </tr>\n",
       "    <tr>\n",
       "      <th>204</th>\n",
       "      <td>204</td>\n",
       "      <td>2008-P-1780</td>\n",
       "      <td>Civil</td>\n",
       "      <td>HAROLD WENGER vs. GREGORY J. ACETO</td>\n",
       "      <td>07/24/2009</td>\n",
       "      <td>Janet L. Sanders, J.</td>\n",
       "      <td>Affirm</td>\n",
       "    </tr>\n",
       "    <tr>\n",
       "      <th>245</th>\n",
       "      <td>245</td>\n",
       "      <td>2008-P-1922</td>\n",
       "      <td>Civil</td>\n",
       "      <td>UNITED CO-OPERATIVE FARMERS INC vs. JOHN ARO &amp;...</td>\n",
       "      <td>10/13/2009</td>\n",
       "      <td>Christine M. Roach, J.</td>\n",
       "      <td>Reverse</td>\n",
       "    </tr>\n",
       "  </tbody>\n",
       "</table>\n",
       "</div>"
      ],
      "text/plain": [
       "     Unnamed: 0      Case Id Case Type  \\\n",
       "149         149  2008-P-1525     Civil   \n",
       "178         178  2008-P-0168     Civil   \n",
       "189         189  2008-P-1723     Civil   \n",
       "204         204  2008-P-1780     Civil   \n",
       "245         245  2008-P-1922     Civil   \n",
       "\n",
       "                                             Case Name Decision Date  \\\n",
       "149            SUZANNE BEATH vs. TIMOTHY NEE & another    06/23/2009   \n",
       "178  JOSEPH W. GORDON vs. MASS REGISTRY OF MOTOR VE...    08/24/2009   \n",
       "189                      COMMONWEALTH vs. GEORGE SOUZA    12/17/2009   \n",
       "204                 HAROLD WENGER vs. GREGORY J. ACETO    07/24/2009   \n",
       "245  UNITED CO-OPERATIVE FARMERS INC vs. JOHN ARO &...    10/13/2009   \n",
       "\n",
       "             Lower Ct Judge case status  \n",
       "149    Janet L. Sanders, J.      Affirm  \n",
       "178   Gary A. Nickerson, J.      Affirm  \n",
       "189   Gary A. Nickerson, J.      Affirm  \n",
       "204    Janet L. Sanders, J.      Affirm  \n",
       "245  Christine M. Roach, J.     Reverse  "
      ]
     },
     "execution_count": 169,
     "metadata": {},
     "output_type": "execute_result"
    }
   ],
   "source": [
    "reduced_old_data.head()"
   ]
  },
  {
   "cell_type": "code",
   "execution_count": 174,
   "metadata": {},
   "outputs": [],
   "source": [
    "old_judge_count = {}\n",
    "for i, j in reduced_old_data.iterrows():\n",
    "    #print(j['judge'])\n",
    "    #print(j['judge'])\n",
    "    if j['Lower Ct Judge'] not in old_judge_count:\n",
    "        #print(\"{} is not yet in our dict.\".format(j['judge']))\n",
    "        #Create new entry for a judge\n",
    "        #Check for all three cases\n",
    "        if j['case status'] == 'Affirm':\n",
    "            #Affirmed [0,1,0,1]\n",
    "            old_judge_count[j['Lower Ct Judge']] = [0,1,0,1]\n",
    "        elif j['case status'] == 'Reverse':\n",
    "            #Reverse [1,0,0,1]\n",
    "            old_judge_count[j['Lower Ct Judge']] = [1,0,0,1]\n",
    "        elif j['case status'] == 'Partially':\n",
    "            #Partially [0,0,1,1]\n",
    "            old_judge_count[j['Lower Ct Judge']] = [0,0,1,1]\n",
    "    else:\n",
    "        #Judge already in the dict, increment accordingly\n",
    "        if j['case status'] == 'Affirm':\n",
    "            #Affirmed [0,1,0,1]\n",
    "            old_judge_count[j['Lower Ct Judge']][1] += 1\n",
    "            old_judge_count[j['Lower Ct Judge']][-1] += 1\n",
    "        elif j['case status'] == 'Reverse':\n",
    "            #Reverse [1,0,0,1]\n",
    "            old_judge_count[j['Lower Ct Judge']][0] += 1\n",
    "            old_judge_count[j['Lower Ct Judge']][-1] += 1\n",
    "        elif j['case status'] == 'Partially':\n",
    "            #Partially [0,0,1,1]\n",
    "            old_judge_count[j['Lower Ct Judge']][2] += 1\n",
    "            old_judge_count[j['Lower Ct Judge']][-1] += 1"
   ]
  },
  {
   "cell_type": "markdown",
   "metadata": {},
   "source": [
    "#### Visualizations on old cases for our new judges"
   ]
  },
  {
   "cell_type": "code",
   "execution_count": 176,
   "metadata": {},
   "outputs": [
    {
     "data": {
      "text/html": [
       "<div>\n",
       "<style scoped>\n",
       "    .dataframe tbody tr th:only-of-type {\n",
       "        vertical-align: middle;\n",
       "    }\n",
       "\n",
       "    .dataframe tbody tr th {\n",
       "        vertical-align: top;\n",
       "    }\n",
       "\n",
       "    .dataframe thead th {\n",
       "        text-align: right;\n",
       "    }\n",
       "</style>\n",
       "<table border=\"1\" class=\"dataframe\">\n",
       "  <thead>\n",
       "    <tr style=\"text-align: right;\">\n",
       "      <th></th>\n",
       "      <th>Reversed</th>\n",
       "      <th>Affirmed</th>\n",
       "      <th>Partial</th>\n",
       "      <th>Total</th>\n",
       "    </tr>\n",
       "  </thead>\n",
       "  <tbody>\n",
       "    <tr>\n",
       "      <th>Janet L. Sanders, J.</th>\n",
       "      <td>3</td>\n",
       "      <td>45</td>\n",
       "      <td>3</td>\n",
       "      <td>51</td>\n",
       "    </tr>\n",
       "    <tr>\n",
       "      <th>Peter M. Lauriat, J.</th>\n",
       "      <td>3</td>\n",
       "      <td>44</td>\n",
       "      <td>4</td>\n",
       "      <td>51</td>\n",
       "    </tr>\n",
       "    <tr>\n",
       "      <th>Douglas H. Wilkins, J.</th>\n",
       "      <td>2</td>\n",
       "      <td>43</td>\n",
       "      <td>1</td>\n",
       "      <td>46</td>\n",
       "    </tr>\n",
       "    <tr>\n",
       "      <th>Christine M. Roach, J.</th>\n",
       "      <td>1</td>\n",
       "      <td>36</td>\n",
       "      <td>4</td>\n",
       "      <td>41</td>\n",
       "    </tr>\n",
       "    <tr>\n",
       "      <th>Gary A. Nickerson, J.</th>\n",
       "      <td>1</td>\n",
       "      <td>37</td>\n",
       "      <td>0</td>\n",
       "      <td>38</td>\n",
       "    </tr>\n",
       "    <tr>\n",
       "      <th>Janet Kenton-Walker, J.</th>\n",
       "      <td>0</td>\n",
       "      <td>35</td>\n",
       "      <td>2</td>\n",
       "      <td>37</td>\n",
       "    </tr>\n",
       "    <tr>\n",
       "      <th>Heidi E. Brieger, J.</th>\n",
       "      <td>2</td>\n",
       "      <td>26</td>\n",
       "      <td>1</td>\n",
       "      <td>29</td>\n",
       "    </tr>\n",
       "    <tr>\n",
       "      <th>Daniel M. Wrenn, J.</th>\n",
       "      <td>2</td>\n",
       "      <td>23</td>\n",
       "      <td>2</td>\n",
       "      <td>27</td>\n",
       "    </tr>\n",
       "    <tr>\n",
       "      <th>Kimberly S. Budd, J.</th>\n",
       "      <td>3</td>\n",
       "      <td>21</td>\n",
       "      <td>2</td>\n",
       "      <td>26</td>\n",
       "    </tr>\n",
       "    <tr>\n",
       "      <th>Thomas F. McGuire, Jr., J.</th>\n",
       "      <td>0</td>\n",
       "      <td>24</td>\n",
       "      <td>1</td>\n",
       "      <td>25</td>\n",
       "    </tr>\n",
       "    <tr>\n",
       "      <th>Maynard M. Kirpalani, J.</th>\n",
       "      <td>1</td>\n",
       "      <td>17</td>\n",
       "      <td>4</td>\n",
       "      <td>22</td>\n",
       "    </tr>\n",
       "  </tbody>\n",
       "</table>\n",
       "</div>"
      ],
      "text/plain": [
       "                            Reversed  Affirmed  Partial  Total\n",
       "Janet L. Sanders, J.               3        45        3     51\n",
       "Peter M. Lauriat, J.               3        44        4     51\n",
       "Douglas H. Wilkins, J.             2        43        1     46\n",
       "Christine M. Roach, J.             1        36        4     41\n",
       "Gary A. Nickerson, J.              1        37        0     38\n",
       "Janet Kenton-Walker, J.            0        35        2     37\n",
       "Heidi E. Brieger, J.               2        26        1     29\n",
       "Daniel M. Wrenn, J.                2        23        2     27\n",
       "Kimberly S. Budd, J.               3        21        2     26\n",
       "Thomas F. McGuire, Jr., J.         0        24        1     25\n",
       "Maynard M. Kirpalani, J.           1        17        4     22"
      ]
     },
     "execution_count": 176,
     "metadata": {},
     "output_type": "execute_result"
    }
   ],
   "source": [
    "#Create Dataframe with columns, name of judge and its statistics in order to graph it\n",
    "old_judges_data = pd.DataFrame.from_dict(old_judge_count).transpose()\n",
    "old_judges_data.rename(columns = {0:'Reversed',1:'Affirmed',2:'Partial',3:'Total'}, inplace = True)\n",
    "#Sort data by number of cases\n",
    "old_judges_data = old_judges_data.sort_values('Total',ascending=False)\n",
    "old_judges_data"
   ]
  },
  {
   "cell_type": "code",
   "execution_count": 177,
   "metadata": {},
   "outputs": [],
   "source": [
    "#Old data\n",
    "old_affirmed_series = old_judges_data['Affirmed']\n",
    "old_reversed_series = old_judges_data['Reversed']\n",
    "old_partial_series = old_judges_data['Partial']"
   ]
  },
  {
   "cell_type": "markdown",
   "metadata": {},
   "source": [
    "## Head to head comparison old vs new data"
   ]
  },
  {
   "cell_type": "markdown",
   "metadata": {},
   "source": [
    "### New affirmed percentages"
   ]
  },
  {
   "cell_type": "code",
   "execution_count": 178,
   "metadata": {},
   "outputs": [
    {
     "data": {
      "image/png": "[encoded data removed]",
      "text/plain": [
       "<Figure size 432x288 with 1 Axes>"
      ]
     },
     "metadata": {},
     "output_type": "display_data"
    }
   ],
   "source": [
    "pie_chart(affirmed_series)"
   ]
  },
  {
   "cell_type": "markdown",
   "metadata": {},
   "source": [
    "### Old affirmed percentages"
   ]
  },
  {
   "cell_type": "code",
   "execution_count": 180,
   "metadata": {},
   "outputs": [
    {
     "data": {
      "image/png": "[encoded data removed]",
      "text/plain": [
       "<Figure size 432x288 with 1 Axes>"
      ]
     },
     "metadata": {},
     "output_type": "display_data"
    }
   ],
   "source": [
    "pie_chart(old_affirmed_series)"
   ]
  },
  {
   "cell_type": "markdown",
   "metadata": {},
   "source": [
    "### New reversed percentages"
   ]
  },
  {
   "cell_type": "code",
   "execution_count": 182,
   "metadata": {},
   "outputs": [
    {
     "data": {
      "image/png": "[encoded data removed]",
      "text/plain": [
       "<Figure size 432x288 with 1 Axes>"
      ]
     },
     "metadata": {},
     "output_type": "display_data"
    }
   ],
   "source": [
    "pie_chart(reversed_series)"
   ]
  },
  {
   "cell_type": "markdown",
   "metadata": {},
   "source": [
    "### Old reversed percentages"
   ]
  },
  {
   "cell_type": "code",
   "execution_count": 183,
   "metadata": {},
   "outputs": [
    {
     "data": {
      "image/png": "[encoded data removed]",
      "text/plain": [
       "<Figure size 432x288 with 1 Axes>"
      ]
     },
     "metadata": {},
     "output_type": "display_data"
    }
   ],
   "source": [
    "pie_chart(old_reversed_series)"
   ]
  },
  {
   "cell_type": "markdown",
   "metadata": {},
   "source": [
    "### New partial percentages"
   ]
  },
  {
   "cell_type": "code",
   "execution_count": 184,
   "metadata": {},
   "outputs": [
    {
     "data": {
      "image/png": "[encoded data removed]",
      "text/plain": [
       "<Figure size 432x288 with 1 Axes>"
      ]
     },
     "metadata": {},
     "output_type": "display_data"
    }
   ],
   "source": [
    "pie_chart(partial_series)"
   ]
  },
  {
   "cell_type": "markdown",
   "metadata": {},
   "source": [
    "### Old partial percentages"
   ]
  },
  {
   "cell_type": "code",
   "execution_count": 185,
   "metadata": {},
   "outputs": [
    {
     "data": {
      "image/png": "[encoded data removed]",
      "text/plain": [
       "<Figure size 432x288 with 1 Axes>"
      ]
     },
     "metadata": {},
     "output_type": "display_data"
    }
   ],
   "source": [
    "pie_chart(old_partial_series)"
   ]
  },
  {
   "cell_type": "code",
   "execution_count": null,
   "metadata": {},
   "outputs": [],
   "source": []
  }
 ],
 "metadata": {
  "kernelspec": {
   "display_name": "Python 3",
   "language": "python",
   "name": "python3"
  },
  "language_info": {
   "codemirror_mode": {
    "name": "ipython",
    "version": 3
   },
   "file_extension": ".py",
   "mimetype": "text/x-python",
   "name": "python",
   "nbconvert_exporter": "python",
   "pygments_lexer": "ipython3",
   "version": "3.7.1"
  }
 },
 "nbformat": 4,
 "nbformat_minor": 2
}
