{
 "cells": [
  {
   "cell_type": "code",
   "execution_count": 1,
   "metadata": {},
   "outputs": [],
   "source": [
    "import pandas as pd\n",
    "\n",
    "df = pd.read_csv(\"tmpdt2ta2dq.csv\", low_memory=False)\n",
    "# pd.options.display.max_columns = df.shape[1]"
   ]
  },
  {
   "cell_type": "code",
   "execution_count": 2,
   "metadata": {},
   "outputs": [
    {
     "data": {
      "text/plain": [
       "(1607859, 29)"
      ]
     },
     "execution_count": 2,
     "metadata": {},
     "output_type": "execute_result"
    }
   ],
   "source": [
    "df.shape"
   ]
  },
  {
   "cell_type": "code",
   "execution_count": 3,
   "metadata": {},
   "outputs": [],
   "source": [
    "df_bike=df[df['closure_reason'].str.contains(\"bike lane\")]\n",
    "df_bike=df_bike[~df_bike['case_title'].isin(['Abandoned Bicycle'])]\n",
    "\n",
    "drop_list = ['pick','drop','no bike','rack','No bike','Abandoned bike']\n",
    "for item in drop_list:   \n",
    "    df_bike=df_bike[~df_bike['closure_reason'].str.contains(item)]\n",
    "    df_bike=df_bike[~df_bike['case_title'].str.contains(item)]\n",
    "\n",
    "# df = df.loc[df['closure_reason'].isin(list)]"
   ]
  },
  {
   "cell_type": "code",
   "execution_count": 4,
   "metadata": {},
   "outputs": [
    {
     "name": "stdout",
     "output_type": "stream",
     "text": [
      "<class 'pandas.core.frame.DataFrame'>\n",
      "Int64Index: 518 entries, 6772 to 1602737\n",
      "Data columns (total 29 columns):\n",
      "case_enquiry_id                   518 non-null int64\n",
      "open_dt                           518 non-null object\n",
      "target_dt                         496 non-null object\n",
      "closed_dt                         516 non-null object\n",
      "ontime                            518 non-null object\n",
      "case_status                       518 non-null object\n",
      "closure_reason                    518 non-null object\n",
      "case_title                        518 non-null object\n",
      "subject                           518 non-null object\n",
      "reason                            518 non-null object\n",
      "type                              518 non-null object\n",
      "queue                             518 non-null object\n",
      "department                        518 non-null object\n",
      "submittedphoto                    280 non-null object\n",
      "closedphoto                       53 non-null object\n",
      "location                          518 non-null object\n",
      "fire_district                     509 non-null object\n",
      "pwd_district                      518 non-null object\n",
      "city_council_district             518 non-null object\n",
      "police_district                   518 non-null object\n",
      "neighborhood                      518 non-null object\n",
      "neighborhood_services_district    518 non-null object\n",
      "ward                              518 non-null object\n",
      "precinct                          518 non-null object\n",
      "location_street_name              499 non-null object\n",
      "location_zipcode                  295 non-null float64\n",
      "latitude                          518 non-null float64\n",
      "longitude                         518 non-null float64\n",
      "source                            518 non-null object\n",
      "dtypes: float64(3), int64(1), object(25)\n",
      "memory usage: 121.4+ KB\n"
     ]
    }
   ],
   "source": [
    "df_bike.info()"
   ]
  },
  {
   "cell_type": "code",
   "execution_count": 6,
   "metadata": {},
   "outputs": [],
   "source": [
    "df_bike.to_csv(\"bike_block.csv\",index = False)"
   ]
  },
  {
   "cell_type": "code",
   "execution_count": 75,
   "metadata": {},
   "outputs": [
    {
     "data": {
      "text/plain": [
       "(13, 29)"
      ]
     },
     "execution_count": 75,
     "metadata": {},
     "output_type": "execute_result"
    }
   ],
   "source": [
    "df_block=df[df['closure_reason'].str.contains(\"bike path\")]\n",
    "df_block.shape"
   ]
  },
  {
   "cell_type": "code",
   "execution_count": 76,
   "metadata": {},
   "outputs": [],
   "source": [
    "df_block.to_csv(\"bike_block_2.csv\",index = False)"
   ]
  }
 ],
 "metadata": {
  "kernelspec": {
   "display_name": "cs542",
   "language": "python",
   "name": "cs542"
  },
  "language_info": {
   "codemirror_mode": {
    "name": "ipython",
    "version": 3
   },
   "file_extension": ".py",
   "mimetype": "text/x-python",
   "name": "python",
   "nbconvert_exporter": "python",
   "pygments_lexer": "ipython3",
   "version": "3.6.8"
  }
 },
 "nbformat": 4,
 "nbformat_minor": 2
}
