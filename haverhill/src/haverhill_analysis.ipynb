{
 "cells": [
  {
   "cell_type": "code",
   "execution_count": 54,
   "metadata": {},
   "outputs": [],
   "source": [
    "import pandas as pd\n",
    "import numpy as np\n",
    "import matplotlib.pyplot as plt\n",
    "import csv\n",
    "import array\n",
    "from datetime import datetime\n",
    "from tqdm import tqdm_notebook as tqdm\n",
    "%matplotlib inline"
   ]
  },
  {
   "cell_type": "markdown",
   "metadata": {},
   "source": [
    "#### Reading the two .csv provided and looking at their fields"
   ]
  },
  {
   "cell_type": "code",
   "execution_count": 55,
   "metadata": {},
   "outputs": [],
   "source": [
    "activity = pd.read_csv(\"./haverhill-request/haverhill-activity.csv\")\n",
    "request = pd.read_csv(\"./haverhill-request/haverhill-request.csv\", encoding = 'unicode_escape')"
   ]
  },
  {
   "cell_type": "code",
   "execution_count": 56,
   "metadata": {},
   "outputs": [
    {
     "data": {
      "text/html": [
       "<div>\n",
       "<style scoped>\n",
       "    .dataframe tbody tr th:only-of-type {\n",
       "        vertical-align: middle;\n",
       "    }\n",
       "\n",
       "    .dataframe tbody tr th {\n",
       "        vertical-align: top;\n",
       "    }\n",
       "\n",
       "    .dataframe thead th {\n",
       "        text-align: right;\n",
       "    }\n",
       "</style>\n",
       "<table border=\"1\" class=\"dataframe\">\n",
       "  <thead>\n",
       "    <tr style=\"text-align: right;\">\n",
       "      <th></th>\n",
       "      <th>Activity ID</th>\n",
       "      <th>Activity Type</th>\n",
       "      <th>Activity Code</th>\n",
       "      <th>Activity Date</th>\n",
       "      <th>Request ID</th>\n",
       "    </tr>\n",
       "  </thead>\n",
       "  <tbody>\n",
       "    <tr>\n",
       "      <th>0</th>\n",
       "      <td>9821</td>\n",
       "      <td>Created</td>\n",
       "      <td>9</td>\n",
       "      <td>2017-01-03 13:11:00</td>\n",
       "      <td>5130</td>\n",
       "    </tr>\n",
       "    <tr>\n",
       "      <th>1</th>\n",
       "      <td>9822</td>\n",
       "      <td>Activity entered</td>\n",
       "      <td>7</td>\n",
       "      <td>2017-01-03 13:11:00</td>\n",
       "      <td>5130</td>\n",
       "    </tr>\n",
       "    <tr>\n",
       "      <th>2</th>\n",
       "      <td>9823</td>\n",
       "      <td>Service Request Type changed</td>\n",
       "      <td>5</td>\n",
       "      <td>2017-01-03 13:20:00</td>\n",
       "      <td>5130</td>\n",
       "    </tr>\n",
       "    <tr>\n",
       "      <th>3</th>\n",
       "      <td>9824</td>\n",
       "      <td>Routed</td>\n",
       "      <td>1</td>\n",
       "      <td>2017-01-03 13:20:00</td>\n",
       "      <td>5130</td>\n",
       "    </tr>\n",
       "    <tr>\n",
       "      <th>4</th>\n",
       "      <td>9825</td>\n",
       "      <td>Service Request Type changed</td>\n",
       "      <td>5</td>\n",
       "      <td>2017-01-03 13:21:00</td>\n",
       "      <td>5130</td>\n",
       "    </tr>\n",
       "  </tbody>\n",
       "</table>\n",
       "</div>"
      ],
      "text/plain": [
       "   Activity ID                 Activity Type  Activity Code  \\\n",
       "0         9821                       Created              9   \n",
       "1         9822              Activity entered              7   \n",
       "2         9823  Service Request Type changed              5   \n",
       "3         9824                        Routed              1   \n",
       "4         9825  Service Request Type changed              5   \n",
       "\n",
       "         Activity Date  Request ID  \n",
       "0  2017-01-03 13:11:00        5130  \n",
       "1  2017-01-03 13:11:00        5130  \n",
       "2  2017-01-03 13:20:00        5130  \n",
       "3  2017-01-03 13:20:00        5130  \n",
       "4  2017-01-03 13:21:00        5130  "
      ]
     },
     "execution_count": 56,
     "metadata": {},
     "output_type": "execute_result"
    }
   ],
   "source": [
    "activity.head()"
   ]
  },
  {
   "cell_type": "code",
   "execution_count": 57,
   "metadata": {},
   "outputs": [
    {
     "data": {
      "text/plain": [
       "(187187, 5)"
      ]
     },
     "execution_count": 57,
     "metadata": {},
     "output_type": "execute_result"
    }
   ],
   "source": [
    "activity.shape"
   ]
  },
  {
   "cell_type": "code",
   "execution_count": 58,
   "metadata": {},
   "outputs": [
    {
     "data": {
      "text/html": [
       "<div>\n",
       "<style scoped>\n",
       "    .dataframe tbody tr th:only-of-type {\n",
       "        vertical-align: middle;\n",
       "    }\n",
       "\n",
       "    .dataframe tbody tr th {\n",
       "        vertical-align: top;\n",
       "    }\n",
       "\n",
       "    .dataframe thead th {\n",
       "        text-align: right;\n",
       "    }\n",
       "</style>\n",
       "<table border=\"1\" class=\"dataframe\">\n",
       "  <thead>\n",
       "    <tr style=\"text-align: right;\">\n",
       "      <th></th>\n",
       "      <th>Request ID</th>\n",
       "      <th>Create Date</th>\n",
       "      <th>Master Request</th>\n",
       "      <th>Has Links</th>\n",
       "      <th>Status</th>\n",
       "      <th>Status Code</th>\n",
       "      <th>Last Action</th>\n",
       "      <th>Last Change</th>\n",
       "      <th>Close Date</th>\n",
       "      <th>Work Order Created</th>\n",
       "      <th>...</th>\n",
       "      <th>Cross Street ID</th>\n",
       "      <th>Cross Street</th>\n",
       "      <th>District ID</th>\n",
       "      <th>District</th>\n",
       "      <th>Escalations</th>\n",
       "      <th>Priority</th>\n",
       "      <th>Longitude</th>\n",
       "      <th>Latitude</th>\n",
       "      <th>Origin ID</th>\n",
       "      <th>Origin</th>\n",
       "    </tr>\n",
       "  </thead>\n",
       "  <tbody>\n",
       "    <tr>\n",
       "      <th>0</th>\n",
       "      <td>5130</td>\n",
       "      <td>2017-01-03 13:11:00</td>\n",
       "      <td>0</td>\n",
       "      <td>False</td>\n",
       "      <td>Closed</td>\n",
       "      <td>1</td>\n",
       "      <td>2017-01-03 14:05:00</td>\n",
       "      <td>2017-01-03 14:05:00</td>\n",
       "      <td>2017-01-03 14:05:00</td>\n",
       "      <td>False</td>\n",
       "      <td>...</td>\n",
       "      <td>0</td>\n",
       "      <td>NaN</td>\n",
       "      <td>1</td>\n",
       "      <td>Mt Washington</td>\n",
       "      <td>0</td>\n",
       "      <td>2</td>\n",
       "      <td>-71.105902</td>\n",
       "      <td>42.767552</td>\n",
       "      <td>1</td>\n",
       "      <td>Call Center</td>\n",
       "    </tr>\n",
       "    <tr>\n",
       "      <th>1</th>\n",
       "      <td>5131</td>\n",
       "      <td>2017-01-03 13:29:00</td>\n",
       "      <td>0</td>\n",
       "      <td>False</td>\n",
       "      <td>Closed</td>\n",
       "      <td>1</td>\n",
       "      <td>2017-01-03 13:29:00</td>\n",
       "      <td>2017-01-03 13:29:00</td>\n",
       "      <td>2017-01-03 13:29:00</td>\n",
       "      <td>False</td>\n",
       "      <td>...</td>\n",
       "      <td>0</td>\n",
       "      <td>NaN</td>\n",
       "      <td>0</td>\n",
       "      <td>NaN</td>\n",
       "      <td>0</td>\n",
       "      <td>2</td>\n",
       "      <td>0.000000</td>\n",
       "      <td>0.000000</td>\n",
       "      <td>1</td>\n",
       "      <td>Call Center</td>\n",
       "    </tr>\n",
       "    <tr>\n",
       "      <th>2</th>\n",
       "      <td>5132</td>\n",
       "      <td>2017-01-03 13:33:00</td>\n",
       "      <td>0</td>\n",
       "      <td>False</td>\n",
       "      <td>Closed</td>\n",
       "      <td>1</td>\n",
       "      <td>2017-01-03 13:33:00</td>\n",
       "      <td>2017-01-03 13:33:00</td>\n",
       "      <td>2017-01-03 13:33:00</td>\n",
       "      <td>False</td>\n",
       "      <td>...</td>\n",
       "      <td>0</td>\n",
       "      <td>NaN</td>\n",
       "      <td>0</td>\n",
       "      <td>NaN</td>\n",
       "      <td>0</td>\n",
       "      <td>2</td>\n",
       "      <td>0.000000</td>\n",
       "      <td>0.000000</td>\n",
       "      <td>1</td>\n",
       "      <td>Call Center</td>\n",
       "    </tr>\n",
       "    <tr>\n",
       "      <th>3</th>\n",
       "      <td>5133</td>\n",
       "      <td>2017-01-03 13:47:00</td>\n",
       "      <td>0</td>\n",
       "      <td>False</td>\n",
       "      <td>Closed</td>\n",
       "      <td>1</td>\n",
       "      <td>2017-01-03 13:47:00</td>\n",
       "      <td>2017-01-03 13:47:00</td>\n",
       "      <td>2017-01-03 13:47:00</td>\n",
       "      <td>False</td>\n",
       "      <td>...</td>\n",
       "      <td>0</td>\n",
       "      <td>NaN</td>\n",
       "      <td>0</td>\n",
       "      <td>NaN</td>\n",
       "      <td>0</td>\n",
       "      <td>2</td>\n",
       "      <td>0.000000</td>\n",
       "      <td>0.000000</td>\n",
       "      <td>1</td>\n",
       "      <td>Call Center</td>\n",
       "    </tr>\n",
       "    <tr>\n",
       "      <th>4</th>\n",
       "      <td>5134</td>\n",
       "      <td>2017-01-03 13:47:00</td>\n",
       "      <td>0</td>\n",
       "      <td>False</td>\n",
       "      <td>Closed</td>\n",
       "      <td>1</td>\n",
       "      <td>2017-01-03 13:47:00</td>\n",
       "      <td>2017-01-03 13:47:00</td>\n",
       "      <td>2017-01-03 13:47:00</td>\n",
       "      <td>False</td>\n",
       "      <td>...</td>\n",
       "      <td>0</td>\n",
       "      <td>NaN</td>\n",
       "      <td>0</td>\n",
       "      <td>NaN</td>\n",
       "      <td>0</td>\n",
       "      <td>2</td>\n",
       "      <td>0.000000</td>\n",
       "      <td>0.000000</td>\n",
       "      <td>1</td>\n",
       "      <td>Call Center</td>\n",
       "    </tr>\n",
       "  </tbody>\n",
       "</table>\n",
       "<p>5 rows × 33 columns</p>\n",
       "</div>"
      ],
      "text/plain": [
       "   Request ID          Create Date  Master Request  Has Links  Status  \\\n",
       "0        5130  2017-01-03 13:11:00               0      False  Closed   \n",
       "1        5131  2017-01-03 13:29:00               0      False  Closed   \n",
       "2        5132  2017-01-03 13:33:00               0      False  Closed   \n",
       "3        5133  2017-01-03 13:47:00               0      False  Closed   \n",
       "4        5134  2017-01-03 13:47:00               0      False  Closed   \n",
       "\n",
       "   Status Code          Last Action          Last Change           Close Date  \\\n",
       "0            1  2017-01-03 14:05:00  2017-01-03 14:05:00  2017-01-03 14:05:00   \n",
       "1            1  2017-01-03 13:29:00  2017-01-03 13:29:00  2017-01-03 13:29:00   \n",
       "2            1  2017-01-03 13:33:00  2017-01-03 13:33:00  2017-01-03 13:33:00   \n",
       "3            1  2017-01-03 13:47:00  2017-01-03 13:47:00  2017-01-03 13:47:00   \n",
       "4            1  2017-01-03 13:47:00  2017-01-03 13:47:00  2017-01-03 13:47:00   \n",
       "\n",
       "   Work Order Created     ...       Cross Street ID Cross Street  District ID  \\\n",
       "0               False     ...                     0          NaN            1   \n",
       "1               False     ...                     0          NaN            0   \n",
       "2               False     ...                     0          NaN            0   \n",
       "3               False     ...                     0          NaN            0   \n",
       "4               False     ...                     0          NaN            0   \n",
       "\n",
       "        District  Escalations Priority  Longitude   Latitude Origin ID  \\\n",
       "0  Mt Washington            0        2 -71.105902  42.767552         1   \n",
       "1            NaN            0        2   0.000000   0.000000         1   \n",
       "2            NaN            0        2   0.000000   0.000000         1   \n",
       "3            NaN            0        2   0.000000   0.000000         1   \n",
       "4            NaN            0        2   0.000000   0.000000         1   \n",
       "\n",
       "        Origin  \n",
       "0  Call Center  \n",
       "1  Call Center  \n",
       "2  Call Center  \n",
       "3  Call Center  \n",
       "4  Call Center  \n",
       "\n",
       "[5 rows x 33 columns]"
      ]
     },
     "execution_count": 58,
     "metadata": {},
     "output_type": "execute_result"
    }
   ],
   "source": [
    "request.head()"
   ]
  },
  {
   "cell_type": "code",
   "execution_count": 59,
   "metadata": {},
   "outputs": [
    {
     "data": {
      "text/plain": [
       "(70060, 33)"
      ]
     },
     "execution_count": 59,
     "metadata": {},
     "output_type": "execute_result"
    }
   ],
   "source": [
    "request.shape"
   ]
  },
  {
   "cell_type": "markdown",
   "metadata": {},
   "source": [
    "#### Grouping request data by Origin of request to find out what platform was used to make requests"
   ]
  },
  {
   "cell_type": "code",
   "execution_count": 60,
   "metadata": {},
   "outputs": [],
   "source": [
    "request_grouped_by_origin = request.groupby(['Origin'])"
   ]
  },
  {
   "cell_type": "code",
   "execution_count": 61,
   "metadata": {},
   "outputs": [],
   "source": [
    "# request.groupby(['Origin']).count().plot(kind='bar')\n",
    "counts = request.groupby('Origin')['Request ID'].agg(len)"
   ]
  },
  {
   "cell_type": "code",
   "execution_count": 62,
   "metadata": {},
   "outputs": [
    {
     "name": "stdout",
     "output_type": "stream",
     "text": [
      "Origin\n",
      "Call Center           66870\n",
      "Control Panel           724\n",
      "Report2Gov Android      110\n",
      "Report2Gov Website        2\n",
      "Report2Gov iOS          321\n",
      "Text Message              5\n",
      "Website                2028\n",
      "Name: Request ID, dtype: int64\n"
     ]
    }
   ],
   "source": [
    "print(counts)"
   ]
  },
  {
   "cell_type": "code",
   "execution_count": 63,
   "metadata": {},
   "outputs": [
    {
     "data": {
      "text/plain": [
       "array([0, 1, 2, 3, 4, 5, 6])"
      ]
     },
     "execution_count": 63,
     "metadata": {},
     "output_type": "execute_result"
    }
   ],
   "source": [
    "origins = request['Origin'].unique()\n",
    "np.arange(len(origins))"
   ]
  },
  {
   "cell_type": "markdown",
   "metadata": {},
   "source": [
    "#### Plotting number of based on Origin of Request"
   ]
  },
  {
   "cell_type": "code",
   "execution_count": 64,
   "metadata": {},
   "outputs": [
    {
     "data": {
      "image/png": "[encoded data removed]",
      "text/plain": [
       "<Figure size 432x288 with 1 Axes>"
      ]
     },
     "metadata": {
      "needs_background": "light"
     },
     "output_type": "display_data"
    }
   ],
   "source": [
    "fig, ax = plt.subplots()\n",
    "plt.xticks(np.arange(len(origins)),origins,rotation=30)\n",
    "bars = plt.bar(np.arange(len(origins)),counts)\n",
    "for i,rect in enumerate(bars):\n",
    "    height = rect.get_height()\n",
    "    plt.text(rect.get_x() + rect.get_width()/2.0, height,counts[i], ha='center', va='bottom')"
   ]
  },
  {
   "cell_type": "markdown",
   "metadata": {},
   "source": [
    "#### Grouping request data by City of request to see how many requests originated from outside of Haverhill"
   ]
  },
  {
   "cell_type": "code",
   "execution_count": 65,
   "metadata": {},
   "outputs": [
    {
     "data": {
      "text/plain": [
       "City\n",
       "Groveland            2\n",
       "Haverhill        70057\n",
       "North Andover        1\n",
       "Name: Request ID, dtype: int64"
      ]
     },
     "execution_count": 65,
     "metadata": {},
     "output_type": "execute_result"
    }
   ],
   "source": [
    "request.groupby('City')['Request ID'].agg(len)"
   ]
  },
  {
   "cell_type": "code",
   "execution_count": 66,
   "metadata": {},
   "outputs": [],
   "source": [
    "request['Close Date'] = request['Close Date'].astype('str')"
   ]
  },
  {
   "cell_type": "markdown",
   "metadata": {},
   "source": [
    "#### Calculating the difference in Create Date and Close Date (datetime objects) to find Completion Time. Requests that have not been closed yet are given NaN values"
   ]
  },
  {
   "cell_type": "code",
   "execution_count": 67,
   "metadata": {},
   "outputs": [
    {
     "data": {
      "application/vnd.jupyter.widget-view+json": {
       "model_id": "169f08f6d5a749ce93b3629cde7122b9",
       "version_major": 2,
       "version_minor": 0
      },
      "text/plain": [
       "HBox(children=(IntProgress(value=0, max=70060), HTML(value='')))"
      ]
     },
     "metadata": {},
     "output_type": "display_data"
    },
    {
     "name": "stdout",
     "output_type": "stream",
     "text": [
      "\n"
     ]
    }
   ],
   "source": [
    "diff_time = []\n",
    "for i,time in tqdm(enumerate(request['Create Date'].values),total = len(request['Create Date'].values)):\n",
    "    timecreated = datetime.strptime(time, \"%Y-%m-%d %H:%M:%S\")\n",
    "    if request['Close Date'][i] != 'nan':\n",
    "        timeclosed = datetime.strptime(request['Close Date'][i], \"%Y-%m-%d %H:%M:%S\")\n",
    "        diff_time.append(timeclosed - timecreated)\n",
    "    else:\n",
    "        diff_time.append('nan')\n",
    "        pass\n",
    "    \n",
    "    \n",
    "    "
   ]
  },
  {
   "cell_type": "markdown",
   "metadata": {},
   "source": [
    "#### Adding Completion Time as a new column to request dataframe"
   ]
  },
  {
   "cell_type": "code",
   "execution_count": 68,
   "metadata": {},
   "outputs": [],
   "source": [
    "request['Completion Time'] = diff_time"
   ]
  },
  {
   "cell_type": "code",
   "execution_count": 69,
   "metadata": {},
   "outputs": [
    {
     "data": {
      "text/html": [
       "<div>\n",
       "<style scoped>\n",
       "    .dataframe tbody tr th:only-of-type {\n",
       "        vertical-align: middle;\n",
       "    }\n",
       "\n",
       "    .dataframe tbody tr th {\n",
       "        vertical-align: top;\n",
       "    }\n",
       "\n",
       "    .dataframe thead th {\n",
       "        text-align: right;\n",
       "    }\n",
       "</style>\n",
       "<table border=\"1\" class=\"dataframe\">\n",
       "  <thead>\n",
       "    <tr style=\"text-align: right;\">\n",
       "      <th></th>\n",
       "      <th>Request ID</th>\n",
       "      <th>Create Date</th>\n",
       "      <th>Master Request</th>\n",
       "      <th>Has Links</th>\n",
       "      <th>Status</th>\n",
       "      <th>Status Code</th>\n",
       "      <th>Last Action</th>\n",
       "      <th>Last Change</th>\n",
       "      <th>Close Date</th>\n",
       "      <th>Work Order Created</th>\n",
       "      <th>...</th>\n",
       "      <th>Cross Street</th>\n",
       "      <th>District ID</th>\n",
       "      <th>District</th>\n",
       "      <th>Escalations</th>\n",
       "      <th>Priority</th>\n",
       "      <th>Longitude</th>\n",
       "      <th>Latitude</th>\n",
       "      <th>Origin ID</th>\n",
       "      <th>Origin</th>\n",
       "      <th>Completion Time</th>\n",
       "    </tr>\n",
       "  </thead>\n",
       "  <tbody>\n",
       "    <tr>\n",
       "      <th>0</th>\n",
       "      <td>5130</td>\n",
       "      <td>2017-01-03 13:11:00</td>\n",
       "      <td>0</td>\n",
       "      <td>False</td>\n",
       "      <td>Closed</td>\n",
       "      <td>1</td>\n",
       "      <td>2017-01-03 14:05:00</td>\n",
       "      <td>2017-01-03 14:05:00</td>\n",
       "      <td>2017-01-03 14:05:00</td>\n",
       "      <td>False</td>\n",
       "      <td>...</td>\n",
       "      <td>NaN</td>\n",
       "      <td>1</td>\n",
       "      <td>Mt Washington</td>\n",
       "      <td>0</td>\n",
       "      <td>2</td>\n",
       "      <td>-71.105902</td>\n",
       "      <td>42.767552</td>\n",
       "      <td>1</td>\n",
       "      <td>Call Center</td>\n",
       "      <td>00:54:00</td>\n",
       "    </tr>\n",
       "    <tr>\n",
       "      <th>1</th>\n",
       "      <td>5131</td>\n",
       "      <td>2017-01-03 13:29:00</td>\n",
       "      <td>0</td>\n",
       "      <td>False</td>\n",
       "      <td>Closed</td>\n",
       "      <td>1</td>\n",
       "      <td>2017-01-03 13:29:00</td>\n",
       "      <td>2017-01-03 13:29:00</td>\n",
       "      <td>2017-01-03 13:29:00</td>\n",
       "      <td>False</td>\n",
       "      <td>...</td>\n",
       "      <td>NaN</td>\n",
       "      <td>0</td>\n",
       "      <td>NaN</td>\n",
       "      <td>0</td>\n",
       "      <td>2</td>\n",
       "      <td>0.000000</td>\n",
       "      <td>0.000000</td>\n",
       "      <td>1</td>\n",
       "      <td>Call Center</td>\n",
       "      <td>00:00:00</td>\n",
       "    </tr>\n",
       "    <tr>\n",
       "      <th>2</th>\n",
       "      <td>5132</td>\n",
       "      <td>2017-01-03 13:33:00</td>\n",
       "      <td>0</td>\n",
       "      <td>False</td>\n",
       "      <td>Closed</td>\n",
       "      <td>1</td>\n",
       "      <td>2017-01-03 13:33:00</td>\n",
       "      <td>2017-01-03 13:33:00</td>\n",
       "      <td>2017-01-03 13:33:00</td>\n",
       "      <td>False</td>\n",
       "      <td>...</td>\n",
       "      <td>NaN</td>\n",
       "      <td>0</td>\n",
       "      <td>NaN</td>\n",
       "      <td>0</td>\n",
       "      <td>2</td>\n",
       "      <td>0.000000</td>\n",
       "      <td>0.000000</td>\n",
       "      <td>1</td>\n",
       "      <td>Call Center</td>\n",
       "      <td>00:00:00</td>\n",
       "    </tr>\n",
       "    <tr>\n",
       "      <th>3</th>\n",
       "      <td>5133</td>\n",
       "      <td>2017-01-03 13:47:00</td>\n",
       "      <td>0</td>\n",
       "      <td>False</td>\n",
       "      <td>Closed</td>\n",
       "      <td>1</td>\n",
       "      <td>2017-01-03 13:47:00</td>\n",
       "      <td>2017-01-03 13:47:00</td>\n",
       "      <td>2017-01-03 13:47:00</td>\n",
       "      <td>False</td>\n",
       "      <td>...</td>\n",
       "      <td>NaN</td>\n",
       "      <td>0</td>\n",
       "      <td>NaN</td>\n",
       "      <td>0</td>\n",
       "      <td>2</td>\n",
       "      <td>0.000000</td>\n",
       "      <td>0.000000</td>\n",
       "      <td>1</td>\n",
       "      <td>Call Center</td>\n",
       "      <td>00:00:00</td>\n",
       "    </tr>\n",
       "    <tr>\n",
       "      <th>4</th>\n",
       "      <td>5134</td>\n",
       "      <td>2017-01-03 13:47:00</td>\n",
       "      <td>0</td>\n",
       "      <td>False</td>\n",
       "      <td>Closed</td>\n",
       "      <td>1</td>\n",
       "      <td>2017-01-03 13:47:00</td>\n",
       "      <td>2017-01-03 13:47:00</td>\n",
       "      <td>2017-01-03 13:47:00</td>\n",
       "      <td>False</td>\n",
       "      <td>...</td>\n",
       "      <td>NaN</td>\n",
       "      <td>0</td>\n",
       "      <td>NaN</td>\n",
       "      <td>0</td>\n",
       "      <td>2</td>\n",
       "      <td>0.000000</td>\n",
       "      <td>0.000000</td>\n",
       "      <td>1</td>\n",
       "      <td>Call Center</td>\n",
       "      <td>00:00:00</td>\n",
       "    </tr>\n",
       "  </tbody>\n",
       "</table>\n",
       "<p>5 rows × 34 columns</p>\n",
       "</div>"
      ],
      "text/plain": [
       "   Request ID          Create Date  Master Request  Has Links  Status  \\\n",
       "0        5130  2017-01-03 13:11:00               0      False  Closed   \n",
       "1        5131  2017-01-03 13:29:00               0      False  Closed   \n",
       "2        5132  2017-01-03 13:33:00               0      False  Closed   \n",
       "3        5133  2017-01-03 13:47:00               0      False  Closed   \n",
       "4        5134  2017-01-03 13:47:00               0      False  Closed   \n",
       "\n",
       "   Status Code          Last Action          Last Change           Close Date  \\\n",
       "0            1  2017-01-03 14:05:00  2017-01-03 14:05:00  2017-01-03 14:05:00   \n",
       "1            1  2017-01-03 13:29:00  2017-01-03 13:29:00  2017-01-03 13:29:00   \n",
       "2            1  2017-01-03 13:33:00  2017-01-03 13:33:00  2017-01-03 13:33:00   \n",
       "3            1  2017-01-03 13:47:00  2017-01-03 13:47:00  2017-01-03 13:47:00   \n",
       "4            1  2017-01-03 13:47:00  2017-01-03 13:47:00  2017-01-03 13:47:00   \n",
       "\n",
       "   Work Order Created       ...        Cross Street District ID  \\\n",
       "0               False       ...                 NaN           1   \n",
       "1               False       ...                 NaN           0   \n",
       "2               False       ...                 NaN           0   \n",
       "3               False       ...                 NaN           0   \n",
       "4               False       ...                 NaN           0   \n",
       "\n",
       "        District Escalations  Priority  Longitude   Latitude  Origin ID  \\\n",
       "0  Mt Washington           0         2 -71.105902  42.767552          1   \n",
       "1            NaN           0         2   0.000000   0.000000          1   \n",
       "2            NaN           0         2   0.000000   0.000000          1   \n",
       "3            NaN           0         2   0.000000   0.000000          1   \n",
       "4            NaN           0         2   0.000000   0.000000          1   \n",
       "\n",
       "        Origin Completion Time  \n",
       "0  Call Center        00:54:00  \n",
       "1  Call Center        00:00:00  \n",
       "2  Call Center        00:00:00  \n",
       "3  Call Center        00:00:00  \n",
       "4  Call Center        00:00:00  \n",
       "\n",
       "[5 rows x 34 columns]"
      ]
     },
     "execution_count": 69,
     "metadata": {},
     "output_type": "execute_result"
    }
   ],
   "source": [
    "request.head()"
   ]
  },
  {
   "cell_type": "code",
   "execution_count": 70,
   "metadata": {},
   "outputs": [],
   "source": [
    "# request.loc[request['Completion Time'] == 'nan']"
   ]
  },
  {
   "cell_type": "code",
   "execution_count": 71,
   "metadata": {},
   "outputs": [],
   "source": [
    "# request.groupby('Request Type')['Request ID'].agg(len)"
   ]
  },
  {
   "cell_type": "markdown",
   "metadata": {},
   "source": [
    "#### Obtaining the day the request(from Create Date datetime object) was created to group data based on day of week. Creating a new column in the dataframe for DayofWeek"
   ]
  },
  {
   "cell_type": "code",
   "execution_count": 72,
   "metadata": {},
   "outputs": [],
   "source": [
    "dayofweek = []\n",
    "for i,time in enumerate(request['Create Date'].values):\n",
    "#     dayofweek = \n",
    "    dayofweek.append(datetime.strptime(time, \"%Y-%m-%d %H:%M:%S\").weekday())\n",
    "#     print(dayofweek)\n",
    "#     request['DayofWeek'][i] = dayofweek"
   ]
  },
  {
   "cell_type": "code",
   "execution_count": 73,
   "metadata": {},
   "outputs": [],
   "source": [
    "request['DayofWeek'] = dayofweek"
   ]
  },
  {
   "cell_type": "code",
   "execution_count": 74,
   "metadata": {},
   "outputs": [
    {
     "data": {
      "text/html": [
       "<div>\n",
       "<style scoped>\n",
       "    .dataframe tbody tr th:only-of-type {\n",
       "        vertical-align: middle;\n",
       "    }\n",
       "\n",
       "    .dataframe tbody tr th {\n",
       "        vertical-align: top;\n",
       "    }\n",
       "\n",
       "    .dataframe thead th {\n",
       "        text-align: right;\n",
       "    }\n",
       "</style>\n",
       "<table border=\"1\" class=\"dataframe\">\n",
       "  <thead>\n",
       "    <tr style=\"text-align: right;\">\n",
       "      <th></th>\n",
       "      <th>Request ID</th>\n",
       "      <th>Create Date</th>\n",
       "      <th>Master Request</th>\n",
       "      <th>Has Links</th>\n",
       "      <th>Status</th>\n",
       "      <th>Status Code</th>\n",
       "      <th>Last Action</th>\n",
       "      <th>Last Change</th>\n",
       "      <th>Close Date</th>\n",
       "      <th>Work Order Created</th>\n",
       "      <th>...</th>\n",
       "      <th>District ID</th>\n",
       "      <th>District</th>\n",
       "      <th>Escalations</th>\n",
       "      <th>Priority</th>\n",
       "      <th>Longitude</th>\n",
       "      <th>Latitude</th>\n",
       "      <th>Origin ID</th>\n",
       "      <th>Origin</th>\n",
       "      <th>Completion Time</th>\n",
       "      <th>DayofWeek</th>\n",
       "    </tr>\n",
       "  </thead>\n",
       "  <tbody>\n",
       "    <tr>\n",
       "      <th>0</th>\n",
       "      <td>5130</td>\n",
       "      <td>2017-01-03 13:11:00</td>\n",
       "      <td>0</td>\n",
       "      <td>False</td>\n",
       "      <td>Closed</td>\n",
       "      <td>1</td>\n",
       "      <td>2017-01-03 14:05:00</td>\n",
       "      <td>2017-01-03 14:05:00</td>\n",
       "      <td>2017-01-03 14:05:00</td>\n",
       "      <td>False</td>\n",
       "      <td>...</td>\n",
       "      <td>1</td>\n",
       "      <td>Mt Washington</td>\n",
       "      <td>0</td>\n",
       "      <td>2</td>\n",
       "      <td>-71.105902</td>\n",
       "      <td>42.767552</td>\n",
       "      <td>1</td>\n",
       "      <td>Call Center</td>\n",
       "      <td>00:54:00</td>\n",
       "      <td>1</td>\n",
       "    </tr>\n",
       "    <tr>\n",
       "      <th>1</th>\n",
       "      <td>5131</td>\n",
       "      <td>2017-01-03 13:29:00</td>\n",
       "      <td>0</td>\n",
       "      <td>False</td>\n",
       "      <td>Closed</td>\n",
       "      <td>1</td>\n",
       "      <td>2017-01-03 13:29:00</td>\n",
       "      <td>2017-01-03 13:29:00</td>\n",
       "      <td>2017-01-03 13:29:00</td>\n",
       "      <td>False</td>\n",
       "      <td>...</td>\n",
       "      <td>0</td>\n",
       "      <td>NaN</td>\n",
       "      <td>0</td>\n",
       "      <td>2</td>\n",
       "      <td>0.000000</td>\n",
       "      <td>0.000000</td>\n",
       "      <td>1</td>\n",
       "      <td>Call Center</td>\n",
       "      <td>00:00:00</td>\n",
       "      <td>1</td>\n",
       "    </tr>\n",
       "    <tr>\n",
       "      <th>2</th>\n",
       "      <td>5132</td>\n",
       "      <td>2017-01-03 13:33:00</td>\n",
       "      <td>0</td>\n",
       "      <td>False</td>\n",
       "      <td>Closed</td>\n",
       "      <td>1</td>\n",
       "      <td>2017-01-03 13:33:00</td>\n",
       "      <td>2017-01-03 13:33:00</td>\n",
       "      <td>2017-01-03 13:33:00</td>\n",
       "      <td>False</td>\n",
       "      <td>...</td>\n",
       "      <td>0</td>\n",
       "      <td>NaN</td>\n",
       "      <td>0</td>\n",
       "      <td>2</td>\n",
       "      <td>0.000000</td>\n",
       "      <td>0.000000</td>\n",
       "      <td>1</td>\n",
       "      <td>Call Center</td>\n",
       "      <td>00:00:00</td>\n",
       "      <td>1</td>\n",
       "    </tr>\n",
       "    <tr>\n",
       "      <th>3</th>\n",
       "      <td>5133</td>\n",
       "      <td>2017-01-03 13:47:00</td>\n",
       "      <td>0</td>\n",
       "      <td>False</td>\n",
       "      <td>Closed</td>\n",
       "      <td>1</td>\n",
       "      <td>2017-01-03 13:47:00</td>\n",
       "      <td>2017-01-03 13:47:00</td>\n",
       "      <td>2017-01-03 13:47:00</td>\n",
       "      <td>False</td>\n",
       "      <td>...</td>\n",
       "      <td>0</td>\n",
       "      <td>NaN</td>\n",
       "      <td>0</td>\n",
       "      <td>2</td>\n",
       "      <td>0.000000</td>\n",
       "      <td>0.000000</td>\n",
       "      <td>1</td>\n",
       "      <td>Call Center</td>\n",
       "      <td>00:00:00</td>\n",
       "      <td>1</td>\n",
       "    </tr>\n",
       "    <tr>\n",
       "      <th>4</th>\n",
       "      <td>5134</td>\n",
       "      <td>2017-01-03 13:47:00</td>\n",
       "      <td>0</td>\n",
       "      <td>False</td>\n",
       "      <td>Closed</td>\n",
       "      <td>1</td>\n",
       "      <td>2017-01-03 13:47:00</td>\n",
       "      <td>2017-01-03 13:47:00</td>\n",
       "      <td>2017-01-03 13:47:00</td>\n",
       "      <td>False</td>\n",
       "      <td>...</td>\n",
       "      <td>0</td>\n",
       "      <td>NaN</td>\n",
       "      <td>0</td>\n",
       "      <td>2</td>\n",
       "      <td>0.000000</td>\n",
       "      <td>0.000000</td>\n",
       "      <td>1</td>\n",
       "      <td>Call Center</td>\n",
       "      <td>00:00:00</td>\n",
       "      <td>1</td>\n",
       "    </tr>\n",
       "  </tbody>\n",
       "</table>\n",
       "<p>5 rows × 35 columns</p>\n",
       "</div>"
      ],
      "text/plain": [
       "   Request ID          Create Date  Master Request  Has Links  Status  \\\n",
       "0        5130  2017-01-03 13:11:00               0      False  Closed   \n",
       "1        5131  2017-01-03 13:29:00               0      False  Closed   \n",
       "2        5132  2017-01-03 13:33:00               0      False  Closed   \n",
       "3        5133  2017-01-03 13:47:00               0      False  Closed   \n",
       "4        5134  2017-01-03 13:47:00               0      False  Closed   \n",
       "\n",
       "   Status Code          Last Action          Last Change           Close Date  \\\n",
       "0            1  2017-01-03 14:05:00  2017-01-03 14:05:00  2017-01-03 14:05:00   \n",
       "1            1  2017-01-03 13:29:00  2017-01-03 13:29:00  2017-01-03 13:29:00   \n",
       "2            1  2017-01-03 13:33:00  2017-01-03 13:33:00  2017-01-03 13:33:00   \n",
       "3            1  2017-01-03 13:47:00  2017-01-03 13:47:00  2017-01-03 13:47:00   \n",
       "4            1  2017-01-03 13:47:00  2017-01-03 13:47:00  2017-01-03 13:47:00   \n",
       "\n",
       "   Work Order Created    ...     District ID       District  Escalations  \\\n",
       "0               False    ...               1  Mt Washington            0   \n",
       "1               False    ...               0            NaN            0   \n",
       "2               False    ...               0            NaN            0   \n",
       "3               False    ...               0            NaN            0   \n",
       "4               False    ...               0            NaN            0   \n",
       "\n",
       "  Priority  Longitude   Latitude Origin ID       Origin Completion Time  \\\n",
       "0        2 -71.105902  42.767552         1  Call Center        00:54:00   \n",
       "1        2   0.000000   0.000000         1  Call Center        00:00:00   \n",
       "2        2   0.000000   0.000000         1  Call Center        00:00:00   \n",
       "3        2   0.000000   0.000000         1  Call Center        00:00:00   \n",
       "4        2   0.000000   0.000000         1  Call Center        00:00:00   \n",
       "\n",
       "  DayofWeek  \n",
       "0         1  \n",
       "1         1  \n",
       "2         1  \n",
       "3         1  \n",
       "4         1  \n",
       "\n",
       "[5 rows x 35 columns]"
      ]
     },
     "execution_count": 74,
     "metadata": {},
     "output_type": "execute_result"
    }
   ],
   "source": [
    "request.head()"
   ]
  },
  {
   "cell_type": "code",
   "execution_count": 75,
   "metadata": {},
   "outputs": [],
   "source": [
    "counts = request.groupby('DayofWeek')['Request ID'].agg(len)"
   ]
  },
  {
   "cell_type": "code",
   "execution_count": 76,
   "metadata": {},
   "outputs": [],
   "source": [
    "days = ['Mon','Tue','Wed','Thu','Fri','Sat','Sun']"
   ]
  },
  {
   "cell_type": "markdown",
   "metadata": {},
   "source": [
    "#### Plotting number of requests per day of the Week"
   ]
  },
  {
   "cell_type": "code",
   "execution_count": 77,
   "metadata": {},
   "outputs": [
    {
     "data": {
      "image/png": "[encoded data removed]",
      "text/plain": [
       "<Figure size 432x288 with 1 Axes>"
      ]
     },
     "metadata": {
      "needs_background": "light"
     },
     "output_type": "display_data"
    }
   ],
   "source": [
    "# print(counts)\n",
    "fig, ax = plt.subplots()\n",
    "plt.xticks(np.arange(len(request['DayofWeek'].unique())),days,rotation=0)\n",
    "bars = plt.bar(np.arange(len(request['DayofWeek'].unique())),counts)\n",
    "plt.xlabel('Day of Week')\n",
    "plt.ylabel('Number of Requests')\n",
    "for i,rect in enumerate(bars):\n",
    "    height = rect.get_height()\n",
    "    plt.text(rect.get_x() + rect.get_width()/2.0, height,counts[i], ha='center', va='bottom')"
   ]
  },
  {
   "cell_type": "markdown",
   "metadata": {},
   "source": [
    "#### Obtaining the month of the request(from Create Date datetime object) to group data based on month Creating a new column in the dataframe for Month"
   ]
  },
  {
   "cell_type": "code",
   "execution_count": 78,
   "metadata": {},
   "outputs": [],
   "source": [
    "month = []\n",
    "for i,time in enumerate(request['Create Date'].values):\n",
    "    month.append(datetime.strptime(time, \"%Y-%m-%d %H:%M:%S\").month)\n",
    "    "
   ]
  },
  {
   "cell_type": "code",
   "execution_count": 79,
   "metadata": {},
   "outputs": [],
   "source": [
    "request['Month'] = month"
   ]
  },
  {
   "cell_type": "markdown",
   "metadata": {},
   "source": [
    "#### Mapping the Months to a dictionary for seasons and grouping to observe seasonal requests "
   ]
  },
  {
   "cell_type": "code",
   "execution_count": 80,
   "metadata": {},
   "outputs": [],
   "source": [
    "# request.head()\n",
    "seasons = {'Spring':[4,5],'Summer':[6,7,8],'Fall':[9,10,11],'Winter':[12,1,2,3]}"
   ]
  },
  {
   "cell_type": "code",
   "execution_count": 81,
   "metadata": {},
   "outputs": [
    {
     "name": "stdout",
     "output_type": "stream",
     "text": [
      "dict_keys(['Spring', 'Summer', 'Fall', 'Winter'])\n"
     ]
    }
   ],
   "source": [
    "print(seasons.keys())"
   ]
  },
  {
   "cell_type": "code",
   "execution_count": 82,
   "metadata": {},
   "outputs": [],
   "source": [
    "counts = request.groupby('Month')['Request ID'].agg(len)"
   ]
  },
  {
   "cell_type": "code",
   "execution_count": 83,
   "metadata": {},
   "outputs": [],
   "source": [
    "seasoncounts = []\n",
    "for key in seasons:\n",
    "    seasoncounts.append(counts[seasons[key]].sum())"
   ]
  },
  {
   "cell_type": "code",
   "execution_count": 84,
   "metadata": {},
   "outputs": [
    {
     "name": "stdout",
     "output_type": "stream",
     "text": [
      "[14017, 19372, 14442, 22229]\n"
     ]
    }
   ],
   "source": [
    "print(seasoncounts)"
   ]
  },
  {
   "cell_type": "markdown",
   "metadata": {},
   "source": [
    "#### Plotting number of requests per season"
   ]
  },
  {
   "cell_type": "code",
   "execution_count": 85,
   "metadata": {},
   "outputs": [
    {
     "data": {
      "image/png": "[encoded data removed]",
      "text/plain": [
       "<Figure size 432x288 with 1 Axes>"
      ]
     },
     "metadata": {
      "needs_background": "light"
     },
     "output_type": "display_data"
    }
   ],
   "source": [
    "fig, ax = plt.subplots()\n",
    "plt.xticks(np.arange(len(seasoncounts)),seasons.keys(),rotation=0)\n",
    "bars = plt.bar(np.arange(len(seasoncounts)),seasoncounts, color=['orange', 'yellow', 'purple', 'blue'])\n",
    "plt.xlabel('Season')\n",
    "plt.ylabel('Number of Requests')\n",
    "for i,rect in enumerate(bars):\n",
    "    height = rect.get_height()\n",
    "#     print(height)\n",
    "#     print(rect.get_y())\n",
    "#     print(rect.get_width())\n",
    "    plt.text(rect.get_x() + rect.get_width()/2.0, height,seasoncounts[i], ha='center', va='bottom')"
   ]
  },
  {
   "cell_type": "markdown",
   "metadata": {},
   "source": [
    "### Grouping requests by their type"
   ]
  },
  {
   "cell_type": "code",
   "execution_count": 86,
   "metadata": {},
   "outputs": [],
   "source": [
    "requesttypecounts = request.groupby('Request Type')['Request ID'].agg(len).sort_values(ascending = False)"
   ]
  },
  {
   "cell_type": "code",
   "execution_count": 87,
   "metadata": {},
   "outputs": [],
   "source": [
    "# request.groupby('Request Type')['Request Type'].agg(len).sort_values(ascending = False)[0:20]"
   ]
  },
  {
   "cell_type": "markdown",
   "metadata": {},
   "source": [
    "#### Looking at top 20 and top 30 Request types"
   ]
  },
  {
   "cell_type": "code",
   "execution_count": 88,
   "metadata": {},
   "outputs": [],
   "source": [
    "r_top20 = request.groupby('Request Type')['Request Type'].agg(len).sort_values(ascending = False)[0:20]"
   ]
  },
  {
   "cell_type": "code",
   "execution_count": 89,
   "metadata": {},
   "outputs": [],
   "source": [
    "r_top30 = request.groupby('Request Type')['Request Type'].agg(len).sort_values(ascending = False)[0:30]"
   ]
  },
  {
   "cell_type": "markdown",
   "metadata": {},
   "source": [
    "#### It was observed the Information Inquiries request types, as specified in filterA, comprise of roughly 80% of the request data. They were separated to better view the distribution of requests."
   ]
  },
  {
   "cell_type": "code",
   "execution_count": 3,
   "metadata": {},
   "outputs": [],
   "source": [
    "filterA = ['A - Information Other', \n",
    "'A - Transfer Inspections', \n",
    "'A - Transfer Other', \n",
    "'A - Transfer Treasurer', \n",
    "'A - Information Treasurer ', # A - Information Treasurer has a 'space' here as thats how its provided in the data\n",
    "'A - Transfer Assessor',\n",
    "'A - Information Assessor',\n",
    "'A - Information Inspections']"
   ]
  },
  {
   "cell_type": "code",
   "execution_count": 91,
   "metadata": {
    "scrolled": false
   },
   "outputs": [],
   "source": [
    "requestA = request.loc[request['Request Type'].isin(filterA)]\n",
    "requestnotA = request.loc[~request['Request Type'].isin(filterA)]\n",
    "# requestnotA.groupby('Request Type')['Request ID'].agg(len).sort_values(ascending = False)\n",
    "reqAcounts = requestA.groupby('Request Type')['Request ID'].agg(len).sort_values(ascending = False)\n",
    "reqnotAcounts = requestnotA.groupby('Request Type')['Request ID'].agg(len).sort_values(ascending = False)[0:30]"
   ]
  },
  {
   "cell_type": "code",
   "execution_count": 92,
   "metadata": {},
   "outputs": [],
   "source": [
    "top20names = ['A - Information Other',                               \n",
    "'A - Transfer Inspections',                             \n",
    "'A - Transfer Other',                                    \n",
    "'A - Transfer Treasurer',                                \n",
    "'A - Information Treasurer',                             \n",
    "'A - Transfer Assessor',                                 \n",
    "'Highway - Pothole',                                     \n",
    "'A - Information Assessor',                              \n",
    "'Snow Removal Issues - Sanding Request',                 \n",
    "'Tree Issues - City Owned Tree Issue',                    \n",
    "'Snow Removal Issues - Replow Request',                   \n",
    "'TRASH - Missed Pick Up',                                 \n",
    "'Traffic/Street Lights - Street Light Repair',            \n",
    "'A - Information Inspections',                            \n",
    "'Highway - Sidewalk Issues',                              \n",
    "'Highway - Street issues',                                \n",
    "'Tree Issues - Tree Pruning/Trimming',                    \n",
    "'Street Sign Issues - Street Signs Missing/Damaged',      \n",
    "'Highway - Overgrown grass/weeds',                        \n",
    "'Tree Issues - tree limb pickup']                  "
   ]
  },
  {
   "cell_type": "code",
   "execution_count": 93,
   "metadata": {},
   "outputs": [],
   "source": [
    "top30names = ['A - Information Other',                               \n",
    "'A - Transfer Inspections',                             \n",
    "'A - Transfer Other',                                    \n",
    "'A - Transfer Treasurer',                                \n",
    "'A - Information Treasurer',                             \n",
    "'A - Transfer Assessor',                                 \n",
    "'Highway - Pothole',                                     \n",
    "'A - Information Assessor',                              \n",
    "'Snow Removal Issues - Sanding Request',                 \n",
    "'Tree Issues - City Owned Tree Issue',                    \n",
    "'Snow Removal Issues - Replow Request',                   \n",
    "'TRASH - Missed Pick Up',                                 \n",
    "'Traffic/Street Lights - Street Light Repair',            \n",
    "'A - Information Inspections',                            \n",
    "'Highway - Sidewalk Issues',                              \n",
    "'Highway - Street issues',                                \n",
    "'Tree Issues - Tree Pruning/Trimming',                    \n",
    "'Street Sign Issues - Street Signs Missing/Damaged',      \n",
    "'Highway - Overgrown grass/weeds',                        \n",
    "'Tree Issues - tree limb pickup',   \n",
    "'Snow Removal Issues - Street Unplowed',                                  \n",
    "'Trash - Illegal Dumping',                                                \n",
    "'Highway - trash/debris pickup',                                          \n",
    "'Voicemails',                                                             \n",
    "'RECYCLING - Missed Pick Up' ,                                            \n",
    "'Traffic/Street Lights - Street Light Repair - National Grid-Owned' ,     \n",
    "'Highway - Catch Basin Repair',                                           \n",
    "'Highway - Apron/Curb Repair',                                            \n",
    "'Stormwater/Sewer - Catch Basin Cleaning',                                \n",
    "'Engineering - Sink Holes']"
   ]
  },
  {
   "cell_type": "code",
   "execution_count": 94,
   "metadata": {},
   "outputs": [],
   "source": [
    "reqnotAtop30 = ['Highway - Pothole',                                     \n",
    "'Snow Removal Issues - Sanding Request',                 \n",
    "'Tree Issues - City Owned Tree Issue',                    \n",
    "'Snow Removal Issues - Replow Request',                   \n",
    "'TRASH - Missed Pick Up',                                 \n",
    "'Traffic/Street Lights - Street Light Repair',            \n",
    "'Highway - Sidewalk Issues',                              \n",
    "'Highway - Street issues',                                \n",
    "'Tree Issues - Tree Pruning/Trimming',                    \n",
    "'Street Sign Issues - Street Signs Missing/Damaged',      \n",
    "'Highway - Overgrown grass/weeds',                        \n",
    "'Tree Issues - tree limb pickup',   \n",
    "'Snow Removal Issues - Street Unplowed',                                  \n",
    "'Trash - Illegal Dumping',                                                \n",
    "'Highway - trash/debris pickup',                                          \n",
    "'Voicemails',                                                             \n",
    "'RECYCLING - Missed Pick Up' ,                                            \n",
    "'Traffic/Street Lights - Street Light Repair - National Grid-Owned' ,     \n",
    "'Highway - Catch Basin Repair',                                           \n",
    "'Highway - Apron/Curb Repair',                                            \n",
    "'Stormwater/Sewer - Catch Basin Cleaning',                                \n",
    "'Engineering - Sink Holes',\n",
    "'Tree Issues - Tree Removal',                                            \n",
    "'Highway - Manhole Repair',                                              \n",
    "'Snow Removal Issues - Sidewalk Snow Removal',                           \n",
    "'Highway - Street Paving Request',                                       \n",
    "'Highway - Street Cleaning/Sweeping',                                    \n",
    "'Tree Issues - Tree Fallen Across Road',                                 \n",
    "'New Toter Request',                                                    \n",
    "'Toter Issues']"
   ]
  },
  {
   "cell_type": "markdown",
   "metadata": {},
   "source": [
    "#### Plotting top 20 request Types"
   ]
  },
  {
   "cell_type": "code",
   "execution_count": 95,
   "metadata": {},
   "outputs": [
    {
     "data": {
      "image/png": "[encoded data removed]",
      "text/plain": [
       "<Figure size 864x576 with 1 Axes>"
      ]
     },
     "metadata": {
      "needs_background": "light"
     },
     "output_type": "display_data"
    }
   ],
   "source": [
    "plt.figure(figsize=(12,8))\n",
    "plt.yticks(np.arange(len(r_top20)),top20names,rotation=0)\n",
    "bars = plt.barh(np.arange(len(r_top20)),r_top20)\n",
    "plt.xlabel('Number of requests')\n",
    "plt.ylabel('Request Type')\n",
    "for i,rect in enumerate(bars):\n",
    "    width = rect.get_width()\n",
    "    plt.text(width,rect.get_height()/2+rect.get_y(),r_top20[i])"
   ]
  },
  {
   "cell_type": "markdown",
   "metadata": {},
   "source": [
    "#### Plotting top 30 request Types"
   ]
  },
  {
   "cell_type": "code",
   "execution_count": 96,
   "metadata": {},
   "outputs": [
    {
     "data": {
      "image/png": "[encoded data removed]",
      "text/plain": [
       "<Figure size 864x576 with 1 Axes>"
      ]
     },
     "metadata": {
      "needs_background": "light"
     },
     "output_type": "display_data"
    }
   ],
   "source": [
    "plt.figure(figsize=(12,8))\n",
    "plt.yticks(np.arange(len(r_top30)),top30names,rotation=0)\n",
    "bars = plt.barh(np.arange(len(r_top30)),r_top30)\n",
    "plt.xlabel('Number of requests')\n",
    "plt.ylabel('Request Type')\n",
    "for i,rect in enumerate(bars):\n",
    "    width = rect.get_width()\n",
    "    plt.text(width,rect.get_height()/2+rect.get_y(),r_top30[i])"
   ]
  },
  {
   "cell_type": "markdown",
   "metadata": {},
   "source": [
    "#### Plotting Information inquiries (filterA) request types"
   ]
  },
  {
   "cell_type": "code",
   "execution_count": 97,
   "metadata": {},
   "outputs": [
    {
     "data": {
      "image/png": "[encoded data removed]",
      "text/plain": [
       "<Figure size 864x576 with 1 Axes>"
      ]
     },
     "metadata": {
      "needs_background": "light"
     },
     "output_type": "display_data"
    }
   ],
   "source": [
    "plt.figure(figsize=(12,8))\n",
    "plt.yticks(np.arange(len(reqAcounts)),filterA,rotation=0)\n",
    "bars = plt.barh(np.arange(len(reqAcounts)),reqAcounts)\n",
    "plt.xlabel('Number of requests')\n",
    "plt.ylabel('Request Type')\n",
    "for i,rect in enumerate(bars):\n",
    "    width = rect.get_width()\n",
    "    plt.text(width,rect.get_height()/2+rect.get_y(),reqAcounts[i])"
   ]
  },
  {
   "cell_type": "markdown",
   "metadata": {},
   "source": [
    "#### Plotting top 30 request Types excluding Information inquiries"
   ]
  },
  {
   "cell_type": "code",
   "execution_count": 98,
   "metadata": {},
   "outputs": [
    {
     "data": {
      "image/png": "[encoded data removed]",
      "text/plain": [
       "<Figure size 864x576 with 1 Axes>"
      ]
     },
     "metadata": {
      "needs_background": "light"
     },
     "output_type": "display_data"
    }
   ],
   "source": [
    "plt.figure(figsize=(12,8))\n",
    "plt.yticks(np.arange(len(reqnotAcounts)),reqnotAtop30,rotation=0)\n",
    "bars = plt.barh(np.arange(len(reqnotAcounts)),reqnotAcounts)\n",
    "plt.xlabel('Number of requests')\n",
    "plt.ylabel('Request Type')\n",
    "for i,rect in enumerate(bars):\n",
    "    width = rect.get_width()\n",
    "    plt.text(width,rect.get_height()/2+rect.get_y(),reqnotAcounts[i])"
   ]
  },
  {
   "cell_type": "markdown",
   "metadata": {},
   "source": [
    "#### Obtaining the year of the request(from Create Date datetime object) to group data based on year. Creating a new column in the dataframe for Year"
   ]
  },
  {
   "cell_type": "code",
   "execution_count": 99,
   "metadata": {},
   "outputs": [
    {
     "data": {
      "application/vnd.jupyter.widget-view+json": {
       "model_id": "b9b361ba37114ab4ac8689c800f2597f",
       "version_major": 2,
       "version_minor": 0
      },
      "text/plain": [
       "HBox(children=(IntProgress(value=0, max=70060), HTML(value='')))"
      ]
     },
     "metadata": {},
     "output_type": "display_data"
    },
    {
     "name": "stdout",
     "output_type": "stream",
     "text": [
      "\n"
     ]
    }
   ],
   "source": [
    "year = []\n",
    "for i,time in tqdm(enumerate(request['Create Date'].values),total = len(request['Create Date'].values)):\n",
    "    timecreated = datetime.strptime(time, \"%Y-%m-%d %H:%M:%S\")\n",
    "    year.append(timecreated.year)"
   ]
  },
  {
   "cell_type": "code",
   "execution_count": 100,
   "metadata": {},
   "outputs": [],
   "source": [
    "request['Year'] = year"
   ]
  },
  {
   "cell_type": "code",
   "execution_count": 101,
   "metadata": {},
   "outputs": [
    {
     "data": {
      "text/html": [
       "<div>\n",
       "<style scoped>\n",
       "    .dataframe tbody tr th:only-of-type {\n",
       "        vertical-align: middle;\n",
       "    }\n",
       "\n",
       "    .dataframe tbody tr th {\n",
       "        vertical-align: top;\n",
       "    }\n",
       "\n",
       "    .dataframe thead th {\n",
       "        text-align: right;\n",
       "    }\n",
       "</style>\n",
       "<table border=\"1\" class=\"dataframe\">\n",
       "  <thead>\n",
       "    <tr style=\"text-align: right;\">\n",
       "      <th></th>\n",
       "      <th>Request ID</th>\n",
       "      <th>Create Date</th>\n",
       "      <th>Master Request</th>\n",
       "      <th>Has Links</th>\n",
       "      <th>Status</th>\n",
       "      <th>Status Code</th>\n",
       "      <th>Last Action</th>\n",
       "      <th>Last Change</th>\n",
       "      <th>Close Date</th>\n",
       "      <th>Work Order Created</th>\n",
       "      <th>...</th>\n",
       "      <th>Escalations</th>\n",
       "      <th>Priority</th>\n",
       "      <th>Longitude</th>\n",
       "      <th>Latitude</th>\n",
       "      <th>Origin ID</th>\n",
       "      <th>Origin</th>\n",
       "      <th>Completion Time</th>\n",
       "      <th>DayofWeek</th>\n",
       "      <th>Month</th>\n",
       "      <th>Year</th>\n",
       "    </tr>\n",
       "  </thead>\n",
       "  <tbody>\n",
       "    <tr>\n",
       "      <th>0</th>\n",
       "      <td>5130</td>\n",
       "      <td>2017-01-03 13:11:00</td>\n",
       "      <td>0</td>\n",
       "      <td>False</td>\n",
       "      <td>Closed</td>\n",
       "      <td>1</td>\n",
       "      <td>2017-01-03 14:05:00</td>\n",
       "      <td>2017-01-03 14:05:00</td>\n",
       "      <td>2017-01-03 14:05:00</td>\n",
       "      <td>False</td>\n",
       "      <td>...</td>\n",
       "      <td>0</td>\n",
       "      <td>2</td>\n",
       "      <td>-71.105902</td>\n",
       "      <td>42.767552</td>\n",
       "      <td>1</td>\n",
       "      <td>Call Center</td>\n",
       "      <td>00:54:00</td>\n",
       "      <td>1</td>\n",
       "      <td>1</td>\n",
       "      <td>2017</td>\n",
       "    </tr>\n",
       "    <tr>\n",
       "      <th>1</th>\n",
       "      <td>5131</td>\n",
       "      <td>2017-01-03 13:29:00</td>\n",
       "      <td>0</td>\n",
       "      <td>False</td>\n",
       "      <td>Closed</td>\n",
       "      <td>1</td>\n",
       "      <td>2017-01-03 13:29:00</td>\n",
       "      <td>2017-01-03 13:29:00</td>\n",
       "      <td>2017-01-03 13:29:00</td>\n",
       "      <td>False</td>\n",
       "      <td>...</td>\n",
       "      <td>0</td>\n",
       "      <td>2</td>\n",
       "      <td>0.000000</td>\n",
       "      <td>0.000000</td>\n",
       "      <td>1</td>\n",
       "      <td>Call Center</td>\n",
       "      <td>00:00:00</td>\n",
       "      <td>1</td>\n",
       "      <td>1</td>\n",
       "      <td>2017</td>\n",
       "    </tr>\n",
       "    <tr>\n",
       "      <th>2</th>\n",
       "      <td>5132</td>\n",
       "      <td>2017-01-03 13:33:00</td>\n",
       "      <td>0</td>\n",
       "      <td>False</td>\n",
       "      <td>Closed</td>\n",
       "      <td>1</td>\n",
       "      <td>2017-01-03 13:33:00</td>\n",
       "      <td>2017-01-03 13:33:00</td>\n",
       "      <td>2017-01-03 13:33:00</td>\n",
       "      <td>False</td>\n",
       "      <td>...</td>\n",
       "      <td>0</td>\n",
       "      <td>2</td>\n",
       "      <td>0.000000</td>\n",
       "      <td>0.000000</td>\n",
       "      <td>1</td>\n",
       "      <td>Call Center</td>\n",
       "      <td>00:00:00</td>\n",
       "      <td>1</td>\n",
       "      <td>1</td>\n",
       "      <td>2017</td>\n",
       "    </tr>\n",
       "    <tr>\n",
       "      <th>3</th>\n",
       "      <td>5133</td>\n",
       "      <td>2017-01-03 13:47:00</td>\n",
       "      <td>0</td>\n",
       "      <td>False</td>\n",
       "      <td>Closed</td>\n",
       "      <td>1</td>\n",
       "      <td>2017-01-03 13:47:00</td>\n",
       "      <td>2017-01-03 13:47:00</td>\n",
       "      <td>2017-01-03 13:47:00</td>\n",
       "      <td>False</td>\n",
       "      <td>...</td>\n",
       "      <td>0</td>\n",
       "      <td>2</td>\n",
       "      <td>0.000000</td>\n",
       "      <td>0.000000</td>\n",
       "      <td>1</td>\n",
       "      <td>Call Center</td>\n",
       "      <td>00:00:00</td>\n",
       "      <td>1</td>\n",
       "      <td>1</td>\n",
       "      <td>2017</td>\n",
       "    </tr>\n",
       "    <tr>\n",
       "      <th>4</th>\n",
       "      <td>5134</td>\n",
       "      <td>2017-01-03 13:47:00</td>\n",
       "      <td>0</td>\n",
       "      <td>False</td>\n",
       "      <td>Closed</td>\n",
       "      <td>1</td>\n",
       "      <td>2017-01-03 13:47:00</td>\n",
       "      <td>2017-01-03 13:47:00</td>\n",
       "      <td>2017-01-03 13:47:00</td>\n",
       "      <td>False</td>\n",
       "      <td>...</td>\n",
       "      <td>0</td>\n",
       "      <td>2</td>\n",
       "      <td>0.000000</td>\n",
       "      <td>0.000000</td>\n",
       "      <td>1</td>\n",
       "      <td>Call Center</td>\n",
       "      <td>00:00:00</td>\n",
       "      <td>1</td>\n",
       "      <td>1</td>\n",
       "      <td>2017</td>\n",
       "    </tr>\n",
       "  </tbody>\n",
       "</table>\n",
       "<p>5 rows × 37 columns</p>\n",
       "</div>"
      ],
      "text/plain": [
       "   Request ID          Create Date  Master Request  Has Links  Status  \\\n",
       "0        5130  2017-01-03 13:11:00               0      False  Closed   \n",
       "1        5131  2017-01-03 13:29:00               0      False  Closed   \n",
       "2        5132  2017-01-03 13:33:00               0      False  Closed   \n",
       "3        5133  2017-01-03 13:47:00               0      False  Closed   \n",
       "4        5134  2017-01-03 13:47:00               0      False  Closed   \n",
       "\n",
       "   Status Code          Last Action          Last Change           Close Date  \\\n",
       "0            1  2017-01-03 14:05:00  2017-01-03 14:05:00  2017-01-03 14:05:00   \n",
       "1            1  2017-01-03 13:29:00  2017-01-03 13:29:00  2017-01-03 13:29:00   \n",
       "2            1  2017-01-03 13:33:00  2017-01-03 13:33:00  2017-01-03 13:33:00   \n",
       "3            1  2017-01-03 13:47:00  2017-01-03 13:47:00  2017-01-03 13:47:00   \n",
       "4            1  2017-01-03 13:47:00  2017-01-03 13:47:00  2017-01-03 13:47:00   \n",
       "\n",
       "   Work Order Created  ...   Escalations Priority  Longitude   Latitude  \\\n",
       "0               False  ...             0        2 -71.105902  42.767552   \n",
       "1               False  ...             0        2   0.000000   0.000000   \n",
       "2               False  ...             0        2   0.000000   0.000000   \n",
       "3               False  ...             0        2   0.000000   0.000000   \n",
       "4               False  ...             0        2   0.000000   0.000000   \n",
       "\n",
       "   Origin ID       Origin Completion Time  DayofWeek Month  Year  \n",
       "0          1  Call Center        00:54:00          1     1  2017  \n",
       "1          1  Call Center        00:00:00          1     1  2017  \n",
       "2          1  Call Center        00:00:00          1     1  2017  \n",
       "3          1  Call Center        00:00:00          1     1  2017  \n",
       "4          1  Call Center        00:00:00          1     1  2017  \n",
       "\n",
       "[5 rows x 37 columns]"
      ]
     },
     "execution_count": 101,
     "metadata": {},
     "output_type": "execute_result"
    }
   ],
   "source": [
    "request.head()"
   ]
  },
  {
   "cell_type": "code",
   "execution_count": 102,
   "metadata": {},
   "outputs": [],
   "source": [
    "yearcounts = request.groupby('Year')['Year'].agg(len)"
   ]
  },
  {
   "cell_type": "code",
   "execution_count": 103,
   "metadata": {},
   "outputs": [],
   "source": [
    "years = ['2017', '2018','2019']"
   ]
  },
  {
   "cell_type": "code",
   "execution_count": 104,
   "metadata": {},
   "outputs": [
    {
     "name": "stdout",
     "output_type": "stream",
     "text": [
      "(3,)\n"
     ]
    }
   ],
   "source": [
    "print(yearcounts.shape)"
   ]
  },
  {
   "cell_type": "markdown",
   "metadata": {},
   "source": [
    "#### Plotting number of requests per year"
   ]
  },
  {
   "cell_type": "code",
   "execution_count": 105,
   "metadata": {},
   "outputs": [
    {
     "data": {
      "image/png": "[encoded data removed]",
      "text/plain": [
       "<Figure size 432x288 with 1 Axes>"
      ]
     },
     "metadata": {
      "needs_background": "light"
     },
     "output_type": "display_data"
    }
   ],
   "source": [
    "plt.figure()\n",
    "plt.xticks(np.arange(len(years)),years,rotation=0)\n",
    "bars = plt.bar(np.arange(len(years)),yearcounts)\n",
    "plt.ylabel('Number of requests')\n",
    "plt.xlabel('Year')\n",
    "for i,rect in enumerate(bars):\n",
    "    height = rect.get_height()\n",
    "    plt.text(rect.get_x() + rect.get_width()/2.0, height,list(yearcounts)[i], ha='center', va='bottom')"
   ]
  },
  {
   "cell_type": "markdown",
   "metadata": {},
   "source": [
    "### Calculating Average and Median Times for Request Types and Departments"
   ]
  },
  {
   "cell_type": "code",
   "execution_count": 106,
   "metadata": {},
   "outputs": [],
   "source": [
    "gb_type = request.groupby('Request Type')\n",
    "gb_type_list = [gb_type.get_group(x) for x in gb_type.groups]"
   ]
  },
  {
   "cell_type": "code",
   "execution_count": 107,
   "metadata": {},
   "outputs": [],
   "source": [
    "gb_type2 = request.groupby('Department')\n",
    "gb_type_list2 = [gb_type2.get_group(x) for x in gb_type2.groups]\n",
    "# for key, item in gb_type2:\n",
    "#     if key == '311 Call Center':\n",
    "#         print(gb_type2.get_group(key)['Completion Time'].mean(), \"\\n\\n\")"
   ]
  },
  {
   "cell_type": "code",
   "execution_count": 108,
   "metadata": {},
   "outputs": [],
   "source": [
    "reqA_type = requestA.groupby('Request Type')\n",
    "reqA_type_list = [reqA_type.get_group(x) for x in reqA_type.groups]"
   ]
  },
  {
   "cell_type": "code",
   "execution_count": 109,
   "metadata": {},
   "outputs": [],
   "source": [
    "reqnotA_type = requestnotA.groupby('Request Type')\n",
    "reqnotA_type_list = [reqnotA_type.get_group(x) for x in reqnotA_type.groups]"
   ]
  },
  {
   "cell_type": "markdown",
   "metadata": {},
   "source": [
    "#### Average time taken by City of Haverhill to close each Request Type"
   ]
  },
  {
   "cell_type": "code",
   "execution_count": 110,
   "metadata": {
    "scrolled": true
   },
   "outputs": [
    {
     "data": {
      "text/plain": [
       "{'A - Information Assessor': Timedelta('0 days 00:44:09.617131'),\n",
       " 'A - Information Inspections': Timedelta('0 days 20:53:35.942028'),\n",
       " 'A - Information Other': Timedelta('0 days 13:00:35.054712'),\n",
       " 'A - Information Treasurer ': Timedelta('0 days 00:03:17.701965'),\n",
       " 'A - Transfer Assessor': Timedelta('0 days 00:10:52.052980'),\n",
       " 'A - Transfer Inspections': Timedelta('0 days 00:45:16.204020'),\n",
       " 'A - Transfer Other': Timedelta('0 days 01:28:49.766172'),\n",
       " 'A - Transfer Treasurer': Timedelta('0 days 01:07:02.878112'),\n",
       " 'Abandoned Vehicles': Timedelta('73 days 18:52:00'),\n",
       " 'Accumulation of Litter/Garbage': Timedelta('123 days 21:12:56.250000'),\n",
       " \"Assessor's\": Timedelta('0 days 03:13:00'),\n",
       " 'BULK ITEM - Missed pick up': Timedelta('1 days 13:29:29.347826'),\n",
       " 'Barking Dog': Timedelta('51 days 08:48:17.142857'),\n",
       " 'Cancelled Rental Carts': Timedelta('0 days 00:01:00'),\n",
       " 'Cart Repairs': Timedelta('0 days 04:17:18.461538'),\n",
       " 'Chickens': Timedelta('135 days 20:22:30'),\n",
       " 'City Clerk': Timedelta('0 days 00:03:36'),\n",
       " 'City Council': Timedelta('0 days 07:29:00'),\n",
       " 'Community Development': NaT,\n",
       " 'Compost Center': Timedelta('0 days 00:00:00'),\n",
       " 'Conservation/Wetlands': Timedelta('506 days 03:27:00'),\n",
       " 'Construction Issues - Street Closings': Timedelta('46 days 13:20:00'),\n",
       " 'Dead Animal on Street': Timedelta('31 days 01:13:15.338345'),\n",
       " 'Dog License': Timedelta('0 days 00:00:00'),\n",
       " 'Downed Electric Power Lines': Timedelta('8 days 11:56:42.580645'),\n",
       " 'Economic Development & Planning': Timedelta('1 days 08:57:00'),\n",
       " 'Emergency Management': Timedelta('37 days 23:17:00'),\n",
       " 'Engineering - Drainage Problem': Timedelta('27 days 00:22:15'),\n",
       " 'Engineering - Flooding': Timedelta('13 days 14:51:15'),\n",
       " 'Engineering - Sink Holes': Timedelta('294 days 08:38:32.347826'),\n",
       " 'Engineering - Trench': Timedelta('54 days 09:36:24'),\n",
       " 'Excessive Noise/Disturbances': Timedelta('48 days 16:32:00'),\n",
       " 'Failure to Display Permit/License': NaT,\n",
       " 'Fire Hydrant Issue': Timedelta('10 days 03:07:40'),\n",
       " 'Graffiti - City Property': Timedelta('89 days 21:09:20'),\n",
       " 'Graffiti - Private Property': Timedelta('245 days 04:15:13.333333'),\n",
       " 'HTA/contract question': Timedelta('66 days 15:47:51.428571'),\n",
       " 'Handicapped Parking Sign Request': Timedelta('31 days 19:00:52.500000'),\n",
       " 'Health & Inspections': Timedelta('99 days 23:34:32.727272'),\n",
       " 'Highway & Parks': Timedelta('129 days 15:35:53.181818'),\n",
       " 'Highway - Apron/Curb Repair': Timedelta('101 days 05:15:21.588785'),\n",
       " 'Highway - Bee Issue': Timedelta('138 days 21:58:17.142857'),\n",
       " 'Highway - Catch Basin Repair': Timedelta('54 days 12:19:59.736842'),\n",
       " 'Highway - City Benches': Timedelta('10 days 17:09:20'),\n",
       " 'Highway - City-Owned Parking Lot Appearance': Timedelta('89 days 11:07:15'),\n",
       " 'Highway - Crosswalk': Timedelta('122 days 20:16:19.130434'),\n",
       " 'Highway - Culvert': Timedelta('54 days 05:01:45'),\n",
       " 'Highway - Fence Issues': Timedelta('73 days 11:28:56'),\n",
       " 'Highway - Hazardous Metal': Timedelta('20 days 09:46:17.142857'),\n",
       " 'Highway - Landscape Issues': Timedelta('47 days 08:31:44.651162'),\n",
       " 'Highway - Line Painting': Timedelta('273 days 10:55:54'),\n",
       " 'Highway - Manhole Repair': Timedelta('38 days 22:57:31.046511'),\n",
       " 'Highway - Overgrown grass/weeds': Timedelta('71 days 13:36:52.646239'),\n",
       " 'Highway - Park & Vacant Lot Maintenance': Timedelta('28 days 10:25:12.558139'),\n",
       " 'Highway - Pothole': Timedelta('18 days 02:38:47.212449'),\n",
       " 'Highway - Sand Pile pick up': Timedelta('47 days 20:44:36.315789'),\n",
       " 'Highway - Sidewalk Issues': Timedelta('97 days 15:39:47.774294'),\n",
       " 'Highway - Sidewalk Request': Timedelta('261 days 17:57:57.446808'),\n",
       " 'Highway - Sign Removal': Timedelta('27 days 12:51:55.714285'),\n",
       " 'Highway - Sink Holes': Timedelta('11 days 11:14:27.272727'),\n",
       " 'Highway - Street Cleaning/Sweeping': Timedelta('80 days 05:59:25.524861'),\n",
       " 'Highway - Street Flooding': Timedelta('21 days 06:40:54.285714'),\n",
       " 'Highway - Street Paving Request': Timedelta('133 days 23:05:42.794117'),\n",
       " 'Highway - Street issues': Timedelta('58 days 18:55:31.406250'),\n",
       " 'Highway - Trench': Timedelta('12 days 08:16:53.333333'),\n",
       " 'Highway - trash/debris pickup': Timedelta('52 days 15:59:47.636363'),\n",
       " 'Highway- Sign Issue': Timedelta('5 days 18:46:07.058823'),\n",
       " 'Highway- Sign Request': Timedelta('5 days 18:36:42.127659'),\n",
       " 'Illegal Out-of-State License': Timedelta('31 days 13:19:00'),\n",
       " 'Illegal Parking': Timedelta('36 days 00:54:49.230769'),\n",
       " 'Illegal Posting': NaT,\n",
       " 'Illegal Work/No Visible Building Permit': Timedelta('130 days 20:43:45'),\n",
       " 'LAZ - Downtown Parking Issue': Timedelta('84 days 01:00:00'),\n",
       " 'LEAF missed pick up ': Timedelta('6 days 02:35:34.468085'),\n",
       " 'Litter Problems': Timedelta('22 days 05:22:07.741935'),\n",
       " \"Mayor's Office\": Timedelta('245 days 21:11:20'),\n",
       " 'Motorcycle Noise': Timedelta('15 days 05:25:00'),\n",
       " 'New Construction Request': Timedelta('0 days 00:00:25.263157'),\n",
       " 'New Toter Request': Timedelta('1 days 03:03:24.333333'),\n",
       " 'No Electricity': Timedelta('87 days 15:24:54.545454'),\n",
       " 'Noise/Disturbance': Timedelta('64 days 08:10:51.428571'),\n",
       " 'Odor Complaint': Timedelta('93 days 19:30:30'),\n",
       " 'Odor Issues': Timedelta('20 days 11:39:45'),\n",
       " 'Other: Inspection Requested': Timedelta('56 days 04:21:30'),\n",
       " 'Overgrown Grass/Weeds': Timedelta('154 days 02:00:20'),\n",
       " 'Parking Meter Malfunction': Timedelta('10 days 23:22:00'),\n",
       " 'Parking Ticket Issue': Timedelta('74 days 19:40:36'),\n",
       " 'Parks & Recreation': Timedelta('204 days 09:34:22.105263'),\n",
       " 'Pet Cruelty': Timedelta('0 days 00:38:30'),\n",
       " 'Police Department': Timedelta('27 days 23:44:56.470588'),\n",
       " 'Pool Issues': Timedelta('128 days 20:58:00'),\n",
       " 'Poor Property Maintenance': Timedelta('97 days 10:52:10'),\n",
       " 'Procurement/City Contracts': Timedelta('0 days 00:00:00'),\n",
       " 'Public Works Department': Timedelta('250 days 03:36:00'),\n",
       " 'Public property': NaT,\n",
       " 'Questions': Timedelta('2 days 15:21:16.666666'),\n",
       " 'RECYCLING - Missed Pick Up': Timedelta('2 days 17:00:40.782918'),\n",
       " 'Recycling Drop-off Center': Timedelta('0 days 00:31:40'),\n",
       " 'Residence': Timedelta('138 days 08:33:30'),\n",
       " 'Resident Feedback': Timedelta('8 days 09:22:00'),\n",
       " 'Residents': NaT,\n",
       " 'School Department': Timedelta('0 days 00:00:00'),\n",
       " 'Snow Removal Issues - Hydrant Issue': Timedelta('65 days 14:28:17.142857'),\n",
       " 'Snow Removal Issues - Ice buildup': Timedelta('8 days 07:36:56.666666'),\n",
       " 'Snow Removal Issues - Mailbox Damage': Timedelta('71 days 08:38:33.750000'),\n",
       " 'Snow Removal Issues - Private Property Damage': Timedelta('100 days 00:18:19.694656'),\n",
       " 'Snow Removal Issues - Replow Request': Timedelta('7 days 15:32:05.598885'),\n",
       " 'Snow Removal Issues - Sanding Request': Timedelta('3 days 09:11:40.765805'),\n",
       " 'Snow Removal Issues - Sidewalk Snow Removal': Timedelta('18 days 03:04:31.470588'),\n",
       " 'Snow Removal Issues - Snow Bank Removal': Timedelta('11 days 00:14:07.450980'),\n",
       " 'Snow Removal Issues - Street Unplowed': Timedelta('3 days 08:18:01.694915'),\n",
       " 'Snow Removal Issues - Vehicle Damage': Timedelta('0 days 00:00:00'),\n",
       " 'Snow Removal Miscellaneous': Timedelta('34 days 15:05:29.361702'),\n",
       " 'Speed limit sign - electronic': Timedelta('50 days 23:18:46.153846'),\n",
       " 'State Road Issue': Timedelta('30 days 08:56:23.333333'),\n",
       " 'Stormwater/Sewer - Catch Basin Cleaning': Timedelta('69 days 14:19:49.285714'),\n",
       " 'Stormwater/Sewer - Manhole issue': Timedelta('22 days 05:50:54.545454'),\n",
       " 'Stormwater/Sewer - Sewer Problem': Timedelta('48 days 23:27:13.333333'),\n",
       " 'Stray Animal': Timedelta('44 days 20:14:10'),\n",
       " 'Street Sign Issues - Stop Sign Missing/Damaged': Timedelta('43 days 06:22:30.476190'),\n",
       " 'Street Sign Issues - Street Signs Missing/Damaged': Timedelta('34 days 06:16:47.700000'),\n",
       " 'TRASH - Missed Pick Up': Timedelta('2 days 13:34:40.920863'),\n",
       " 'Tenant/Landlord Problems': NaT,\n",
       " 'Toter Issues': Timedelta('3 days 07:36:37.070063'),\n",
       " 'Traffic Light Camera': Timedelta('9 days 19:25:00'),\n",
       " 'Traffic/Street Lights - School crosswalk light': Timedelta('55 days 00:25:26.250000'),\n",
       " 'Traffic/Street Lights - Street Light Repair': Timedelta('44 days 20:16:12.339622'),\n",
       " 'Traffic/Street Lights - Street Light Repair - National Grid-Owned': Timedelta('91 days 01:26:17.928286'),\n",
       " 'Traffic/Street Lights - Street Light Request': Timedelta('62 days 03:03:53.333333'),\n",
       " 'Traffic/Street Lights - Street Light Request - National Grid-Owned': Timedelta('56 days 11:02:48'),\n",
       " 'Traffic/Street Lights - Street light/pole request': Timedelta('79 days 12:42:43.333333'),\n",
       " 'Traffic/Street Lights - Traffic Light Not Working': Timedelta('10 days 20:58:25.600000'),\n",
       " 'Train Idling Compaint': Timedelta('24 days 08:38:40'),\n",
       " 'Trash - Bag Request': Timedelta('8 days 01:08:40'),\n",
       " 'Trash - Barrel Overflow': Timedelta('11 days 14:53:10.500000'),\n",
       " 'Trash - Enforcement': Timedelta('78 days 19:44:45.957446'),\n",
       " 'Trash - Illegal Dumping': Timedelta('16 days 01:23:58.270893'),\n",
       " 'Trash Cart Management': Timedelta('0 days 00:04:00'),\n",
       " 'Treasurer/Tax Collector': Timedelta('212 days 06:29:00'),\n",
       " 'Tree Issues - City Owned Tree Issue': Timedelta('48 days 18:05:04.241379'),\n",
       " 'Tree Issues - Private Tree Issue': Timedelta('17 days 07:23:20.769230'),\n",
       " 'Tree Issues - Stump Removal': Timedelta('111 days 05:18:20'),\n",
       " 'Tree Issues - Tree Fallen Across Road': Timedelta('64 days 17:34:48.709677'),\n",
       " 'Tree Issues - Tree Pruning/Trimming': Timedelta('53 days 20:10:47.819548'),\n",
       " 'Tree Issues - Tree Removal': Timedelta('51 days 02:31:55.217391'),\n",
       " 'Tree Issues - Tree Replacement': Timedelta('152 days 06:46:50.163934'),\n",
       " 'Tree Issues - tree limb pickup': Timedelta('30 days 16:00:32.115384'),\n",
       " 'Unsafe Structures': Timedelta('139 days 08:56:00'),\n",
       " 'Utilities Other ': NaT,\n",
       " 'Vacant Building': Timedelta('1 days 14:52:20'),\n",
       " 'Voicemails': Timedelta('1 days 06:08:02.823529'),\n",
       " 'Water - Discolored Water': Timedelta('166 days 04:47:00'),\n",
       " 'Water - Hydrant Issue': Timedelta('12 days 08:56:45'),\n",
       " 'Water - Leak': Timedelta('102 days 20:35:42.857142'),\n",
       " 'Water - No Water': Timedelta('149 days 23:10:10.909090'),\n",
       " 'Water - Pressure Problem': Timedelta('218 days 17:14:12'),\n",
       " 'Water - Quality Problem': Timedelta('108 days 01:29:20'),\n",
       " 'Water - Valve Problem': Timedelta('104 days 18:02:45'),\n",
       " 'Water - Watergate Valve': Timedelta('199 days 15:07:01.463414'),\n",
       " 'Water Billing': Timedelta('6 days 07:12:12'),\n",
       " 'Water/Wastewater': Timedelta('135 days 09:26:49.090909'),\n",
       " 'Wildlife': Timedelta('72 days 05:37:50'),\n",
       " 'Wire Issues': Timedelta('3 days 11:39:09.230769'),\n",
       " 'XMAS TREE - Missed pick up': Timedelta('2 days 01:20:10.666666'),\n",
       " 'Zoning': Timedelta('197 days 13:15:00')}"
      ]
     },
     "execution_count": 110,
     "metadata": {},
     "output_type": "execute_result"
    }
   ],
   "source": [
    "avgtime_type = {}\n",
    "for i,group in enumerate(gb_type_list):\n",
    "    temp = list(set(group['Request Type']))\n",
    "    avgtime_type[temp[0]] = group['Completion Time'].mean()\n",
    "avgtime_type"
   ]
  },
  {
   "cell_type": "markdown",
   "metadata": {},
   "source": [
    "#### Average time taken by City of Haverhill to close each request based on Department"
   ]
  },
  {
   "cell_type": "code",
   "execution_count": 111,
   "metadata": {},
   "outputs": [
    {
     "data": {
      "text/plain": [
       "{'311 Call Center': Timedelta('0 days 10:17:38.771705'),\n",
       " 'Animal control': Timedelta('34 days 06:25:58.518518'),\n",
       " 'Assessing': Timedelta('0 days 03:13:00'),\n",
       " 'City Clerk': Timedelta('0 days 00:03:36'),\n",
       " 'Fire': Timedelta('43 days 15:37:32.727272'),\n",
       " 'Fire & Police': Timedelta('10 days 04:17:44.150943'),\n",
       " 'Highway': Timedelta('34 days 19:34:38.989445'),\n",
       " 'Inspectional Services': Timedelta('92 days 01:02:44.796380'),\n",
       " 'Mayor': Timedelta('158 days 20:24:48'),\n",
       " 'Planning': Timedelta('99 days 11:06:00'),\n",
       " 'Police': Timedelta('41 days 00:02:17.821782'),\n",
       " 'Stormwater/Sewer': Timedelta('53 days 23:42:25.982142'),\n",
       " 'Treasurer': Timedelta('114 days 02:11:34.285714'),\n",
       " 'Water': Timedelta('153 days 17:22:43.140495'),\n",
       " 'Water Billing': Timedelta('6 days 07:12:12'),\n",
       " 'Water/Wastewater Department': Timedelta('67 days 04:48:15.555555')}"
      ]
     },
     "execution_count": 111,
     "metadata": {},
     "output_type": "execute_result"
    }
   ],
   "source": [
    "avgtime_type2 = {}\n",
    "for i,group in enumerate(gb_type_list2):\n",
    "    temp = list(set(group['Department']))\n",
    "#     print(temp[0])\n",
    "    avgtime_type2[temp[0]] = group['Completion Time'].mean()\n",
    "avgtime_type2"
   ]
  },
  {
   "cell_type": "markdown",
   "metadata": {},
   "source": [
    "#### Average time taken by City of Haverhill to close Information Inquiries"
   ]
  },
  {
   "cell_type": "code",
   "execution_count": 112,
   "metadata": {},
   "outputs": [
    {
     "data": {
      "text/plain": [
       "{'A - Information Assessor': Timedelta('0 days 00:44:09.617131'),\n",
       " 'A - Information Inspections': Timedelta('0 days 20:53:35.942028'),\n",
       " 'A - Information Other': Timedelta('0 days 13:00:35.054712'),\n",
       " 'A - Information Treasurer ': Timedelta('0 days 00:03:17.701965'),\n",
       " 'A - Transfer Assessor': Timedelta('0 days 00:10:52.052980'),\n",
       " 'A - Transfer Inspections': Timedelta('0 days 00:45:16.204020'),\n",
       " 'A - Transfer Other': Timedelta('0 days 01:28:49.766172'),\n",
       " 'A - Transfer Treasurer': Timedelta('0 days 01:07:02.878112')}"
      ]
     },
     "execution_count": 112,
     "metadata": {},
     "output_type": "execute_result"
    }
   ],
   "source": [
    "reqA_avgtime = {}\n",
    "for i,group in enumerate(reqA_type_list):\n",
    "    temp = list(set(group['Request Type']))\n",
    "#     print(temp[0])\n",
    "    reqA_avgtime[temp[0]] = group['Completion Time'].mean()\n",
    "reqA_avgtime"
   ]
  },
  {
   "cell_type": "markdown",
   "metadata": {},
   "source": [
    "#### Average time taken by City of Haverhill to close Request Types excluding Information Inquiries"
   ]
  },
  {
   "cell_type": "code",
   "execution_count": 113,
   "metadata": {},
   "outputs": [
    {
     "data": {
      "text/plain": [
       "{'Abandoned Vehicles': Timedelta('73 days 18:52:00'),\n",
       " 'Accumulation of Litter/Garbage': Timedelta('123 days 21:12:56.250000'),\n",
       " \"Assessor's\": Timedelta('0 days 03:13:00'),\n",
       " 'BULK ITEM - Missed pick up': Timedelta('1 days 13:29:29.347826'),\n",
       " 'Barking Dog': Timedelta('51 days 08:48:17.142857'),\n",
       " 'Cancelled Rental Carts': Timedelta('0 days 00:01:00'),\n",
       " 'Cart Repairs': Timedelta('0 days 04:17:18.461538'),\n",
       " 'Chickens': Timedelta('135 days 20:22:30'),\n",
       " 'City Clerk': Timedelta('0 days 00:03:36'),\n",
       " 'City Council': Timedelta('0 days 07:29:00'),\n",
       " 'Community Development': NaT,\n",
       " 'Compost Center': Timedelta('0 days 00:00:00'),\n",
       " 'Conservation/Wetlands': Timedelta('506 days 03:27:00'),\n",
       " 'Construction Issues - Street Closings': Timedelta('46 days 13:20:00'),\n",
       " 'Dead Animal on Street': Timedelta('31 days 01:13:15.338345'),\n",
       " 'Dog License': Timedelta('0 days 00:00:00'),\n",
       " 'Downed Electric Power Lines': Timedelta('8 days 11:56:42.580645'),\n",
       " 'Economic Development & Planning': Timedelta('1 days 08:57:00'),\n",
       " 'Emergency Management': Timedelta('37 days 23:17:00'),\n",
       " 'Engineering - Drainage Problem': Timedelta('27 days 00:22:15'),\n",
       " 'Engineering - Flooding': Timedelta('13 days 14:51:15'),\n",
       " 'Engineering - Sink Holes': Timedelta('294 days 08:38:32.347826'),\n",
       " 'Engineering - Trench': Timedelta('54 days 09:36:24'),\n",
       " 'Excessive Noise/Disturbances': Timedelta('48 days 16:32:00'),\n",
       " 'Failure to Display Permit/License': NaT,\n",
       " 'Fire Hydrant Issue': Timedelta('10 days 03:07:40'),\n",
       " 'Graffiti - City Property': Timedelta('89 days 21:09:20'),\n",
       " 'Graffiti - Private Property': Timedelta('245 days 04:15:13.333333'),\n",
       " 'HTA/contract question': Timedelta('66 days 15:47:51.428571'),\n",
       " 'Handicapped Parking Sign Request': Timedelta('31 days 19:00:52.500000'),\n",
       " 'Health & Inspections': Timedelta('99 days 23:34:32.727272'),\n",
       " 'Highway & Parks': Timedelta('129 days 15:35:53.181818'),\n",
       " 'Highway - Apron/Curb Repair': Timedelta('101 days 05:15:21.588785'),\n",
       " 'Highway - Bee Issue': Timedelta('138 days 21:58:17.142857'),\n",
       " 'Highway - Catch Basin Repair': Timedelta('54 days 12:19:59.736842'),\n",
       " 'Highway - City Benches': Timedelta('10 days 17:09:20'),\n",
       " 'Highway - City-Owned Parking Lot Appearance': Timedelta('89 days 11:07:15'),\n",
       " 'Highway - Crosswalk': Timedelta('122 days 20:16:19.130434'),\n",
       " 'Highway - Culvert': Timedelta('54 days 05:01:45'),\n",
       " 'Highway - Fence Issues': Timedelta('73 days 11:28:56'),\n",
       " 'Highway - Hazardous Metal': Timedelta('20 days 09:46:17.142857'),\n",
       " 'Highway - Landscape Issues': Timedelta('47 days 08:31:44.651162'),\n",
       " 'Highway - Line Painting': Timedelta('273 days 10:55:54'),\n",
       " 'Highway - Manhole Repair': Timedelta('38 days 22:57:31.046511'),\n",
       " 'Highway - Overgrown grass/weeds': Timedelta('71 days 13:36:52.646239'),\n",
       " 'Highway - Park & Vacant Lot Maintenance': Timedelta('28 days 10:25:12.558139'),\n",
       " 'Highway - Pothole': Timedelta('18 days 02:38:47.212449'),\n",
       " 'Highway - Sand Pile pick up': Timedelta('47 days 20:44:36.315789'),\n",
       " 'Highway - Sidewalk Issues': Timedelta('97 days 15:39:47.774294'),\n",
       " 'Highway - Sidewalk Request': Timedelta('261 days 17:57:57.446808'),\n",
       " 'Highway - Sign Removal': Timedelta('27 days 12:51:55.714285'),\n",
       " 'Highway - Sink Holes': Timedelta('11 days 11:14:27.272727'),\n",
       " 'Highway - Street Cleaning/Sweeping': Timedelta('80 days 05:59:25.524861'),\n",
       " 'Highway - Street Flooding': Timedelta('21 days 06:40:54.285714'),\n",
       " 'Highway - Street Paving Request': Timedelta('133 days 23:05:42.794117'),\n",
       " 'Highway - Street issues': Timedelta('58 days 18:55:31.406250'),\n",
       " 'Highway - Trench': Timedelta('12 days 08:16:53.333333'),\n",
       " 'Highway - trash/debris pickup': Timedelta('52 days 15:59:47.636363'),\n",
       " 'Highway- Sign Issue': Timedelta('5 days 18:46:07.058823'),\n",
       " 'Highway- Sign Request': Timedelta('5 days 18:36:42.127659'),\n",
       " 'Illegal Out-of-State License': Timedelta('31 days 13:19:00'),\n",
       " 'Illegal Parking': Timedelta('36 days 00:54:49.230769'),\n",
       " 'Illegal Posting': NaT,\n",
       " 'Illegal Work/No Visible Building Permit': Timedelta('130 days 20:43:45'),\n",
       " 'LAZ - Downtown Parking Issue': Timedelta('84 days 01:00:00'),\n",
       " 'LEAF missed pick up ': Timedelta('6 days 02:35:34.468085'),\n",
       " 'Litter Problems': Timedelta('22 days 05:22:07.741935'),\n",
       " \"Mayor's Office\": Timedelta('245 days 21:11:20'),\n",
       " 'Motorcycle Noise': Timedelta('15 days 05:25:00'),\n",
       " 'New Construction Request': Timedelta('0 days 00:00:25.263157'),\n",
       " 'New Toter Request': Timedelta('1 days 03:03:24.333333'),\n",
       " 'No Electricity': Timedelta('87 days 15:24:54.545454'),\n",
       " 'Noise/Disturbance': Timedelta('64 days 08:10:51.428571'),\n",
       " 'Odor Complaint': Timedelta('93 days 19:30:30'),\n",
       " 'Odor Issues': Timedelta('20 days 11:39:45'),\n",
       " 'Other: Inspection Requested': Timedelta('56 days 04:21:30'),\n",
       " 'Overgrown Grass/Weeds': Timedelta('154 days 02:00:20'),\n",
       " 'Parking Meter Malfunction': Timedelta('10 days 23:22:00'),\n",
       " 'Parking Ticket Issue': Timedelta('74 days 19:40:36'),\n",
       " 'Parks & Recreation': Timedelta('204 days 09:34:22.105263'),\n",
       " 'Pet Cruelty': Timedelta('0 days 00:38:30'),\n",
       " 'Police Department': Timedelta('27 days 23:44:56.470588'),\n",
       " 'Pool Issues': Timedelta('128 days 20:58:00'),\n",
       " 'Poor Property Maintenance': Timedelta('97 days 10:52:10'),\n",
       " 'Procurement/City Contracts': Timedelta('0 days 00:00:00'),\n",
       " 'Public Works Department': Timedelta('250 days 03:36:00'),\n",
       " 'Public property': NaT,\n",
       " 'Questions': Timedelta('2 days 15:21:16.666666'),\n",
       " 'RECYCLING - Missed Pick Up': Timedelta('2 days 17:00:40.782918'),\n",
       " 'Recycling Drop-off Center': Timedelta('0 days 00:31:40'),\n",
       " 'Residence': Timedelta('138 days 08:33:30'),\n",
       " 'Resident Feedback': Timedelta('8 days 09:22:00'),\n",
       " 'Residents': NaT,\n",
       " 'School Department': Timedelta('0 days 00:00:00'),\n",
       " 'Snow Removal Issues - Hydrant Issue': Timedelta('65 days 14:28:17.142857'),\n",
       " 'Snow Removal Issues - Ice buildup': Timedelta('8 days 07:36:56.666666'),\n",
       " 'Snow Removal Issues - Mailbox Damage': Timedelta('71 days 08:38:33.750000'),\n",
       " 'Snow Removal Issues - Private Property Damage': Timedelta('100 days 00:18:19.694656'),\n",
       " 'Snow Removal Issues - Replow Request': Timedelta('7 days 15:32:05.598885'),\n",
       " 'Snow Removal Issues - Sanding Request': Timedelta('3 days 09:11:40.765805'),\n",
       " 'Snow Removal Issues - Sidewalk Snow Removal': Timedelta('18 days 03:04:31.470588'),\n",
       " 'Snow Removal Issues - Snow Bank Removal': Timedelta('11 days 00:14:07.450980'),\n",
       " 'Snow Removal Issues - Street Unplowed': Timedelta('3 days 08:18:01.694915'),\n",
       " 'Snow Removal Issues - Vehicle Damage': Timedelta('0 days 00:00:00'),\n",
       " 'Snow Removal Miscellaneous': Timedelta('34 days 15:05:29.361702'),\n",
       " 'Speed limit sign - electronic': Timedelta('50 days 23:18:46.153846'),\n",
       " 'State Road Issue': Timedelta('30 days 08:56:23.333333'),\n",
       " 'Stormwater/Sewer - Catch Basin Cleaning': Timedelta('69 days 14:19:49.285714'),\n",
       " 'Stormwater/Sewer - Manhole issue': Timedelta('22 days 05:50:54.545454'),\n",
       " 'Stormwater/Sewer - Sewer Problem': Timedelta('48 days 23:27:13.333333'),\n",
       " 'Stray Animal': Timedelta('44 days 20:14:10'),\n",
       " 'Street Sign Issues - Stop Sign Missing/Damaged': Timedelta('43 days 06:22:30.476190'),\n",
       " 'Street Sign Issues - Street Signs Missing/Damaged': Timedelta('34 days 06:16:47.700000'),\n",
       " 'TRASH - Missed Pick Up': Timedelta('2 days 13:34:40.920863'),\n",
       " 'Tenant/Landlord Problems': NaT,\n",
       " 'Toter Issues': Timedelta('3 days 07:36:37.070063'),\n",
       " 'Traffic Light Camera': Timedelta('9 days 19:25:00'),\n",
       " 'Traffic/Street Lights - School crosswalk light': Timedelta('55 days 00:25:26.250000'),\n",
       " 'Traffic/Street Lights - Street Light Repair': Timedelta('44 days 20:16:12.339622'),\n",
       " 'Traffic/Street Lights - Street Light Repair - National Grid-Owned': Timedelta('91 days 01:26:17.928286'),\n",
       " 'Traffic/Street Lights - Street Light Request': Timedelta('62 days 03:03:53.333333'),\n",
       " 'Traffic/Street Lights - Street Light Request - National Grid-Owned': Timedelta('56 days 11:02:48'),\n",
       " 'Traffic/Street Lights - Street light/pole request': Timedelta('79 days 12:42:43.333333'),\n",
       " 'Traffic/Street Lights - Traffic Light Not Working': Timedelta('10 days 20:58:25.600000'),\n",
       " 'Train Idling Compaint': Timedelta('24 days 08:38:40'),\n",
       " 'Trash - Bag Request': Timedelta('8 days 01:08:40'),\n",
       " 'Trash - Barrel Overflow': Timedelta('11 days 14:53:10.500000'),\n",
       " 'Trash - Enforcement': Timedelta('78 days 19:44:45.957446'),\n",
       " 'Trash - Illegal Dumping': Timedelta('16 days 01:23:58.270893'),\n",
       " 'Trash Cart Management': Timedelta('0 days 00:04:00'),\n",
       " 'Treasurer/Tax Collector': Timedelta('212 days 06:29:00'),\n",
       " 'Tree Issues - City Owned Tree Issue': Timedelta('48 days 18:05:04.241379'),\n",
       " 'Tree Issues - Private Tree Issue': Timedelta('17 days 07:23:20.769230'),\n",
       " 'Tree Issues - Stump Removal': Timedelta('111 days 05:18:20'),\n",
       " 'Tree Issues - Tree Fallen Across Road': Timedelta('64 days 17:34:48.709677'),\n",
       " 'Tree Issues - Tree Pruning/Trimming': Timedelta('53 days 20:10:47.819548'),\n",
       " 'Tree Issues - Tree Removal': Timedelta('51 days 02:31:55.217391'),\n",
       " 'Tree Issues - Tree Replacement': Timedelta('152 days 06:46:50.163934'),\n",
       " 'Tree Issues - tree limb pickup': Timedelta('30 days 16:00:32.115384'),\n",
       " 'Unsafe Structures': Timedelta('139 days 08:56:00'),\n",
       " 'Utilities Other ': NaT,\n",
       " 'Vacant Building': Timedelta('1 days 14:52:20'),\n",
       " 'Voicemails': Timedelta('1 days 06:08:02.823529'),\n",
       " 'Water - Discolored Water': Timedelta('166 days 04:47:00'),\n",
       " 'Water - Hydrant Issue': Timedelta('12 days 08:56:45'),\n",
       " 'Water - Leak': Timedelta('102 days 20:35:42.857142'),\n",
       " 'Water - No Water': Timedelta('149 days 23:10:10.909090'),\n",
       " 'Water - Pressure Problem': Timedelta('218 days 17:14:12'),\n",
       " 'Water - Quality Problem': Timedelta('108 days 01:29:20'),\n",
       " 'Water - Valve Problem': Timedelta('104 days 18:02:45'),\n",
       " 'Water - Watergate Valve': Timedelta('199 days 15:07:01.463414'),\n",
       " 'Water Billing': Timedelta('6 days 07:12:12'),\n",
       " 'Water/Wastewater': Timedelta('135 days 09:26:49.090909'),\n",
       " 'Wildlife': Timedelta('72 days 05:37:50'),\n",
       " 'Wire Issues': Timedelta('3 days 11:39:09.230769'),\n",
       " 'XMAS TREE - Missed pick up': Timedelta('2 days 01:20:10.666666'),\n",
       " 'Zoning': Timedelta('197 days 13:15:00')}"
      ]
     },
     "execution_count": 113,
     "metadata": {},
     "output_type": "execute_result"
    }
   ],
   "source": [
    "reqnotA_avgtime = {}\n",
    "for i,group in enumerate(reqnotA_type_list):\n",
    "    temp = list(set(group['Request Type']))\n",
    "#     print(temp[0])\n",
    "    reqnotA_avgtime[temp[0]] = group['Completion Time'].mean()\n",
    "reqnotA_avgtime"
   ]
  },
  {
   "cell_type": "markdown",
   "metadata": {},
   "source": [
    "#### Median time taken by City of Haverhill to close each Request Type"
   ]
  },
  {
   "cell_type": "code",
   "execution_count": 114,
   "metadata": {},
   "outputs": [
    {
     "name": "stderr",
     "output_type": "stream",
     "text": [
      "/Users/sarthakarora/anaconda3/lib/python3.6/site-packages/numpy/lib/nanfunctions.py:1019: RuntimeWarning: Mean of empty slice\n",
      "  return np.nanmean(a, axis, out=out, keepdims=keepdims)\n"
     ]
    },
    {
     "data": {
      "text/plain": [
       "{'A - Information Assessor': Timedelta('0 days 00:00:00'),\n",
       " 'A - Information Inspections': Timedelta('0 days 00:00:00'),\n",
       " 'A - Information Other': Timedelta('0 days 00:00:00'),\n",
       " 'A - Information Treasurer ': Timedelta('0 days 00:00:00'),\n",
       " 'A - Transfer Assessor': Timedelta('0 days 00:00:00'),\n",
       " 'A - Transfer Inspections': Timedelta('0 days 00:00:00'),\n",
       " 'A - Transfer Other': Timedelta('0 days 00:00:00'),\n",
       " 'A - Transfer Treasurer': Timedelta('0 days 00:00:00'),\n",
       " 'Abandoned Vehicles': Timedelta('38 days 01:09:30'),\n",
       " 'Accumulation of Litter/Garbage': Timedelta('98 days 11:58:00'),\n",
       " \"Assessor's\": Timedelta('0 days 03:13:00'),\n",
       " 'BULK ITEM - Missed pick up': Timedelta('0 days 00:00:00'),\n",
       " 'Barking Dog': Timedelta('8 days 18:43:30'),\n",
       " 'Cancelled Rental Carts': Timedelta('0 days 00:01:00'),\n",
       " 'Cart Repairs': Timedelta('0 days 00:00:00'),\n",
       " 'Chickens': Timedelta('135 days 20:22:30'),\n",
       " 'City Clerk': Timedelta('0 days 00:00:00'),\n",
       " 'City Council': Timedelta('0 days 00:00:00'),\n",
       " 'Community Development': NaT,\n",
       " 'Compost Center': Timedelta('0 days 00:00:00'),\n",
       " 'Conservation/Wetlands': Timedelta('650 days 07:32:00'),\n",
       " 'Construction Issues - Street Closings': Timedelta('0 days 00:00:00'),\n",
       " 'Dead Animal on Street': Timedelta('7 days 13:46:00'),\n",
       " 'Dog License': Timedelta('0 days 00:00:00'),\n",
       " 'Downed Electric Power Lines': Timedelta('0 days 11:58:00'),\n",
       " 'Economic Development & Planning': Timedelta('1 days 08:57:00'),\n",
       " 'Emergency Management': Timedelta('37 days 23:17:00'),\n",
       " 'Engineering - Drainage Problem': Timedelta('1 days 11:25:30'),\n",
       " 'Engineering - Flooding': Timedelta('0 days 16:43:00'),\n",
       " 'Engineering - Sink Holes': Timedelta('232 days 16:20:00'),\n",
       " 'Engineering - Trench': Timedelta('7 days 01:37:00'),\n",
       " 'Excessive Noise/Disturbances': Timedelta('0 days 19:48:00'),\n",
       " 'Failure to Display Permit/License': NaT,\n",
       " 'Fire Hydrant Issue': Timedelta('2 days 17:49:00'),\n",
       " 'Graffiti - City Property': Timedelta('34 days 00:53:00'),\n",
       " 'Graffiti - Private Property': Timedelta('251 days 03:19:00'),\n",
       " 'HTA/contract question': Timedelta('74 days 22:25:00'),\n",
       " 'Handicapped Parking Sign Request': Timedelta('7 days 05:25:30'),\n",
       " 'Health & Inspections': Timedelta('34 days 03:24:00'),\n",
       " 'Highway & Parks': Timedelta('31 days 12:26:00'),\n",
       " 'Highway - Apron/Curb Repair': Timedelta('40 days 22:42:00'),\n",
       " 'Highway - Bee Issue': Timedelta('31 days 21:54:00'),\n",
       " 'Highway - Catch Basin Repair': Timedelta('14 days 04:06:30'),\n",
       " 'Highway - City Benches': Timedelta('0 days 00:00:00'),\n",
       " 'Highway - City-Owned Parking Lot Appearance': Timedelta('14 days 01:27:00'),\n",
       " 'Highway - Crosswalk': Timedelta('21 days 18:05:00'),\n",
       " 'Highway - Culvert': Timedelta('43 days 08:10:00'),\n",
       " 'Highway - Fence Issues': Timedelta('10 days 22:36:00'),\n",
       " 'Highway - Hazardous Metal': Timedelta('1 days 00:40:00'),\n",
       " 'Highway - Landscape Issues': Timedelta('14 days 01:47:00'),\n",
       " 'Highway - Line Painting': Timedelta('115 days 16:45:30'),\n",
       " 'Highway - Manhole Repair': Timedelta('9 days 23:03:30'),\n",
       " 'Highway - Overgrown grass/weeds': Timedelta('40 days 01:09:00'),\n",
       " 'Highway - Park & Vacant Lot Maintenance': Timedelta('3 days 22:27:00'),\n",
       " 'Highway - Pothole': Timedelta('5 days 23:22:30'),\n",
       " 'Highway - Sand Pile pick up': Timedelta('13 days 10:48:00'),\n",
       " 'Highway - Sidewalk Issues': Timedelta('28 days 20:17:00'),\n",
       " 'Highway - Sidewalk Request': Timedelta('133 days 00:56:30'),\n",
       " 'Highway - Sign Removal': Timedelta('13 days 13:47:30'),\n",
       " 'Highway - Sink Holes': Timedelta('6 days 04:18:00'),\n",
       " 'Highway - Street Cleaning/Sweeping': Timedelta('10 days 14:56:00'),\n",
       " 'Highway - Street Flooding': Timedelta('9 days 23:03:00'),\n",
       " 'Highway - Street Paving Request': Timedelta('7 days 12:03:00'),\n",
       " 'Highway - Street issues': Timedelta('9 days 22:06:30'),\n",
       " 'Highway - Trench': Timedelta('1 days 21:12:00'),\n",
       " 'Highway - trash/debris pickup': Timedelta('7 days 23:01:30'),\n",
       " 'Highway- Sign Issue': Timedelta('5 days 02:53:00'),\n",
       " 'Highway- Sign Request': Timedelta('3 days 18:25:00'),\n",
       " 'Illegal Out-of-State License': Timedelta('0 days 21:23:00'),\n",
       " 'Illegal Parking': Timedelta('14 days 06:54:00'),\n",
       " 'Illegal Posting': NaT,\n",
       " 'Illegal Work/No Visible Building Permit': Timedelta('105 days 09:10:00'),\n",
       " 'LAZ - Downtown Parking Issue': Timedelta('88 days 05:40:00'),\n",
       " 'LEAF missed pick up ': Timedelta('1 days 04:59:00'),\n",
       " 'Litter Problems': Timedelta('5 days 21:43:00'),\n",
       " \"Mayor's Office\": Timedelta('203 days 19:30:00'),\n",
       " 'Motorcycle Noise': Timedelta('14 days 02:22:30'),\n",
       " 'New Construction Request': Timedelta('0 days 00:00:00'),\n",
       " 'New Toter Request': Timedelta('0 days 00:00:00'),\n",
       " 'No Electricity': Timedelta('2 days 14:17:00'),\n",
       " 'Noise/Disturbance': Timedelta('32 days 18:52:00'),\n",
       " 'Odor Complaint': Timedelta('10 days 00:13:00'),\n",
       " 'Odor Issues': Timedelta('13 days 19:08:30'),\n",
       " 'Other: Inspection Requested': Timedelta('17 days 02:33:00'),\n",
       " 'Overgrown Grass/Weeds': Timedelta('249 days 21:12:00'),\n",
       " 'Parking Meter Malfunction': Timedelta('0 days 21:19:00'),\n",
       " 'Parking Ticket Issue': Timedelta('11 days 22:51:00'),\n",
       " 'Parks & Recreation': Timedelta('3 days 04:23:00'),\n",
       " 'Pet Cruelty': Timedelta('0 days 00:38:30'),\n",
       " 'Police Department': Timedelta('4 days 12:37:00'),\n",
       " 'Pool Issues': Timedelta('128 days 20:58:00'),\n",
       " 'Poor Property Maintenance': Timedelta('42 days 09:05:30'),\n",
       " 'Procurement/City Contracts': Timedelta('0 days 00:00:00'),\n",
       " 'Public Works Department': Timedelta('104 days 15:02:00'),\n",
       " 'Public property': NaT,\n",
       " 'Questions': Timedelta('0 days 00:20:00'),\n",
       " 'RECYCLING - Missed Pick Up': Timedelta('0 days 01:37:00'),\n",
       " 'Recycling Drop-off Center': Timedelta('0 days 00:24:00'),\n",
       " 'Residence': Timedelta('82 days 04:05:00'),\n",
       " 'Resident Feedback': Timedelta('7 days 17:39:00'),\n",
       " 'Residents': NaT,\n",
       " 'School Department': Timedelta('0 days 00:00:00'),\n",
       " 'Snow Removal Issues - Hydrant Issue': Timedelta('4 days 20:11:00'),\n",
       " 'Snow Removal Issues - Ice buildup': Timedelta('2 days 01:35:00'),\n",
       " 'Snow Removal Issues - Mailbox Damage': Timedelta('22 days 00:09:00'),\n",
       " 'Snow Removal Issues - Private Property Damage': Timedelta('54 days 01:21:00'),\n",
       " 'Snow Removal Issues - Replow Request': Timedelta('0 days 04:44:00'),\n",
       " 'Snow Removal Issues - Sanding Request': Timedelta('0 days 01:47:00'),\n",
       " 'Snow Removal Issues - Sidewalk Snow Removal': Timedelta('4 days 19:38:30'),\n",
       " 'Snow Removal Issues - Snow Bank Removal': Timedelta('5 days 01:46:00'),\n",
       " 'Snow Removal Issues - Street Unplowed': Timedelta('0 days 01:50:00'),\n",
       " 'Snow Removal Issues - Vehicle Damage': Timedelta('0 days 00:00:00'),\n",
       " 'Snow Removal Miscellaneous': Timedelta('4 days 02:40:00'),\n",
       " 'Speed limit sign - electronic': Timedelta('18 days 12:21:30'),\n",
       " 'State Road Issue': Timedelta('0 days 01:12:30'),\n",
       " 'Stormwater/Sewer - Catch Basin Cleaning': Timedelta('15 days 12:50:30'),\n",
       " 'Stormwater/Sewer - Manhole issue': Timedelta('4 days 01:57:00'),\n",
       " 'Stormwater/Sewer - Sewer Problem': Timedelta('1 days 04:10:30'),\n",
       " 'Stray Animal': Timedelta('3 days 11:44:30'),\n",
       " 'Street Sign Issues - Stop Sign Missing/Damaged': Timedelta('9 days 03:55:00'),\n",
       " 'Street Sign Issues - Street Signs Missing/Damaged': Timedelta('9 days 20:22:30'),\n",
       " 'TRASH - Missed Pick Up': Timedelta('0 days 03:15:00'),\n",
       " 'Tenant/Landlord Problems': NaT,\n",
       " 'Toter Issues': Timedelta('0 days 00:00:00'),\n",
       " 'Traffic Light Camera': Timedelta('9 days 19:25:00'),\n",
       " 'Traffic/Street Lights - School crosswalk light': Timedelta('15 days 08:33:30'),\n",
       " 'Traffic/Street Lights - Street Light Repair': Timedelta('13 days 21:42:00'),\n",
       " 'Traffic/Street Lights - Street Light Repair - National Grid-Owned': Timedelta('0 days 23:28:00'),\n",
       " 'Traffic/Street Lights - Street Light Request': Timedelta('15 days 08:36:00'),\n",
       " 'Traffic/Street Lights - Street Light Request - National Grid-Owned': Timedelta('13 days 11:00:30'),\n",
       " 'Traffic/Street Lights - Street light/pole request': Timedelta('36 days 10:51:00'),\n",
       " 'Traffic/Street Lights - Traffic Light Not Working': Timedelta('4 days 00:41:00'),\n",
       " 'Train Idling Compaint': Timedelta('21 days 02:18:00'),\n",
       " 'Trash - Bag Request': Timedelta('4 days 02:08:00'),\n",
       " 'Trash - Barrel Overflow': Timedelta('1 days 23:33:30'),\n",
       " 'Trash - Enforcement': Timedelta('43 days 18:46:00'),\n",
       " 'Trash - Illegal Dumping': Timedelta('4 days 00:46:00'),\n",
       " 'Trash Cart Management': Timedelta('0 days 00:04:00'),\n",
       " 'Treasurer/Tax Collector': Timedelta('212 days 06:29:00'),\n",
       " 'Tree Issues - City Owned Tree Issue': Timedelta('14 days 22:34:00'),\n",
       " 'Tree Issues - Private Tree Issue': Timedelta('6 days 15:26:00'),\n",
       " 'Tree Issues - Stump Removal': Timedelta('82 days 10:03:00'),\n",
       " 'Tree Issues - Tree Fallen Across Road': Timedelta('10 days 00:27:00'),\n",
       " 'Tree Issues - Tree Pruning/Trimming': Timedelta('17 days 08:23:30'),\n",
       " 'Tree Issues - Tree Removal': Timedelta('14 days 13:23:30'),\n",
       " 'Tree Issues - Tree Replacement': Timedelta('95 days 02:55:00'),\n",
       " 'Tree Issues - tree limb pickup': Timedelta('10 days 04:22:00'),\n",
       " 'Unsafe Structures': Timedelta('139 days 08:56:00'),\n",
       " 'Utilities Other ': NaT,\n",
       " 'Vacant Building': Timedelta('0 days 00:00:00'),\n",
       " 'Voicemails': Timedelta('0 days 02:32:30'),\n",
       " 'Water - Discolored Water': Timedelta('1 days 00:25:00'),\n",
       " 'Water - Hydrant Issue': Timedelta('5 days 13:24:00'),\n",
       " 'Water - Leak': Timedelta('2 days 14:15:00'),\n",
       " 'Water - No Water': Timedelta('104 days 03:38:00'),\n",
       " 'Water - Pressure Problem': Timedelta('112 days 11:39:00'),\n",
       " 'Water - Quality Problem': Timedelta('0 days 00:00:00'),\n",
       " 'Water - Valve Problem': Timedelta('64 days 15:59:30'),\n",
       " 'Water - Watergate Valve': Timedelta('173 days 02:47:00'),\n",
       " 'Water Billing': Timedelta('0 days 12:34:30'),\n",
       " 'Water/Wastewater': Timedelta('2 days 17:49:00'),\n",
       " 'Wildlife': Timedelta('25 days 23:12:30'),\n",
       " 'Wire Issues': Timedelta('0 days 02:22:00'),\n",
       " 'XMAS TREE - Missed pick up': Timedelta('0 days 17:18:00'),\n",
       " 'Zoning': Timedelta('197 days 13:15:00')}"
      ]
     },
     "execution_count": 114,
     "metadata": {},
     "output_type": "execute_result"
    }
   ],
   "source": [
    "mediantime_type = {}\n",
    "for i,group in enumerate(gb_type_list):\n",
    "    temp = list(set(group['Request Type']))\n",
    "    mediantime_type[temp[0]] = group['Completion Time'].median()\n",
    "mediantime_type"
   ]
  },
  {
   "cell_type": "markdown",
   "metadata": {},
   "source": [
    "#### Median time taken by City of Haverhill to close each request based on department"
   ]
  },
  {
   "cell_type": "code",
   "execution_count": 115,
   "metadata": {},
   "outputs": [
    {
     "data": {
      "text/plain": [
       "{'311 Call Center': Timedelta('0 days 00:00:00'),\n",
       " 'Animal control': Timedelta('7 days 00:12:30'),\n",
       " 'Assessing': Timedelta('0 days 03:13:00'),\n",
       " 'City Clerk': Timedelta('0 days 00:00:00'),\n",
       " 'Fire': Timedelta('9 days 19:25:00'),\n",
       " 'Fire & Police': Timedelta('3 days 09:49:30'),\n",
       " 'Highway': Timedelta('4 days 05:40:00'),\n",
       " 'Inspectional Services': Timedelta('33 days 10:30:00'),\n",
       " 'Mayor': Timedelta('35 days 03:22:30'),\n",
       " 'Planning': Timedelta('42 days 12:22:00'),\n",
       " 'Police': Timedelta('13 days 17:21:00'),\n",
       " 'Stormwater/Sewer': Timedelta('6 days 23:27:00'),\n",
       " 'Treasurer': Timedelta('51 days 14:57:00'),\n",
       " 'Water': Timedelta('49 days 00:45:00'),\n",
       " 'Water Billing': Timedelta('0 days 12:34:30'),\n",
       " 'Water/Wastewater Department': Timedelta('1 days 05:30:00')}"
      ]
     },
     "execution_count": 115,
     "metadata": {},
     "output_type": "execute_result"
    }
   ],
   "source": [
    "mediantime_type2 = {}\n",
    "for i,group in enumerate(gb_type_list2):\n",
    "    temp = list(set(group['Department']))\n",
    "    mediantime_type2[temp[0]] = group['Completion Time'].median()\n",
    "mediantime_type2"
   ]
  },
  {
   "cell_type": "markdown",
   "metadata": {},
   "source": [
    "#### Median time taken by City of Haverhill to close Information Inquiry requests"
   ]
  },
  {
   "cell_type": "code",
   "execution_count": 116,
   "metadata": {},
   "outputs": [
    {
     "data": {
      "text/plain": [
       "{'A - Information Assessor': Timedelta('0 days 00:00:00'),\n",
       " 'A - Information Inspections': Timedelta('0 days 00:00:00'),\n",
       " 'A - Information Other': Timedelta('0 days 00:00:00'),\n",
       " 'A - Information Treasurer ': Timedelta('0 days 00:00:00'),\n",
       " 'A - Transfer Assessor': Timedelta('0 days 00:00:00'),\n",
       " 'A - Transfer Inspections': Timedelta('0 days 00:00:00'),\n",
       " 'A - Transfer Other': Timedelta('0 days 00:00:00'),\n",
       " 'A - Transfer Treasurer': Timedelta('0 days 00:00:00')}"
      ]
     },
     "execution_count": 116,
     "metadata": {},
     "output_type": "execute_result"
    }
   ],
   "source": [
    "reqAmediantime = {}\n",
    "for i,group in enumerate(reqA_type_list):\n",
    "    temp = list(set(group['Request Type']))\n",
    "    reqAmediantime[temp[0]] = group['Completion Time'].median()\n",
    "reqAmediantime"
   ]
  },
  {
   "cell_type": "markdown",
   "metadata": {},
   "source": [
    "#### Median time taken by City of Haverhill to close each Request Types excluding Information Inquiries"
   ]
  },
  {
   "cell_type": "code",
   "execution_count": 117,
   "metadata": {},
   "outputs": [
    {
     "data": {
      "text/plain": [
       "{'Abandoned Vehicles': Timedelta('38 days 01:09:30'),\n",
       " 'Accumulation of Litter/Garbage': Timedelta('98 days 11:58:00'),\n",
       " \"Assessor's\": Timedelta('0 days 03:13:00'),\n",
       " 'BULK ITEM - Missed pick up': Timedelta('0 days 00:00:00'),\n",
       " 'Barking Dog': Timedelta('8 days 18:43:30'),\n",
       " 'Cancelled Rental Carts': Timedelta('0 days 00:01:00'),\n",
       " 'Cart Repairs': Timedelta('0 days 00:00:00'),\n",
       " 'Chickens': Timedelta('135 days 20:22:30'),\n",
       " 'City Clerk': Timedelta('0 days 00:00:00'),\n",
       " 'City Council': Timedelta('0 days 00:00:00'),\n",
       " 'Community Development': NaT,\n",
       " 'Compost Center': Timedelta('0 days 00:00:00'),\n",
       " 'Conservation/Wetlands': Timedelta('650 days 07:32:00'),\n",
       " 'Construction Issues - Street Closings': Timedelta('0 days 00:00:00'),\n",
       " 'Dead Animal on Street': Timedelta('7 days 13:46:00'),\n",
       " 'Dog License': Timedelta('0 days 00:00:00'),\n",
       " 'Downed Electric Power Lines': Timedelta('0 days 11:58:00'),\n",
       " 'Economic Development & Planning': Timedelta('1 days 08:57:00'),\n",
       " 'Emergency Management': Timedelta('37 days 23:17:00'),\n",
       " 'Engineering - Drainage Problem': Timedelta('1 days 11:25:30'),\n",
       " 'Engineering - Flooding': Timedelta('0 days 16:43:00'),\n",
       " 'Engineering - Sink Holes': Timedelta('232 days 16:20:00'),\n",
       " 'Engineering - Trench': Timedelta('7 days 01:37:00'),\n",
       " 'Excessive Noise/Disturbances': Timedelta('0 days 19:48:00'),\n",
       " 'Failure to Display Permit/License': NaT,\n",
       " 'Fire Hydrant Issue': Timedelta('2 days 17:49:00'),\n",
       " 'Graffiti - City Property': Timedelta('34 days 00:53:00'),\n",
       " 'Graffiti - Private Property': Timedelta('251 days 03:19:00'),\n",
       " 'HTA/contract question': Timedelta('74 days 22:25:00'),\n",
       " 'Handicapped Parking Sign Request': Timedelta('7 days 05:25:30'),\n",
       " 'Health & Inspections': Timedelta('34 days 03:24:00'),\n",
       " 'Highway & Parks': Timedelta('31 days 12:26:00'),\n",
       " 'Highway - Apron/Curb Repair': Timedelta('40 days 22:42:00'),\n",
       " 'Highway - Bee Issue': Timedelta('31 days 21:54:00'),\n",
       " 'Highway - Catch Basin Repair': Timedelta('14 days 04:06:30'),\n",
       " 'Highway - City Benches': Timedelta('0 days 00:00:00'),\n",
       " 'Highway - City-Owned Parking Lot Appearance': Timedelta('14 days 01:27:00'),\n",
       " 'Highway - Crosswalk': Timedelta('21 days 18:05:00'),\n",
       " 'Highway - Culvert': Timedelta('43 days 08:10:00'),\n",
       " 'Highway - Fence Issues': Timedelta('10 days 22:36:00'),\n",
       " 'Highway - Hazardous Metal': Timedelta('1 days 00:40:00'),\n",
       " 'Highway - Landscape Issues': Timedelta('14 days 01:47:00'),\n",
       " 'Highway - Line Painting': Timedelta('115 days 16:45:30'),\n",
       " 'Highway - Manhole Repair': Timedelta('9 days 23:03:30'),\n",
       " 'Highway - Overgrown grass/weeds': Timedelta('40 days 01:09:00'),\n",
       " 'Highway - Park & Vacant Lot Maintenance': Timedelta('3 days 22:27:00'),\n",
       " 'Highway - Pothole': Timedelta('5 days 23:22:30'),\n",
       " 'Highway - Sand Pile pick up': Timedelta('13 days 10:48:00'),\n",
       " 'Highway - Sidewalk Issues': Timedelta('28 days 20:17:00'),\n",
       " 'Highway - Sidewalk Request': Timedelta('133 days 00:56:30'),\n",
       " 'Highway - Sign Removal': Timedelta('13 days 13:47:30'),\n",
       " 'Highway - Sink Holes': Timedelta('6 days 04:18:00'),\n",
       " 'Highway - Street Cleaning/Sweeping': Timedelta('10 days 14:56:00'),\n",
       " 'Highway - Street Flooding': Timedelta('9 days 23:03:00'),\n",
       " 'Highway - Street Paving Request': Timedelta('7 days 12:03:00'),\n",
       " 'Highway - Street issues': Timedelta('9 days 22:06:30'),\n",
       " 'Highway - Trench': Timedelta('1 days 21:12:00'),\n",
       " 'Highway - trash/debris pickup': Timedelta('7 days 23:01:30'),\n",
       " 'Highway- Sign Issue': Timedelta('5 days 02:53:00'),\n",
       " 'Highway- Sign Request': Timedelta('3 days 18:25:00'),\n",
       " 'Illegal Out-of-State License': Timedelta('0 days 21:23:00'),\n",
       " 'Illegal Parking': Timedelta('14 days 06:54:00'),\n",
       " 'Illegal Posting': NaT,\n",
       " 'Illegal Work/No Visible Building Permit': Timedelta('105 days 09:10:00'),\n",
       " 'LAZ - Downtown Parking Issue': Timedelta('88 days 05:40:00'),\n",
       " 'LEAF missed pick up ': Timedelta('1 days 04:59:00'),\n",
       " 'Litter Problems': Timedelta('5 days 21:43:00'),\n",
       " \"Mayor's Office\": Timedelta('203 days 19:30:00'),\n",
       " 'Motorcycle Noise': Timedelta('14 days 02:22:30'),\n",
       " 'New Construction Request': Timedelta('0 days 00:00:00'),\n",
       " 'New Toter Request': Timedelta('0 days 00:00:00'),\n",
       " 'No Electricity': Timedelta('2 days 14:17:00'),\n",
       " 'Noise/Disturbance': Timedelta('32 days 18:52:00'),\n",
       " 'Odor Complaint': Timedelta('10 days 00:13:00'),\n",
       " 'Odor Issues': Timedelta('13 days 19:08:30'),\n",
       " 'Other: Inspection Requested': Timedelta('17 days 02:33:00'),\n",
       " 'Overgrown Grass/Weeds': Timedelta('249 days 21:12:00'),\n",
       " 'Parking Meter Malfunction': Timedelta('0 days 21:19:00'),\n",
       " 'Parking Ticket Issue': Timedelta('11 days 22:51:00'),\n",
       " 'Parks & Recreation': Timedelta('3 days 04:23:00'),\n",
       " 'Pet Cruelty': Timedelta('0 days 00:38:30'),\n",
       " 'Police Department': Timedelta('4 days 12:37:00'),\n",
       " 'Pool Issues': Timedelta('128 days 20:58:00'),\n",
       " 'Poor Property Maintenance': Timedelta('42 days 09:05:30'),\n",
       " 'Procurement/City Contracts': Timedelta('0 days 00:00:00'),\n",
       " 'Public Works Department': Timedelta('104 days 15:02:00'),\n",
       " 'Public property': NaT,\n",
       " 'Questions': Timedelta('0 days 00:20:00'),\n",
       " 'RECYCLING - Missed Pick Up': Timedelta('0 days 01:37:00'),\n",
       " 'Recycling Drop-off Center': Timedelta('0 days 00:24:00'),\n",
       " 'Residence': Timedelta('82 days 04:05:00'),\n",
       " 'Resident Feedback': Timedelta('7 days 17:39:00'),\n",
       " 'Residents': NaT,\n",
       " 'School Department': Timedelta('0 days 00:00:00'),\n",
       " 'Snow Removal Issues - Hydrant Issue': Timedelta('4 days 20:11:00'),\n",
       " 'Snow Removal Issues - Ice buildup': Timedelta('2 days 01:35:00'),\n",
       " 'Snow Removal Issues - Mailbox Damage': Timedelta('22 days 00:09:00'),\n",
       " 'Snow Removal Issues - Private Property Damage': Timedelta('54 days 01:21:00'),\n",
       " 'Snow Removal Issues - Replow Request': Timedelta('0 days 04:44:00'),\n",
       " 'Snow Removal Issues - Sanding Request': Timedelta('0 days 01:47:00'),\n",
       " 'Snow Removal Issues - Sidewalk Snow Removal': Timedelta('4 days 19:38:30'),\n",
       " 'Snow Removal Issues - Snow Bank Removal': Timedelta('5 days 01:46:00'),\n",
       " 'Snow Removal Issues - Street Unplowed': Timedelta('0 days 01:50:00'),\n",
       " 'Snow Removal Issues - Vehicle Damage': Timedelta('0 days 00:00:00'),\n",
       " 'Snow Removal Miscellaneous': Timedelta('4 days 02:40:00'),\n",
       " 'Speed limit sign - electronic': Timedelta('18 days 12:21:30'),\n",
       " 'State Road Issue': Timedelta('0 days 01:12:30'),\n",
       " 'Stormwater/Sewer - Catch Basin Cleaning': Timedelta('15 days 12:50:30'),\n",
       " 'Stormwater/Sewer - Manhole issue': Timedelta('4 days 01:57:00'),\n",
       " 'Stormwater/Sewer - Sewer Problem': Timedelta('1 days 04:10:30'),\n",
       " 'Stray Animal': Timedelta('3 days 11:44:30'),\n",
       " 'Street Sign Issues - Stop Sign Missing/Damaged': Timedelta('9 days 03:55:00'),\n",
       " 'Street Sign Issues - Street Signs Missing/Damaged': Timedelta('9 days 20:22:30'),\n",
       " 'TRASH - Missed Pick Up': Timedelta('0 days 03:15:00'),\n",
       " 'Tenant/Landlord Problems': NaT,\n",
       " 'Toter Issues': Timedelta('0 days 00:00:00'),\n",
       " 'Traffic Light Camera': Timedelta('9 days 19:25:00'),\n",
       " 'Traffic/Street Lights - School crosswalk light': Timedelta('15 days 08:33:30'),\n",
       " 'Traffic/Street Lights - Street Light Repair': Timedelta('13 days 21:42:00'),\n",
       " 'Traffic/Street Lights - Street Light Repair - National Grid-Owned': Timedelta('0 days 23:28:00'),\n",
       " 'Traffic/Street Lights - Street Light Request': Timedelta('15 days 08:36:00'),\n",
       " 'Traffic/Street Lights - Street Light Request - National Grid-Owned': Timedelta('13 days 11:00:30'),\n",
       " 'Traffic/Street Lights - Street light/pole request': Timedelta('36 days 10:51:00'),\n",
       " 'Traffic/Street Lights - Traffic Light Not Working': Timedelta('4 days 00:41:00'),\n",
       " 'Train Idling Compaint': Timedelta('21 days 02:18:00'),\n",
       " 'Trash - Bag Request': Timedelta('4 days 02:08:00'),\n",
       " 'Trash - Barrel Overflow': Timedelta('1 days 23:33:30'),\n",
       " 'Trash - Enforcement': Timedelta('43 days 18:46:00'),\n",
       " 'Trash - Illegal Dumping': Timedelta('4 days 00:46:00'),\n",
       " 'Trash Cart Management': Timedelta('0 days 00:04:00'),\n",
       " 'Treasurer/Tax Collector': Timedelta('212 days 06:29:00'),\n",
       " 'Tree Issues - City Owned Tree Issue': Timedelta('14 days 22:34:00'),\n",
       " 'Tree Issues - Private Tree Issue': Timedelta('6 days 15:26:00'),\n",
       " 'Tree Issues - Stump Removal': Timedelta('82 days 10:03:00'),\n",
       " 'Tree Issues - Tree Fallen Across Road': Timedelta('10 days 00:27:00'),\n",
       " 'Tree Issues - Tree Pruning/Trimming': Timedelta('17 days 08:23:30'),\n",
       " 'Tree Issues - Tree Removal': Timedelta('14 days 13:23:30'),\n",
       " 'Tree Issues - Tree Replacement': Timedelta('95 days 02:55:00'),\n",
       " 'Tree Issues - tree limb pickup': Timedelta('10 days 04:22:00'),\n",
       " 'Unsafe Structures': Timedelta('139 days 08:56:00'),\n",
       " 'Utilities Other ': NaT,\n",
       " 'Vacant Building': Timedelta('0 days 00:00:00'),\n",
       " 'Voicemails': Timedelta('0 days 02:32:30'),\n",
       " 'Water - Discolored Water': Timedelta('1 days 00:25:00'),\n",
       " 'Water - Hydrant Issue': Timedelta('5 days 13:24:00'),\n",
       " 'Water - Leak': Timedelta('2 days 14:15:00'),\n",
       " 'Water - No Water': Timedelta('104 days 03:38:00'),\n",
       " 'Water - Pressure Problem': Timedelta('112 days 11:39:00'),\n",
       " 'Water - Quality Problem': Timedelta('0 days 00:00:00'),\n",
       " 'Water - Valve Problem': Timedelta('64 days 15:59:30'),\n",
       " 'Water - Watergate Valve': Timedelta('173 days 02:47:00'),\n",
       " 'Water Billing': Timedelta('0 days 12:34:30'),\n",
       " 'Water/Wastewater': Timedelta('2 days 17:49:00'),\n",
       " 'Wildlife': Timedelta('25 days 23:12:30'),\n",
       " 'Wire Issues': Timedelta('0 days 02:22:00'),\n",
       " 'XMAS TREE - Missed pick up': Timedelta('0 days 17:18:00'),\n",
       " 'Zoning': Timedelta('197 days 13:15:00')}"
      ]
     },
     "execution_count": 117,
     "metadata": {},
     "output_type": "execute_result"
    }
   ],
   "source": [
    "reqnotAmediantime = {}\n",
    "for i,group in enumerate(reqnotA_type_list):\n",
    "    temp = list(set(group['Request Type']))\n",
    "    reqnotAmediantime[temp[0]] = group['Completion Time'].median()\n",
    "reqnotAmediantime"
   ]
  },
  {
   "cell_type": "markdown",
   "metadata": {},
   "source": [
    "#### Filtering the average times to close the top 20 request types"
   ]
  },
  {
   "cell_type": "code",
   "execution_count": 118,
   "metadata": {
    "scrolled": true
   },
   "outputs": [
    {
     "data": {
      "text/plain": [
       "[Timedelta('0 days 13:00:35.054712'),\n",
       " Timedelta('0 days 00:45:16.204020'),\n",
       " Timedelta('0 days 01:28:49.766172'),\n",
       " Timedelta('0 days 01:07:02.878112'),\n",
       " Timedelta('0 days 00:03:17.701965'),\n",
       " Timedelta('0 days 00:10:52.052980'),\n",
       " Timedelta('18 days 02:38:47.212449'),\n",
       " Timedelta('0 days 00:44:09.617131'),\n",
       " Timedelta('3 days 09:11:40.765805'),\n",
       " Timedelta('48 days 18:05:04.241379'),\n",
       " Timedelta('7 days 15:32:05.598885'),\n",
       " Timedelta('2 days 13:34:40.920863'),\n",
       " Timedelta('44 days 20:16:12.339622'),\n",
       " Timedelta('0 days 20:53:35.942028'),\n",
       " Timedelta('97 days 15:39:47.774294'),\n",
       " Timedelta('58 days 18:55:31.406250'),\n",
       " Timedelta('53 days 20:10:47.819548'),\n",
       " Timedelta('34 days 06:16:47.700000'),\n",
       " Timedelta('71 days 13:36:52.646239'),\n",
       " Timedelta('30 days 16:00:32.115384')]"
      ]
     },
     "execution_count": 118,
     "metadata": {},
     "output_type": "execute_result"
    }
   ],
   "source": [
    "top20avgtimes = []\n",
    "for i,name in enumerate(top20names):\n",
    "#     print(name)\n",
    "#     print(avgtime_type.keys())\n",
    "    try:\n",
    "        top20avgtimes.append(avgtime_type[name])\n",
    "    except:\n",
    "        if name == 'A - Information Treasurer':\n",
    "            top20avgtimes.append(avgtime_type[name+\" \"])\n",
    "    \n",
    "top20avgtimes       "
   ]
  },
  {
   "cell_type": "markdown",
   "metadata": {},
   "source": [
    "#### Filtering the average times to close the top 30 request types excluding Information Inquiries"
   ]
  },
  {
   "cell_type": "code",
   "execution_count": 119,
   "metadata": {},
   "outputs": [
    {
     "data": {
      "text/plain": [
       "[Timedelta('18 days 02:38:47.212449'),\n",
       " Timedelta('3 days 09:11:40.765805'),\n",
       " Timedelta('48 days 18:05:04.241379'),\n",
       " Timedelta('7 days 15:32:05.598885'),\n",
       " Timedelta('2 days 13:34:40.920863'),\n",
       " Timedelta('44 days 20:16:12.339622'),\n",
       " Timedelta('97 days 15:39:47.774294'),\n",
       " Timedelta('58 days 18:55:31.406250'),\n",
       " Timedelta('53 days 20:10:47.819548'),\n",
       " Timedelta('34 days 06:16:47.700000'),\n",
       " Timedelta('71 days 13:36:52.646239'),\n",
       " Timedelta('30 days 16:00:32.115384'),\n",
       " Timedelta('3 days 08:18:01.694915'),\n",
       " Timedelta('16 days 01:23:58.270893'),\n",
       " Timedelta('52 days 15:59:47.636363'),\n",
       " Timedelta('1 days 06:08:02.823529'),\n",
       " Timedelta('2 days 17:00:40.782918'),\n",
       " Timedelta('91 days 01:26:17.928286'),\n",
       " Timedelta('54 days 12:19:59.736842'),\n",
       " Timedelta('101 days 05:15:21.588785'),\n",
       " Timedelta('69 days 14:19:49.285714'),\n",
       " Timedelta('294 days 08:38:32.347826'),\n",
       " Timedelta('51 days 02:31:55.217391'),\n",
       " Timedelta('38 days 22:57:31.046511'),\n",
       " Timedelta('18 days 03:04:31.470588'),\n",
       " Timedelta('133 days 23:05:42.794117'),\n",
       " Timedelta('80 days 05:59:25.524861'),\n",
       " Timedelta('64 days 17:34:48.709677'),\n",
       " Timedelta('1 days 03:03:24.333333'),\n",
       " Timedelta('3 days 07:36:37.070063')]"
      ]
     },
     "execution_count": 119,
     "metadata": {},
     "output_type": "execute_result"
    }
   ],
   "source": [
    "reqnotAtop30avgtimes = []\n",
    "for i,name in enumerate(reqnotAtop30):\n",
    "#     print(name)\n",
    "#     print(avgtime_type.keys())\n",
    "    reqnotAtop30avgtimes.append(reqnotA_avgtime[name])\n",
    "    \n",
    "reqnotAtop30avgtimes       "
   ]
  },
  {
   "cell_type": "code",
   "execution_count": 120,
   "metadata": {},
   "outputs": [],
   "source": [
    "# dept_names = ['311 Call Center',\n",
    "#  'Animal control',\n",
    "#  'Assessing',\n",
    "#  'City Clerk',\n",
    "#  'Fire',\n",
    "#  'Fire & Police',\n",
    "#  'Highway',\n",
    "#  'Inspectional Services',\n",
    "#  'Mayor',\n",
    "#  'Planning',\n",
    "#  'Police',\n",
    "#  'Stormwater/Sewer',\n",
    "#  'Treasurer',\n",
    "#  'Water',\n",
    "#  'Water Billing',\n",
    "#  'Water/Wastewater Department']"
   ]
  },
  {
   "cell_type": "code",
   "execution_count": 121,
   "metadata": {},
   "outputs": [],
   "source": [
    "# avgtimes_dept = []\n",
    "# for i,name in enumerate(dept_names):\n",
    "#     avgtimes_dept.append(avgtime_type2[name])\n",
    "# avgtimes_dept"
   ]
  },
  {
   "cell_type": "markdown",
   "metadata": {},
   "source": [
    "#### Filtering the median times to close the top 20 request types"
   ]
  },
  {
   "cell_type": "code",
   "execution_count": 122,
   "metadata": {},
   "outputs": [
    {
     "data": {
      "text/plain": [
       "[Timedelta('0 days 00:00:00'),\n",
       " Timedelta('0 days 00:00:00'),\n",
       " Timedelta('0 days 00:00:00'),\n",
       " Timedelta('0 days 00:00:00'),\n",
       " Timedelta('0 days 00:00:00'),\n",
       " Timedelta('0 days 00:00:00'),\n",
       " Timedelta('5 days 23:22:30'),\n",
       " Timedelta('0 days 00:00:00'),\n",
       " Timedelta('0 days 01:47:00'),\n",
       " Timedelta('14 days 22:34:00'),\n",
       " Timedelta('0 days 04:44:00'),\n",
       " Timedelta('0 days 03:15:00'),\n",
       " Timedelta('13 days 21:42:00'),\n",
       " Timedelta('0 days 00:00:00'),\n",
       " Timedelta('28 days 20:17:00'),\n",
       " Timedelta('9 days 22:06:30'),\n",
       " Timedelta('17 days 08:23:30'),\n",
       " Timedelta('9 days 20:22:30'),\n",
       " Timedelta('40 days 01:09:00'),\n",
       " Timedelta('10 days 04:22:00')]"
      ]
     },
     "execution_count": 122,
     "metadata": {},
     "output_type": "execute_result"
    }
   ],
   "source": [
    "top20medtimes = []\n",
    "for i,name in enumerate(top20names):\n",
    "#     print(name)\n",
    "#     print(avgtime_type.keys())\n",
    "    try:\n",
    "        top20medtimes.append(mediantime_type[name])\n",
    "    except:\n",
    "        if name == 'A - Information Treasurer':\n",
    "            top20medtimes.append(mediantime_type[name+\" \"])\n",
    "top20medtimes"
   ]
  },
  {
   "cell_type": "markdown",
   "metadata": {},
   "source": [
    "#### Filtering the median times to close the top 30 request types excluding Information requests"
   ]
  },
  {
   "cell_type": "code",
   "execution_count": 123,
   "metadata": {},
   "outputs": [
    {
     "data": {
      "text/plain": [
       "[Timedelta('5 days 23:22:30'),\n",
       " Timedelta('0 days 01:47:00'),\n",
       " Timedelta('14 days 22:34:00'),\n",
       " Timedelta('0 days 04:44:00'),\n",
       " Timedelta('0 days 03:15:00'),\n",
       " Timedelta('13 days 21:42:00'),\n",
       " Timedelta('28 days 20:17:00'),\n",
       " Timedelta('9 days 22:06:30'),\n",
       " Timedelta('17 days 08:23:30'),\n",
       " Timedelta('9 days 20:22:30'),\n",
       " Timedelta('40 days 01:09:00'),\n",
       " Timedelta('10 days 04:22:00'),\n",
       " Timedelta('0 days 01:50:00'),\n",
       " Timedelta('4 days 00:46:00'),\n",
       " Timedelta('7 days 23:01:30'),\n",
       " Timedelta('0 days 02:32:30'),\n",
       " Timedelta('0 days 01:37:00'),\n",
       " Timedelta('0 days 23:28:00'),\n",
       " Timedelta('14 days 04:06:30'),\n",
       " Timedelta('40 days 22:42:00'),\n",
       " Timedelta('15 days 12:50:30'),\n",
       " Timedelta('232 days 16:20:00'),\n",
       " Timedelta('14 days 13:23:30'),\n",
       " Timedelta('9 days 23:03:30'),\n",
       " Timedelta('4 days 19:38:30'),\n",
       " Timedelta('7 days 12:03:00'),\n",
       " Timedelta('10 days 14:56:00'),\n",
       " Timedelta('10 days 00:27:00'),\n",
       " Timedelta('0 days 00:00:00'),\n",
       " Timedelta('0 days 00:00:00')]"
      ]
     },
     "execution_count": 123,
     "metadata": {},
     "output_type": "execute_result"
    }
   ],
   "source": [
    "reqnotAtop30medtimes = []\n",
    "for i,name in enumerate(reqnotAtop30):\n",
    "#     print(name)\n",
    "#     print(avgtime_type.keys())\n",
    "    reqnotAtop30medtimes.append(reqnotAmediantime[name])\n",
    "\n",
    "reqnotAtop30medtimes"
   ]
  },
  {
   "cell_type": "code",
   "execution_count": 124,
   "metadata": {},
   "outputs": [
    {
     "data": {
      "text/plain": [
       "70060"
      ]
     },
     "execution_count": 124,
     "metadata": {},
     "output_type": "execute_result"
    }
   ],
   "source": [
    "sum(seasoncounts)"
   ]
  },
  {
   "cell_type": "code",
   "execution_count": 125,
   "metadata": {},
   "outputs": [],
   "source": [
    "sizes = []\n",
    "for i,count in enumerate(seasoncounts):\n",
    "#     print(i,count)\n",
    "    sizes.append((count/sum(seasoncounts))*360)"
   ]
  },
  {
   "cell_type": "markdown",
   "metadata": {},
   "source": [
    "#### Plotting pie chart for seasonal requests"
   ]
  },
  {
   "cell_type": "code",
   "execution_count": 126,
   "metadata": {},
   "outputs": [
    {
     "data": {
      "image/png": "[encoded data removed]",
      "text/plain": [
       "<Figure size 432x288 with 1 Axes>"
      ]
     },
     "metadata": {},
     "output_type": "display_data"
    }
   ],
   "source": [
    "# sizes = [15, 30, 45, 10]\n",
    "explode = (0, 0, 0, 0)  # only \"explode\" the 2nd slice (i.e. 'Hogs')\n",
    "\n",
    "plt.figure()\n",
    "plt.pie(sizes, explode=explode, labels=seasons.keys(), autopct='%1.1f%%', colors = ['orange', 'yellow', 'purple', 'blue'],\n",
    "        shadow=False, startangle=0)\n",
    "plt.axis('equal')  # Equal aspect ratio ensures that pie is drawn as a circle.\n",
    "\n",
    "plt.show()"
   ]
  },
  {
   "cell_type": "code",
   "execution_count": 127,
   "metadata": {},
   "outputs": [
    {
     "data": {
      "text/plain": [
       "Department\n",
       "311 Call Center                25014\n",
       "Animal control                   168\n",
       "Assessing                          2\n",
       "City Clerk                         5\n",
       "Fire                              34\n",
       "Fire & Police                    109\n",
       "Highway                        15100\n",
       "Inspectional Services            313\n",
       "Mayor                             22\n",
       "Planning                           6\n",
       "Police                           104\n",
       "Stormwater/Sewer                 371\n",
       "Treasurer                          7\n",
       "Water                            171\n",
       "Water Billing                     10\n",
       "Water/Wastewater Department       81\n",
       "Name: Department, dtype: int64"
      ]
     },
     "execution_count": 127,
     "metadata": {},
     "output_type": "execute_result"
    }
   ],
   "source": [
    "request.groupby('Department')['Department'].agg(len)"
   ]
  },
  {
   "cell_type": "code",
   "execution_count": 128,
   "metadata": {},
   "outputs": [
    {
     "data": {
      "text/html": [
       "<div>\n",
       "<style scoped>\n",
       "    .dataframe tbody tr th:only-of-type {\n",
       "        vertical-align: middle;\n",
       "    }\n",
       "\n",
       "    .dataframe tbody tr th {\n",
       "        vertical-align: top;\n",
       "    }\n",
       "\n",
       "    .dataframe thead th {\n",
       "        text-align: right;\n",
       "    }\n",
       "</style>\n",
       "<table border=\"1\" class=\"dataframe\">\n",
       "  <thead>\n",
       "    <tr style=\"text-align: right;\">\n",
       "      <th></th>\n",
       "      <th>Request ID</th>\n",
       "      <th>Create Date</th>\n",
       "      <th>Master Request</th>\n",
       "      <th>Has Links</th>\n",
       "      <th>Status</th>\n",
       "      <th>Status Code</th>\n",
       "      <th>Last Action</th>\n",
       "      <th>Last Change</th>\n",
       "      <th>Close Date</th>\n",
       "      <th>Work Order Created</th>\n",
       "      <th>...</th>\n",
       "      <th>Escalations</th>\n",
       "      <th>Priority</th>\n",
       "      <th>Longitude</th>\n",
       "      <th>Latitude</th>\n",
       "      <th>Origin ID</th>\n",
       "      <th>Origin</th>\n",
       "      <th>Completion Time</th>\n",
       "      <th>DayofWeek</th>\n",
       "      <th>Month</th>\n",
       "      <th>Year</th>\n",
       "    </tr>\n",
       "  </thead>\n",
       "  <tbody>\n",
       "    <tr>\n",
       "      <th>1283</th>\n",
       "      <td>6419</td>\n",
       "      <td>2017-01-30 14:01:00</td>\n",
       "      <td>0</td>\n",
       "      <td>False</td>\n",
       "      <td>Closed</td>\n",
       "      <td>1</td>\n",
       "      <td>2017-01-30 17:22:00</td>\n",
       "      <td>2017-01-30 17:22:00</td>\n",
       "      <td>2017-01-30 17:22:00</td>\n",
       "      <td>False</td>\n",
       "      <td>...</td>\n",
       "      <td>0</td>\n",
       "      <td>2</td>\n",
       "      <td>0.0</td>\n",
       "      <td>0.0</td>\n",
       "      <td>1</td>\n",
       "      <td>Call Center</td>\n",
       "      <td>03:21:00</td>\n",
       "      <td>0</td>\n",
       "      <td>1</td>\n",
       "      <td>2017</td>\n",
       "    </tr>\n",
       "    <tr>\n",
       "      <th>2592</th>\n",
       "      <td>7730</td>\n",
       "      <td>2017-02-16 16:38:00</td>\n",
       "      <td>0</td>\n",
       "      <td>False</td>\n",
       "      <td>Closed</td>\n",
       "      <td>1</td>\n",
       "      <td>2017-02-16 19:43:00</td>\n",
       "      <td>2017-02-16 19:43:00</td>\n",
       "      <td>2017-02-16 19:43:00</td>\n",
       "      <td>False</td>\n",
       "      <td>...</td>\n",
       "      <td>0</td>\n",
       "      <td>2</td>\n",
       "      <td>0.0</td>\n",
       "      <td>0.0</td>\n",
       "      <td>1</td>\n",
       "      <td>Call Center</td>\n",
       "      <td>03:05:00</td>\n",
       "      <td>3</td>\n",
       "      <td>2</td>\n",
       "      <td>2017</td>\n",
       "    </tr>\n",
       "  </tbody>\n",
       "</table>\n",
       "<p>2 rows × 37 columns</p>\n",
       "</div>"
      ],
      "text/plain": [
       "      Request ID          Create Date  Master Request  Has Links  Status  \\\n",
       "1283        6419  2017-01-30 14:01:00               0      False  Closed   \n",
       "2592        7730  2017-02-16 16:38:00               0      False  Closed   \n",
       "\n",
       "      Status Code          Last Action          Last Change  \\\n",
       "1283            1  2017-01-30 17:22:00  2017-01-30 17:22:00   \n",
       "2592            1  2017-02-16 19:43:00  2017-02-16 19:43:00   \n",
       "\n",
       "               Close Date  Work Order Created  ...   Escalations Priority  \\\n",
       "1283  2017-01-30 17:22:00               False  ...             0        2   \n",
       "2592  2017-02-16 19:43:00               False  ...             0        2   \n",
       "\n",
       "      Longitude Latitude  Origin ID       Origin Completion Time  DayofWeek  \\\n",
       "1283        0.0      0.0          1  Call Center        03:21:00          0   \n",
       "2592        0.0      0.0          1  Call Center        03:05:00          3   \n",
       "\n",
       "     Month  Year  \n",
       "1283     1  2017  \n",
       "2592     2  2017  \n",
       "\n",
       "[2 rows x 37 columns]"
      ]
     },
     "execution_count": 128,
     "metadata": {},
     "output_type": "execute_result"
    }
   ],
   "source": [
    "request.loc[request['Department'] == 'Assessing']\n",
    "# df.loc[df['column_name'] == some_value]"
   ]
  }
 ],
 "metadata": {
  "kernelspec": {
   "display_name": "Python 3",
   "language": "python",
   "name": "python3"
  },
  "language_info": {
   "codemirror_mode": {
    "name": "ipython",
    "version": 3
   },
   "file_extension": ".py",
   "mimetype": "text/x-python",
   "name": "python",
   "nbconvert_exporter": "python",
   "pygments_lexer": "ipython3",
   "version": "3.6.6"
  }
 },
 "nbformat": 4,
 "nbformat_minor": 2
}
