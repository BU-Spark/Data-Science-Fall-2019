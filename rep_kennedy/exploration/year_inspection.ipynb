{
 "cells": [
  {
   "cell_type": "code",
   "execution_count": 74,
   "metadata": {
    "collapsed": true
   },
   "outputs": [],
   "source": [
    "import pandas as pd \n",
    "# data from 2009-10-1 to 2019-10-1"
   ]
  },
  {
   "cell_type": "code",
   "execution_count": 75,
   "metadata": {
    "collapsed": true
   },
   "outputs": [],
   "source": [
    "def data_include_action_year(data, year):\n",
    "\n",
    "    prime_award_action_year = data.str.contains(year, regex=False)\n",
    "    j =0; \n",
    "    for include2009 in prime_award_action_year[:]:\n",
    "        if include2009 == True:\n",
    "            j+=1; \n",
    "    return j"
   ]
  },
  {
   "cell_type": "code",
   "execution_count": 76,
   "metadata": {},
   "outputs": [
    {
     "name": "stdout",
     "output_type": "stream",
     "text": [
      "(25868, 79)\n"
     ]
    },
    {
     "name": "stderr",
     "output_type": "stream",
     "text": [
      "/Users/yong.zhou/anaconda/lib/python3.6/site-packages/IPython/core/interactiveshell.py:2717: DtypeWarning: Columns (2) have mixed types. Specify dtype option on import or set low_memory=False.\n",
      "  interactivity=interactivity, compiler=compiler, result=result)\n"
     ]
    },
    {
     "data": {
      "text/html": [
       "<div>\n",
       "<style>\n",
       "    .dataframe thead tr:only-child th {\n",
       "        text-align: right;\n",
       "    }\n",
       "\n",
       "    .dataframe thead th {\n",
       "        text-align: left;\n",
       "    }\n",
       "\n",
       "    .dataframe tbody tr th {\n",
       "        vertical-align: top;\n",
       "    }\n",
       "</style>\n",
       "<table border=\"1\" class=\"dataframe\">\n",
       "  <thead>\n",
       "    <tr style=\"text-align: right;\">\n",
       "      <th></th>\n",
       "      <th>assistance_award_unique_key</th>\n",
       "      <th>award_id_fain</th>\n",
       "      <th>award_id_uri</th>\n",
       "      <th>sai_number</th>\n",
       "      <th>obligated_amount</th>\n",
       "      <th>non_federal_funding_amount</th>\n",
       "      <th>total_funding_amount</th>\n",
       "      <th>face_value_of_loan</th>\n",
       "      <th>original_subsidy_cost</th>\n",
       "      <th>total_subsidy_cost</th>\n",
       "      <th>...</th>\n",
       "      <th>highly_compensated_officer_1_amount</th>\n",
       "      <th>highly_compensated_officer_2_name</th>\n",
       "      <th>highly_compensated_officer_2_amount</th>\n",
       "      <th>highly_compensated_officer_3_name</th>\n",
       "      <th>highly_compensated_officer_3_amount</th>\n",
       "      <th>highly_compensated_officer_4_name</th>\n",
       "      <th>highly_compensated_officer_4_amount</th>\n",
       "      <th>highly_compensated_officer_5_name</th>\n",
       "      <th>highly_compensated_officer_5_amount</th>\n",
       "      <th>last_modified_date</th>\n",
       "    </tr>\n",
       "  </thead>\n",
       "  <tbody>\n",
       "    <tr>\n",
       "      <th>0</th>\n",
       "      <td>ASST_NON_01CH010243_7590</td>\n",
       "      <td>01CH010243</td>\n",
       "      <td>NaN</td>\n",
       "      <td>SAI UNAVAILABLE</td>\n",
       "      <td>27918871.0</td>\n",
       "      <td>0.0</td>\n",
       "      <td>27918871.0</td>\n",
       "      <td>NaN</td>\n",
       "      <td>NaN</td>\n",
       "      <td>NaN</td>\n",
       "      <td>...</td>\n",
       "      <td>NaN</td>\n",
       "      <td>NaN</td>\n",
       "      <td>NaN</td>\n",
       "      <td>NaN</td>\n",
       "      <td>NaN</td>\n",
       "      <td>NaN</td>\n",
       "      <td>NaN</td>\n",
       "      <td>NaN</td>\n",
       "      <td>NaN</td>\n",
       "      <td>2019-04-18 20:06:52.934872+00</td>\n",
       "    </tr>\n",
       "    <tr>\n",
       "      <th>1</th>\n",
       "      <td>ASST_NON_01CH010375_7590</td>\n",
       "      <td>01CH010375</td>\n",
       "      <td>NaN</td>\n",
       "      <td>SAI UNAVAILABLE</td>\n",
       "      <td>15105876.0</td>\n",
       "      <td>0.0</td>\n",
       "      <td>15105876.0</td>\n",
       "      <td>NaN</td>\n",
       "      <td>NaN</td>\n",
       "      <td>NaN</td>\n",
       "      <td>...</td>\n",
       "      <td>NaN</td>\n",
       "      <td>NaN</td>\n",
       "      <td>NaN</td>\n",
       "      <td>NaN</td>\n",
       "      <td>NaN</td>\n",
       "      <td>NaN</td>\n",
       "      <td>NaN</td>\n",
       "      <td>NaN</td>\n",
       "      <td>NaN</td>\n",
       "      <td>2019-09-20 15:18:33.186727+00</td>\n",
       "    </tr>\n",
       "    <tr>\n",
       "      <th>2</th>\n",
       "      <td>ASST_NON_01CH010464_7590</td>\n",
       "      <td>01CH010464</td>\n",
       "      <td>NaN</td>\n",
       "      <td>SAI UNAVAILABLE</td>\n",
       "      <td>4114599.0</td>\n",
       "      <td>0.0</td>\n",
       "      <td>4114599.0</td>\n",
       "      <td>NaN</td>\n",
       "      <td>NaN</td>\n",
       "      <td>NaN</td>\n",
       "      <td>...</td>\n",
       "      <td>NaN</td>\n",
       "      <td>NaN</td>\n",
       "      <td>NaN</td>\n",
       "      <td>NaN</td>\n",
       "      <td>NaN</td>\n",
       "      <td>NaN</td>\n",
       "      <td>NaN</td>\n",
       "      <td>NaN</td>\n",
       "      <td>NaN</td>\n",
       "      <td>2019-09-05 16:44:07.218909+00</td>\n",
       "    </tr>\n",
       "    <tr>\n",
       "      <th>3</th>\n",
       "      <td>ASST_NON_01CH010465_7590</td>\n",
       "      <td>01CH010465</td>\n",
       "      <td>NaN</td>\n",
       "      <td>SAI UNAVAILABLE</td>\n",
       "      <td>7922342.0</td>\n",
       "      <td>0.0</td>\n",
       "      <td>7922342.0</td>\n",
       "      <td>NaN</td>\n",
       "      <td>NaN</td>\n",
       "      <td>NaN</td>\n",
       "      <td>...</td>\n",
       "      <td>NaN</td>\n",
       "      <td>NaN</td>\n",
       "      <td>NaN</td>\n",
       "      <td>NaN</td>\n",
       "      <td>NaN</td>\n",
       "      <td>NaN</td>\n",
       "      <td>NaN</td>\n",
       "      <td>NaN</td>\n",
       "      <td>NaN</td>\n",
       "      <td>2019-05-03 17:05:57.421948+00</td>\n",
       "    </tr>\n",
       "    <tr>\n",
       "      <th>4</th>\n",
       "      <td>ASST_NON_01CH10003_7590</td>\n",
       "      <td>01CH10003</td>\n",
       "      <td>NaN</td>\n",
       "      <td>SAI UNAVAILABLE</td>\n",
       "      <td>9663601.0</td>\n",
       "      <td>0.0</td>\n",
       "      <td>9663601.0</td>\n",
       "      <td>NaN</td>\n",
       "      <td>NaN</td>\n",
       "      <td>NaN</td>\n",
       "      <td>...</td>\n",
       "      <td>NaN</td>\n",
       "      <td>NaN</td>\n",
       "      <td>NaN</td>\n",
       "      <td>NaN</td>\n",
       "      <td>NaN</td>\n",
       "      <td>NaN</td>\n",
       "      <td>NaN</td>\n",
       "      <td>NaN</td>\n",
       "      <td>NaN</td>\n",
       "      <td>2019-09-05 16:54:41.512159+00</td>\n",
       "    </tr>\n",
       "  </tbody>\n",
       "</table>\n",
       "<p>5 rows × 79 columns</p>\n",
       "</div>"
      ],
      "text/plain": [
       "  assistance_award_unique_key award_id_fain award_id_uri       sai_number  \\\n",
       "0    ASST_NON_01CH010243_7590    01CH010243          NaN  SAI UNAVAILABLE   \n",
       "1    ASST_NON_01CH010375_7590    01CH010375          NaN  SAI UNAVAILABLE   \n",
       "2    ASST_NON_01CH010464_7590    01CH010464          NaN  SAI UNAVAILABLE   \n",
       "3    ASST_NON_01CH010465_7590    01CH010465          NaN  SAI UNAVAILABLE   \n",
       "4     ASST_NON_01CH10003_7590     01CH10003          NaN  SAI UNAVAILABLE   \n",
       "\n",
       "   obligated_amount  non_federal_funding_amount  total_funding_amount  \\\n",
       "0        27918871.0                         0.0            27918871.0   \n",
       "1        15105876.0                         0.0            15105876.0   \n",
       "2         4114599.0                         0.0             4114599.0   \n",
       "3         7922342.0                         0.0             7922342.0   \n",
       "4         9663601.0                         0.0             9663601.0   \n",
       "\n",
       "   face_value_of_loan  original_subsidy_cost  total_subsidy_cost  \\\n",
       "0                 NaN                    NaN                 NaN   \n",
       "1                 NaN                    NaN                 NaN   \n",
       "2                 NaN                    NaN                 NaN   \n",
       "3                 NaN                    NaN                 NaN   \n",
       "4                 NaN                    NaN                 NaN   \n",
       "\n",
       "               ...                highly_compensated_officer_1_amount  \\\n",
       "0              ...                                                NaN   \n",
       "1              ...                                                NaN   \n",
       "2              ...                                                NaN   \n",
       "3              ...                                                NaN   \n",
       "4              ...                                                NaN   \n",
       "\n",
       "  highly_compensated_officer_2_name highly_compensated_officer_2_amount  \\\n",
       "0                               NaN                                 NaN   \n",
       "1                               NaN                                 NaN   \n",
       "2                               NaN                                 NaN   \n",
       "3                               NaN                                 NaN   \n",
       "4                               NaN                                 NaN   \n",
       "\n",
       "   highly_compensated_officer_3_name highly_compensated_officer_3_amount  \\\n",
       "0                                NaN                                 NaN   \n",
       "1                                NaN                                 NaN   \n",
       "2                                NaN                                 NaN   \n",
       "3                                NaN                                 NaN   \n",
       "4                                NaN                                 NaN   \n",
       "\n",
       "   highly_compensated_officer_4_name highly_compensated_officer_4_amount  \\\n",
       "0                                NaN                                 NaN   \n",
       "1                                NaN                                 NaN   \n",
       "2                                NaN                                 NaN   \n",
       "3                                NaN                                 NaN   \n",
       "4                                NaN                                 NaN   \n",
       "\n",
       "  highly_compensated_officer_5_name highly_compensated_officer_5_amount  \\\n",
       "0                               NaN                                 NaN   \n",
       "1                               NaN                                 NaN   \n",
       "2                               NaN                                 NaN   \n",
       "3                               NaN                                 NaN   \n",
       "4                               NaN                                 NaN   \n",
       "\n",
       "              last_modified_date  \n",
       "0  2019-04-18 20:06:52.934872+00  \n",
       "1  2019-09-20 15:18:33.186727+00  \n",
       "2  2019-09-05 16:44:07.218909+00  \n",
       "3  2019-05-03 17:05:57.421948+00  \n",
       "4  2019-09-05 16:54:41.512159+00  \n",
       "\n",
       "[5 rows x 79 columns]"
      ]
     },
     "execution_count": 76,
     "metadata": {},
     "output_type": "execute_result"
    }
   ],
   "source": [
    "data = pd.read_csv(\"data/dataset_sample/all_prime_awards_subawards_20191019201603118206/all_assistance_prime_awards_1.csv\") \n",
    "# Preview the first 5 lines of the loaded data \n",
    "print(data.shape)\n",
    "data.head()\n",
    "\n",
    "# Nothing to see from modified date\n",
    "\n",
    "# data = data[\"last_modified_date\"]\n",
    "# action_year = '2019-'\n",
    "# numberIncluded = data_include_action_year(data, action_year)\n",
    "# print(\"last modified date of all_prime_awards_subawards : \")\n",
    "# print(\"number of\",action_year,\"Included -> \", numberIncluded)\n"
   ]
  },
  {
   "cell_type": "code",
   "execution_count": 80,
   "metadata": {},
   "outputs": [
    {
     "name": "stdout",
     "output_type": "stream",
     "text": [
      "data.shape              ->  (10941, 86)\n",
      "prime_award_action_date : \n",
      "number of 2010- Included ->  58 \n",
      "\n",
      " prime_award_fiscal_year : \n",
      "number of FY2010 Included ->  52\n"
     ]
    },
    {
     "name": "stderr",
     "output_type": "stream",
     "text": [
      "/Users/yong.zhou/anaconda/lib/python3.6/site-packages/IPython/core/interactiveshell.py:2717: DtypeWarning: Columns (72) have mixed types. Specify dtype option on import or set low_memory=False.\n",
      "  interactivity=interactivity, compiler=compiler, result=result)\n"
     ]
    }
   ],
   "source": [
    "data = pd.read_csv(\"./dataset_sample/all_prime_awards_subawards_20191019201603118206/all_assistance_subawards_1.csv\") \n",
    "# Preview the first 5 lines of the loaded data \n",
    "print(\"data.shape              -> \",data.shape)\n",
    "data.head()\n",
    "\n",
    "\n",
    "\n",
    "action_year = '2010-'\n",
    "numberIncluded = data_include_action_year(data[\"prime_award_action_date\"], action_year)\n",
    "print(\"prime_award_action_date : \")\n",
    "print(\"number of\",action_year,\"Included -> \", numberIncluded, \"\\n\")\n",
    "\n",
    "# action_year = '2010'\n",
    "# numberIncluded = data_include_action_year(data[\"prime_award_action_date_fiscal_year\"], action_year)\n",
    "# print(\"number of\",action_year,\"Included -> \", numberIncluded)\n",
    "\n",
    "action_year = 'FY2010'\n",
    "numberIncluded = data_include_action_year(data[\"prime_award_fiscal_year\"], action_year)\n",
    "print(\" prime_award_fiscal_year : \")\n",
    "print(\"number of\",action_year,\"Included -> \", numberIncluded)\n",
    "\n",
    "\n"
   ]
  },
  {
   "cell_type": "code",
   "execution_count": 82,
   "metadata": {
    "scrolled": true
   },
   "outputs": [
    {
     "name": "stderr",
     "output_type": "stream",
     "text": [
      "/Users/yong.zhou/anaconda/lib/python3.6/site-packages/IPython/core/interactiveshell.py:2717: DtypeWarning: Columns (11,12,15,30,40,45,46,54,59,60,61,62,63,76,77,84,85,86,87,104,132,133,138,252,254,256,258,260) have mixed types. Specify dtype option on import or set low_memory=False.\n",
      "  interactivity=interactivity, compiler=compiler, result=result)\n"
     ]
    },
    {
     "name": "stdout",
     "output_type": "stream",
     "text": [
      "period_of_performance_start_date : \n",
      "total # start year in 2009  ->  857 \n",
      "\n",
      "last modified date : \n",
      "total # modified year in 2010- Included ->  776\n"
     ]
    }
   ],
   "source": [
    "data = pd.read_csv(\"./dataset_sample/all_prime_awards_subawards_20191019201603118206/all_contracts_prime_awards_1.csv\") \n",
    "\n",
    "# print(\"data.shape:                ->\",data.shape)\n",
    "# data.head()\n",
    "\n",
    "#we need to \n",
    "\n",
    "start_year = '2009'\n",
    "numberIncluded = data_include_action_year(data[\"period_of_performance_start_date\"], start_year)\n",
    "print(\"period_of_performance_start_date : \")\n",
    "print(\"total # start year in\",start_year,\" -> \", numberIncluded, \"\\n\")\n",
    "\n",
    "data = data[\"last_modified_date\"]\n",
    "action_year = '2010-'\n",
    "numberIncluded = data_include_action_year(data, action_year)\n",
    "print(\"last modified date : \")\n",
    "print(\"total # modified year in\",action_year,\"Included -> \", numberIncluded)\n"
   ]
  },
  {
   "cell_type": "code",
   "execution_count": 79,
   "metadata": {},
   "outputs": [
    {
     "name": "stdout",
     "output_type": "stream",
     "text": [
      "(1245, 87)\n",
      "action year of prime_award_action_date : \n",
      "number of 2010- Included ->  93 \n",
      "\n",
      "fiscal year of prime_award_fiscal_year : \n",
      "number of FY2010 Included ->  53\n"
     ]
    }
   ],
   "source": [
    "data = pd.read_csv(\"./dataset_sample/all_prime_awards_subawards_20191019201603118206/all_contracts_subawards_1.csv\") \n",
    "# Preview the first 5 lines of the loaded data \n",
    "print(data.shape)\n",
    "data.head()\n",
    "\n",
    "\n",
    "action_year = '2010-'\n",
    "numberIncluded = data_include_action_year(data[\"prime_award_action_date\"], action_year)\n",
    "print(\"action year of prime_award_action_date : \")\n",
    "print(\"number of\",action_year,\"Included -> \", numberIncluded, \"\\n\")\n",
    "\n",
    "# action_year = '2010'\n",
    "# numberIncluded = data_include_action_year(data[\"prime_award_action_date_fiscal_year\"], action_year)\n",
    "# print(\"number of\",action_year,\"Included -> \", numberIncluded)\n",
    "\n",
    "action_year = 'FY2010'\n",
    "numberIncluded = data_include_action_year(data[\"prime_award_fiscal_year\"], action_year)\n",
    "print(\"fiscal year of prime_award_fiscal_year : \")\n",
    "print(\"number of\",action_year,\"Included -> \", numberIncluded)\n",
    "\n",
    "\n"
   ]
  },
  {
   "cell_type": "code",
   "execution_count": null,
   "metadata": {},
   "outputs": [],
   "source": []
  },
  {
   "cell_type": "code",
   "execution_count": null,
   "metadata": {
    "collapsed": true
   },
   "outputs": [],
   "source": []
  },
  {
   "cell_type": "code",
   "execution_count": null,
   "metadata": {
    "collapsed": true
   },
   "outputs": [],
   "source": []
  },
  {
   "cell_type": "code",
   "execution_count": null,
   "metadata": {
    "collapsed": true
   },
   "outputs": [],
   "source": []
  },
  {
   "cell_type": "code",
   "execution_count": null,
   "metadata": {
    "collapsed": true
   },
   "outputs": [],
   "source": []
  },
  {
   "cell_type": "code",
   "execution_count": null,
   "metadata": {
    "collapsed": true
   },
   "outputs": [],
   "source": []
  }
 ],
 "metadata": {
  "kernelspec": {
   "display_name": "Python 3",
   "language": "python",
   "name": "python3"
  },
  "language_info": {
   "codemirror_mode": {
    "name": "ipython",
    "version": 3
   },
   "file_extension": ".py",
   "mimetype": "text/x-python",
   "name": "python",
   "nbconvert_exporter": "python",
   "pygments_lexer": "ipython3",
   "version": "3.7.3"
  }
 },
 "nbformat": 4,
 "nbformat_minor": 2
}
