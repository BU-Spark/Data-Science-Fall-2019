{
 "cells": [
  {
   "cell_type": "code",
   "execution_count": 11,
   "metadata": {},
   "outputs": [],
   "source": [
    "import pandas as pd\n",
    "import numpy as np"
   ]
  },
  {
   "cell_type": "code",
   "execution_count": 12,
   "metadata": {},
   "outputs": [],
   "source": [
    "# Import contracts data for mbe values to be extracted\n",
    "# this was done in order to attempt to pull data from the api for the specific recipients\n",
    "# (in hopes that this would result in more specific data about executives)\n",
    "# Unfortunately the scraping did not give execuitive names \n",
    "mbe_contract_prime = pd.read_csv(\"data/usaspending_data/all_contracts_prime_awards_1.csv\")\n",
    "mbe_contract_sub = pd.read_csv(\"data/usaspending_data/all_contracts_subawards_1.csv\")\n"
   ]
  },
  {
   "cell_type": "code",
   "execution_count": 13,
   "metadata": {},
   "outputs": [
    {
     "data": {
      "text/plain": [
       "Index(['contract_award_unique_key', 'award_id_piid', 'parent_award_agency_id',\n",
       "       'parent_award_agency_name', 'parent_award_id', 'obligated_amount',\n",
       "       'current_total_value_of_award', 'potential_total_value_of_award',\n",
       "       'period_of_performance_start_date',\n",
       "       'period_of_performance_current_end_date',\n",
       "       ...\n",
       "       'highly_compensated_officer_1_amount',\n",
       "       'highly_compensated_officer_2_name',\n",
       "       'highly_compensated_officer_2_amount',\n",
       "       'highly_compensated_officer_3_name',\n",
       "       'highly_compensated_officer_3_amount',\n",
       "       'highly_compensated_officer_4_name',\n",
       "       'highly_compensated_officer_4_amount',\n",
       "       'highly_compensated_officer_5_name',\n",
       "       'highly_compensated_officer_5_amount', 'last_modified_date'],\n",
       "      dtype='object', length=263)"
      ]
     },
     "execution_count": 13,
     "metadata": {},
     "output_type": "execute_result"
    }
   ],
   "source": [
    "mbe_contract_prime.columns"
   ]
  },
  {
   "cell_type": "code",
   "execution_count": 14,
   "metadata": {},
   "outputs": [],
   "source": [
    "# Select recipient duns(used as a unique identifier for easier scraping) \n",
    "mbe_contract_prime_useful = mbe_contract_prime[[\"recipient_duns\"]]"
   ]
  },
  {
   "cell_type": "code",
   "execution_count": 15,
   "metadata": {},
   "outputs": [],
   "source": [
    "# Select recipient duns(used as a unique identifier for easier scraping) - here called subawardee because this\n",
    "# dataset is concerned with subawards\n",
    "mbe_contract_sub_useful = mbe_contract_sub[[\"subawardee_duns\"]]"
   ]
  },
  {
   "cell_type": "code",
   "execution_count": 16,
   "metadata": {},
   "outputs": [],
   "source": [
    "mbe_contract_prime_useful.to_csv(\"data/usaspending_data/mbe_duns.csv\", index=False)\n",
    "mbe_contract_sub_useful.to_csv(\"data/usaspending_data/mbe_sub_duns.csv\", index=False)"
   ]
  },
  {
   "cell_type": "code",
   "execution_count": null,
   "metadata": {},
   "outputs": [],
   "source": []
  }
 ],
 "metadata": {
  "kernelspec": {
   "display_name": "Python 3",
   "language": "python",
   "name": "python3"
  },
  "language_info": {
   "codemirror_mode": {
    "name": "ipython",
    "version": 3
   },
   "file_extension": ".py",
   "mimetype": "text/x-python",
   "name": "python",
   "nbconvert_exporter": "python",
   "pygments_lexer": "ipython3",
   "version": "3.7.3"
  }
 },
 "nbformat": 4,
 "nbformat_minor": 2
}
