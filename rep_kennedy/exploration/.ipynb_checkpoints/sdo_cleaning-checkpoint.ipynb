{
 "cells": [
  {
   "cell_type": "markdown",
   "metadata": {},
   "source": [
    "# Data Cleaning"
   ]
  },
  {
   "cell_type": "code",
   "execution_count": 3,
   "metadata": {},
   "outputs": [],
   "source": [
    "import pandas as pd\n",
    "import numpy as np"
   ]
  },
  {
   "cell_type": "code",
   "execution_count": 4,
   "metadata": {},
   "outputs": [],
   "source": [
    "# import sdo mde data\n",
    "exl = pd.read_excel(\"data/sdo_mbe_data/BusinessDirectorySearch1.xlsx\", header = 0)"
   ]
  },
  {
   "cell_type": "code",
   "execution_count": 5,
   "metadata": {},
   "outputs": [
    {
     "data": {
      "text/plain": [
       "(2897, 29)"
      ]
     },
     "execution_count": 5,
     "metadata": {},
     "output_type": "execute_result"
    }
   ],
   "source": [
    "exl.shape"
   ]
  },
  {
   "cell_type": "code",
   "execution_count": null,
   "metadata": {},
   "outputs": [],
   "source": []
  },
  {
   "cell_type": "code",
   "execution_count": 6,
   "metadata": {},
   "outputs": [
    {
     "data": {
      "text/plain": [
       "Index(['Business_Name', 'Business_DBA', 'BusinessType_Desc',\n",
       "       'BusinessContact_Salutation', 'BusinessContact_FirstName',\n",
       "       'BusinessContact_LastName', 'BusinessContact_Title',\n",
       "       'BusinessContact_Email', 'Business_Addressline1',\n",
       "       'Business_AddressLine2', 'Business_City', 'Business_State',\n",
       "       'Business_Zip5', 'Business_Zip4', 'Business_Phone', 'Business_Fax',\n",
       "       'Business_HomePageURL', 'Business_Services', 'ACDBE_Business_Services',\n",
       "       'PrimaryNAICSCodeSDO', 'PrimaryNAICSCode', 'ACDBENAICSCode',\n",
       "       'Business_ClientID', 'BusinessDuns_No', 'DBE_Business_Services',\n",
       "       'Certification_Type', 'Certification_Organization', 'SDO_Certification',\n",
       "       'Renewed_Certification'],\n",
       "      dtype='object')"
      ]
     },
     "execution_count": 6,
     "metadata": {},
     "output_type": "execute_result"
    }
   ],
   "source": [
    "exl.columns"
   ]
  },
  {
   "cell_type": "code",
   "execution_count": 7,
   "metadata": {},
   "outputs": [],
   "source": [
    "# Select only Mass Businesses \n",
    "exl = exl[exl[\"Business_State\"] == \"MA\"]"
   ]
  },
  {
   "cell_type": "code",
   "execution_count": 8,
   "metadata": {},
   "outputs": [
    {
     "data": {
      "text/plain": [
       "(1969, 29)"
      ]
     },
     "execution_count": 8,
     "metadata": {},
     "output_type": "execute_result"
    }
   ],
   "source": [
    "exl.shape"
   ]
  },
  {
   "cell_type": "code",
   "execution_count": 9,
   "metadata": {},
   "outputs": [
    {
     "data": {
      "text/plain": [
       "1903"
      ]
     },
     "execution_count": 9,
     "metadata": {},
     "output_type": "execute_result"
    }
   ],
   "source": [
    "exl[\"BusinessDuns_No\"].isnull().sum()"
   ]
  },
  {
   "cell_type": "markdown",
   "metadata": {},
   "source": [
    "Most rows does not contain Duns numbers, only 66 among 1969 have duns"
   ]
  },
  {
   "cell_type": "code",
   "execution_count": 10,
   "metadata": {},
   "outputs": [],
   "source": [
    "# Select useful attributes \n",
    "usefulData = exl[[\"Business_Name\", \"BusinessContact_FirstName\", \"BusinessContact_LastName\", \"Business_City\", \"Business_State\", \"PrimaryNAICSCode\", \"BusinessDuns_No\", \"Business_ClientID\"]]\n",
    "\n"
   ]
  },
  {
   "cell_type": "code",
   "execution_count": 11,
   "metadata": {},
   "outputs": [
    {
     "name": "stderr",
     "output_type": "stream",
     "text": [
      "/Users/pippidebree/anaconda3/lib/python3.7/site-packages/ipykernel_launcher.py:2: SettingWithCopyWarning: \n",
      "A value is trying to be set on a copy of a slice from a DataFrame.\n",
      "Try using .loc[row_indexer,col_indexer] = value instead\n",
      "\n",
      "See the caveats in the documentation: http://pandas.pydata.org/pandas-docs/stable/indexing.html#indexing-view-versus-copy\n",
      "  \n"
     ]
    }
   ],
   "source": [
    "# Add a full name attribute (for Ethnicolr predictions)\n",
    "usefulData[\"BusinessContact_FullName\"] = usefulData[\"BusinessContact_FirstName\"] + \" \" + usefulData[\"BusinessContact_LastName\"]"
   ]
  },
  {
   "cell_type": "code",
   "execution_count": 12,
   "metadata": {},
   "outputs": [
    {
     "data": {
      "text/html": [
       "<div>\n",
       "<style scoped>\n",
       "    .dataframe tbody tr th:only-of-type {\n",
       "        vertical-align: middle;\n",
       "    }\n",
       "\n",
       "    .dataframe tbody tr th {\n",
       "        vertical-align: top;\n",
       "    }\n",
       "\n",
       "    .dataframe thead th {\n",
       "        text-align: right;\n",
       "    }\n",
       "</style>\n",
       "<table border=\"1\" class=\"dataframe\">\n",
       "  <thead>\n",
       "    <tr style=\"text-align: right;\">\n",
       "      <th></th>\n",
       "      <th>Business_Name</th>\n",
       "      <th>BusinessContact_FirstName</th>\n",
       "      <th>BusinessContact_LastName</th>\n",
       "      <th>Business_City</th>\n",
       "      <th>Business_State</th>\n",
       "      <th>PrimaryNAICSCode</th>\n",
       "      <th>BusinessDuns_No</th>\n",
       "      <th>Business_ClientID</th>\n",
       "      <th>BusinessContact_FullName</th>\n",
       "    </tr>\n",
       "  </thead>\n",
       "  <tbody>\n",
       "    <tr>\n",
       "      <th>2</th>\n",
       "      <td>1 Stop Design Shop, Inc.</td>\n",
       "      <td>Christine</td>\n",
       "      <td>Hennigan</td>\n",
       "      <td>Woburn</td>\n",
       "      <td>MA</td>\n",
       "      <td>541430, 541890, 424320, 424330, 454111, 519130...</td>\n",
       "      <td>NaN</td>\n",
       "      <td>20050182</td>\n",
       "      <td>Christine Hennigan</td>\n",
       "    </tr>\n",
       "    <tr>\n",
       "      <th>3</th>\n",
       "      <td>1 Stop Design Shop, Inc.</td>\n",
       "      <td>Christine</td>\n",
       "      <td>Hennigan</td>\n",
       "      <td>Woburn</td>\n",
       "      <td>MA</td>\n",
       "      <td>541430, 541890, 424320, 424330, 454111, 519130...</td>\n",
       "      <td>NaN</td>\n",
       "      <td>20050182</td>\n",
       "      <td>Christine Hennigan</td>\n",
       "    </tr>\n",
       "    <tr>\n",
       "      <th>6</th>\n",
       "      <td>1854, LLC</td>\n",
       "      <td>Brandale</td>\n",
       "      <td>Randolph</td>\n",
       "      <td>Framingham</td>\n",
       "      <td>MA</td>\n",
       "      <td>NaN</td>\n",
       "      <td>NaN</td>\n",
       "      <td>20180275</td>\n",
       "      <td>Brandale Randolph</td>\n",
       "    </tr>\n",
       "    <tr>\n",
       "      <th>8</th>\n",
       "      <td>21ST Century Home Care, Inc.</td>\n",
       "      <td>Judith</td>\n",
       "      <td>Joseph</td>\n",
       "      <td>Canton</td>\n",
       "      <td>MA</td>\n",
       "      <td>624120</td>\n",
       "      <td>NaN</td>\n",
       "      <td>20060119</td>\n",
       "      <td>Judith Joseph</td>\n",
       "    </tr>\n",
       "    <tr>\n",
       "      <th>9</th>\n",
       "      <td>2ndPath Energy, LLC</td>\n",
       "      <td>Heather</td>\n",
       "      <td>Takle</td>\n",
       "      <td>Bolton</td>\n",
       "      <td>MA</td>\n",
       "      <td>541690</td>\n",
       "      <td>NaN</td>\n",
       "      <td>20180226</td>\n",
       "      <td>Heather Takle</td>\n",
       "    </tr>\n",
       "  </tbody>\n",
       "</table>\n",
       "</div>"
      ],
      "text/plain": [
       "                  Business_Name BusinessContact_FirstName  \\\n",
       "2      1 Stop Design Shop, Inc.                 Christine   \n",
       "3      1 Stop Design Shop, Inc.                 Christine   \n",
       "6                     1854, LLC                  Brandale   \n",
       "8  21ST Century Home Care, Inc.                    Judith   \n",
       "9           2ndPath Energy, LLC                   Heather   \n",
       "\n",
       "  BusinessContact_LastName Business_City Business_State  \\\n",
       "2                 Hennigan        Woburn             MA   \n",
       "3                 Hennigan        Woburn             MA   \n",
       "6                 Randolph    Framingham             MA   \n",
       "8                   Joseph        Canton             MA   \n",
       "9                    Takle        Bolton             MA   \n",
       "\n",
       "                                    PrimaryNAICSCode BusinessDuns_No  \\\n",
       "2  541430, 541890, 424320, 424330, 454111, 519130...             NaN   \n",
       "3  541430, 541890, 424320, 424330, 454111, 519130...             NaN   \n",
       "6                                                NaN             NaN   \n",
       "8                                             624120             NaN   \n",
       "9                                             541690             NaN   \n",
       "\n",
       "  Business_ClientID BusinessContact_FullName  \n",
       "2          20050182       Christine Hennigan  \n",
       "3          20050182       Christine Hennigan  \n",
       "6          20180275        Brandale Randolph  \n",
       "8          20060119            Judith Joseph  \n",
       "9          20180226            Heather Takle  "
      ]
     },
     "execution_count": 12,
     "metadata": {},
     "output_type": "execute_result"
    }
   ],
   "source": [
    "usefulData.head()"
   ]
  },
  {
   "cell_type": "code",
   "execution_count": 13,
   "metadata": {},
   "outputs": [
    {
     "name": "stderr",
     "output_type": "stream",
     "text": [
      "/Users/pippidebree/anaconda3/lib/python3.7/site-packages/ipykernel_launcher.py:1: SettingWithCopyWarning: \n",
      "A value is trying to be set on a copy of a slice from a DataFrame.\n",
      "Try using .loc[row_indexer,col_indexer] = value instead\n",
      "\n",
      "See the caveats in the documentation: http://pandas.pydata.org/pandas-docs/stable/indexing.html#indexing-view-versus-copy\n",
      "  \"\"\"Entry point for launching an IPython kernel.\n"
     ]
    }
   ],
   "source": [
    "# change data type to string \n",
    "usefulData[\"Business_Name\"] = usefulData.Business_Name.astype(str)"
   ]
  },
  {
   "cell_type": "code",
   "execution_count": 14,
   "metadata": {},
   "outputs": [
    {
     "data": {
      "text/plain": [
       "dtype('O')"
      ]
     },
     "execution_count": 14,
     "metadata": {},
     "output_type": "execute_result"
    }
   ],
   "source": [
    "usefulData[\"Business_Name\"].dtype"
   ]
  },
  {
   "cell_type": "code",
   "execution_count": 15,
   "metadata": {},
   "outputs": [],
   "source": [
    "# Export data\n",
    "usefulData.to_csv(\"data/sdo_mbe_data/cleanedMBEData.csv\", index=False)"
   ]
  },
  {
   "cell_type": "code",
   "execution_count": null,
   "metadata": {},
   "outputs": [],
   "source": []
  },
  {
   "cell_type": "code",
   "execution_count": null,
   "metadata": {},
   "outputs": [],
   "source": []
  }
 ],
 "metadata": {
  "kernelspec": {
   "display_name": "Python 3",
   "language": "python",
   "name": "python3"
  },
  "language_info": {
   "codemirror_mode": {
    "name": "ipython",
    "version": 3
   },
   "file_extension": ".py",
   "mimetype": "text/x-python",
   "name": "python",
   "nbconvert_exporter": "python",
   "pygments_lexer": "ipython3",
   "version": "3.7.3"
  }
 },
 "nbformat": 4,
 "nbformat_minor": 2
}
