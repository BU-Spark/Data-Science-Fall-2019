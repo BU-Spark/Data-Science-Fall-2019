{
 "cells": [
  {
   "cell_type": "code",
   "execution_count": 2,
   "metadata": {},
   "outputs": [],
   "source": [
    "import pandas as pd\n",
    "import numpy as np"
   ]
  },
  {
   "cell_type": "code",
   "execution_count": 5,
   "metadata": {},
   "outputs": [],
   "source": [
    "# Import datasets in order to check for interaction between contracts data and sdo minority data\n",
    "prime_unpro = pd.read_csv(\"data/usaspending_data/full_awards.csv\")\n",
    "raceData = pd.read_csv(\"data/sdo_mbe_data/cleanedMBEData.csv\")"
   ]
  },
  {
   "cell_type": "code",
   "execution_count": 6,
   "metadata": {},
   "outputs": [
    {
     "data": {
      "text/plain": [
       "(29103, 28)"
      ]
     },
     "execution_count": 6,
     "metadata": {},
     "output_type": "execute_result"
    }
   ],
   "source": [
    "prime_unpro.shape"
   ]
  },
  {
   "cell_type": "code",
   "execution_count": 7,
   "metadata": {},
   "outputs": [
    {
     "data": {
      "text/plain": [
       "Index(['unique_key', 'fain', 'funding_amount', 'start_date', 'end_date',\n",
       "       'agency', 'award_description', 'recipient_duns', 'recipient_name',\n",
       "       'recipient_city_name', 'recipient_county_name',\n",
       "       'business_types_description', 'primary_place_of_performance_city_name',\n",
       "       'primary_place_of_performance_county_name',\n",
       "       'primary_place_of_performance_congressional_district',\n",
       "       'prime_award_unique_key', 'prime_award_fain', 'prime_award_amount',\n",
       "       'prime_award_awarding_agency_name', 'prime_awardee_name',\n",
       "       'prime_awardee_duns', 'subaward_amount', 'subaward_action_date',\n",
       "       'subawardee_duns', 'subawardee_name', 'subawardee_city_name',\n",
       "       'subawardee_congressional_district', 'subaward_description'],\n",
       "      dtype='object')"
      ]
     },
     "execution_count": 7,
     "metadata": {},
     "output_type": "execute_result"
    }
   ],
   "source": [
    "prime_unpro.columns"
   ]
  },
  {
   "cell_type": "code",
   "execution_count": 8,
   "metadata": {},
   "outputs": [],
   "source": [
    "# create an dataframe with all contracts recipients\n",
    "allName = [row.lower() for row in prime_unpro[\"recipient_name\"]]"
   ]
  },
  {
   "cell_type": "code",
   "execution_count": 9,
   "metadata": {},
   "outputs": [
    {
     "data": {
      "text/plain": [
       "29103"
      ]
     },
     "execution_count": 9,
     "metadata": {},
     "output_type": "execute_result"
    }
   ],
   "source": [
    "# Report number of recipients\n",
    "len(allName)"
   ]
  },
  {
   "cell_type": "code",
   "execution_count": 11,
   "metadata": {},
   "outputs": [
    {
     "data": {
      "text/plain": [
       "Index(['Business_Name', 'BusinessContact_FirstName',\n",
       "       'BusinessContact_LastName', 'Business_City', 'Business_State',\n",
       "       'PrimaryNAICSCode', 'BusinessDuns_No', 'Business_ClientID',\n",
       "       'BusinessContact_FullName'],\n",
       "      dtype='object')"
      ]
     },
     "execution_count": 11,
     "metadata": {},
     "output_type": "execute_result"
    }
   ],
   "source": [
    "raceData.columns"
   ]
  },
  {
   "cell_type": "code",
   "execution_count": 12,
   "metadata": {},
   "outputs": [],
   "source": [
    "# create a dataframe with names for all minority owned businesses (from sdo data)\n",
    "raceName = [ row.lower() for row in raceData[\"Business_Name\"]]"
   ]
  },
  {
   "cell_type": "code",
   "execution_count": 19,
   "metadata": {},
   "outputs": [],
   "source": [
    "# find matches between two datasets in order to see the overlap between the two sets\n",
    "match = [company in np.unique(raceName) for company in allName]"
   ]
  },
  {
   "cell_type": "code",
   "execution_count": 20,
   "metadata": {},
   "outputs": [],
   "source": [
    "match = np.array(match)"
   ]
  },
  {
   "cell_type": "code",
   "execution_count": 21,
   "metadata": {},
   "outputs": [
    {
     "data": {
      "text/plain": [
       "21"
      ]
     },
     "execution_count": 21,
     "metadata": {},
     "output_type": "execute_result"
    }
   ],
   "source": [
    "# reported a very low number of combinations (total for multiple instances of same recipients)\n",
    "match.sum()"
   ]
  },
  {
   "cell_type": "code",
   "execution_count": 17,
   "metadata": {},
   "outputs": [],
   "source": [
    "# find unique matches between the datasets \n",
    "uniquematch = np.array([company in np.unique(raceName) for company in np.unique(allName)])"
   ]
  },
  {
   "cell_type": "code",
   "execution_count": 18,
   "metadata": {},
   "outputs": [
    {
     "data": {
      "text/plain": [
       "5"
      ]
     },
     "execution_count": 18,
     "metadata": {},
     "output_type": "execute_result"
    }
   ],
   "source": [
    "# very low unique matches, meaning the sdo data cannot be used\n",
    "uniquematch.sum()"
   ]
  },
  {
   "cell_type": "code",
   "execution_count": null,
   "metadata": {},
   "outputs": [],
   "source": []
  }
 ],
 "metadata": {
  "kernelspec": {
   "display_name": "Python 3",
   "language": "python",
   "name": "python3"
  },
  "language_info": {
   "codemirror_mode": {
    "name": "ipython",
    "version": 3
   },
   "file_extension": ".py",
   "mimetype": "text/x-python",
   "name": "python",
   "nbconvert_exporter": "python",
   "pygments_lexer": "ipython3",
   "version": "3.7.3"
  }
 },
 "nbformat": 4,
 "nbformat_minor": 2
}
