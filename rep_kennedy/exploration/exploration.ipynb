{
 "cells": [
  {
   "cell_type": "code",
   "execution_count": 1,
   "metadata": {},
   "outputs": [],
   "source": [
    "import pandas as pd\n",
    "import numpy as np \n",
    "import matplotlib.pyplot as plt\n",
    "plt.style.use('ggplot')\n",
    "\n",
    "import folium\n",
    "from folium.plugins import HeatMap\n",
    "import geopy\n",
    "from geopy.geocoders import Nominatim\n",
    "from folium.vector_layers import CircleMarker\n",
    "\n",
    "import os\n",
    "from IPython.core.display import HTML"
   ]
  },
  {
   "cell_type": "code",
   "execution_count": 3,
   "metadata": {},
   "outputs": [],
   "source": [
    "# Data Import - Read in Cleaned CSV File (Cleaned in contracts_cleaning.ipynb)\n",
    "contracts = pd.read_csv(\"data/usaspending_data/contracts.csv\")"
   ]
  },
  {
   "cell_type": "code",
   "execution_count": 4,
   "metadata": {},
   "outputs": [],
   "source": [
    "# Edit Recipient Names (if duplicates found in minority outputs)\n",
    "contracts['recipient_name'] = contracts['recipient_name'].replace({'BAYASSOCIATES INCORPORATED':'BAYASSOCIATES, INC.', 'BAYASSOCIATES, INC': 'BAYASSOCIATES, INC.'})\n",
    "contracts['recipient_name'] = contracts['recipient_name'].replace({'TERESA TRIANA':'TERESA, TRIANA'})\n",
    "contracts['recipient_name'] =  contracts['recipient_name'].replace({'BEATRICE COCKRELL':'COCKRELL, BEATRICE'})\n",
    "\n"
   ]
  },
  {
   "cell_type": "code",
   "execution_count": 5,
   "metadata": {},
   "outputs": [],
   "source": [
    "# Create Shorthands for Funding Agencies \n",
    "contracts['funding_agency_name'] = contracts['funding_agency_name'].replace({'DEPARTMENT OF HOUSING AND URBAN DEVELOPMENT (HUD)': 'HUD',\n",
    "                                                                            'ENVIRONMENTAL PROTECTION AGENCY (EPA)': 'EPA',\n",
    "                                                                            'DEPARTMENT OF HEALTH AND HUMAN SERVICES (HHS)': 'HHS',\n",
    "                                                                            'NATIONAL SCIENCE FOUNDATION (NSF)' : 'NSF',\n",
    "                                                                            'DEPARTMENT OF TRANSPORTATION (DOT)': 'DOT'})"
   ]
  },
  {
   "cell_type": "code",
   "execution_count": 7,
   "metadata": {},
   "outputs": [],
   "source": [
    "# Add State to recipient names for easier geolocatino\n",
    "contracts['recipient_city_name'] = contracts['recipient_city_name'] + ', MA'"
   ]
  },
  {
   "cell_type": "code",
   "execution_count": 6,
   "metadata": {},
   "outputs": [],
   "source": [
    "# Creates a dataframe with the number of each type of naics (a business type classification)\n",
    "naics = contracts.groupby(['naics_description'])[['contract_award_unique_key']].count()"
   ]
  },
  {
   "cell_type": "code",
   "execution_count": 10,
   "metadata": {},
   "outputs": [],
   "source": [
    "# Creates a dataframe with the naics occur the most (the top 5, roughly more than 1000 appearances each)\n",
    "top_naics = naics.sort_values(by='contract_award_unique_key', ascending=False)[:5].index\n",
    "contracts['top_naics'] = contracts['naics_description'].isin(top_naics)"
   ]
  },
  {
   "cell_type": "code",
   "execution_count": null,
   "metadata": {},
   "outputs": [],
   "source": []
  },
  {
   "cell_type": "code",
   "execution_count": 11,
   "metadata": {},
   "outputs": [
    {
     "name": "stderr",
     "output_type": "stream",
     "text": [
      "/Users/pippidebree/anaconda3/lib/python3.7/site-packages/ipykernel_launcher.py:2: DeprecationWarning: Using Nominatim with the default \"geopy/1.20.0\" `user_agent` is strongly discouraged, as it violates Nominatim's ToS https://operations.osmfoundation.org/policies/nominatim/ and may possibly cause 403 and 429 HTTP errors. Please specify a custom `user_agent` with `Nominatim(user_agent=\"my-application\")` or by overriding the default `user_agent`: `geopy.geocoders.options.default_user_agent = \"my-application\"`. In geopy 2.0 this will become an exception.\n",
      "  \n"
     ]
    }
   ],
   "source": [
    "# Create instance for Nominatim for geo-location of cities \n",
    "geolocator = Nominatim(timeout=10)\n",
    "cities = contracts['recipient_city_name'].unique()"
   ]
  },
  {
   "cell_type": "code",
   "execution_count": 14,
   "metadata": {},
   "outputs": [],
   "source": [
    "# Add latitude and longitude attributes to new dataset\n",
    "coords = pd.Series(cities).apply(geolocator.geocode).apply(lambda x: pd.Series({'Latitude':x.latitude, 'Longitude':x.longitude}))                       "
   ]
  },
  {
   "cell_type": "code",
   "execution_count": 15,
   "metadata": {},
   "outputs": [],
   "source": [
    "# Add cities names to latitude and longitude dataset\n",
    "cities = pd.Series(cities)\n",
    "coords['recipient_city_name'] = cities"
   ]
  },
  {
   "cell_type": "code",
   "execution_count": 16,
   "metadata": {},
   "outputs": [],
   "source": [
    "# Add geo-locations to contracts dataset\n",
    "contracts = contracts.merge(coords, how='left', on='recipient_city_name')"
   ]
  },
  {
   "cell_type": "code",
   "execution_count": 17,
   "metadata": {},
   "outputs": [],
   "source": [
    "# Create a random shuffle of latitude and longitude in order to more easily visualize on map (no point overlap)\n",
    "contracts['Latitude_shuf'] = contracts['Latitude'].apply(lambda x: x + np.random.uniform(-0.01, 0.01))\n",
    "contracts['Longitude_shuf'] =  contracts['Longitude'].apply(lambda x: x + np.random.uniform(-0.01, 0.01))"
   ]
  },
  {
   "cell_type": "code",
   "execution_count": 18,
   "metadata": {},
   "outputs": [],
   "source": [
    "# Create a contract length (years) variable\n",
    "contracts['con_len'] = contracts['end_year'] - contracts['start_year']"
   ]
  },
  {
   "cell_type": "code",
   "execution_count": 19,
   "metadata": {},
   "outputs": [],
   "source": [
    "# Create Sub-frames for Black, Hispanic and Minority Owned Businesses \n",
    "bbe = contracts.loc[contracts['black_american_owned_business'] == True]\n",
    "hbe = contracts.loc[contracts['hispanic_american_owned_business'] == True]\n",
    "mbe = contracts.loc[contracts['minority_owned_business'] == True]"
   ]
  },
  {
   "cell_type": "code",
   "execution_count": 20,
   "metadata": {},
   "outputs": [
    {
     "data": {
      "text/plain": [
       "recipient_name\n",
       "AKRIVIS TECHNOLOGIES, LLC              2\n",
       "APHIOS CORPORATION                     3\n",
       "ATAASK GLOBAL INC.                     2\n",
       "BAYASSOCIATES, INC.                    5\n",
       "BRYANT ASSOCIATES, INC.                2\n",
       "CLARENDON VALUATION ADVISORS, LLC      2\n",
       "COCKRELL, BEATRICE                     9\n",
       "GONA, PHILIMON                         1\n",
       "GORDON, PATRICK                        2\n",
       "HARLOW SCIENTIFIC, LLC                 1\n",
       "INTELIMAP INC                          2\n",
       "JMW SYSTEMS                            1\n",
       "WESTCARB ENTERPRISES, INC.             3\n",
       "WESTNET, INC.                        564\n",
       "WINDWALKER GROUP, LLC                  1\n",
       "Name: contract_award_unique_key, dtype: int64"
      ]
     },
     "execution_count": 20,
     "metadata": {},
     "output_type": "execute_result"
    }
   ],
   "source": [
    "# Reports all Black American Owned Businesses and the number grants they have recieved \n",
    "bbe.groupby(['recipient_name'])['contract_award_unique_key'].count()"
   ]
  },
  {
   "cell_type": "code",
   "execution_count": 21,
   "metadata": {},
   "outputs": [
    {
     "data": {
      "text/html": [
       "<div>\n",
       "<style scoped>\n",
       "    .dataframe tbody tr th:only-of-type {\n",
       "        vertical-align: middle;\n",
       "    }\n",
       "\n",
       "    .dataframe tbody tr th {\n",
       "        vertical-align: top;\n",
       "    }\n",
       "\n",
       "    .dataframe thead th {\n",
       "        text-align: right;\n",
       "    }\n",
       "</style>\n",
       "<table border=\"1\" class=\"dataframe\">\n",
       "  <thead>\n",
       "    <tr style=\"text-align: right;\">\n",
       "      <th></th>\n",
       "      <th>recipient_name</th>\n",
       "      <th>naics_description</th>\n",
       "    </tr>\n",
       "  </thead>\n",
       "  <tbody>\n",
       "    <tr>\n",
       "      <th>62</th>\n",
       "      <td>BRYANT ASSOCIATES, INC.</td>\n",
       "      <td>SURVEYING AND MAPPING (EXCEPT GEOPHYSICAL) SER...</td>\n",
       "    </tr>\n",
       "    <tr>\n",
       "      <th>112</th>\n",
       "      <td>BRYANT ASSOCIATES, INC.</td>\n",
       "      <td>SURVEYING AND MAPPING (EXCEPT GEOPHYSICAL) SER...</td>\n",
       "    </tr>\n",
       "    <tr>\n",
       "      <th>551</th>\n",
       "      <td>CLARENDON VALUATION ADVISORS, LLC</td>\n",
       "      <td>OFFICES OF REAL ESTATE APPRAISERS</td>\n",
       "    </tr>\n",
       "    <tr>\n",
       "      <th>769</th>\n",
       "      <td>GORDON, PATRICK</td>\n",
       "      <td>ENVIRONMENTAL CONSULTING SERVICES</td>\n",
       "    </tr>\n",
       "    <tr>\n",
       "      <th>791</th>\n",
       "      <td>INTELIMAP INC</td>\n",
       "      <td>OTHER MANAGEMENT CONSULTING SERVICES</td>\n",
       "    </tr>\n",
       "    <tr>\n",
       "      <th>807</th>\n",
       "      <td>GORDON, PATRICK</td>\n",
       "      <td>GRANTMAKING FOUNDATIONS</td>\n",
       "    </tr>\n",
       "    <tr>\n",
       "      <th>816</th>\n",
       "      <td>INTELIMAP INC</td>\n",
       "      <td>OTHER MANAGEMENT CONSULTING SERVICES</td>\n",
       "    </tr>\n",
       "    <tr>\n",
       "      <th>6888</th>\n",
       "      <td>WESTCARB ENTERPRISES, INC.</td>\n",
       "      <td>HARDWARE MERCHANT WHOLESALERS</td>\n",
       "    </tr>\n",
       "    <tr>\n",
       "      <th>6904</th>\n",
       "      <td>WESTCARB ENTERPRISES, INC.</td>\n",
       "      <td>HARDWARE MERCHANT WHOLESALERS</td>\n",
       "    </tr>\n",
       "    <tr>\n",
       "      <th>6916</th>\n",
       "      <td>WESTCARB ENTERPRISES, INC.</td>\n",
       "      <td>HARDWARE MERCHANT WHOLESALERS</td>\n",
       "    </tr>\n",
       "    <tr>\n",
       "      <th>7345</th>\n",
       "      <td>APHIOS CORPORATION</td>\n",
       "      <td>RESEARCH AND DEVELOPMENT IN BIOTECHNOLOGY</td>\n",
       "    </tr>\n",
       "    <tr>\n",
       "      <th>7474</th>\n",
       "      <td>AKRIVIS TECHNOLOGIES, LLC</td>\n",
       "      <td>RESEARCH AND DEVELOPMENT IN BIOTECHNOLOGY</td>\n",
       "    </tr>\n",
       "    <tr>\n",
       "      <th>7532</th>\n",
       "      <td>AKRIVIS TECHNOLOGIES, LLC</td>\n",
       "      <td>RESEARCH AND DEVELOPMENT IN BIOTECHNOLOGY</td>\n",
       "    </tr>\n",
       "    <tr>\n",
       "      <th>7851</th>\n",
       "      <td>WESTNET, INC.</td>\n",
       "      <td>SURGICAL AND MEDICAL INSTRUMENT MANUFACTURING</td>\n",
       "    </tr>\n",
       "    <tr>\n",
       "      <th>7857</th>\n",
       "      <td>WESTNET, INC.</td>\n",
       "      <td>SURGICAL AND MEDICAL INSTRUMENT MANUFACTURING</td>\n",
       "    </tr>\n",
       "    <tr>\n",
       "      <th>7864</th>\n",
       "      <td>WESTNET, INC.</td>\n",
       "      <td>SURGICAL AND MEDICAL INSTRUMENT MANUFACTURING</td>\n",
       "    </tr>\n",
       "    <tr>\n",
       "      <th>7875</th>\n",
       "      <td>WESTNET, INC.</td>\n",
       "      <td>SURGICAL AND MEDICAL INSTRUMENT MANUFACTURING</td>\n",
       "    </tr>\n",
       "    <tr>\n",
       "      <th>7880</th>\n",
       "      <td>WESTNET, INC.</td>\n",
       "      <td>SURGICAL AND MEDICAL INSTRUMENT MANUFACTURING</td>\n",
       "    </tr>\n",
       "    <tr>\n",
       "      <th>10211</th>\n",
       "      <td>WESTNET, INC.</td>\n",
       "      <td>MEDICAL, DENTAL, AND HOSPITAL EQUIPMENT AND SU...</td>\n",
       "    </tr>\n",
       "    <tr>\n",
       "      <th>10231</th>\n",
       "      <td>WESTNET, INC.</td>\n",
       "      <td>MEDICAL, DENTAL, AND HOSPITAL EQUIPMENT AND SU...</td>\n",
       "    </tr>\n",
       "    <tr>\n",
       "      <th>10234</th>\n",
       "      <td>WESTNET, INC.</td>\n",
       "      <td>MEDICAL, DENTAL, AND HOSPITAL EQUIPMENT AND SU...</td>\n",
       "    </tr>\n",
       "    <tr>\n",
       "      <th>10246</th>\n",
       "      <td>WESTNET, INC.</td>\n",
       "      <td>MEDICAL, DENTAL, AND HOSPITAL EQUIPMENT AND SU...</td>\n",
       "    </tr>\n",
       "    <tr>\n",
       "      <th>10251</th>\n",
       "      <td>WESTNET, INC.</td>\n",
       "      <td>MEDICAL, DENTAL, AND HOSPITAL EQUIPMENT AND SU...</td>\n",
       "    </tr>\n",
       "    <tr>\n",
       "      <th>10378</th>\n",
       "      <td>WESTNET, INC.</td>\n",
       "      <td>ANALYTICAL LABORATORY INSTRUMENT MANUFACTURING</td>\n",
       "    </tr>\n",
       "    <tr>\n",
       "      <th>10380</th>\n",
       "      <td>WESTNET, INC.</td>\n",
       "      <td>OTHER PRESSED AND BLOWN GLASS AND GLASSWARE MA...</td>\n",
       "    </tr>\n",
       "    <tr>\n",
       "      <th>10382</th>\n",
       "      <td>WESTNET, INC.</td>\n",
       "      <td>ELECTRONIC COMPUTER MANUFACTURING</td>\n",
       "    </tr>\n",
       "    <tr>\n",
       "      <th>10383</th>\n",
       "      <td>WESTNET, INC.</td>\n",
       "      <td>OTHER PRESSED AND BLOWN GLASS AND GLASSWARE MA...</td>\n",
       "    </tr>\n",
       "    <tr>\n",
       "      <th>10631</th>\n",
       "      <td>APHIOS CORPORATION</td>\n",
       "      <td>RESEARCH AND DEVELOPMENT IN THE PHYSICAL, ENGI...</td>\n",
       "    </tr>\n",
       "    <tr>\n",
       "      <th>10769</th>\n",
       "      <td>GONA, PHILIMON</td>\n",
       "      <td>RESEARCH AND DEVELOPMENT IN THE PHYSICAL, ENGI...</td>\n",
       "    </tr>\n",
       "    <tr>\n",
       "      <th>12684</th>\n",
       "      <td>APHIOS CORPORATION</td>\n",
       "      <td>RESEARCH AND DEVELOPMENT IN BIOTECHNOLOGY</td>\n",
       "    </tr>\n",
       "    <tr>\n",
       "      <th>12805</th>\n",
       "      <td>WESTNET, INC.</td>\n",
       "      <td>ANALYTICAL LABORATORY INSTRUMENT MANUFACTURING</td>\n",
       "    </tr>\n",
       "    <tr>\n",
       "      <th>13409</th>\n",
       "      <td>HARLOW SCIENTIFIC, LLC</td>\n",
       "      <td>ANALYTICAL LABORATORY INSTRUMENT MANUFACTURING</td>\n",
       "    </tr>\n",
       "    <tr>\n",
       "      <th>14108</th>\n",
       "      <td>JMW SYSTEMS</td>\n",
       "      <td>AIR-CONDITIONING AND WARM AIR HEATING EQUIPMEN...</td>\n",
       "    </tr>\n",
       "    <tr>\n",
       "      <th>15233</th>\n",
       "      <td>WESTNET, INC.</td>\n",
       "      <td>OTHER PROFESSIONAL EQUIPMENT AND SUPPLIES MERC...</td>\n",
       "    </tr>\n",
       "    <tr>\n",
       "      <th>15235</th>\n",
       "      <td>WESTNET, INC.</td>\n",
       "      <td>OTHER PROFESSIONAL EQUIPMENT AND SUPPLIES MERC...</td>\n",
       "    </tr>\n",
       "    <tr>\n",
       "      <th>15254</th>\n",
       "      <td>WESTNET, INC.</td>\n",
       "      <td>OTHER PROFESSIONAL EQUIPMENT AND SUPPLIES MERC...</td>\n",
       "    </tr>\n",
       "    <tr>\n",
       "      <th>15256</th>\n",
       "      <td>WESTNET, INC.</td>\n",
       "      <td>OTHER PROFESSIONAL EQUIPMENT AND SUPPLIES MERC...</td>\n",
       "    </tr>\n",
       "    <tr>\n",
       "      <th>15413</th>\n",
       "      <td>COCKRELL, BEATRICE</td>\n",
       "      <td>NaN</td>\n",
       "    </tr>\n",
       "    <tr>\n",
       "      <th>15415</th>\n",
       "      <td>COCKRELL, BEATRICE</td>\n",
       "      <td>NaN</td>\n",
       "    </tr>\n",
       "    <tr>\n",
       "      <th>15420</th>\n",
       "      <td>BAYASSOCIATES, INC.</td>\n",
       "      <td>ARCHITECTURAL SERVICES</td>\n",
       "    </tr>\n",
       "    <tr>\n",
       "      <th>15421</th>\n",
       "      <td>BAYASSOCIATES, INC.</td>\n",
       "      <td>ARCHITECTURAL SERVICES</td>\n",
       "    </tr>\n",
       "    <tr>\n",
       "      <th>15424</th>\n",
       "      <td>BAYASSOCIATES, INC.</td>\n",
       "      <td>ARCHITECTURAL SERVICES</td>\n",
       "    </tr>\n",
       "    <tr>\n",
       "      <th>15426</th>\n",
       "      <td>COCKRELL, BEATRICE</td>\n",
       "      <td>NaN</td>\n",
       "    </tr>\n",
       "    <tr>\n",
       "      <th>15442</th>\n",
       "      <td>COCKRELL, BEATRICE</td>\n",
       "      <td>ARCHITECTURAL SERVICES</td>\n",
       "    </tr>\n",
       "    <tr>\n",
       "      <th>15445</th>\n",
       "      <td>COCKRELL, BEATRICE</td>\n",
       "      <td>ARCHITECTURAL SERVICES</td>\n",
       "    </tr>\n",
       "    <tr>\n",
       "      <th>15446</th>\n",
       "      <td>COCKRELL, BEATRICE</td>\n",
       "      <td>ALL OTHER PROFESSIONAL, SCIENTIFIC, AND TECHNI...</td>\n",
       "    </tr>\n",
       "    <tr>\n",
       "      <th>15447</th>\n",
       "      <td>COCKRELL, BEATRICE</td>\n",
       "      <td>ALL OTHER PROFESSIONAL, SCIENTIFIC, AND TECHNI...</td>\n",
       "    </tr>\n",
       "    <tr>\n",
       "      <th>15450</th>\n",
       "      <td>COCKRELL, BEATRICE</td>\n",
       "      <td>ALL OTHER PROFESSIONAL, SCIENTIFIC, AND TECHNI...</td>\n",
       "    </tr>\n",
       "    <tr>\n",
       "      <th>15452</th>\n",
       "      <td>BAYASSOCIATES, INC.</td>\n",
       "      <td>ARCHITECTURAL SERVICES</td>\n",
       "    </tr>\n",
       "    <tr>\n",
       "      <th>15453</th>\n",
       "      <td>BAYASSOCIATES, INC.</td>\n",
       "      <td>ARCHITECTURAL SERVICES</td>\n",
       "    </tr>\n",
       "    <tr>\n",
       "      <th>15454</th>\n",
       "      <td>COCKRELL, BEATRICE</td>\n",
       "      <td>ALL OTHER PROFESSIONAL, SCIENTIFIC, AND TECHNI...</td>\n",
       "    </tr>\n",
       "    <tr>\n",
       "      <th>16358</th>\n",
       "      <td>WINDWALKER GROUP, LLC</td>\n",
       "      <td>SECURITY GUARDS AND PATROL SERVICES</td>\n",
       "    </tr>\n",
       "    <tr>\n",
       "      <th>16433</th>\n",
       "      <td>CLARENDON VALUATION ADVISORS, LLC</td>\n",
       "      <td>OFFICES OF REAL ESTATE APPRAISERS</td>\n",
       "    </tr>\n",
       "    <tr>\n",
       "      <th>17427</th>\n",
       "      <td>ATAASK GLOBAL INC.</td>\n",
       "      <td>SERVICES FOR THE ELDERLY AND PERSONS WITH DISA...</td>\n",
       "    </tr>\n",
       "    <tr>\n",
       "      <th>18481</th>\n",
       "      <td>ATAASK GLOBAL INC.</td>\n",
       "      <td>SERVICES FOR THE ELDERLY AND PERSONS WITH DISA...</td>\n",
       "    </tr>\n",
       "  </tbody>\n",
       "</table>\n",
       "</div>"
      ],
      "text/plain": [
       "                          recipient_name  \\\n",
       "62               BRYANT ASSOCIATES, INC.   \n",
       "112              BRYANT ASSOCIATES, INC.   \n",
       "551    CLARENDON VALUATION ADVISORS, LLC   \n",
       "769                      GORDON, PATRICK   \n",
       "791                        INTELIMAP INC   \n",
       "807                      GORDON, PATRICK   \n",
       "816                        INTELIMAP INC   \n",
       "6888          WESTCARB ENTERPRISES, INC.   \n",
       "6904          WESTCARB ENTERPRISES, INC.   \n",
       "6916          WESTCARB ENTERPRISES, INC.   \n",
       "7345                  APHIOS CORPORATION   \n",
       "7474           AKRIVIS TECHNOLOGIES, LLC   \n",
       "7532           AKRIVIS TECHNOLOGIES, LLC   \n",
       "7851                       WESTNET, INC.   \n",
       "7857                       WESTNET, INC.   \n",
       "7864                       WESTNET, INC.   \n",
       "7875                       WESTNET, INC.   \n",
       "7880                       WESTNET, INC.   \n",
       "10211                      WESTNET, INC.   \n",
       "10231                      WESTNET, INC.   \n",
       "10234                      WESTNET, INC.   \n",
       "10246                      WESTNET, INC.   \n",
       "10251                      WESTNET, INC.   \n",
       "10378                      WESTNET, INC.   \n",
       "10380                      WESTNET, INC.   \n",
       "10382                      WESTNET, INC.   \n",
       "10383                      WESTNET, INC.   \n",
       "10631                 APHIOS CORPORATION   \n",
       "10769                     GONA, PHILIMON   \n",
       "12684                 APHIOS CORPORATION   \n",
       "12805                      WESTNET, INC.   \n",
       "13409             HARLOW SCIENTIFIC, LLC   \n",
       "14108                        JMW SYSTEMS   \n",
       "15233                      WESTNET, INC.   \n",
       "15235                      WESTNET, INC.   \n",
       "15254                      WESTNET, INC.   \n",
       "15256                      WESTNET, INC.   \n",
       "15413                 COCKRELL, BEATRICE   \n",
       "15415                 COCKRELL, BEATRICE   \n",
       "15420                BAYASSOCIATES, INC.   \n",
       "15421                BAYASSOCIATES, INC.   \n",
       "15424                BAYASSOCIATES, INC.   \n",
       "15426                 COCKRELL, BEATRICE   \n",
       "15442                 COCKRELL, BEATRICE   \n",
       "15445                 COCKRELL, BEATRICE   \n",
       "15446                 COCKRELL, BEATRICE   \n",
       "15447                 COCKRELL, BEATRICE   \n",
       "15450                 COCKRELL, BEATRICE   \n",
       "15452                BAYASSOCIATES, INC.   \n",
       "15453                BAYASSOCIATES, INC.   \n",
       "15454                 COCKRELL, BEATRICE   \n",
       "16358              WINDWALKER GROUP, LLC   \n",
       "16433  CLARENDON VALUATION ADVISORS, LLC   \n",
       "17427                 ATAASK GLOBAL INC.   \n",
       "18481                 ATAASK GLOBAL INC.   \n",
       "\n",
       "                                       naics_description  \n",
       "62     SURVEYING AND MAPPING (EXCEPT GEOPHYSICAL) SER...  \n",
       "112    SURVEYING AND MAPPING (EXCEPT GEOPHYSICAL) SER...  \n",
       "551                    OFFICES OF REAL ESTATE APPRAISERS  \n",
       "769                    ENVIRONMENTAL CONSULTING SERVICES  \n",
       "791                 OTHER MANAGEMENT CONSULTING SERVICES  \n",
       "807                              GRANTMAKING FOUNDATIONS  \n",
       "816                 OTHER MANAGEMENT CONSULTING SERVICES  \n",
       "6888                       HARDWARE MERCHANT WHOLESALERS  \n",
       "6904                       HARDWARE MERCHANT WHOLESALERS  \n",
       "6916                       HARDWARE MERCHANT WHOLESALERS  \n",
       "7345           RESEARCH AND DEVELOPMENT IN BIOTECHNOLOGY  \n",
       "7474           RESEARCH AND DEVELOPMENT IN BIOTECHNOLOGY  \n",
       "7532           RESEARCH AND DEVELOPMENT IN BIOTECHNOLOGY  \n",
       "7851       SURGICAL AND MEDICAL INSTRUMENT MANUFACTURING  \n",
       "7857       SURGICAL AND MEDICAL INSTRUMENT MANUFACTURING  \n",
       "7864       SURGICAL AND MEDICAL INSTRUMENT MANUFACTURING  \n",
       "7875       SURGICAL AND MEDICAL INSTRUMENT MANUFACTURING  \n",
       "7880       SURGICAL AND MEDICAL INSTRUMENT MANUFACTURING  \n",
       "10211  MEDICAL, DENTAL, AND HOSPITAL EQUIPMENT AND SU...  \n",
       "10231  MEDICAL, DENTAL, AND HOSPITAL EQUIPMENT AND SU...  \n",
       "10234  MEDICAL, DENTAL, AND HOSPITAL EQUIPMENT AND SU...  \n",
       "10246  MEDICAL, DENTAL, AND HOSPITAL EQUIPMENT AND SU...  \n",
       "10251  MEDICAL, DENTAL, AND HOSPITAL EQUIPMENT AND SU...  \n",
       "10378     ANALYTICAL LABORATORY INSTRUMENT MANUFACTURING  \n",
       "10380  OTHER PRESSED AND BLOWN GLASS AND GLASSWARE MA...  \n",
       "10382                  ELECTRONIC COMPUTER MANUFACTURING  \n",
       "10383  OTHER PRESSED AND BLOWN GLASS AND GLASSWARE MA...  \n",
       "10631  RESEARCH AND DEVELOPMENT IN THE PHYSICAL, ENGI...  \n",
       "10769  RESEARCH AND DEVELOPMENT IN THE PHYSICAL, ENGI...  \n",
       "12684          RESEARCH AND DEVELOPMENT IN BIOTECHNOLOGY  \n",
       "12805     ANALYTICAL LABORATORY INSTRUMENT MANUFACTURING  \n",
       "13409     ANALYTICAL LABORATORY INSTRUMENT MANUFACTURING  \n",
       "14108  AIR-CONDITIONING AND WARM AIR HEATING EQUIPMEN...  \n",
       "15233  OTHER PROFESSIONAL EQUIPMENT AND SUPPLIES MERC...  \n",
       "15235  OTHER PROFESSIONAL EQUIPMENT AND SUPPLIES MERC...  \n",
       "15254  OTHER PROFESSIONAL EQUIPMENT AND SUPPLIES MERC...  \n",
       "15256  OTHER PROFESSIONAL EQUIPMENT AND SUPPLIES MERC...  \n",
       "15413                                                NaN  \n",
       "15415                                                NaN  \n",
       "15420                             ARCHITECTURAL SERVICES  \n",
       "15421                             ARCHITECTURAL SERVICES  \n",
       "15424                             ARCHITECTURAL SERVICES  \n",
       "15426                                                NaN  \n",
       "15442                             ARCHITECTURAL SERVICES  \n",
       "15445                             ARCHITECTURAL SERVICES  \n",
       "15446  ALL OTHER PROFESSIONAL, SCIENTIFIC, AND TECHNI...  \n",
       "15447  ALL OTHER PROFESSIONAL, SCIENTIFIC, AND TECHNI...  \n",
       "15450  ALL OTHER PROFESSIONAL, SCIENTIFIC, AND TECHNI...  \n",
       "15452                             ARCHITECTURAL SERVICES  \n",
       "15453                             ARCHITECTURAL SERVICES  \n",
       "15454  ALL OTHER PROFESSIONAL, SCIENTIFIC, AND TECHNI...  \n",
       "16358                SECURITY GUARDS AND PATROL SERVICES  \n",
       "16433                  OFFICES OF REAL ESTATE APPRAISERS  \n",
       "17427  SERVICES FOR THE ELDERLY AND PERSONS WITH DISA...  \n",
       "18481  SERVICES FOR THE ELDERLY AND PERSONS WITH DISA...  "
      ]
     },
     "execution_count": 21,
     "metadata": {},
     "output_type": "execute_result"
    }
   ],
   "source": [
    "# Reports all Black American Owned Businesses and the number grants they have recieved \n",
    "bbe.groupby(['recipient_name', 'naics_description'])['recipient_name', 'naics_description'].head()"
   ]
  },
  {
   "cell_type": "code",
   "execution_count": 22,
   "metadata": {},
   "outputs": [
    {
     "data": {
      "text/plain": [
       "recipient_name\n",
       "BIODIRECT INC.                            4\n",
       "BLANCO, EDGAR E                           1\n",
       "BRUNETTE, MARIA                           1\n",
       "CONVERGENCE MEDICAL DEVICES INC.          1\n",
       "CORTES, DHARMA E                          3\n",
       "GVC CONSTRUCTION AND ENGINEERING, INC.    1\n",
       "MEDICAL SPECIALTIES DISTRIBUTORS, LLC     1\n",
       "MIKRON, INC                               5\n",
       "MOURA'S CLEANING SERVICE, INC.            2\n",
       "NEO-ADVENT TECHNOLOGIES LLC               1\n",
       "TERESA, TRIANA                            1\n",
       "UNIC PRO, INC.                            4\n",
       "Name: contract_award_unique_key, dtype: int64"
      ]
     },
     "execution_count": 22,
     "metadata": {},
     "output_type": "execute_result"
    }
   ],
   "source": [
    "# Reports all Hispanic American Owned Businesses and the number grants they have recieved \n",
    "hbe.groupby(['recipient_name'])['contract_award_unique_key'].count()"
   ]
  },
  {
   "cell_type": "code",
   "execution_count": 23,
   "metadata": {},
   "outputs": [
    {
     "data": {
      "text/html": [
       "<div>\n",
       "<style scoped>\n",
       "    .dataframe tbody tr th:only-of-type {\n",
       "        vertical-align: middle;\n",
       "    }\n",
       "\n",
       "    .dataframe tbody tr th {\n",
       "        vertical-align: top;\n",
       "    }\n",
       "\n",
       "    .dataframe thead th {\n",
       "        text-align: right;\n",
       "    }\n",
       "</style>\n",
       "<table border=\"1\" class=\"dataframe\">\n",
       "  <thead>\n",
       "    <tr style=\"text-align: right;\">\n",
       "      <th></th>\n",
       "      <th>recipient_name</th>\n",
       "      <th>naics_description</th>\n",
       "    </tr>\n",
       "  </thead>\n",
       "  <tbody>\n",
       "    <tr>\n",
       "      <th>980</th>\n",
       "      <td>BLANCO, EDGAR E</td>\n",
       "      <td>ENVIRONMENTAL CONSULTING SERVICES</td>\n",
       "    </tr>\n",
       "    <tr>\n",
       "      <th>2066</th>\n",
       "      <td>GVC CONSTRUCTION AND ENGINEERING, INC.</td>\n",
       "      <td>HIGHWAY, STREET, AND BRIDGE CONSTRUCTION</td>\n",
       "    </tr>\n",
       "    <tr>\n",
       "      <th>2142</th>\n",
       "      <td>MOURA'S CLEANING SERVICE, INC.</td>\n",
       "      <td>JANITORIAL SERVICES</td>\n",
       "    </tr>\n",
       "    <tr>\n",
       "      <th>2159</th>\n",
       "      <td>MOURA'S CLEANING SERVICE, INC.</td>\n",
       "      <td>JANITORIAL SERVICES</td>\n",
       "    </tr>\n",
       "    <tr>\n",
       "      <th>3656</th>\n",
       "      <td>BRUNETTE, MARIA</td>\n",
       "      <td>RESEARCH AND DEVELOPMENT IN THE PHYSICAL, ENGI...</td>\n",
       "    </tr>\n",
       "    <tr>\n",
       "      <th>4842</th>\n",
       "      <td>NEO-ADVENT TECHNOLOGIES LLC</td>\n",
       "      <td>RESEARCH AND DEVELOPMENT IN THE PHYSICAL, ENGI...</td>\n",
       "    </tr>\n",
       "    <tr>\n",
       "      <th>5070</th>\n",
       "      <td>UNIC PRO, INC.</td>\n",
       "      <td>LANDSCAPING SERVICES</td>\n",
       "    </tr>\n",
       "    <tr>\n",
       "      <th>7187</th>\n",
       "      <td>CORTES, DHARMA E</td>\n",
       "      <td>RESEARCH AND DEVELOPMENT IN THE SOCIAL SCIENCE...</td>\n",
       "    </tr>\n",
       "    <tr>\n",
       "      <th>7194</th>\n",
       "      <td>CORTES, DHARMA E</td>\n",
       "      <td>RESEARCH AND DEVELOPMENT IN THE SOCIAL SCIENCE...</td>\n",
       "    </tr>\n",
       "    <tr>\n",
       "      <th>7196</th>\n",
       "      <td>CORTES, DHARMA E</td>\n",
       "      <td>RESEARCH AND DEVELOPMENT IN THE SOCIAL SCIENCE...</td>\n",
       "    </tr>\n",
       "    <tr>\n",
       "      <th>7314</th>\n",
       "      <td>BIODIRECT INC.</td>\n",
       "      <td>OTHER PROFESSIONAL EQUIPMENT AND SUPPLIES MERC...</td>\n",
       "    </tr>\n",
       "    <tr>\n",
       "      <th>8423</th>\n",
       "      <td>TERESA, TRIANA</td>\n",
       "      <td>TRANSLATION AND INTERPRETATION SERVICES</td>\n",
       "    </tr>\n",
       "    <tr>\n",
       "      <th>11270</th>\n",
       "      <td>MIKRON, INC</td>\n",
       "      <td>OTHER ELECTRONIC AND PRECISION EQUIPMENT REPAI...</td>\n",
       "    </tr>\n",
       "    <tr>\n",
       "      <th>11343</th>\n",
       "      <td>MIKRON, INC</td>\n",
       "      <td>IRRADIATION APPARATUS MANUFACTURING</td>\n",
       "    </tr>\n",
       "    <tr>\n",
       "      <th>11391</th>\n",
       "      <td>MIKRON, INC</td>\n",
       "      <td>ANALYTICAL LABORATORY INSTRUMENT MANUFACTURING</td>\n",
       "    </tr>\n",
       "    <tr>\n",
       "      <th>11639</th>\n",
       "      <td>BIODIRECT INC.</td>\n",
       "      <td>OTHER PROFESSIONAL EQUIPMENT AND SUPPLIES MERC...</td>\n",
       "    </tr>\n",
       "    <tr>\n",
       "      <th>11703</th>\n",
       "      <td>CONVERGENCE MEDICAL DEVICES INC.</td>\n",
       "      <td>ANALYTICAL LABORATORY INSTRUMENT MANUFACTURING</td>\n",
       "    </tr>\n",
       "    <tr>\n",
       "      <th>12261</th>\n",
       "      <td>BIODIRECT INC.</td>\n",
       "      <td>OTHER PROFESSIONAL EQUIPMENT AND SUPPLIES MERC...</td>\n",
       "    </tr>\n",
       "    <tr>\n",
       "      <th>12289</th>\n",
       "      <td>BIODIRECT INC.</td>\n",
       "      <td>OTHER PROFESSIONAL EQUIPMENT AND SUPPLIES MERC...</td>\n",
       "    </tr>\n",
       "    <tr>\n",
       "      <th>12414</th>\n",
       "      <td>MEDICAL SPECIALTIES DISTRIBUTORS, LLC</td>\n",
       "      <td>MEDICAL, DENTAL, AND HOSPITAL EQUIPMENT AND SU...</td>\n",
       "    </tr>\n",
       "    <tr>\n",
       "      <th>14503</th>\n",
       "      <td>MIKRON, INC</td>\n",
       "      <td>ALL OTHER BUSINESS SUPPORT SERVICES</td>\n",
       "    </tr>\n",
       "    <tr>\n",
       "      <th>15773</th>\n",
       "      <td>UNIC PRO, INC.</td>\n",
       "      <td>JANITORIAL SERVICES</td>\n",
       "    </tr>\n",
       "    <tr>\n",
       "      <th>16302</th>\n",
       "      <td>UNIC PRO, INC.</td>\n",
       "      <td>PARKING LOTS AND GARAGES</td>\n",
       "    </tr>\n",
       "    <tr>\n",
       "      <th>16438</th>\n",
       "      <td>UNIC PRO, INC.</td>\n",
       "      <td>JANITORIAL SERVICES</td>\n",
       "    </tr>\n",
       "    <tr>\n",
       "      <th>18353</th>\n",
       "      <td>MIKRON, INC</td>\n",
       "      <td>ANALYTICAL LABORATORY INSTRUMENT MANUFACTURING</td>\n",
       "    </tr>\n",
       "  </tbody>\n",
       "</table>\n",
       "</div>"
      ],
      "text/plain": [
       "                               recipient_name  \\\n",
       "980                           BLANCO, EDGAR E   \n",
       "2066   GVC CONSTRUCTION AND ENGINEERING, INC.   \n",
       "2142           MOURA'S CLEANING SERVICE, INC.   \n",
       "2159           MOURA'S CLEANING SERVICE, INC.   \n",
       "3656                          BRUNETTE, MARIA   \n",
       "4842              NEO-ADVENT TECHNOLOGIES LLC   \n",
       "5070                           UNIC PRO, INC.   \n",
       "7187                         CORTES, DHARMA E   \n",
       "7194                         CORTES, DHARMA E   \n",
       "7196                         CORTES, DHARMA E   \n",
       "7314                           BIODIRECT INC.   \n",
       "8423                           TERESA, TRIANA   \n",
       "11270                             MIKRON, INC   \n",
       "11343                             MIKRON, INC   \n",
       "11391                             MIKRON, INC   \n",
       "11639                          BIODIRECT INC.   \n",
       "11703        CONVERGENCE MEDICAL DEVICES INC.   \n",
       "12261                          BIODIRECT INC.   \n",
       "12289                          BIODIRECT INC.   \n",
       "12414   MEDICAL SPECIALTIES DISTRIBUTORS, LLC   \n",
       "14503                             MIKRON, INC   \n",
       "15773                          UNIC PRO, INC.   \n",
       "16302                          UNIC PRO, INC.   \n",
       "16438                          UNIC PRO, INC.   \n",
       "18353                             MIKRON, INC   \n",
       "\n",
       "                                       naics_description  \n",
       "980                    ENVIRONMENTAL CONSULTING SERVICES  \n",
       "2066            HIGHWAY, STREET, AND BRIDGE CONSTRUCTION  \n",
       "2142                                 JANITORIAL SERVICES  \n",
       "2159                                 JANITORIAL SERVICES  \n",
       "3656   RESEARCH AND DEVELOPMENT IN THE PHYSICAL, ENGI...  \n",
       "4842   RESEARCH AND DEVELOPMENT IN THE PHYSICAL, ENGI...  \n",
       "5070                                LANDSCAPING SERVICES  \n",
       "7187   RESEARCH AND DEVELOPMENT IN THE SOCIAL SCIENCE...  \n",
       "7194   RESEARCH AND DEVELOPMENT IN THE SOCIAL SCIENCE...  \n",
       "7196   RESEARCH AND DEVELOPMENT IN THE SOCIAL SCIENCE...  \n",
       "7314   OTHER PROFESSIONAL EQUIPMENT AND SUPPLIES MERC...  \n",
       "8423             TRANSLATION AND INTERPRETATION SERVICES  \n",
       "11270  OTHER ELECTRONIC AND PRECISION EQUIPMENT REPAI...  \n",
       "11343                IRRADIATION APPARATUS MANUFACTURING  \n",
       "11391     ANALYTICAL LABORATORY INSTRUMENT MANUFACTURING  \n",
       "11639  OTHER PROFESSIONAL EQUIPMENT AND SUPPLIES MERC...  \n",
       "11703     ANALYTICAL LABORATORY INSTRUMENT MANUFACTURING  \n",
       "12261  OTHER PROFESSIONAL EQUIPMENT AND SUPPLIES MERC...  \n",
       "12289  OTHER PROFESSIONAL EQUIPMENT AND SUPPLIES MERC...  \n",
       "12414  MEDICAL, DENTAL, AND HOSPITAL EQUIPMENT AND SU...  \n",
       "14503                ALL OTHER BUSINESS SUPPORT SERVICES  \n",
       "15773                                JANITORIAL SERVICES  \n",
       "16302                           PARKING LOTS AND GARAGES  \n",
       "16438                                JANITORIAL SERVICES  \n",
       "18353     ANALYTICAL LABORATORY INSTRUMENT MANUFACTURING  "
      ]
     },
     "execution_count": 23,
     "metadata": {},
     "output_type": "execute_result"
    }
   ],
   "source": [
    "# Reports all Black American Owned Businesses and the number grants they have recieved \n",
    "hbe.groupby(['recipient_name', 'naics_description'])['recipient_name', 'naics_description'].head()"
   ]
  },
  {
   "cell_type": "code",
   "execution_count": 24,
   "metadata": {},
   "outputs": [
    {
     "data": {
      "text/plain": [
       "recipient_name\n",
       "AKRIVIS TECHNOLOGIES, LLC            262186.000000\n",
       "APHIOS CORPORATION                   181159.666667\n",
       "ATAASK GLOBAL INC.                     7262.980000\n",
       "BAYASSOCIATES, INC.                   60697.000000\n",
       "BRYANT ASSOCIATES, INC.              349354.250000\n",
       "CLARENDON VALUATION ADVISORS, LLC     90543.090000\n",
       "COCKRELL, BEATRICE                     2971.666667\n",
       "GONA, PHILIMON                        33000.000000\n",
       "GORDON, PATRICK                        3306.000000\n",
       "HARLOW SCIENTIFIC, LLC                36045.000000\n",
       "INTELIMAP INC                         30325.000000\n",
       "JMW SYSTEMS                            7735.700000\n",
       "WESTCARB ENTERPRISES, INC.              468.320000\n",
       "WESTNET, INC.                         10751.934929\n",
       "WINDWALKER GROUP, LLC                497153.000000\n",
       "Name: obligated_amount, dtype: float64"
      ]
     },
     "execution_count": 24,
     "metadata": {},
     "output_type": "execute_result"
    }
   ],
   "source": [
    "# Reports the mean amount given to each Black American Owned Business\n",
    "bbe.groupby(['recipient_name'])['obligated_amount'].mean()"
   ]
  },
  {
   "cell_type": "code",
   "execution_count": 25,
   "metadata": {},
   "outputs": [
    {
     "data": {
      "text/plain": [
       "recipient_name\n",
       "BIODIRECT INC.                             37317.325000\n",
       "BLANCO, EDGAR E                             1000.000000\n",
       "BRUNETTE, MARIA                            20000.000000\n",
       "CONVERGENCE MEDICAL DEVICES INC.           27000.000000\n",
       "CORTES, DHARMA E                            1678.056667\n",
       "GVC CONSTRUCTION AND ENGINEERING, INC.     57655.000000\n",
       "MEDICAL SPECIALTIES DISTRIBUTORS, LLC       9975.000000\n",
       "MIKRON, INC                                 6962.720000\n",
       "MOURA'S CLEANING SERVICE, INC.            910872.845000\n",
       "NEO-ADVENT TECHNOLOGIES LLC               497310.000000\n",
       "TERESA, TRIANA                              4858.500000\n",
       "UNIC PRO, INC.                            120761.272500\n",
       "Name: obligated_amount, dtype: float64"
      ]
     },
     "execution_count": 25,
     "metadata": {},
     "output_type": "execute_result"
    }
   ],
   "source": [
    "# Reports the mean amount given to each Black American Owned Business\n",
    "hbe.groupby(['recipient_name'])['obligated_amount'].mean()"
   ]
  },
  {
   "cell_type": "code",
   "execution_count": 26,
   "metadata": {},
   "outputs": [
    {
     "name": "stdout",
     "output_type": "stream",
     "text": [
      "5818828338.933037\n",
      "3623861.283333333\n",
      "453811.76978417265\n",
      "7790130.782608695\n"
     ]
    }
   ],
   "source": [
    "# Reports the difference in mean obligated amount between black owned and non-black owned businesses \n",
    "print(contracts['annual_revenue'].mean() )\n",
    "print(contracts[contracts['minority_owned_business'] == True]['annual_revenue'].mean())\n",
    "print(contracts[contracts['black_american_owned_business'] == True]['annual_revenue'].mean())\n",
    "print(contracts[contracts['hispanic_american_owned_business'] == True]['annual_revenue'].mean())\n"
   ]
  },
  {
   "cell_type": "code",
   "execution_count": 27,
   "metadata": {},
   "outputs": [
    {
     "name": "stdout",
     "output_type": "stream",
     "text": [
      "264245.84250229923\n",
      "31068.202784679084\n",
      "14998.489333333346\n",
      "124468.254\n"
     ]
    }
   ],
   "source": [
    "# Reports the difference in mean obligated amount between black owned and non-black owned businesses \n",
    "print(contracts['obligated_amount'].mean() )\n",
    "print(contracts[contracts['minority_owned_business'] == True]['obligated_amount'].mean())\n",
    "print(contracts[contracts['black_american_owned_business'] == True]['obligated_amount'].mean())\n",
    "print(contracts[contracts['hispanic_american_owned_business'] == True]['obligated_amount'].mean())\n"
   ]
  },
  {
   "cell_type": "code",
   "execution_count": 28,
   "metadata": {},
   "outputs": [
    {
     "data": {
      "text/plain": [
       "black_american_owned_business\n",
       "False    272608.444521\n",
       "True      14998.489333\n",
       "Name: obligated_amount, dtype: float64"
      ]
     },
     "execution_count": 28,
     "metadata": {},
     "output_type": "execute_result"
    }
   ],
   "source": [
    "# Reports the difference in mean obligated amount between black owned and non-black owned businesses \n",
    "contracts.groupby(['black_american_owned_business'])['obligated_amount'].mean() "
   ]
  },
  {
   "cell_type": "code",
   "execution_count": 29,
   "metadata": {},
   "outputs": [
    {
     "data": {
      "text/plain": [
       "hispanic_american_owned_business\n",
       "False    264435.160939\n",
       "True     124468.254000\n",
       "Name: obligated_amount, dtype: float64"
      ]
     },
     "execution_count": 29,
     "metadata": {},
     "output_type": "execute_result"
    }
   ],
   "source": [
    "# Reports the difference in mean obligated amount between hispanic owned and non-black owned businesses \n",
    "contracts.groupby(['hispanic_american_owned_business'])['obligated_amount'].mean() "
   ]
  },
  {
   "cell_type": "code",
   "execution_count": 30,
   "metadata": {},
   "outputs": [
    {
     "data": {
      "text/plain": [
       "minority_owned_business\n",
       "False    277104.756698\n",
       "True      31068.202785\n",
       "Name: obligated_amount, dtype: float64"
      ]
     },
     "execution_count": 30,
     "metadata": {},
     "output_type": "execute_result"
    }
   ],
   "source": [
    "# Reports the difference in mean obligated amount between minority and non-minority owned businesses \n",
    "contracts.groupby(['minority_owned_business'])['obligated_amount'].mean() "
   ]
  },
  {
   "cell_type": "code",
   "execution_count": 31,
   "metadata": {},
   "outputs": [
    {
     "data": {
      "text/html": [
       "<div>\n",
       "<style scoped>\n",
       "    .dataframe tbody tr th:only-of-type {\n",
       "        vertical-align: middle;\n",
       "    }\n",
       "\n",
       "    .dataframe tbody tr th {\n",
       "        vertical-align: top;\n",
       "    }\n",
       "\n",
       "    .dataframe thead th {\n",
       "        text-align: right;\n",
       "    }\n",
       "</style>\n",
       "<table border=\"1\" class=\"dataframe\">\n",
       "  <thead>\n",
       "    <tr style=\"text-align: right;\">\n",
       "      <th></th>\n",
       "      <th>contract_award_unique_key</th>\n",
       "    </tr>\n",
       "    <tr>\n",
       "      <th>funding_agency_name</th>\n",
       "      <th></th>\n",
       "    </tr>\n",
       "  </thead>\n",
       "  <tbody>\n",
       "    <tr>\n",
       "      <th>DOT</th>\n",
       "      <td>4</td>\n",
       "    </tr>\n",
       "    <tr>\n",
       "      <th>EPA</th>\n",
       "      <td>2699</td>\n",
       "    </tr>\n",
       "    <tr>\n",
       "      <th>HHS</th>\n",
       "      <td>15487</td>\n",
       "    </tr>\n",
       "    <tr>\n",
       "      <th>HUD</th>\n",
       "      <td>199</td>\n",
       "    </tr>\n",
       "    <tr>\n",
       "      <th>NSF</th>\n",
       "      <td>94</td>\n",
       "    </tr>\n",
       "  </tbody>\n",
       "</table>\n",
       "</div>"
      ],
      "text/plain": [
       "                     contract_award_unique_key\n",
       "funding_agency_name                           \n",
       "DOT                                          4\n",
       "EPA                                       2699\n",
       "HHS                                      15487\n",
       "HUD                                        199\n",
       "NSF                                         94"
      ]
     },
     "execution_count": 31,
     "metadata": {},
     "output_type": "execute_result"
    }
   ],
   "source": [
    "# Reports the number of contracts given by each funding agency in the data \n",
    "contracts.groupby(['funding_agency_name'])[['contract_award_unique_key']].count()"
   ]
  },
  {
   "cell_type": "code",
   "execution_count": 32,
   "metadata": {},
   "outputs": [
    {
     "data": {
      "text/html": [
       "<div>\n",
       "<style scoped>\n",
       "    .dataframe tbody tr th:only-of-type {\n",
       "        vertical-align: middle;\n",
       "    }\n",
       "\n",
       "    .dataframe tbody tr th {\n",
       "        vertical-align: top;\n",
       "    }\n",
       "\n",
       "    .dataframe thead th {\n",
       "        text-align: right;\n",
       "    }\n",
       "</style>\n",
       "<table border=\"1\" class=\"dataframe\">\n",
       "  <thead>\n",
       "    <tr style=\"text-align: right;\">\n",
       "      <th></th>\n",
       "      <th>contract_award_unique_key</th>\n",
       "    </tr>\n",
       "    <tr>\n",
       "      <th>funding_agency_name</th>\n",
       "      <th></th>\n",
       "    </tr>\n",
       "  </thead>\n",
       "  <tbody>\n",
       "    <tr>\n",
       "      <th>EPA</th>\n",
       "      <td>9</td>\n",
       "    </tr>\n",
       "    <tr>\n",
       "      <th>HHS</th>\n",
       "      <td>575</td>\n",
       "    </tr>\n",
       "    <tr>\n",
       "      <th>HUD</th>\n",
       "      <td>16</td>\n",
       "    </tr>\n",
       "  </tbody>\n",
       "</table>\n",
       "</div>"
      ],
      "text/plain": [
       "                     contract_award_unique_key\n",
       "funding_agency_name                           \n",
       "EPA                                          9\n",
       "HHS                                        575\n",
       "HUD                                         16"
      ]
     },
     "execution_count": 32,
     "metadata": {},
     "output_type": "execute_result"
    }
   ],
   "source": [
    "# Reports the number of contracts given by each funding agency to black owned businesses \n",
    "bbe.groupby(['funding_agency_name'])[['contract_award_unique_key']].count()"
   ]
  },
  {
   "cell_type": "code",
   "execution_count": 33,
   "metadata": {},
   "outputs": [
    {
     "data": {
      "text/html": [
       "<div>\n",
       "<style scoped>\n",
       "    .dataframe tbody tr th:only-of-type {\n",
       "        vertical-align: middle;\n",
       "    }\n",
       "\n",
       "    .dataframe tbody tr th {\n",
       "        vertical-align: top;\n",
       "    }\n",
       "\n",
       "    .dataframe thead th {\n",
       "        text-align: right;\n",
       "    }\n",
       "</style>\n",
       "<table border=\"1\" class=\"dataframe\">\n",
       "  <thead>\n",
       "    <tr style=\"text-align: right;\">\n",
       "      <th></th>\n",
       "      <th>contract_award_unique_key</th>\n",
       "    </tr>\n",
       "    <tr>\n",
       "      <th>funding_agency_name</th>\n",
       "      <th></th>\n",
       "    </tr>\n",
       "  </thead>\n",
       "  <tbody>\n",
       "    <tr>\n",
       "      <th>EPA</th>\n",
       "      <td>4</td>\n",
       "    </tr>\n",
       "    <tr>\n",
       "      <th>HHS</th>\n",
       "      <td>21</td>\n",
       "    </tr>\n",
       "  </tbody>\n",
       "</table>\n",
       "</div>"
      ],
      "text/plain": [
       "                     contract_award_unique_key\n",
       "funding_agency_name                           \n",
       "EPA                                          4\n",
       "HHS                                         21"
      ]
     },
     "execution_count": 33,
     "metadata": {},
     "output_type": "execute_result"
    }
   ],
   "source": [
    "# Reports the number of contracts given by each funding agency to hispanic owned businesses \n",
    "hbe.groupby(['funding_agency_name'])[['contract_award_unique_key']].count()"
   ]
  },
  {
   "cell_type": "code",
   "execution_count": 34,
   "metadata": {},
   "outputs": [
    {
     "data": {
      "text/html": [
       "<div>\n",
       "<style scoped>\n",
       "    .dataframe tbody tr th:only-of-type {\n",
       "        vertical-align: middle;\n",
       "    }\n",
       "\n",
       "    .dataframe tbody tr th {\n",
       "        vertical-align: top;\n",
       "    }\n",
       "\n",
       "    .dataframe thead th {\n",
       "        text-align: right;\n",
       "    }\n",
       "</style>\n",
       "<table border=\"1\" class=\"dataframe\">\n",
       "  <thead>\n",
       "    <tr style=\"text-align: right;\">\n",
       "      <th></th>\n",
       "      <th>contract_award_unique_key</th>\n",
       "    </tr>\n",
       "    <tr>\n",
       "      <th>funding_agency_name</th>\n",
       "      <th></th>\n",
       "    </tr>\n",
       "  </thead>\n",
       "  <tbody>\n",
       "    <tr>\n",
       "      <th>EPA</th>\n",
       "      <td>46</td>\n",
       "    </tr>\n",
       "    <tr>\n",
       "      <th>HHS</th>\n",
       "      <td>903</td>\n",
       "    </tr>\n",
       "    <tr>\n",
       "      <th>HUD</th>\n",
       "      <td>17</td>\n",
       "    </tr>\n",
       "  </tbody>\n",
       "</table>\n",
       "</div>"
      ],
      "text/plain": [
       "                     contract_award_unique_key\n",
       "funding_agency_name                           \n",
       "EPA                                         46\n",
       "HHS                                        903\n",
       "HUD                                         17"
      ]
     },
     "execution_count": 34,
     "metadata": {},
     "output_type": "execute_result"
    }
   ],
   "source": [
    "# Reports the number of contracts given by each funding agency to minority owned businesses \n",
    "mbe.groupby(['funding_agency_name'])[['contract_award_unique_key']].count()"
   ]
  },
  {
   "cell_type": "code",
   "execution_count": 35,
   "metadata": {},
   "outputs": [
    {
     "data": {
      "image/png": "[encoded data removed]",
      "text/plain": [
       "<Figure size 432x288 with 1 Axes>"
      ]
     },
     "metadata": {
      "needs_background": "light"
     },
     "output_type": "display_data"
    }
   ],
   "source": [
    "# Shows the number of contracts awarded by each funding agency to both black owned and non-black owned businesses\n",
    "bbe.groupby(['funding_agency_name'])['contract_award_unique_key'].count().plot(kind=\"bar\", legend=False)#.unstack().plot.bar()\n",
    "#plt.legend(loc='center left')\n",
    "plt.ylabel(\"Number of Grants Awarded\")\n",
    "plt.xlabel(\"Funding Agency\")\n",
    "plt.xticks(rotation=\"horizontal\")\n",
    "plt.title(\"Number of Grants Awarded to Black Owned Businesses by Funding Agency\", fontsize=10)\n",
    "plt.show()\n"
   ]
  },
  {
   "cell_type": "code",
   "execution_count": 36,
   "metadata": {},
   "outputs": [
    {
     "data": {
      "image/png": "[encoded data removed]",
      "text/plain": [
       "<Figure size 432x288 with 1 Axes>"
      ]
     },
     "metadata": {
      "needs_background": "light"
     },
     "output_type": "display_data"
    }
   ],
   "source": [
    "# Shows the number of contracts awarded by each funding agency to both black owned and non-black owned businesses\n",
    "hbe.groupby(['funding_agency_name'])['contract_award_unique_key'].count().plot(kind=\"bar\" ,legend=False)#.unstack().plot.bar()\n",
    "plt.ylabel(\"Number of Grants Awarded\")\n",
    "plt.xlabel(\"Funding Agency\")\n",
    "plt.xticks(rotation=\"horizontal\")\n",
    "plt.title(\"Number of Grants Awarded to Hispanic Owned Businesses by Funding Agency\", fontsize=10)\n",
    "plt.show()\n"
   ]
  },
  {
   "cell_type": "code",
   "execution_count": 37,
   "metadata": {},
   "outputs": [
    {
     "data": {
      "image/png": "[encoded data removed]",
      "text/plain": [
       "<Figure size 432x288 with 1 Axes>"
      ]
     },
     "metadata": {
      "needs_background": "light"
     },
     "output_type": "display_data"
    }
   ],
   "source": [
    "# Shows the number of contracts awarded by each funding agency to both black owned and non-black owned businesses\n",
    "mbe.groupby(['funding_agency_name'])['contract_award_unique_key'].count().plot(kind=\"bar\", legend=False)#.unstack().plot.bar()\n",
    "plt.ylabel(\"Number of Grants Awarded\")\n",
    "plt.xlabel(\"Funding Agency\")\n",
    "plt.xticks(rotation=\"horizontal\")\n",
    "plt.title(\"Number of Grants Awarded to Minority Owned Businesses by Funding Agency\", fontsize=10)\n",
    "plt.show()\n"
   ]
  },
  {
   "cell_type": "code",
   "execution_count": 38,
   "metadata": {},
   "outputs": [
    {
     "data": {
      "image/png": "[encoded data removed]",
      "text/plain": [
       "<Figure size 432x288 with 1 Axes>"
      ]
     },
     "metadata": {
      "needs_background": "light"
     },
     "output_type": "display_data"
    }
   ],
   "source": [
    "# Shows the number of contracts awarded by each funding agency to both black owned and non-black owned businesses\n",
    "contracts.groupby(['funding_agency_name'])['contract_award_unique_key'].count().plot(kind=\"bar\", legend=False)#.unstack().plot.bar()\n",
    "plt.ylabel(\"Number of Grants Awarded\")\n",
    "plt.xlabel(\"Funding Agency\")\n",
    "plt.xticks(rotation=\"horizontal\")\n",
    "plt.title(\"Number of Grants Awarded by Funding Agency\", fontsize=10)\n",
    "plt.show()"
   ]
  },
  {
   "cell_type": "code",
   "execution_count": null,
   "metadata": {},
   "outputs": [],
   "source": []
  },
  {
   "cell_type": "code",
   "execution_count": 39,
   "metadata": {},
   "outputs": [],
   "source": [
    "# Creates sub-frames for black, hispanic and minority owned businesses grouped by the funding agency\n",
    "# Then the proportions of each minority group, for each funding agency\n",
    "norm_mbe = contracts.groupby(['funding_agency_name'])['minority_owned_business'].value_counts(normalize=True).unstack()\n",
    "norm_bbe = contracts.groupby(['funding_agency_name'])['black_american_owned_business'].value_counts(normalize=True).unstack()\n",
    "norm_hbe = contracts.groupby(['funding_agency_name'])['hispanic_american_owned_business'].value_counts(normalize=True).unstack()"
   ]
  },
  {
   "cell_type": "code",
   "execution_count": 40,
   "metadata": {},
   "outputs": [],
   "source": [
    "# Map the meaning of true/false so that labels are less confusing \n",
    "norm_mbe = norm_mbe.rename(columns={True: \"Minority Owned\", False: \"Not Minority Owned\"})\n",
    "norm_bbe = norm_bbe.rename(columns={True: \"Black Owned\", False: \"Not Black Owned\"})\n",
    "norm_hbe = norm_hbe.rename(columns={True: \"Hispanic Owned\", False: \"Not Hispanic Owned\"})"
   ]
  },
  {
   "cell_type": "code",
   "execution_count": 41,
   "metadata": {},
   "outputs": [
    {
     "data": {
      "image/png": "[encoded data removed]",
      "text/plain": [
       "<Figure size 1152x576 with 1 Axes>"
      ]
     },
     "metadata": {
      "needs_background": "light"
     },
     "output_type": "display_data"
    }
   ],
   "source": [
    "# Plots the proportions of each minority group recieving grants from individual funding agencies \n",
    "\n",
    "\n",
    "fig = plt.figure(figsize = [8, 4.8])\n",
    "ax = fig.add_subplot(111)\n",
    "fig.set_size_inches(16, 8)\n",
    "fig.subplots_adjust(wspace = 0.)\n",
    "\n",
    "norm_mbe.plot(kind='bar', stacked=True, width = 0.1, colormap=\"tab20\", position=-0.5, ax=ax, align='center') \n",
    "norm_bbe.plot(kind='bar', stacked=True, width = 0.1, colormap=\"tab20b\", position=0.5, ax=ax, align='center')\n",
    "norm_hbe.plot(kind='bar', stacked=True, width = 0.1, colormap = \"hot\", position=1.5, ax=ax, align='center')\n",
    "\n",
    "ax.spines['right'].set_smart_bounds\n",
    "\n",
    "plt.legend(loc='lower left', \n",
    "           fontsize = 'medium')\n",
    "\n",
    "plt.xlabel('Funding Agency', fontsize=18)\n",
    "plt.ylabel('Proportion', fontsize=18)\n",
    "plt.title(\"Proportions of Minorities by Funding Agency\", fontsize=20)\n",
    "\n",
    "\n",
    "plt.show()\n"
   ]
  },
  {
   "cell_type": "code",
   "execution_count": null,
   "metadata": {},
   "outputs": [],
   "source": []
  },
  {
   "cell_type": "code",
   "execution_count": 42,
   "metadata": {},
   "outputs": [],
   "source": [
    "rep_count = contracts.groupby('recipient_name')[['contract_award_unique_key']].count()\n",
    "rep_count = rep_count.rename(columns={'contract_award_unique_key': 'number_of_grants'})"
   ]
  },
  {
   "cell_type": "code",
   "execution_count": 43,
   "metadata": {},
   "outputs": [],
   "source": [
    "reps=rep_count.merge(contracts.groupby('recipient_name')[['annual_revenue']].mean(), left_index=True, right_index=True)\n"
   ]
  },
  {
   "cell_type": "code",
   "execution_count": 44,
   "metadata": {},
   "outputs": [],
   "source": [
    "reps = reps.merge(contracts.groupby('recipient_name')[['minority_owned_business']].any(), left_index=True, right_index=True)"
   ]
  },
  {
   "cell_type": "code",
   "execution_count": 45,
   "metadata": {},
   "outputs": [],
   "source": [
    "reps = reps.merge(contracts.groupby('recipient_name')[['black_american_owned_business']].any(), left_index=True, right_index=True)"
   ]
  },
  {
   "cell_type": "code",
   "execution_count": 46,
   "metadata": {},
   "outputs": [],
   "source": [
    "reps = reps.merge(contracts.groupby('recipient_name')[['hispanic_american_owned_business']].any(), left_index=True, right_index=True)"
   ]
  },
  {
   "cell_type": "code",
   "execution_count": null,
   "metadata": {},
   "outputs": [],
   "source": []
  },
  {
   "cell_type": "code",
   "execution_count": null,
   "metadata": {},
   "outputs": [],
   "source": []
  },
  {
   "cell_type": "code",
   "execution_count": 47,
   "metadata": {},
   "outputs": [],
   "source": [
    "reps_no = reps.dropna()\n",
    "\n",
    "reps_no = reps_no[reps_no['annual_revenue'].astype(int) < 0.5e+11]\n",
    "reps_no = reps_no[reps_no['number_of_grants'] < 20]"
   ]
  },
  {
   "cell_type": "code",
   "execution_count": 48,
   "metadata": {},
   "outputs": [
    {
     "data": {
      "text/plain": [
       "Text(0.5, 1.0, 'Number of Grants Recieved by an Enterprise against Annual Revenue\\n (For Enterprises with less than 20 grants \\nand Revenue less than 50 Billion)')"
      ]
     },
     "execution_count": 48,
     "metadata": {},
     "output_type": "execute_result"
    },
    {
     "data": {
      "image/png": "[encoded data removed]",
      "text/plain": [
       "<Figure size 432x288 with 1 Axes>"
      ]
     },
     "metadata": {
      "needs_background": "light"
     },
     "output_type": "display_data"
    }
   ],
   "source": [
    "reps_no.plot(kind='scatter', x='number_of_grants', y='annual_revenue')\n",
    "plt.xlabel('Number of Grants')#, fontsize=18)\n",
    "plt.ylabel('Annual Revenue')#, fontsize=18)\n",
    "plt.title(\"Number of Grants Recieved by an Enterprise against Annual Revenue\\n \" +\n",
    "          \"(For Enterprises with less than 20 grants \\nand Revenue less than 50 Billion)\", fontsize=8)\n",
    "\n",
    "#xlocs()\n",
    "#xlabs([100, 200, 300, 400, 500, 600, 700, 800, 900, 1000, 1100, 1200, 1300, 1400])\n",
    "\n",
    "#locs, xlabs = plt.xticks()\n",
    "#plt.xticks([100, 200, 300, 400, 500, 600, 700, 800])\n"
   ]
  },
  {
   "cell_type": "code",
   "execution_count": 49,
   "metadata": {
    "scrolled": true
   },
   "outputs": [
    {
     "data": {
      "image/png": "[encoded data removed]",
      "text/plain": [
       "<Figure size 432x288 with 1 Axes>"
      ]
     },
     "metadata": {
      "needs_background": "light"
     },
     "output_type": "display_data"
    }
   ],
   "source": [
    "bbe.groupby(['funding_agency_name', 'recipient_name'])[['contract_award_unique_key']].count().unstack().plot(kind='bar',stacked=True, legend=False)\n",
    "plt.show()"
   ]
  },
  {
   "cell_type": "code",
   "execution_count": 167,
   "metadata": {},
   "outputs": [
    {
     "data": {
      "text/plain": [
       "sole_proprietorship\n",
       "False    5.918330e+09\n",
       "True     1.730749e+09\n",
       "Name: annual_revenue, dtype: float64"
      ]
     },
     "execution_count": 167,
     "metadata": {},
     "output_type": "execute_result"
    }
   ],
   "source": [
    "# Reports the difference in the annual revenue between sole proprietorship and non-sole proprietorships\n",
    "contracts.groupby(['sole_proprietorship'])['annual_revenue'].mean() "
   ]
  },
  {
   "cell_type": "code",
   "execution_count": 173,
   "metadata": {},
   "outputs": [
    {
     "data": {
      "text/plain": [
       "103"
      ]
     },
     "execution_count": 173,
     "metadata": {},
     "output_type": "execute_result"
    }
   ],
   "source": [
    "# Find total number of sole proprietorships\n",
    "len(contracts[contracts['sole_proprietorship'] == True].groupby(['recipient_name'])['recipient_name'])\n",
    "          \n",
    "          "
   ]
  },
  {
   "cell_type": "code",
   "execution_count": 174,
   "metadata": {},
   "outputs": [
    {
     "data": {
      "text/plain": [
       "1474"
      ]
     },
     "execution_count": 174,
     "metadata": {},
     "output_type": "execute_result"
    }
   ],
   "source": [
    "# Find number of unique receipients \n",
    "len(contracts.groupby(['recipient_name'])['recipient_name'])"
   ]
  },
  {
   "cell_type": "code",
   "execution_count": 175,
   "metadata": {},
   "outputs": [],
   "source": [
    "# Creates sub-frames for each minority group and calculates the number of sole proprietorships in each group\n",
    "sole_mbe = mbe.groupby(['sole_proprietorship'])['contract_award_unique_key'].count()\n",
    "sole_bbe = bbe.groupby(['sole_proprietorship'])['contract_award_unique_key'].count()\n",
    "sole_hbe = hbe.groupby(['sole_proprietorship'])['contract_award_unique_key'].count()\n",
    "sole_total = contracts.groupby('sole_proprietorship')['contract_award_unique_key'].count()"
   ]
  },
  {
   "cell_type": "code",
   "execution_count": null,
   "metadata": {},
   "outputs": [],
   "source": []
  },
  {
   "cell_type": "code",
   "execution_count": 176,
   "metadata": {},
   "outputs": [],
   "source": [
    "# Concatenates sub-frames in order to plot the proportions\n",
    "sole_1 = pd.concat([sole_total, sole_mbe], axis=1, keys=[\"Total\", \"MBE\"])\n",
    "sole_2 = pd.concat([sole_bbe, sole_hbe], axis=1, keys=[\"BBE\", \"HBE\"])\n",
    "sole = pd.concat([sole_1, sole_2], axis=1)"
   ]
  },
  {
   "cell_type": "code",
   "execution_count": null,
   "metadata": {},
   "outputs": [],
   "source": []
  },
  {
   "cell_type": "code",
   "execution_count": 177,
   "metadata": {},
   "outputs": [],
   "source": [
    "# Turns the counts of sole proprietorships in each minority group into proportions for easier comparison \n",
    "sole['MBE'] = sole['MBE'] / sole['MBE'].sum()\n",
    "sole['BBE'] = sole['BBE'] / sole['BBE'].sum()\n",
    "sole['HBE'] = sole['HBE'] / sole['HBE'].sum()\n",
    "sole['Total'] = sole['Total'] / sole['Total'].sum()"
   ]
  },
  {
   "cell_type": "code",
   "execution_count": null,
   "metadata": {},
   "outputs": [],
   "source": []
  },
  {
   "cell_type": "code",
   "execution_count": 178,
   "metadata": {},
   "outputs": [
    {
     "data": {
      "image/png": "[encoded data removed]",
      "text/plain": [
       "<Figure size 432x288 with 1 Axes>"
      ]
     },
     "metadata": {},
     "output_type": "display_data"
    }
   ],
   "source": [
    "# Plots the proportions of sole proprietorships for each minority group and the whole set of contracts \n",
    "sole.plot(kind='bar')\n",
    "plt.ylabel(\"Proportion\")\n",
    "plt.xlabel(\"Sole Proprietorship\")\n",
    "plt.xticks(rotation=\"horizontal\")\n",
    "plt.title(\"Proportion of Sole Proprietorship Enterprises based on Minority Group\", fontsize=10)\n",
    "plt.savefig(\"Proportion of Sole Proprietorship Enterprises based on Minority Group\")"
   ]
  },
  {
   "cell_type": "code",
   "execution_count": 41,
   "metadata": {},
   "outputs": [],
   "source": [
    "# Creates sub-frames with counts for the number of top naics for each minority (as true or false)\n",
    "naics_mbe = mbe.groupby(['top_naics'])['contract_award_unique_key'].count()\n",
    "naics_bbe = bbe.groupby(['top_naics'])['contract_award_unique_key'].count()\n",
    "naics_hbe = hbe.groupby(['top_naics'])['contract_award_unique_key'].count()\n",
    "naics_total = contracts.groupby(['top_naics'])['contract_award_unique_key'].count()"
   ]
  },
  {
   "cell_type": "code",
   "execution_count": 42,
   "metadata": {},
   "outputs": [],
   "source": [
    "# Creates a dataframe with the counts of tops naics and non-top naics for each minority group\n",
    "naics_1 = pd.concat([naics_total, naics_mbe], axis=1, keys=[\"Total\", \"MBE\"])\n",
    "naics_2 = pd.concat([naics_bbe, naics_hbe], axis=1, keys=[\"BBE\", \"HBE\"])\n",
    "naics_sum = pd.concat([naics_1, naics_2], axis=1)"
   ]
  },
  {
   "cell_type": "code",
   "execution_count": 43,
   "metadata": {},
   "outputs": [],
   "source": [
    "# Manually calculate the proportions for each minority group \n",
    "naics_sum['MBE'] = naics_sum['MBE'] / naics_sum['MBE'].sum()\n",
    "naics_sum['BBE'] = naics_sum['BBE'] / naics_sum['BBE'].sum()\n",
    "naics_sum['HBE'] = naics_sum['HBE'] / naics_sum['HBE'].sum()\n",
    "naics_sum['Total'] = naics_sum['Total'] / naics_sum['Total'].sum()"
   ]
  },
  {
   "cell_type": "code",
   "execution_count": 44,
   "metadata": {},
   "outputs": [
    {
     "data": {
      "image/png": "[encoded data removed]",
      "text/plain": [
       "<Figure size 432x288 with 1 Axes>"
      ]
     },
     "metadata": {},
     "output_type": "display_data"
    }
   ],
   "source": [
    "# Plots the proportions of top naics for each minority group\n",
    "naics_sum.plot(kind='bar')\n",
    "plt.ylabel(\"Proportion\")\n",
    "plt.xlabel(\"Tops Naics\")\n",
    "plt.xticks(rotation=\"horizontal\")\n",
    "plt.title(\"Proportion of Top Naics Enterprises based on Minority Group\", fontsize=10)\n",
    "plt.savefig(\"Proportion of Top Naics Enterprises based on Minority Group\")"
   ]
  },
  {
   "cell_type": "code",
   "execution_count": 51,
   "metadata": {},
   "outputs": [],
   "source": [
    "# Create black owned subframe, without Westnet (the black owned business receiving a majority (564/600) of contracts\n",
    "# to black owned businesses)\n",
    "bbe_no_westnet = bbe[bbe['recipient_name'] != 'WESTNET, INC.']\n"
   ]
  },
  {
   "cell_type": "code",
   "execution_count": null,
   "metadata": {},
   "outputs": [],
   "source": []
  },
  {
   "cell_type": "code",
   "execution_count": 52,
   "metadata": {},
   "outputs": [],
   "source": [
    "# Creates sub-frames with counts for the number of top naics for each minority (as true or false)\n",
    "naics_mbe = mbe.groupby(['top_naics'])['contract_award_unique_key'].count()\n",
    "naics_bbe = bbe_no_westnet.groupby(['top_naics'])['contract_award_unique_key'].count()\n",
    "naics_hbe = hbe.groupby(['top_naics'])['contract_award_unique_key'].count()\n",
    "naics_total = contracts.groupby(['top_naics'])['contract_award_unique_key'].count()"
   ]
  },
  {
   "cell_type": "code",
   "execution_count": 53,
   "metadata": {},
   "outputs": [],
   "source": [
    "# Creates a dataframe with the counts of tops naics and non-top naics for each minority group\n",
    "naics_1 = pd.concat([naics_total, naics_mbe], axis=1, keys=[\"Total\", \"MBE\"])\n",
    "naics_2 = pd.concat([naics_bbe, naics_hbe], axis=1, keys=[\"BBE\", \"HBE\"])\n",
    "naics_sum = pd.concat([naics_1, naics_2], axis=1)"
   ]
  },
  {
   "cell_type": "code",
   "execution_count": 54,
   "metadata": {},
   "outputs": [],
   "source": [
    "# Manually calculate the proportions for each minority group \n",
    "naics_sum['MBE'] = naics_sum['MBE'] / naics_sum['MBE'].sum()\n",
    "naics_sum['BBE'] = naics_sum['BBE'] / naics_sum['BBE'].sum()\n",
    "naics_sum['HBE'] = naics_sum['HBE'] / naics_sum['HBE'].sum()\n",
    "naics_sum['Total'] = naics_sum['Total'] / naics_sum['Total'].sum()"
   ]
  },
  {
   "cell_type": "code",
   "execution_count": 56,
   "metadata": {},
   "outputs": [
    {
     "data": {
      "image/png": "[encoded data removed]",
      "text/plain": [
       "<Figure size 432x288 with 1 Axes>"
      ]
     },
     "metadata": {
      "needs_background": "light"
     },
     "output_type": "display_data"
    }
   ],
   "source": [
    "# Plots the proportions of top naics for each minority group (Without Westnet)\n",
    "naics_sum.plot(kind='bar')\n",
    "plt.ylabel(\"Proportion\")\n",
    "plt.xlabel(\"Tops Naics\")\n",
    "plt.xticks(rotation=\"horizontal\")\n",
    "plt.title(\"Proportion of Top Naics Enterprises based on Minority Group (Without Westnet)\", fontsize=10)\n",
    "plt.savefig(\"Proportion of Top Naics Enterprises based on Minority Group\")"
   ]
  },
  {
   "cell_type": "code",
   "execution_count": 61,
   "metadata": {},
   "outputs": [],
   "source": [
    "# Create dataframe of unique naics for black owned businesses receiving grants\n",
    "bbe_naics = pd.Series(bbe['naics_description'].unique())\n",
    "bbe_naics_counts = bbe_naics.isin(top_naics).value_counts()"
   ]
  },
  {
   "cell_type": "code",
   "execution_count": 62,
   "metadata": {},
   "outputs": [],
   "source": [
    "# Create dataframe of unique naics for hispanic owned businesses receiving grants\n",
    "hbe_naics = pd.Series(hbe['naics_description'].unique())\n",
    "hbe_naics_counts = hbe_naics.isin(top_naics).value_counts()"
   ]
  },
  {
   "cell_type": "code",
   "execution_count": 63,
   "metadata": {},
   "outputs": [],
   "source": [
    "# Create dataframe of unique naics for minority owned businesses receiving grants\n",
    "mbe_naics = pd.Series(mbe['naics_description'].unique())\n",
    "mbe_naics_counts =mbe_naics.isin(top_naics).value_counts()"
   ]
  },
  {
   "cell_type": "code",
   "execution_count": 64,
   "metadata": {},
   "outputs": [],
   "source": [
    "# Create dataframe of unique naics for all receiving grants\n",
    "tot_naics = pd.Series(contracts['naics_description'].unique())\n",
    "tot_naics_counts = tot_naics.isin(top_naics).value_counts()"
   ]
  },
  {
   "cell_type": "code",
   "execution_count": 67,
   "metadata": {},
   "outputs": [],
   "source": [
    "# Concatenates sub-frames in order to plot the proportions\n",
    "top_naics_1 = pd.concat([tot_naics_counts, mbe_naics_counts], axis=1, keys=[\"Total\", \"MBE\"])\n",
    "top_naics_2 = pd.concat([bbe_naics_counts, hbe_naics_counts], axis=1, keys=[\"BBE\", \"HBE\"])\n",
    "top_naics_minor = pd.concat([top_naics_1, top_naics_2], axis=1)"
   ]
  },
  {
   "cell_type": "code",
   "execution_count": 68,
   "metadata": {},
   "outputs": [
    {
     "data": {
      "text/html": [
       "<div>\n",
       "<style scoped>\n",
       "    .dataframe tbody tr th:only-of-type {\n",
       "        vertical-align: middle;\n",
       "    }\n",
       "\n",
       "    .dataframe tbody tr th {\n",
       "        vertical-align: top;\n",
       "    }\n",
       "\n",
       "    .dataframe thead th {\n",
       "        text-align: right;\n",
       "    }\n",
       "</style>\n",
       "<table border=\"1\" class=\"dataframe\">\n",
       "  <thead>\n",
       "    <tr style=\"text-align: right;\">\n",
       "      <th></th>\n",
       "      <th>Total</th>\n",
       "      <th>MBE</th>\n",
       "      <th>BBE</th>\n",
       "      <th>HBE</th>\n",
       "    </tr>\n",
       "  </thead>\n",
       "  <tbody>\n",
       "    <tr>\n",
       "      <th>False</th>\n",
       "      <td>363</td>\n",
       "      <td>63</td>\n",
       "      <td>17</td>\n",
       "      <td>11</td>\n",
       "    </tr>\n",
       "    <tr>\n",
       "      <th>True</th>\n",
       "      <td>5</td>\n",
       "      <td>4</td>\n",
       "      <td>3</td>\n",
       "      <td>3</td>\n",
       "    </tr>\n",
       "  </tbody>\n",
       "</table>\n",
       "</div>"
      ],
      "text/plain": [
       "       Total  MBE  BBE  HBE\n",
       "False    363   63   17   11\n",
       "True       5    4    3    3"
      ]
     },
     "execution_count": 68,
     "metadata": {},
     "output_type": "execute_result"
    }
   ],
   "source": [
    "top_naics_minor"
   ]
  },
  {
   "cell_type": "code",
   "execution_count": 69,
   "metadata": {},
   "outputs": [],
   "source": [
    "# Manually calculate the proportions for each minority group \n",
    "top_naics_minor['MBE'] = top_naics_minor['MBE'] / top_naics_minor['MBE'].sum()\n",
    "top_naics_minor['BBE'] = top_naics_minor['BBE'] / top_naics_minor['BBE'].sum()\n",
    "top_naics_minor['HBE'] = top_naics_minor['HBE'] / top_naics_minor['HBE'].sum()\n",
    "top_naics_minor['Total'] = top_naics_minor['Total'] / top_naics_minor['Total'].sum()"
   ]
  },
  {
   "cell_type": "code",
   "execution_count": 237,
   "metadata": {},
   "outputs": [
    {
     "data": {
      "text/html": [
       "<div>\n",
       "<style scoped>\n",
       "    .dataframe tbody tr th:only-of-type {\n",
       "        vertical-align: middle;\n",
       "    }\n",
       "\n",
       "    .dataframe tbody tr th {\n",
       "        vertical-align: top;\n",
       "    }\n",
       "\n",
       "    .dataframe thead th {\n",
       "        text-align: right;\n",
       "    }\n",
       "</style>\n",
       "<table border=\"1\" class=\"dataframe\">\n",
       "  <thead>\n",
       "    <tr style=\"text-align: right;\">\n",
       "      <th></th>\n",
       "      <th>Total</th>\n",
       "      <th>MBE</th>\n",
       "      <th>BBE</th>\n",
       "      <th>HBE</th>\n",
       "    </tr>\n",
       "  </thead>\n",
       "  <tbody>\n",
       "    <tr>\n",
       "      <th>False</th>\n",
       "      <td>0.932065</td>\n",
       "      <td>0.746269</td>\n",
       "      <td>0.65</td>\n",
       "      <td>0.642857</td>\n",
       "    </tr>\n",
       "    <tr>\n",
       "      <th>True</th>\n",
       "      <td>0.067935</td>\n",
       "      <td>0.253731</td>\n",
       "      <td>0.35</td>\n",
       "      <td>0.357143</td>\n",
       "    </tr>\n",
       "  </tbody>\n",
       "</table>\n",
       "</div>"
      ],
      "text/plain": [
       "          Total       MBE   BBE       HBE\n",
       "False  0.932065  0.746269  0.65  0.642857\n",
       "True   0.067935  0.253731  0.35  0.357143"
      ]
     },
     "execution_count": 237,
     "metadata": {},
     "output_type": "execute_result"
    }
   ],
   "source": [
    "top_naics_minor "
   ]
  },
  {
   "cell_type": "code",
   "execution_count": 70,
   "metadata": {},
   "outputs": [
    {
     "data": {
      "image/png": "[encoded data removed]",
      "text/plain": [
       "<Figure size 432x288 with 1 Axes>"
      ]
     },
     "metadata": {
      "needs_background": "light"
     },
     "output_type": "display_data"
    }
   ],
   "source": [
    "# Plots the proportions of top naics for each minority group\n",
    "top_naics_minor.plot(kind='bar')\n",
    "plt.ylabel(\"Proportion\")\n",
    "plt.xlabel(\"Tops Naics\")\n",
    "plt.xticks(rotation=\"horizontal\")\n",
    "plt.title(\"Proportion of Top Naics Enterprises based on Minority Group\", fontsize=10)\n",
    "plt.savefig(\"Proportion of Top Naics Enterprises based on Minority Group\")"
   ]
  },
  {
   "cell_type": "code",
   "execution_count": null,
   "metadata": {},
   "outputs": [],
   "source": []
  },
  {
   "cell_type": "code",
   "execution_count": 72,
   "metadata": {},
   "outputs": [],
   "source": [
    "# creates an instance of the folium map in order to plot the locations of recipients\n",
    "def generateBaseMap(defaultlocation = [42.4072, -71.3824]):\n",
    "    \"\"\"Creates a basemap onto which datapoints can be added\"\"\"\n",
    "    base_map = folium.Map(location = defaultlocation)\n",
    "    return base_map\n"
   ]
  },
  {
   "cell_type": "code",
   "execution_count": 219,
   "metadata": {},
   "outputs": [],
   "source": [
    "# Base Map Creation for Heatmap\n",
    "base_map_total = generateBaseMap()\n",
    "\n",
    "# Creates a heatmap, using the Folium Heatmap Plugin\n",
    "heatmap_data_shuf = contracts[[\"Latitude_shuf\", \"Longitude_shuf\"]] \n",
    "HeatMap(data = heatmap_data_shuf, radius=8, max_zoom=13).add_to(base_map_total)\n",
    "\n",
    "# Saves the created basemap \n",
    "base_map_total.save('maps/total_contracts_map.html')\n",
    "#display(base_map_total)"
   ]
  },
  {
   "cell_type": "code",
   "execution_count": 220,
   "metadata": {},
   "outputs": [],
   "source": [
    "# Base Map Creation for Heatmap\n",
    "base_map_bbe = generateBaseMap()\n",
    "\n",
    "# Creates a heatmap, using the Folium Heatmap Plugin\n",
    "heatmap_data = bbe[[\"Latitude_shuf\", \"Longitude_shuf\"]] \n",
    "HeatMap(data = heatmap_data, radius=8, max_zoom=13).add_to(base_map_bbe)\n",
    "\n",
    "# Saves the created basemap \n",
    "base_map_bbe.save('maps/bbe_contracts_map.html')\n",
    "#display(base_map_bbe)"
   ]
  },
  {
   "cell_type": "code",
   "execution_count": 221,
   "metadata": {},
   "outputs": [],
   "source": [
    "# Base Map Creation for Heatmap\n",
    "base_map_hbe = generateBaseMap()\n",
    "\n",
    "# Creates a heatmap, using the Folium Heatmap Plugin\n",
    "heatmap_data = hbe[[\"Latitude_shuf\", \"Longitude_shuf\"]]\n",
    "HeatMap(data = heatmap_data, radius=8, max_zoom=13).add_to(base_map_hbe)\n",
    "\n",
    "# Saves the created basemap \n",
    "base_map_hbe.save('maps/hbe_contracts_map.html')\n",
    "#display(base_map_hbe)"
   ]
  },
  {
   "cell_type": "code",
   "execution_count": 222,
   "metadata": {},
   "outputs": [],
   "source": [
    "# Base Map Creation for Heatmap\n",
    "base_map_mbe = generateBaseMap()\n",
    "\n",
    "# Creates a heatmap, using the Folium Heatmap Plugin\n",
    "heatmap_data = mbe[[\"Latitude_shuf\", \"Longitude_shuf\"]] \n",
    "HeatMap(data = heatmap_data, radius=8, max_zoom=25).add_to(base_map_mbe)\n",
    "\n",
    "# Saves the created basemap \n",
    "base_map_mbe.save('maps/mbe_contracts_map.html')\n",
    "#display(base_map_mbe)"
   ]
  },
  {
   "cell_type": "code",
   "execution_count": null,
   "metadata": {},
   "outputs": [],
   "source": []
  },
  {
   "cell_type": "code",
   "execution_count": 73,
   "metadata": {},
   "outputs": [],
   "source": [
    "# Creates a dataframe with recipients based in Boston proper\n",
    "boston_contracts = contracts[contracts['recipient_city_name'] == \"BOSTON, MA\"]"
   ]
  },
  {
   "cell_type": "code",
   "execution_count": 207,
   "metadata": {},
   "outputs": [
    {
     "data": {
      "text/html": [
       "<div>\n",
       "<style scoped>\n",
       "    .dataframe tbody tr th:only-of-type {\n",
       "        vertical-align: middle;\n",
       "    }\n",
       "\n",
       "    .dataframe tbody tr th {\n",
       "        vertical-align: top;\n",
       "    }\n",
       "\n",
       "    .dataframe thead th {\n",
       "        text-align: right;\n",
       "    }\n",
       "</style>\n",
       "<table border=\"1\" class=\"dataframe\">\n",
       "  <thead>\n",
       "    <tr style=\"text-align: right;\">\n",
       "      <th></th>\n",
       "      <th>contract_award_unique_key</th>\n",
       "      <th>obligated_amount</th>\n",
       "      <th>period_of_performance_start_date</th>\n",
       "      <th>period_of_performance_current_end_date</th>\n",
       "      <th>funding_agency_name</th>\n",
       "      <th>funding_sub_agency_name</th>\n",
       "      <th>recipient_name</th>\n",
       "      <th>primary_place_of_performance_county_name</th>\n",
       "      <th>recipient_city_name</th>\n",
       "      <th>naics_description</th>\n",
       "      <th>...</th>\n",
       "      <th>nonprofit_organization</th>\n",
       "      <th>other_not_for_profit_organization</th>\n",
       "      <th>start_year</th>\n",
       "      <th>end_year</th>\n",
       "      <th>top_naics</th>\n",
       "      <th>Latitude</th>\n",
       "      <th>Longitude</th>\n",
       "      <th>Latitude_shuf</th>\n",
       "      <th>Longitude_shuf</th>\n",
       "      <th>con_len</th>\n",
       "    </tr>\n",
       "  </thead>\n",
       "  <tbody>\n",
       "    <tr>\n",
       "      <th>62</th>\n",
       "      <td>CONT_AWD_0003_9700_W912WJ15D0002_9700</td>\n",
       "      <td>58676.00</td>\n",
       "      <td>6/7/16</td>\n",
       "      <td>6/20/17 0:00</td>\n",
       "      <td>EPA</td>\n",
       "      <td>ENVIRONMENTAL PROTECTION AGENCY</td>\n",
       "      <td>BRYANT ASSOCIATES, INC.</td>\n",
       "      <td>BRISTOL</td>\n",
       "      <td>BOSTON, MA</td>\n",
       "      <td>SURVEYING AND MAPPING (EXCEPT GEOPHYSICAL) SER...</td>\n",
       "      <td>...</td>\n",
       "      <td>False</td>\n",
       "      <td>False</td>\n",
       "      <td>16</td>\n",
       "      <td>17.0</td>\n",
       "      <td>False</td>\n",
       "      <td>42.360253</td>\n",
       "      <td>-71.058291</td>\n",
       "      <td>42.355811</td>\n",
       "      <td>-71.051961</td>\n",
       "      <td>1.0</td>\n",
       "    </tr>\n",
       "    <tr>\n",
       "      <th>112</th>\n",
       "      <td>CONT_AWD_0006_9700_W912WJ15D0002_9700</td>\n",
       "      <td>640032.50</td>\n",
       "      <td>3/14/17</td>\n",
       "      <td>9/14/18 0:00</td>\n",
       "      <td>EPA</td>\n",
       "      <td>ENVIRONMENTAL PROTECTION AGENCY</td>\n",
       "      <td>BRYANT ASSOCIATES, INC.</td>\n",
       "      <td>BRISTOL</td>\n",
       "      <td>BOSTON, MA</td>\n",
       "      <td>SURVEYING AND MAPPING (EXCEPT GEOPHYSICAL) SER...</td>\n",
       "      <td>...</td>\n",
       "      <td>False</td>\n",
       "      <td>False</td>\n",
       "      <td>17</td>\n",
       "      <td>18.0</td>\n",
       "      <td>False</td>\n",
       "      <td>42.360253</td>\n",
       "      <td>-71.058291</td>\n",
       "      <td>42.357400</td>\n",
       "      <td>-71.052598</td>\n",
       "      <td>1.0</td>\n",
       "    </tr>\n",
       "    <tr>\n",
       "      <th>551</th>\n",
       "      <td>CONT_AWD_DU204SB12P0025_8600_-NONE-_-NONE-</td>\n",
       "      <td>104408.00</td>\n",
       "      <td>9/27/12</td>\n",
       "      <td>9/26/14 0:00</td>\n",
       "      <td>HUD</td>\n",
       "      <td>HOUSING AND URBAN DEVELOPMENT, DEPARTMENT OF</td>\n",
       "      <td>CLARENDON VALUATION ADVISORS, LLC</td>\n",
       "      <td>NEW YORK</td>\n",
       "      <td>BOSTON, MA</td>\n",
       "      <td>OFFICES OF REAL ESTATE APPRAISERS</td>\n",
       "      <td>...</td>\n",
       "      <td>False</td>\n",
       "      <td>False</td>\n",
       "      <td>12</td>\n",
       "      <td>14.0</td>\n",
       "      <td>False</td>\n",
       "      <td>42.360253</td>\n",
       "      <td>-71.058291</td>\n",
       "      <td>42.369630</td>\n",
       "      <td>-71.059102</td>\n",
       "      <td>2.0</td>\n",
       "    </tr>\n",
       "    <tr>\n",
       "      <th>6888</th>\n",
       "      <td>CONT_AWD_HHSI248201100079G_7527_GS21F0154W_4730</td>\n",
       "      <td>325.20</td>\n",
       "      <td>5/5/11</td>\n",
       "      <td>5/11/11 0:00</td>\n",
       "      <td>HHS</td>\n",
       "      <td>INDIAN HEALTH SERVICE</td>\n",
       "      <td>WESTCARB ENTERPRISES, INC.</td>\n",
       "      <td>MARION</td>\n",
       "      <td>BOSTON, MA</td>\n",
       "      <td>HARDWARE MERCHANT WHOLESALERS</td>\n",
       "      <td>...</td>\n",
       "      <td>False</td>\n",
       "      <td>False</td>\n",
       "      <td>11</td>\n",
       "      <td>11.0</td>\n",
       "      <td>False</td>\n",
       "      <td>42.360253</td>\n",
       "      <td>-71.058291</td>\n",
       "      <td>42.369113</td>\n",
       "      <td>-71.055930</td>\n",
       "      <td>0.0</td>\n",
       "    </tr>\n",
       "    <tr>\n",
       "      <th>16358</th>\n",
       "      <td>CONT_AWD_68HE0D18C0030_6800_-NONE-_-NONE-</td>\n",
       "      <td>497153.00</td>\n",
       "      <td>10/1/18</td>\n",
       "      <td>9/30/20 0:00</td>\n",
       "      <td>EPA</td>\n",
       "      <td>ENVIRONMENTAL PROTECTION AGENCY</td>\n",
       "      <td>WINDWALKER GROUP, LLC</td>\n",
       "      <td>WASHINGTON</td>\n",
       "      <td>BOSTON, MA</td>\n",
       "      <td>SECURITY GUARDS AND PATROL SERVICES</td>\n",
       "      <td>...</td>\n",
       "      <td>False</td>\n",
       "      <td>False</td>\n",
       "      <td>18</td>\n",
       "      <td>20.0</td>\n",
       "      <td>False</td>\n",
       "      <td>42.360253</td>\n",
       "      <td>-71.058291</td>\n",
       "      <td>42.354604</td>\n",
       "      <td>-71.058558</td>\n",
       "      <td>2.0</td>\n",
       "    </tr>\n",
       "    <tr>\n",
       "      <th>16433</th>\n",
       "      <td>CONT_IDV_DU204SA12C01_8600</td>\n",
       "      <td>76678.18</td>\n",
       "      <td>6/15/12</td>\n",
       "      <td>NaN</td>\n",
       "      <td>HUD</td>\n",
       "      <td>HOUSING AND URBAN DEVELOPMENT, DEPARTMENT OF</td>\n",
       "      <td>CLARENDON VALUATION ADVISORS, LLC</td>\n",
       "      <td>NaN</td>\n",
       "      <td>BOSTON, MA</td>\n",
       "      <td>OFFICES OF REAL ESTATE APPRAISERS</td>\n",
       "      <td>...</td>\n",
       "      <td>False</td>\n",
       "      <td>False</td>\n",
       "      <td>12</td>\n",
       "      <td>NaN</td>\n",
       "      <td>False</td>\n",
       "      <td>42.360253</td>\n",
       "      <td>-71.058291</td>\n",
       "      <td>42.354861</td>\n",
       "      <td>-71.061417</td>\n",
       "      <td>NaN</td>\n",
       "    </tr>\n",
       "  </tbody>\n",
       "</table>\n",
       "<p>6 rows × 34 columns</p>\n",
       "</div>"
      ],
      "text/plain": [
       "                             contract_award_unique_key  obligated_amount  \\\n",
       "62               CONT_AWD_0003_9700_W912WJ15D0002_9700          58676.00   \n",
       "112              CONT_AWD_0006_9700_W912WJ15D0002_9700         640032.50   \n",
       "551         CONT_AWD_DU204SB12P0025_8600_-NONE-_-NONE-         104408.00   \n",
       "6888   CONT_AWD_HHSI248201100079G_7527_GS21F0154W_4730            325.20   \n",
       "16358        CONT_AWD_68HE0D18C0030_6800_-NONE-_-NONE-         497153.00   \n",
       "16433                       CONT_IDV_DU204SA12C01_8600          76678.18   \n",
       "\n",
       "      period_of_performance_start_date period_of_performance_current_end_date  \\\n",
       "62                              6/7/16                           6/20/17 0:00   \n",
       "112                            3/14/17                           9/14/18 0:00   \n",
       "551                            9/27/12                           9/26/14 0:00   \n",
       "6888                            5/5/11                           5/11/11 0:00   \n",
       "16358                          10/1/18                           9/30/20 0:00   \n",
       "16433                          6/15/12                                    NaN   \n",
       "\n",
       "      funding_agency_name                       funding_sub_agency_name  \\\n",
       "62                    EPA               ENVIRONMENTAL PROTECTION AGENCY   \n",
       "112                   EPA               ENVIRONMENTAL PROTECTION AGENCY   \n",
       "551                   HUD  HOUSING AND URBAN DEVELOPMENT, DEPARTMENT OF   \n",
       "6888                  HHS                         INDIAN HEALTH SERVICE   \n",
       "16358                 EPA               ENVIRONMENTAL PROTECTION AGENCY   \n",
       "16433                 HUD  HOUSING AND URBAN DEVELOPMENT, DEPARTMENT OF   \n",
       "\n",
       "                          recipient_name  \\\n",
       "62               BRYANT ASSOCIATES, INC.   \n",
       "112              BRYANT ASSOCIATES, INC.   \n",
       "551    CLARENDON VALUATION ADVISORS, LLC   \n",
       "6888          WESTCARB ENTERPRISES, INC.   \n",
       "16358              WINDWALKER GROUP, LLC   \n",
       "16433  CLARENDON VALUATION ADVISORS, LLC   \n",
       "\n",
       "      primary_place_of_performance_county_name recipient_city_name  \\\n",
       "62                                     BRISTOL          BOSTON, MA   \n",
       "112                                    BRISTOL          BOSTON, MA   \n",
       "551                                   NEW YORK          BOSTON, MA   \n",
       "6888                                    MARION          BOSTON, MA   \n",
       "16358                               WASHINGTON          BOSTON, MA   \n",
       "16433                                      NaN          BOSTON, MA   \n",
       "\n",
       "                                       naics_description  ...  \\\n",
       "62     SURVEYING AND MAPPING (EXCEPT GEOPHYSICAL) SER...  ...   \n",
       "112    SURVEYING AND MAPPING (EXCEPT GEOPHYSICAL) SER...  ...   \n",
       "551                    OFFICES OF REAL ESTATE APPRAISERS  ...   \n",
       "6888                       HARDWARE MERCHANT WHOLESALERS  ...   \n",
       "16358                SECURITY GUARDS AND PATROL SERVICES  ...   \n",
       "16433                  OFFICES OF REAL ESTATE APPRAISERS  ...   \n",
       "\n",
       "       nonprofit_organization  other_not_for_profit_organization start_year  \\\n",
       "62                      False                              False         16   \n",
       "112                     False                              False         17   \n",
       "551                     False                              False         12   \n",
       "6888                    False                              False         11   \n",
       "16358                   False                              False         18   \n",
       "16433                   False                              False         12   \n",
       "\n",
       "       end_year  top_naics   Latitude  Longitude  Latitude_shuf  \\\n",
       "62         17.0      False  42.360253 -71.058291      42.355811   \n",
       "112        18.0      False  42.360253 -71.058291      42.357400   \n",
       "551        14.0      False  42.360253 -71.058291      42.369630   \n",
       "6888       11.0      False  42.360253 -71.058291      42.369113   \n",
       "16358      20.0      False  42.360253 -71.058291      42.354604   \n",
       "16433       NaN      False  42.360253 -71.058291      42.354861   \n",
       "\n",
       "       Longitude_shuf  con_len  \n",
       "62         -71.051961      1.0  \n",
       "112        -71.052598      1.0  \n",
       "551        -71.059102      2.0  \n",
       "6888       -71.055930      0.0  \n",
       "16358      -71.058558      2.0  \n",
       "16433      -71.061417      NaN  \n",
       "\n",
       "[6 rows x 34 columns]"
      ]
     },
     "execution_count": 207,
     "metadata": {},
     "output_type": "execute_result"
    }
   ],
   "source": [
    "# Lists black owned businesses based in Boston receiving contracts\n",
    "boston_contracts[boston_contracts['black_american_owned_business'] == True]"
   ]
  },
  {
   "cell_type": "code",
   "execution_count": 208,
   "metadata": {},
   "outputs": [
    {
     "data": {
      "text/html": [
       "<div>\n",
       "<style scoped>\n",
       "    .dataframe tbody tr th:only-of-type {\n",
       "        vertical-align: middle;\n",
       "    }\n",
       "\n",
       "    .dataframe tbody tr th {\n",
       "        vertical-align: top;\n",
       "    }\n",
       "\n",
       "    .dataframe thead th {\n",
       "        text-align: right;\n",
       "    }\n",
       "</style>\n",
       "<table border=\"1\" class=\"dataframe\">\n",
       "  <thead>\n",
       "    <tr style=\"text-align: right;\">\n",
       "      <th></th>\n",
       "      <th>contract_award_unique_key</th>\n",
       "      <th>obligated_amount</th>\n",
       "      <th>period_of_performance_start_date</th>\n",
       "      <th>period_of_performance_current_end_date</th>\n",
       "      <th>funding_agency_name</th>\n",
       "      <th>funding_sub_agency_name</th>\n",
       "      <th>recipient_name</th>\n",
       "      <th>primary_place_of_performance_county_name</th>\n",
       "      <th>recipient_city_name</th>\n",
       "      <th>naics_description</th>\n",
       "      <th>...</th>\n",
       "      <th>nonprofit_organization</th>\n",
       "      <th>other_not_for_profit_organization</th>\n",
       "      <th>start_year</th>\n",
       "      <th>end_year</th>\n",
       "      <th>top_naics</th>\n",
       "      <th>Latitude</th>\n",
       "      <th>Longitude</th>\n",
       "      <th>Latitude_shuf</th>\n",
       "      <th>Longitude_shuf</th>\n",
       "      <th>con_len</th>\n",
       "    </tr>\n",
       "  </thead>\n",
       "  <tbody>\n",
       "    <tr>\n",
       "      <th>11703</th>\n",
       "      <td>CONT_AWD_HHSN271201300270P_7529_-NONE-_-NONE-</td>\n",
       "      <td>27000.0</td>\n",
       "      <td>3/20/13</td>\n",
       "      <td>5/1/13 0:00</td>\n",
       "      <td>HHS</td>\n",
       "      <td>NATIONAL INSTITUTES OF HEALTH</td>\n",
       "      <td>CONVERGENCE MEDICAL DEVICES INC.</td>\n",
       "      <td>MIDDLESEX</td>\n",
       "      <td>BOSTON, MA</td>\n",
       "      <td>ANALYTICAL LABORATORY INSTRUMENT MANUFACTURING</td>\n",
       "      <td>...</td>\n",
       "      <td>False</td>\n",
       "      <td>False</td>\n",
       "      <td>13</td>\n",
       "      <td>13.0</td>\n",
       "      <td>True</td>\n",
       "      <td>42.360253</td>\n",
       "      <td>-71.058291</td>\n",
       "      <td>42.361088</td>\n",
       "      <td>-71.050322</td>\n",
       "      <td>0.0</td>\n",
       "    </tr>\n",
       "  </tbody>\n",
       "</table>\n",
       "<p>1 rows × 34 columns</p>\n",
       "</div>"
      ],
      "text/plain": [
       "                           contract_award_unique_key  obligated_amount  \\\n",
       "11703  CONT_AWD_HHSN271201300270P_7529_-NONE-_-NONE-           27000.0   \n",
       "\n",
       "      period_of_performance_start_date period_of_performance_current_end_date  \\\n",
       "11703                          3/20/13                            5/1/13 0:00   \n",
       "\n",
       "      funding_agency_name        funding_sub_agency_name  \\\n",
       "11703                 HHS  NATIONAL INSTITUTES OF HEALTH   \n",
       "\n",
       "                         recipient_name  \\\n",
       "11703  CONVERGENCE MEDICAL DEVICES INC.   \n",
       "\n",
       "      primary_place_of_performance_county_name recipient_city_name  \\\n",
       "11703                                MIDDLESEX          BOSTON, MA   \n",
       "\n",
       "                                    naics_description  ...  \\\n",
       "11703  ANALYTICAL LABORATORY INSTRUMENT MANUFACTURING  ...   \n",
       "\n",
       "       nonprofit_organization  other_not_for_profit_organization start_year  \\\n",
       "11703                   False                              False         13   \n",
       "\n",
       "       end_year  top_naics   Latitude  Longitude  Latitude_shuf  \\\n",
       "11703      13.0       True  42.360253 -71.058291      42.361088   \n",
       "\n",
       "       Longitude_shuf  con_len  \n",
       "11703      -71.050322      0.0  \n",
       "\n",
       "[1 rows x 34 columns]"
      ]
     },
     "execution_count": 208,
     "metadata": {},
     "output_type": "execute_result"
    }
   ],
   "source": [
    "# Lists hispanic owned businesses based in Boston receiving contracts\n",
    "boston_contracts[boston_contracts['hispanic_american_owned_business'] == True]"
   ]
  },
  {
   "cell_type": "code",
   "execution_count": 209,
   "metadata": {},
   "outputs": [
    {
     "data": {
      "text/html": [
       "<div>\n",
       "<style scoped>\n",
       "    .dataframe tbody tr th:only-of-type {\n",
       "        vertical-align: middle;\n",
       "    }\n",
       "\n",
       "    .dataframe tbody tr th {\n",
       "        vertical-align: top;\n",
       "    }\n",
       "\n",
       "    .dataframe thead th {\n",
       "        text-align: right;\n",
       "    }\n",
       "</style>\n",
       "<table border=\"1\" class=\"dataframe\">\n",
       "  <thead>\n",
       "    <tr style=\"text-align: right;\">\n",
       "      <th></th>\n",
       "      <th>contract_award_unique_key</th>\n",
       "      <th>obligated_amount</th>\n",
       "      <th>period_of_performance_start_date</th>\n",
       "      <th>period_of_performance_current_end_date</th>\n",
       "      <th>funding_agency_name</th>\n",
       "      <th>funding_sub_agency_name</th>\n",
       "      <th>recipient_name</th>\n",
       "      <th>primary_place_of_performance_county_name</th>\n",
       "      <th>recipient_city_name</th>\n",
       "      <th>naics_description</th>\n",
       "      <th>...</th>\n",
       "      <th>nonprofit_organization</th>\n",
       "      <th>other_not_for_profit_organization</th>\n",
       "      <th>start_year</th>\n",
       "      <th>end_year</th>\n",
       "      <th>top_naics</th>\n",
       "      <th>Latitude</th>\n",
       "      <th>Longitude</th>\n",
       "      <th>Latitude_shuf</th>\n",
       "      <th>Longitude_shuf</th>\n",
       "      <th>con_len</th>\n",
       "    </tr>\n",
       "  </thead>\n",
       "  <tbody>\n",
       "    <tr>\n",
       "      <th>62</th>\n",
       "      <td>CONT_AWD_0003_9700_W912WJ15D0002_9700</td>\n",
       "      <td>58676.00</td>\n",
       "      <td>6/7/16</td>\n",
       "      <td>6/20/17 0:00</td>\n",
       "      <td>EPA</td>\n",
       "      <td>ENVIRONMENTAL PROTECTION AGENCY</td>\n",
       "      <td>BRYANT ASSOCIATES, INC.</td>\n",
       "      <td>BRISTOL</td>\n",
       "      <td>BOSTON, MA</td>\n",
       "      <td>SURVEYING AND MAPPING (EXCEPT GEOPHYSICAL) SER...</td>\n",
       "      <td>...</td>\n",
       "      <td>False</td>\n",
       "      <td>False</td>\n",
       "      <td>16</td>\n",
       "      <td>17.0</td>\n",
       "      <td>False</td>\n",
       "      <td>42.360253</td>\n",
       "      <td>-71.058291</td>\n",
       "      <td>42.355811</td>\n",
       "      <td>-71.051961</td>\n",
       "      <td>1.0</td>\n",
       "    </tr>\n",
       "    <tr>\n",
       "      <th>112</th>\n",
       "      <td>CONT_AWD_0006_9700_W912WJ15D0002_9700</td>\n",
       "      <td>640032.50</td>\n",
       "      <td>3/14/17</td>\n",
       "      <td>9/14/18 0:00</td>\n",
       "      <td>EPA</td>\n",
       "      <td>ENVIRONMENTAL PROTECTION AGENCY</td>\n",
       "      <td>BRYANT ASSOCIATES, INC.</td>\n",
       "      <td>BRISTOL</td>\n",
       "      <td>BOSTON, MA</td>\n",
       "      <td>SURVEYING AND MAPPING (EXCEPT GEOPHYSICAL) SER...</td>\n",
       "      <td>...</td>\n",
       "      <td>False</td>\n",
       "      <td>False</td>\n",
       "      <td>17</td>\n",
       "      <td>18.0</td>\n",
       "      <td>False</td>\n",
       "      <td>42.360253</td>\n",
       "      <td>-71.058291</td>\n",
       "      <td>42.357400</td>\n",
       "      <td>-71.052598</td>\n",
       "      <td>1.0</td>\n",
       "    </tr>\n",
       "    <tr>\n",
       "      <th>534</th>\n",
       "      <td>CONT_AWD_DU100R13P0007_8600_-NONE-_-NONE-</td>\n",
       "      <td>4000.00</td>\n",
       "      <td>1/28/13</td>\n",
       "      <td>2/20/14 0:00</td>\n",
       "      <td>HUD</td>\n",
       "      <td>HOUSING AND URBAN DEVELOPMENT, DEPARTMENT OF</td>\n",
       "      <td>YWCA BOSTON</td>\n",
       "      <td>SUFFOLK</td>\n",
       "      <td>BOSTON, MA</td>\n",
       "      <td>PROFESSIONAL AND MANAGEMENT DEVELOPMENT TRAINING</td>\n",
       "      <td>...</td>\n",
       "      <td>True</td>\n",
       "      <td>False</td>\n",
       "      <td>13</td>\n",
       "      <td>14.0</td>\n",
       "      <td>False</td>\n",
       "      <td>42.360253</td>\n",
       "      <td>-71.058291</td>\n",
       "      <td>42.363551</td>\n",
       "      <td>-71.053954</td>\n",
       "      <td>1.0</td>\n",
       "    </tr>\n",
       "    <tr>\n",
       "      <th>551</th>\n",
       "      <td>CONT_AWD_DU204SB12P0025_8600_-NONE-_-NONE-</td>\n",
       "      <td>104408.00</td>\n",
       "      <td>9/27/12</td>\n",
       "      <td>9/26/14 0:00</td>\n",
       "      <td>HUD</td>\n",
       "      <td>HOUSING AND URBAN DEVELOPMENT, DEPARTMENT OF</td>\n",
       "      <td>CLARENDON VALUATION ADVISORS, LLC</td>\n",
       "      <td>NEW YORK</td>\n",
       "      <td>BOSTON, MA</td>\n",
       "      <td>OFFICES OF REAL ESTATE APPRAISERS</td>\n",
       "      <td>...</td>\n",
       "      <td>False</td>\n",
       "      <td>False</td>\n",
       "      <td>12</td>\n",
       "      <td>14.0</td>\n",
       "      <td>False</td>\n",
       "      <td>42.360253</td>\n",
       "      <td>-71.058291</td>\n",
       "      <td>42.369630</td>\n",
       "      <td>-71.059102</td>\n",
       "      <td>2.0</td>\n",
       "    </tr>\n",
       "    <tr>\n",
       "      <th>3043</th>\n",
       "      <td>CONT_AWD_HHSD2002014M59655P_7523_-NONE-_-NONE-</td>\n",
       "      <td>150000.00</td>\n",
       "      <td>8/1/14</td>\n",
       "      <td>3/15/15 0:00</td>\n",
       "      <td>HHS</td>\n",
       "      <td>CENTERS FOR DISEASE CONTROL AND PREVENTION</td>\n",
       "      <td>ANTAGEN PHARMACEUTICALS, INC.</td>\n",
       "      <td>SUFFOLK</td>\n",
       "      <td>BOSTON, MA</td>\n",
       "      <td>PHARMACEUTICAL PREPARATION MANUFACTURING</td>\n",
       "      <td>...</td>\n",
       "      <td>False</td>\n",
       "      <td>False</td>\n",
       "      <td>14</td>\n",
       "      <td>15.0</td>\n",
       "      <td>False</td>\n",
       "      <td>42.360253</td>\n",
       "      <td>-71.058291</td>\n",
       "      <td>42.367770</td>\n",
       "      <td>-71.064151</td>\n",
       "      <td>1.0</td>\n",
       "    </tr>\n",
       "    <tr>\n",
       "      <th>3097</th>\n",
       "      <td>CONT_AWD_HHSD200201564147C_7523_-NONE-_-NONE-</td>\n",
       "      <td>1000000.00</td>\n",
       "      <td>9/29/15</td>\n",
       "      <td>8/31/17 0:00</td>\n",
       "      <td>HHS</td>\n",
       "      <td>CENTERS FOR DISEASE CONTROL AND PREVENTION</td>\n",
       "      <td>ANTAGEN PHARMACEUTICALS, INC.</td>\n",
       "      <td>SUFFOLK</td>\n",
       "      <td>BOSTON, MA</td>\n",
       "      <td>RESEARCH AND DEVELOPMENT IN BIOTECHNOLOGY</td>\n",
       "      <td>...</td>\n",
       "      <td>False</td>\n",
       "      <td>False</td>\n",
       "      <td>15</td>\n",
       "      <td>17.0</td>\n",
       "      <td>True</td>\n",
       "      <td>42.360253</td>\n",
       "      <td>-71.058291</td>\n",
       "      <td>42.353998</td>\n",
       "      <td>-71.061262</td>\n",
       "      <td>2.0</td>\n",
       "    </tr>\n",
       "    <tr>\n",
       "      <th>6104</th>\n",
       "      <td>CONT_AWD_HHSI245201300210P_7527_-NONE-_-NONE-</td>\n",
       "      <td>20468.00</td>\n",
       "      <td>12/18/12</td>\n",
       "      <td>9/30/13 0:00</td>\n",
       "      <td>HHS</td>\n",
       "      <td>INDIAN HEALTH SERVICE</td>\n",
       "      <td>SHIN, SONYA S</td>\n",
       "      <td>MCKINLEY</td>\n",
       "      <td>BOSTON, MA</td>\n",
       "      <td>ALL OTHER PROFESSIONAL, SCIENTIFIC, AND TECHNI...</td>\n",
       "      <td>...</td>\n",
       "      <td>False</td>\n",
       "      <td>False</td>\n",
       "      <td>12</td>\n",
       "      <td>13.0</td>\n",
       "      <td>True</td>\n",
       "      <td>42.360253</td>\n",
       "      <td>-71.058291</td>\n",
       "      <td>42.365638</td>\n",
       "      <td>-71.051001</td>\n",
       "      <td>1.0</td>\n",
       "    </tr>\n",
       "    <tr>\n",
       "      <th>6143</th>\n",
       "      <td>CONT_AWD_HHSI245201400013P_7527_-NONE-_-NONE-</td>\n",
       "      <td>19992.00</td>\n",
       "      <td>10/18/13</td>\n",
       "      <td>10/31/14 0:00</td>\n",
       "      <td>HHS</td>\n",
       "      <td>INDIAN HEALTH SERVICE</td>\n",
       "      <td>SHIN, SONYA S</td>\n",
       "      <td>MCKINLEY</td>\n",
       "      <td>BOSTON, MA</td>\n",
       "      <td>OFFICES OF PHYSICIANS (EXCEPT MENTAL HEALTH SP...</td>\n",
       "      <td>...</td>\n",
       "      <td>False</td>\n",
       "      <td>False</td>\n",
       "      <td>13</td>\n",
       "      <td>14.0</td>\n",
       "      <td>True</td>\n",
       "      <td>42.360253</td>\n",
       "      <td>-71.058291</td>\n",
       "      <td>42.359915</td>\n",
       "      <td>-71.053006</td>\n",
       "      <td>1.0</td>\n",
       "    </tr>\n",
       "    <tr>\n",
       "      <th>6198</th>\n",
       "      <td>CONT_AWD_HHSI245201500117P_7527_-NONE-_-NONE-</td>\n",
       "      <td>21420.00</td>\n",
       "      <td>11/11/14</td>\n",
       "      <td>12/31/15 0:00</td>\n",
       "      <td>HHS</td>\n",
       "      <td>INDIAN HEALTH SERVICE</td>\n",
       "      <td>SHIN, SONYA S</td>\n",
       "      <td>MCKINLEY</td>\n",
       "      <td>BOSTON, MA</td>\n",
       "      <td>OFFICES OF PHYSICIANS (EXCEPT MENTAL HEALTH SP...</td>\n",
       "      <td>...</td>\n",
       "      <td>False</td>\n",
       "      <td>False</td>\n",
       "      <td>14</td>\n",
       "      <td>15.0</td>\n",
       "      <td>True</td>\n",
       "      <td>42.360253</td>\n",
       "      <td>-71.058291</td>\n",
       "      <td>42.351416</td>\n",
       "      <td>-71.056457</td>\n",
       "      <td>1.0</td>\n",
       "    </tr>\n",
       "    <tr>\n",
       "      <th>6273</th>\n",
       "      <td>CONT_AWD_HHSI245201600305P_7527_-NONE-_-NONE-</td>\n",
       "      <td>24432.00</td>\n",
       "      <td>12/22/15</td>\n",
       "      <td>12/31/16 0:00</td>\n",
       "      <td>HHS</td>\n",
       "      <td>INDIAN HEALTH SERVICE</td>\n",
       "      <td>SHIN, SONYA S</td>\n",
       "      <td>MCKINLEY</td>\n",
       "      <td>BOSTON, MA</td>\n",
       "      <td>OFFICES OF PHYSICIANS (EXCEPT MENTAL HEALTH SP...</td>\n",
       "      <td>...</td>\n",
       "      <td>False</td>\n",
       "      <td>False</td>\n",
       "      <td>15</td>\n",
       "      <td>16.0</td>\n",
       "      <td>True</td>\n",
       "      <td>42.360253</td>\n",
       "      <td>-71.058291</td>\n",
       "      <td>42.359507</td>\n",
       "      <td>-71.058393</td>\n",
       "      <td>1.0</td>\n",
       "    </tr>\n",
       "    <tr>\n",
       "      <th>6357</th>\n",
       "      <td>CONT_AWD_HHSI245201700146P_7527_-NONE-_-NONE-</td>\n",
       "      <td>24960.00</td>\n",
       "      <td>12/3/16</td>\n",
       "      <td>12/31/17 0:00</td>\n",
       "      <td>HHS</td>\n",
       "      <td>INDIAN HEALTH SERVICE</td>\n",
       "      <td>SHIN, SONYA S</td>\n",
       "      <td>MCKINLEY</td>\n",
       "      <td>BOSTON, MA</td>\n",
       "      <td>OFFICES OF PHYSICIANS (EXCEPT MENTAL HEALTH SP...</td>\n",
       "      <td>...</td>\n",
       "      <td>False</td>\n",
       "      <td>False</td>\n",
       "      <td>16</td>\n",
       "      <td>17.0</td>\n",
       "      <td>True</td>\n",
       "      <td>42.360253</td>\n",
       "      <td>-71.058291</td>\n",
       "      <td>42.368050</td>\n",
       "      <td>-71.051181</td>\n",
       "      <td>1.0</td>\n",
       "    </tr>\n",
       "    <tr>\n",
       "      <th>6438</th>\n",
       "      <td>CONT_AWD_HHSI245201800209P_7527_-NONE-_-NONE-</td>\n",
       "      <td>24960.00</td>\n",
       "      <td>1/7/18</td>\n",
       "      <td>12/31/18 0:00</td>\n",
       "      <td>HHS</td>\n",
       "      <td>INDIAN HEALTH SERVICE</td>\n",
       "      <td>SHIN, SONYA S</td>\n",
       "      <td>MCKINLEY</td>\n",
       "      <td>BOSTON, MA</td>\n",
       "      <td>OFFICES OF PHYSICIANS (EXCEPT MENTAL HEALTH SP...</td>\n",
       "      <td>...</td>\n",
       "      <td>False</td>\n",
       "      <td>False</td>\n",
       "      <td>18</td>\n",
       "      <td>18.0</td>\n",
       "      <td>True</td>\n",
       "      <td>42.360253</td>\n",
       "      <td>-71.058291</td>\n",
       "      <td>42.363175</td>\n",
       "      <td>-71.064675</td>\n",
       "      <td>0.0</td>\n",
       "    </tr>\n",
       "    <tr>\n",
       "      <th>6888</th>\n",
       "      <td>CONT_AWD_HHSI248201100079G_7527_GS21F0154W_4730</td>\n",
       "      <td>325.20</td>\n",
       "      <td>5/5/11</td>\n",
       "      <td>5/11/11 0:00</td>\n",
       "      <td>HHS</td>\n",
       "      <td>INDIAN HEALTH SERVICE</td>\n",
       "      <td>WESTCARB ENTERPRISES, INC.</td>\n",
       "      <td>MARION</td>\n",
       "      <td>BOSTON, MA</td>\n",
       "      <td>HARDWARE MERCHANT WHOLESALERS</td>\n",
       "      <td>...</td>\n",
       "      <td>False</td>\n",
       "      <td>False</td>\n",
       "      <td>11</td>\n",
       "      <td>11.0</td>\n",
       "      <td>False</td>\n",
       "      <td>42.360253</td>\n",
       "      <td>-71.058291</td>\n",
       "      <td>42.369113</td>\n",
       "      <td>-71.055930</td>\n",
       "      <td>0.0</td>\n",
       "    </tr>\n",
       "    <tr>\n",
       "      <th>11536</th>\n",
       "      <td>CONT_AWD_HHSN271201100015C_7529_-NONE-_-NONE-</td>\n",
       "      <td>150000.00</td>\n",
       "      <td>9/1/11</td>\n",
       "      <td>5/31/13 0:00</td>\n",
       "      <td>HHS</td>\n",
       "      <td>NATIONAL INSTITUTES OF HEALTH</td>\n",
       "      <td>ANTAGEN PHARMACEUTICALS, INC.</td>\n",
       "      <td>MIDDLESEX</td>\n",
       "      <td>BOSTON, MA</td>\n",
       "      <td>RESEARCH AND DEVELOPMENT IN THE PHYSICAL, ENGI...</td>\n",
       "      <td>...</td>\n",
       "      <td>False</td>\n",
       "      <td>False</td>\n",
       "      <td>11</td>\n",
       "      <td>13.0</td>\n",
       "      <td>True</td>\n",
       "      <td>42.360253</td>\n",
       "      <td>-71.058291</td>\n",
       "      <td>42.367586</td>\n",
       "      <td>-71.050895</td>\n",
       "      <td>2.0</td>\n",
       "    </tr>\n",
       "    <tr>\n",
       "      <th>11703</th>\n",
       "      <td>CONT_AWD_HHSN271201300270P_7529_-NONE-_-NONE-</td>\n",
       "      <td>27000.00</td>\n",
       "      <td>3/20/13</td>\n",
       "      <td>5/1/13 0:00</td>\n",
       "      <td>HHS</td>\n",
       "      <td>NATIONAL INSTITUTES OF HEALTH</td>\n",
       "      <td>CONVERGENCE MEDICAL DEVICES INC.</td>\n",
       "      <td>MIDDLESEX</td>\n",
       "      <td>BOSTON, MA</td>\n",
       "      <td>ANALYTICAL LABORATORY INSTRUMENT MANUFACTURING</td>\n",
       "      <td>...</td>\n",
       "      <td>False</td>\n",
       "      <td>False</td>\n",
       "      <td>13</td>\n",
       "      <td>13.0</td>\n",
       "      <td>True</td>\n",
       "      <td>42.360253</td>\n",
       "      <td>-71.058291</td>\n",
       "      <td>42.361088</td>\n",
       "      <td>-71.050322</td>\n",
       "      <td>0.0</td>\n",
       "    </tr>\n",
       "    <tr>\n",
       "      <th>14151</th>\n",
       "      <td>CONT_AWD_HHSN301201500127PC_7529_-NONE-_-NONE-</td>\n",
       "      <td>3200.00</td>\n",
       "      <td>5/13/15</td>\n",
       "      <td>5/13/15 0:00</td>\n",
       "      <td>HHS</td>\n",
       "      <td>NATIONAL INSTITUTES OF HEALTH</td>\n",
       "      <td>ANGIO-PROTEOMIE</td>\n",
       "      <td>MONTGOMERY</td>\n",
       "      <td>BOSTON, MA</td>\n",
       "      <td>CUT AND SEW APPAREL CONTRACTORS</td>\n",
       "      <td>...</td>\n",
       "      <td>False</td>\n",
       "      <td>False</td>\n",
       "      <td>15</td>\n",
       "      <td>15.0</td>\n",
       "      <td>False</td>\n",
       "      <td>42.360253</td>\n",
       "      <td>-71.058291</td>\n",
       "      <td>42.363652</td>\n",
       "      <td>-71.065697</td>\n",
       "      <td>0.0</td>\n",
       "    </tr>\n",
       "    <tr>\n",
       "      <th>16358</th>\n",
       "      <td>CONT_AWD_68HE0D18C0030_6800_-NONE-_-NONE-</td>\n",
       "      <td>497153.00</td>\n",
       "      <td>10/1/18</td>\n",
       "      <td>9/30/20 0:00</td>\n",
       "      <td>EPA</td>\n",
       "      <td>ENVIRONMENTAL PROTECTION AGENCY</td>\n",
       "      <td>WINDWALKER GROUP, LLC</td>\n",
       "      <td>WASHINGTON</td>\n",
       "      <td>BOSTON, MA</td>\n",
       "      <td>SECURITY GUARDS AND PATROL SERVICES</td>\n",
       "      <td>...</td>\n",
       "      <td>False</td>\n",
       "      <td>False</td>\n",
       "      <td>18</td>\n",
       "      <td>20.0</td>\n",
       "      <td>False</td>\n",
       "      <td>42.360253</td>\n",
       "      <td>-71.058291</td>\n",
       "      <td>42.354604</td>\n",
       "      <td>-71.058558</td>\n",
       "      <td>2.0</td>\n",
       "    </tr>\n",
       "    <tr>\n",
       "      <th>16433</th>\n",
       "      <td>CONT_IDV_DU204SA12C01_8600</td>\n",
       "      <td>76678.18</td>\n",
       "      <td>6/15/12</td>\n",
       "      <td>NaN</td>\n",
       "      <td>HUD</td>\n",
       "      <td>HOUSING AND URBAN DEVELOPMENT, DEPARTMENT OF</td>\n",
       "      <td>CLARENDON VALUATION ADVISORS, LLC</td>\n",
       "      <td>NaN</td>\n",
       "      <td>BOSTON, MA</td>\n",
       "      <td>OFFICES OF REAL ESTATE APPRAISERS</td>\n",
       "      <td>...</td>\n",
       "      <td>False</td>\n",
       "      <td>False</td>\n",
       "      <td>12</td>\n",
       "      <td>NaN</td>\n",
       "      <td>False</td>\n",
       "      <td>42.360253</td>\n",
       "      <td>-71.058291</td>\n",
       "      <td>42.354861</td>\n",
       "      <td>-71.061417</td>\n",
       "      <td>NaN</td>\n",
       "    </tr>\n",
       "    <tr>\n",
       "      <th>17664</th>\n",
       "      <td>CONT_AWD_75N93019C00014_7529_-NONE-_-NONE-</td>\n",
       "      <td>599914.00</td>\n",
       "      <td>6/17/19</td>\n",
       "      <td>6/16/21 0:00</td>\n",
       "      <td>HHS</td>\n",
       "      <td>NATIONAL INSTITUTES OF HEALTH</td>\n",
       "      <td>ANTAGEN PHARMACEUTICALS, INC.</td>\n",
       "      <td>SUFFOLK</td>\n",
       "      <td>BOSTON, MA</td>\n",
       "      <td>RESEARCH AND DEVELOPMENT IN THE PHYSICAL, ENGI...</td>\n",
       "      <td>...</td>\n",
       "      <td>False</td>\n",
       "      <td>False</td>\n",
       "      <td>19</td>\n",
       "      <td>21.0</td>\n",
       "      <td>False</td>\n",
       "      <td>42.360253</td>\n",
       "      <td>-71.058291</td>\n",
       "      <td>42.354590</td>\n",
       "      <td>-71.066090</td>\n",
       "      <td>2.0</td>\n",
       "    </tr>\n",
       "    <tr>\n",
       "      <th>18158</th>\n",
       "      <td>CONT_AWD_75N93018C00017_7529_-NONE-_-NONE-</td>\n",
       "      <td>599997.00</td>\n",
       "      <td>7/26/18</td>\n",
       "      <td>7/31/20 0:00</td>\n",
       "      <td>HHS</td>\n",
       "      <td>NATIONAL INSTITUTES OF HEALTH</td>\n",
       "      <td>ANTAGEN PHARMACEUTICALS, INC.</td>\n",
       "      <td>SUFFOLK</td>\n",
       "      <td>BOSTON, MA</td>\n",
       "      <td>RESEARCH AND DEVELOPMENT IN BIOTECHNOLOGY (EXC...</td>\n",
       "      <td>...</td>\n",
       "      <td>False</td>\n",
       "      <td>False</td>\n",
       "      <td>18</td>\n",
       "      <td>20.0</td>\n",
       "      <td>False</td>\n",
       "      <td>42.360253</td>\n",
       "      <td>-71.058291</td>\n",
       "      <td>42.365381</td>\n",
       "      <td>-71.062846</td>\n",
       "      <td>2.0</td>\n",
       "    </tr>\n",
       "  </tbody>\n",
       "</table>\n",
       "<p>20 rows × 34 columns</p>\n",
       "</div>"
      ],
      "text/plain": [
       "                             contract_award_unique_key  obligated_amount  \\\n",
       "62               CONT_AWD_0003_9700_W912WJ15D0002_9700          58676.00   \n",
       "112              CONT_AWD_0006_9700_W912WJ15D0002_9700         640032.50   \n",
       "534          CONT_AWD_DU100R13P0007_8600_-NONE-_-NONE-           4000.00   \n",
       "551         CONT_AWD_DU204SB12P0025_8600_-NONE-_-NONE-         104408.00   \n",
       "3043    CONT_AWD_HHSD2002014M59655P_7523_-NONE-_-NONE-         150000.00   \n",
       "3097     CONT_AWD_HHSD200201564147C_7523_-NONE-_-NONE-        1000000.00   \n",
       "6104     CONT_AWD_HHSI245201300210P_7527_-NONE-_-NONE-          20468.00   \n",
       "6143     CONT_AWD_HHSI245201400013P_7527_-NONE-_-NONE-          19992.00   \n",
       "6198     CONT_AWD_HHSI245201500117P_7527_-NONE-_-NONE-          21420.00   \n",
       "6273     CONT_AWD_HHSI245201600305P_7527_-NONE-_-NONE-          24432.00   \n",
       "6357     CONT_AWD_HHSI245201700146P_7527_-NONE-_-NONE-          24960.00   \n",
       "6438     CONT_AWD_HHSI245201800209P_7527_-NONE-_-NONE-          24960.00   \n",
       "6888   CONT_AWD_HHSI248201100079G_7527_GS21F0154W_4730            325.20   \n",
       "11536    CONT_AWD_HHSN271201100015C_7529_-NONE-_-NONE-         150000.00   \n",
       "11703    CONT_AWD_HHSN271201300270P_7529_-NONE-_-NONE-          27000.00   \n",
       "14151   CONT_AWD_HHSN301201500127PC_7529_-NONE-_-NONE-           3200.00   \n",
       "16358        CONT_AWD_68HE0D18C0030_6800_-NONE-_-NONE-         497153.00   \n",
       "16433                       CONT_IDV_DU204SA12C01_8600          76678.18   \n",
       "17664       CONT_AWD_75N93019C00014_7529_-NONE-_-NONE-         599914.00   \n",
       "18158       CONT_AWD_75N93018C00017_7529_-NONE-_-NONE-         599997.00   \n",
       "\n",
       "      period_of_performance_start_date period_of_performance_current_end_date  \\\n",
       "62                              6/7/16                           6/20/17 0:00   \n",
       "112                            3/14/17                           9/14/18 0:00   \n",
       "534                            1/28/13                           2/20/14 0:00   \n",
       "551                            9/27/12                           9/26/14 0:00   \n",
       "3043                            8/1/14                           3/15/15 0:00   \n",
       "3097                           9/29/15                           8/31/17 0:00   \n",
       "6104                          12/18/12                           9/30/13 0:00   \n",
       "6143                          10/18/13                          10/31/14 0:00   \n",
       "6198                          11/11/14                          12/31/15 0:00   \n",
       "6273                          12/22/15                          12/31/16 0:00   \n",
       "6357                           12/3/16                          12/31/17 0:00   \n",
       "6438                            1/7/18                          12/31/18 0:00   \n",
       "6888                            5/5/11                           5/11/11 0:00   \n",
       "11536                           9/1/11                           5/31/13 0:00   \n",
       "11703                          3/20/13                            5/1/13 0:00   \n",
       "14151                          5/13/15                           5/13/15 0:00   \n",
       "16358                          10/1/18                           9/30/20 0:00   \n",
       "16433                          6/15/12                                    NaN   \n",
       "17664                          6/17/19                           6/16/21 0:00   \n",
       "18158                          7/26/18                           7/31/20 0:00   \n",
       "\n",
       "      funding_agency_name                       funding_sub_agency_name  \\\n",
       "62                    EPA               ENVIRONMENTAL PROTECTION AGENCY   \n",
       "112                   EPA               ENVIRONMENTAL PROTECTION AGENCY   \n",
       "534                   HUD  HOUSING AND URBAN DEVELOPMENT, DEPARTMENT OF   \n",
       "551                   HUD  HOUSING AND URBAN DEVELOPMENT, DEPARTMENT OF   \n",
       "3043                  HHS    CENTERS FOR DISEASE CONTROL AND PREVENTION   \n",
       "3097                  HHS    CENTERS FOR DISEASE CONTROL AND PREVENTION   \n",
       "6104                  HHS                         INDIAN HEALTH SERVICE   \n",
       "6143                  HHS                         INDIAN HEALTH SERVICE   \n",
       "6198                  HHS                         INDIAN HEALTH SERVICE   \n",
       "6273                  HHS                         INDIAN HEALTH SERVICE   \n",
       "6357                  HHS                         INDIAN HEALTH SERVICE   \n",
       "6438                  HHS                         INDIAN HEALTH SERVICE   \n",
       "6888                  HHS                         INDIAN HEALTH SERVICE   \n",
       "11536                 HHS                 NATIONAL INSTITUTES OF HEALTH   \n",
       "11703                 HHS                 NATIONAL INSTITUTES OF HEALTH   \n",
       "14151                 HHS                 NATIONAL INSTITUTES OF HEALTH   \n",
       "16358                 EPA               ENVIRONMENTAL PROTECTION AGENCY   \n",
       "16433                 HUD  HOUSING AND URBAN DEVELOPMENT, DEPARTMENT OF   \n",
       "17664                 HHS                 NATIONAL INSTITUTES OF HEALTH   \n",
       "18158                 HHS                 NATIONAL INSTITUTES OF HEALTH   \n",
       "\n",
       "                          recipient_name  \\\n",
       "62               BRYANT ASSOCIATES, INC.   \n",
       "112              BRYANT ASSOCIATES, INC.   \n",
       "534                          YWCA BOSTON   \n",
       "551    CLARENDON VALUATION ADVISORS, LLC   \n",
       "3043       ANTAGEN PHARMACEUTICALS, INC.   \n",
       "3097       ANTAGEN PHARMACEUTICALS, INC.   \n",
       "6104                       SHIN, SONYA S   \n",
       "6143                       SHIN, SONYA S   \n",
       "6198                       SHIN, SONYA S   \n",
       "6273                       SHIN, SONYA S   \n",
       "6357                       SHIN, SONYA S   \n",
       "6438                       SHIN, SONYA S   \n",
       "6888          WESTCARB ENTERPRISES, INC.   \n",
       "11536      ANTAGEN PHARMACEUTICALS, INC.   \n",
       "11703   CONVERGENCE MEDICAL DEVICES INC.   \n",
       "14151                    ANGIO-PROTEOMIE   \n",
       "16358              WINDWALKER GROUP, LLC   \n",
       "16433  CLARENDON VALUATION ADVISORS, LLC   \n",
       "17664      ANTAGEN PHARMACEUTICALS, INC.   \n",
       "18158      ANTAGEN PHARMACEUTICALS, INC.   \n",
       "\n",
       "      primary_place_of_performance_county_name recipient_city_name  \\\n",
       "62                                     BRISTOL          BOSTON, MA   \n",
       "112                                    BRISTOL          BOSTON, MA   \n",
       "534                                    SUFFOLK          BOSTON, MA   \n",
       "551                                   NEW YORK          BOSTON, MA   \n",
       "3043                                   SUFFOLK          BOSTON, MA   \n",
       "3097                                   SUFFOLK          BOSTON, MA   \n",
       "6104                                  MCKINLEY          BOSTON, MA   \n",
       "6143                                  MCKINLEY          BOSTON, MA   \n",
       "6198                                  MCKINLEY          BOSTON, MA   \n",
       "6273                                  MCKINLEY          BOSTON, MA   \n",
       "6357                                  MCKINLEY          BOSTON, MA   \n",
       "6438                                  MCKINLEY          BOSTON, MA   \n",
       "6888                                    MARION          BOSTON, MA   \n",
       "11536                                MIDDLESEX          BOSTON, MA   \n",
       "11703                                MIDDLESEX          BOSTON, MA   \n",
       "14151                               MONTGOMERY          BOSTON, MA   \n",
       "16358                               WASHINGTON          BOSTON, MA   \n",
       "16433                                      NaN          BOSTON, MA   \n",
       "17664                                  SUFFOLK          BOSTON, MA   \n",
       "18158                                  SUFFOLK          BOSTON, MA   \n",
       "\n",
       "                                       naics_description  ...  \\\n",
       "62     SURVEYING AND MAPPING (EXCEPT GEOPHYSICAL) SER...  ...   \n",
       "112    SURVEYING AND MAPPING (EXCEPT GEOPHYSICAL) SER...  ...   \n",
       "534     PROFESSIONAL AND MANAGEMENT DEVELOPMENT TRAINING  ...   \n",
       "551                    OFFICES OF REAL ESTATE APPRAISERS  ...   \n",
       "3043            PHARMACEUTICAL PREPARATION MANUFACTURING  ...   \n",
       "3097           RESEARCH AND DEVELOPMENT IN BIOTECHNOLOGY  ...   \n",
       "6104   ALL OTHER PROFESSIONAL, SCIENTIFIC, AND TECHNI...  ...   \n",
       "6143   OFFICES OF PHYSICIANS (EXCEPT MENTAL HEALTH SP...  ...   \n",
       "6198   OFFICES OF PHYSICIANS (EXCEPT MENTAL HEALTH SP...  ...   \n",
       "6273   OFFICES OF PHYSICIANS (EXCEPT MENTAL HEALTH SP...  ...   \n",
       "6357   OFFICES OF PHYSICIANS (EXCEPT MENTAL HEALTH SP...  ...   \n",
       "6438   OFFICES OF PHYSICIANS (EXCEPT MENTAL HEALTH SP...  ...   \n",
       "6888                       HARDWARE MERCHANT WHOLESALERS  ...   \n",
       "11536  RESEARCH AND DEVELOPMENT IN THE PHYSICAL, ENGI...  ...   \n",
       "11703     ANALYTICAL LABORATORY INSTRUMENT MANUFACTURING  ...   \n",
       "14151                    CUT AND SEW APPAREL CONTRACTORS  ...   \n",
       "16358                SECURITY GUARDS AND PATROL SERVICES  ...   \n",
       "16433                  OFFICES OF REAL ESTATE APPRAISERS  ...   \n",
       "17664  RESEARCH AND DEVELOPMENT IN THE PHYSICAL, ENGI...  ...   \n",
       "18158  RESEARCH AND DEVELOPMENT IN BIOTECHNOLOGY (EXC...  ...   \n",
       "\n",
       "       nonprofit_organization  other_not_for_profit_organization start_year  \\\n",
       "62                      False                              False         16   \n",
       "112                     False                              False         17   \n",
       "534                      True                              False         13   \n",
       "551                     False                              False         12   \n",
       "3043                    False                              False         14   \n",
       "3097                    False                              False         15   \n",
       "6104                    False                              False         12   \n",
       "6143                    False                              False         13   \n",
       "6198                    False                              False         14   \n",
       "6273                    False                              False         15   \n",
       "6357                    False                              False         16   \n",
       "6438                    False                              False         18   \n",
       "6888                    False                              False         11   \n",
       "11536                   False                              False         11   \n",
       "11703                   False                              False         13   \n",
       "14151                   False                              False         15   \n",
       "16358                   False                              False         18   \n",
       "16433                   False                              False         12   \n",
       "17664                   False                              False         19   \n",
       "18158                   False                              False         18   \n",
       "\n",
       "       end_year  top_naics   Latitude  Longitude  Latitude_shuf  \\\n",
       "62         17.0      False  42.360253 -71.058291      42.355811   \n",
       "112        18.0      False  42.360253 -71.058291      42.357400   \n",
       "534        14.0      False  42.360253 -71.058291      42.363551   \n",
       "551        14.0      False  42.360253 -71.058291      42.369630   \n",
       "3043       15.0      False  42.360253 -71.058291      42.367770   \n",
       "3097       17.0       True  42.360253 -71.058291      42.353998   \n",
       "6104       13.0       True  42.360253 -71.058291      42.365638   \n",
       "6143       14.0       True  42.360253 -71.058291      42.359915   \n",
       "6198       15.0       True  42.360253 -71.058291      42.351416   \n",
       "6273       16.0       True  42.360253 -71.058291      42.359507   \n",
       "6357       17.0       True  42.360253 -71.058291      42.368050   \n",
       "6438       18.0       True  42.360253 -71.058291      42.363175   \n",
       "6888       11.0      False  42.360253 -71.058291      42.369113   \n",
       "11536      13.0       True  42.360253 -71.058291      42.367586   \n",
       "11703      13.0       True  42.360253 -71.058291      42.361088   \n",
       "14151      15.0      False  42.360253 -71.058291      42.363652   \n",
       "16358      20.0      False  42.360253 -71.058291      42.354604   \n",
       "16433       NaN      False  42.360253 -71.058291      42.354861   \n",
       "17664      21.0      False  42.360253 -71.058291      42.354590   \n",
       "18158      20.0      False  42.360253 -71.058291      42.365381   \n",
       "\n",
       "       Longitude_shuf  con_len  \n",
       "62         -71.051961      1.0  \n",
       "112        -71.052598      1.0  \n",
       "534        -71.053954      1.0  \n",
       "551        -71.059102      2.0  \n",
       "3043       -71.064151      1.0  \n",
       "3097       -71.061262      2.0  \n",
       "6104       -71.051001      1.0  \n",
       "6143       -71.053006      1.0  \n",
       "6198       -71.056457      1.0  \n",
       "6273       -71.058393      1.0  \n",
       "6357       -71.051181      1.0  \n",
       "6438       -71.064675      0.0  \n",
       "6888       -71.055930      0.0  \n",
       "11536      -71.050895      2.0  \n",
       "11703      -71.050322      0.0  \n",
       "14151      -71.065697      0.0  \n",
       "16358      -71.058558      2.0  \n",
       "16433      -71.061417      NaN  \n",
       "17664      -71.066090      2.0  \n",
       "18158      -71.062846      2.0  \n",
       "\n",
       "[20 rows x 34 columns]"
      ]
     },
     "execution_count": 209,
     "metadata": {},
     "output_type": "execute_result"
    }
   ],
   "source": [
    "# Lists minority owned businesses based in Boston receiving contracts\n",
    "boston_contracts[boston_contracts['minority_owned_business'] == True]"
   ]
  },
  {
   "cell_type": "code",
   "execution_count": 210,
   "metadata": {},
   "outputs": [
    {
     "data": {
      "text/plain": [
       "6380.432098765432"
      ]
     },
     "execution_count": 210,
     "metadata": {},
     "output_type": "execute_result"
    }
   ],
   "source": [
    "# Finds mean number of employees for non-profits \n",
    "contracts[contracts['nonprofit_organization'] == True]['number_of_employees'].mean()"
   ]
  },
  {
   "cell_type": "code",
   "execution_count": 211,
   "metadata": {},
   "outputs": [
    {
     "data": {
      "text/plain": [
       "15139.157179161371"
      ]
     },
     "execution_count": 211,
     "metadata": {},
     "output_type": "execute_result"
    }
   ],
   "source": [
    "# Finds mean number of employees for all recipients \n",
    "contracts['number_of_employees'].mean()"
   ]
  },
  {
   "cell_type": "code",
   "execution_count": 214,
   "metadata": {},
   "outputs": [
    {
     "name": "stdout",
     "output_type": "stream",
     "text": [
      "1.1532592108131676\n"
     ]
    }
   ],
   "source": [
    "# Reports average length for contracts\n",
    "print(contracts['con_len'].mean())"
   ]
  },
  {
   "cell_type": "code",
   "execution_count": 215,
   "metadata": {},
   "outputs": [
    {
     "name": "stdout",
     "output_type": "stream",
     "text": [
      "0.6493236212278877\n"
     ]
    }
   ],
   "source": [
    "# Reports average length for mbe contracts\n",
    "print(mbe['con_len'].mean())"
   ]
  },
  {
   "cell_type": "code",
   "execution_count": 216,
   "metadata": {},
   "outputs": [
    {
     "name": "stdout",
     "output_type": "stream",
     "text": [
      "0.8046744574290484\n"
     ]
    }
   ],
   "source": [
    "# Reports average length for bbe contracts\n",
    "print(bbe['con_len'].mean())"
   ]
  },
  {
   "cell_type": "code",
   "execution_count": 217,
   "metadata": {},
   "outputs": [
    {
     "name": "stdout",
     "output_type": "stream",
     "text": [
      "0.7083333333333334\n"
     ]
    }
   ],
   "source": [
    "# Reports average length for hbe contracts\n",
    "print(hbe['con_len'].mean())"
   ]
  },
  {
   "cell_type": "code",
   "execution_count": 81,
   "metadata": {},
   "outputs": [],
   "source": [
    "# Creates dataframes for the number of contracts awarded to hispanic owned businesses and for overall contracts in each year \n",
    "latino_awd_time = contracts[contracts['hispanic_american_owned_business'] == True].groupby(\"start_year\").count()[\"contract_award_unique_key\"]\n",
    "all_awd_time_l = contracts[contracts[\"start_year\"].isin(latino_awd_time.index)].groupby(\"start_year\").count()[\"contract_award_unique_key\"]"
   ]
  },
  {
   "cell_type": "code",
   "execution_count": 82,
   "metadata": {},
   "outputs": [
    {
     "data": {
      "text/plain": [
       "Text(0.5, 1.0, 'Percent of latino business of all awarded business in 2010-2019')"
      ]
     },
     "execution_count": 82,
     "metadata": {},
     "output_type": "execute_result"
    },
    {
     "data": {
      "image/png": "[encoded data removed]",
      "text/plain": [
       "<Figure size 432x288 with 1 Axes>"
      ]
     },
     "metadata": {
      "needs_background": "light"
     },
     "output_type": "display_data"
    }
   ],
   "source": [
    "# Plots proportions of contracts awarded to hbes by year\n",
    "plt.plot(latino_awd_time.index, latino_awd_time / all_awd_time_l)\n",
    "plt.xlabel(\"year\")\n",
    "plt.ylabel(\"% of all business\")\n",
    "plt.title(\"Percent of latino business of all awarded business in 2010-2019\")"
   ]
  },
  {
   "cell_type": "code",
   "execution_count": 83,
   "metadata": {},
   "outputs": [],
   "source": [
    "# Creates dataframes for the number of contracts awarded to black owned businesses and for overall contracts in each year \n",
    "black_awd_time = contracts[contracts['black_american_owned_business'] == True].groupby(\"start_year\").count()[\"contract_award_unique_key\"]\n",
    "all_awd_time_b = contracts[contracts[\"start_year\"].isin(black_awd_time.index)].groupby(\"start_year\").count()[\"contract_award_unique_key\"]"
   ]
  },
  {
   "cell_type": "code",
   "execution_count": 84,
   "metadata": {},
   "outputs": [
    {
     "data": {
      "text/plain": [
       "Text(0.5, 1.0, 'Percent of black business of all awarded business in 2010-2019')"
      ]
     },
     "execution_count": 84,
     "metadata": {},
     "output_type": "execute_result"
    },
    {
     "data": {
      "image/png": "[encoded data removed]",
      "text/plain": [
       "<Figure size 432x288 with 1 Axes>"
      ]
     },
     "metadata": {
      "needs_background": "light"
     },
     "output_type": "display_data"
    }
   ],
   "source": [
    "# Plots proportions of contracts awarded to bbes by year\n",
    "plt.plot(black_awd_time.index, black_awd_time / all_awd_time_b)\n",
    "plt.xlabel(\"year\")\n",
    "plt.ylabel(\"% of all business\")\n",
    "plt.xticks(black_awd_time.index)\n",
    "plt.title(\"Percent of black business of all awarded business in 2010-2019\")"
   ]
  },
  {
   "cell_type": "code",
   "execution_count": 85,
   "metadata": {},
   "outputs": [],
   "source": [
    "# Creates dataframes for the number of contracts awarded to minority owned businesses and for overall contracts in each year \n",
    "mino_awd_time = contracts[contracts['minority_owned_business'] == True].groupby(\"start_year\").count()[\"contract_award_unique_key\"]\n",
    "all_awd_time_m = contracts[contracts[\"start_year\"].isin(mino_awd_time.index)].groupby(\"start_year\").count()[\"contract_award_unique_key\"]"
   ]
  },
  {
   "cell_type": "code",
   "execution_count": null,
   "metadata": {},
   "outputs": [],
   "source": []
  },
  {
   "cell_type": "code",
   "execution_count": 86,
   "metadata": {},
   "outputs": [
    {
     "data": {
      "text/plain": [
       "Text(0.5, 1.0, 'Percent of minority business of all awarded business in 2010-2019')"
      ]
     },
     "execution_count": 86,
     "metadata": {},
     "output_type": "execute_result"
    },
    {
     "data": {
      "image/png": "[encoded data removed]",
      "text/plain": [
       "<Figure size 432x288 with 1 Axes>"
      ]
     },
     "metadata": {
      "needs_background": "light"
     },
     "output_type": "display_data"
    }
   ],
   "source": [
    "# Plots proportions of contracts awarded to bbes by year\n",
    "plt.plot(mino_awd_time.index, mino_awd_time / all_awd_time_m)\n",
    "plt.xlabel(\"year\")\n",
    "plt.ylabel(\"% of all business\")\n",
    "plt.xticks(mino_awd_time.index)\n",
    "plt.title(\"Percent of minority business of all awarded business in 2010-2019\")"
   ]
  }
 ],
 "metadata": {
  "kernelspec": {
   "display_name": "Python 3",
   "language": "python",
   "name": "python3"
  },
  "language_info": {
   "codemirror_mode": {
    "name": "ipython",
    "version": 3
   },
   "file_extension": ".py",
   "mimetype": "text/x-python",
   "name": "python",
   "nbconvert_exporter": "python",
   "pygments_lexer": "ipython3",
   "version": "3.7.3"
  }
 },
 "nbformat": 4,
 "nbformat_minor": 2
}
