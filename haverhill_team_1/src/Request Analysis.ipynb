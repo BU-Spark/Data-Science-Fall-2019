{
 "cells": [
  {
   "cell_type": "markdown",
   "metadata": {},
   "source": [
    "# Notebook for 311 request analysis\n",
    "\n",
    "- Initial data report\n",
    "- Compute completion time\n",
    "- Estimate completion times using Machine Learning"
   ]
  },
  {
   "cell_type": "code",
   "execution_count": 1,
   "metadata": {},
   "outputs": [],
   "source": [
    "import pandas as pd\n",
    "import seaborn as sns\n",
    "import matplotlib.pyplot as plt\n",
    "from mpl_toolkits import mplot3d\n",
    "import numpy as np\n",
    "from datetime import datetime\n",
    "from datetime import timedelta\n",
    "from IPython.display import display\n",
    "import folium\n",
    "from folium.plugins import HeatMap\n",
    "from sklearn.naive_bayes import GaussianNB\n",
    "from sklearn.model_selection import train_test_split\n",
    "\n",
    "from tqdm import tqdm_notebook as tqdm\n",
    "\n",
    "import warnings\n",
    "warnings.filterwarnings(\"ignore\")"
   ]
  },
  {
   "cell_type": "markdown",
   "metadata": {},
   "source": [
    "See files in folder"
   ]
  },
  {
   "cell_type": "code",
   "execution_count": 2,
   "metadata": {},
   "outputs": [
    {
     "name": "stdout",
     "output_type": "stream",
     "text": [
      "data analysis.ipynb\n",
      "data_inspect.ipynb\n",
      "debug.log\n",
      "haverhill_analysis.ipynb\n",
      "haverhill-activity.csv\n",
      "haverhill-request.csv\n",
      "marker_map.html\n",
      "README.md\n"
     ]
    }
   ],
   "source": [
    "!ls"
   ]
  },
  {
   "cell_type": "code",
   "execution_count": 3,
   "metadata": {},
   "outputs": [
    {
     "data": {
      "text/html": [
       "<div>\n",
       "<style scoped>\n",
       "    .dataframe tbody tr th:only-of-type {\n",
       "        vertical-align: middle;\n",
       "    }\n",
       "\n",
       "    .dataframe tbody tr th {\n",
       "        vertical-align: top;\n",
       "    }\n",
       "\n",
       "    .dataframe thead th {\n",
       "        text-align: right;\n",
       "    }\n",
       "</style>\n",
       "<table border=\"1\" class=\"dataframe\">\n",
       "  <thead>\n",
       "    <tr style=\"text-align: right;\">\n",
       "      <th></th>\n",
       "      <th>Activity ID</th>\n",
       "      <th>Activity Type</th>\n",
       "      <th>Activity Code</th>\n",
       "      <th>Activity Date</th>\n",
       "      <th>Request ID</th>\n",
       "    </tr>\n",
       "  </thead>\n",
       "  <tbody>\n",
       "    <tr>\n",
       "      <th>0</th>\n",
       "      <td>9821</td>\n",
       "      <td>Created</td>\n",
       "      <td>9</td>\n",
       "      <td>2017-01-03 13:11:00</td>\n",
       "      <td>5130</td>\n",
       "    </tr>\n",
       "    <tr>\n",
       "      <th>1</th>\n",
       "      <td>9822</td>\n",
       "      <td>Activity entered</td>\n",
       "      <td>7</td>\n",
       "      <td>2017-01-03 13:11:00</td>\n",
       "      <td>5130</td>\n",
       "    </tr>\n",
       "    <tr>\n",
       "      <th>2</th>\n",
       "      <td>9823</td>\n",
       "      <td>Service Request Type changed</td>\n",
       "      <td>5</td>\n",
       "      <td>2017-01-03 13:20:00</td>\n",
       "      <td>5130</td>\n",
       "    </tr>\n",
       "    <tr>\n",
       "      <th>3</th>\n",
       "      <td>9824</td>\n",
       "      <td>Routed</td>\n",
       "      <td>1</td>\n",
       "      <td>2017-01-03 13:20:00</td>\n",
       "      <td>5130</td>\n",
       "    </tr>\n",
       "    <tr>\n",
       "      <th>4</th>\n",
       "      <td>9825</td>\n",
       "      <td>Service Request Type changed</td>\n",
       "      <td>5</td>\n",
       "      <td>2017-01-03 13:21:00</td>\n",
       "      <td>5130</td>\n",
       "    </tr>\n",
       "  </tbody>\n",
       "</table>\n",
       "</div>"
      ],
      "text/plain": [
       "   Activity ID                 Activity Type  Activity Code  \\\n",
       "0         9821                       Created              9   \n",
       "1         9822              Activity entered              7   \n",
       "2         9823  Service Request Type changed              5   \n",
       "3         9824                        Routed              1   \n",
       "4         9825  Service Request Type changed              5   \n",
       "\n",
       "         Activity Date  Request ID  \n",
       "0  2017-01-03 13:11:00        5130  \n",
       "1  2017-01-03 13:11:00        5130  \n",
       "2  2017-01-03 13:20:00        5130  \n",
       "3  2017-01-03 13:20:00        5130  \n",
       "4  2017-01-03 13:21:00        5130  "
      ]
     },
     "execution_count": 3,
     "metadata": {},
     "output_type": "execute_result"
    }
   ],
   "source": [
    "# Read data for activity\n",
    "activity = pd.read_csv(\"haverhill-activity.csv\")\n",
    "activity.head(5)"
   ]
  },
  {
   "cell_type": "code",
   "execution_count": 4,
   "metadata": {
    "scrolled": true
   },
   "outputs": [
    {
     "data": {
      "text/html": [
       "<div>\n",
       "<style scoped>\n",
       "    .dataframe tbody tr th:only-of-type {\n",
       "        vertical-align: middle;\n",
       "    }\n",
       "\n",
       "    .dataframe tbody tr th {\n",
       "        vertical-align: top;\n",
       "    }\n",
       "\n",
       "    .dataframe thead th {\n",
       "        text-align: right;\n",
       "    }\n",
       "</style>\n",
       "<table border=\"1\" class=\"dataframe\">\n",
       "  <thead>\n",
       "    <tr style=\"text-align: right;\">\n",
       "      <th></th>\n",
       "      <th>Request ID</th>\n",
       "      <th>Create Date</th>\n",
       "      <th>Master Request</th>\n",
       "      <th>Has Links</th>\n",
       "      <th>Status</th>\n",
       "      <th>Status Code</th>\n",
       "      <th>Last Action</th>\n",
       "      <th>Last Change</th>\n",
       "      <th>Close Date</th>\n",
       "      <th>Work Order Created</th>\n",
       "      <th>...</th>\n",
       "      <th>Cross Street ID</th>\n",
       "      <th>Cross Street</th>\n",
       "      <th>District ID</th>\n",
       "      <th>District</th>\n",
       "      <th>Escalations</th>\n",
       "      <th>Priority</th>\n",
       "      <th>Longitude</th>\n",
       "      <th>Latitude</th>\n",
       "      <th>Origin ID</th>\n",
       "      <th>Origin</th>\n",
       "    </tr>\n",
       "  </thead>\n",
       "  <tbody>\n",
       "    <tr>\n",
       "      <th>0</th>\n",
       "      <td>5130</td>\n",
       "      <td>2017-01-03 13:11:00</td>\n",
       "      <td>0</td>\n",
       "      <td>False</td>\n",
       "      <td>Closed</td>\n",
       "      <td>1</td>\n",
       "      <td>2017-01-03 14:05:00</td>\n",
       "      <td>2017-01-03 14:05:00</td>\n",
       "      <td>2017-01-03 14:05:00</td>\n",
       "      <td>False</td>\n",
       "      <td>...</td>\n",
       "      <td>0</td>\n",
       "      <td>NaN</td>\n",
       "      <td>1</td>\n",
       "      <td>Mt Washington</td>\n",
       "      <td>0</td>\n",
       "      <td>2</td>\n",
       "      <td>-71.105902</td>\n",
       "      <td>42.767552</td>\n",
       "      <td>1</td>\n",
       "      <td>Call Center</td>\n",
       "    </tr>\n",
       "    <tr>\n",
       "      <th>1</th>\n",
       "      <td>5131</td>\n",
       "      <td>2017-01-03 13:29:00</td>\n",
       "      <td>0</td>\n",
       "      <td>False</td>\n",
       "      <td>Closed</td>\n",
       "      <td>1</td>\n",
       "      <td>2017-01-03 13:29:00</td>\n",
       "      <td>2017-01-03 13:29:00</td>\n",
       "      <td>2017-01-03 13:29:00</td>\n",
       "      <td>False</td>\n",
       "      <td>...</td>\n",
       "      <td>0</td>\n",
       "      <td>NaN</td>\n",
       "      <td>0</td>\n",
       "      <td>NaN</td>\n",
       "      <td>0</td>\n",
       "      <td>2</td>\n",
       "      <td>0.000000</td>\n",
       "      <td>0.000000</td>\n",
       "      <td>1</td>\n",
       "      <td>Call Center</td>\n",
       "    </tr>\n",
       "    <tr>\n",
       "      <th>2</th>\n",
       "      <td>5132</td>\n",
       "      <td>2017-01-03 13:33:00</td>\n",
       "      <td>0</td>\n",
       "      <td>False</td>\n",
       "      <td>Closed</td>\n",
       "      <td>1</td>\n",
       "      <td>2017-01-03 13:33:00</td>\n",
       "      <td>2017-01-03 13:33:00</td>\n",
       "      <td>2017-01-03 13:33:00</td>\n",
       "      <td>False</td>\n",
       "      <td>...</td>\n",
       "      <td>0</td>\n",
       "      <td>NaN</td>\n",
       "      <td>0</td>\n",
       "      <td>NaN</td>\n",
       "      <td>0</td>\n",
       "      <td>2</td>\n",
       "      <td>0.000000</td>\n",
       "      <td>0.000000</td>\n",
       "      <td>1</td>\n",
       "      <td>Call Center</td>\n",
       "    </tr>\n",
       "    <tr>\n",
       "      <th>3</th>\n",
       "      <td>5133</td>\n",
       "      <td>2017-01-03 13:47:00</td>\n",
       "      <td>0</td>\n",
       "      <td>False</td>\n",
       "      <td>Closed</td>\n",
       "      <td>1</td>\n",
       "      <td>2017-01-03 13:47:00</td>\n",
       "      <td>2017-01-03 13:47:00</td>\n",
       "      <td>2017-01-03 13:47:00</td>\n",
       "      <td>False</td>\n",
       "      <td>...</td>\n",
       "      <td>0</td>\n",
       "      <td>NaN</td>\n",
       "      <td>0</td>\n",
       "      <td>NaN</td>\n",
       "      <td>0</td>\n",
       "      <td>2</td>\n",
       "      <td>0.000000</td>\n",
       "      <td>0.000000</td>\n",
       "      <td>1</td>\n",
       "      <td>Call Center</td>\n",
       "    </tr>\n",
       "    <tr>\n",
       "      <th>4</th>\n",
       "      <td>5134</td>\n",
       "      <td>2017-01-03 13:47:00</td>\n",
       "      <td>0</td>\n",
       "      <td>False</td>\n",
       "      <td>Closed</td>\n",
       "      <td>1</td>\n",
       "      <td>2017-01-03 13:47:00</td>\n",
       "      <td>2017-01-03 13:47:00</td>\n",
       "      <td>2017-01-03 13:47:00</td>\n",
       "      <td>False</td>\n",
       "      <td>...</td>\n",
       "      <td>0</td>\n",
       "      <td>NaN</td>\n",
       "      <td>0</td>\n",
       "      <td>NaN</td>\n",
       "      <td>0</td>\n",
       "      <td>2</td>\n",
       "      <td>0.000000</td>\n",
       "      <td>0.000000</td>\n",
       "      <td>1</td>\n",
       "      <td>Call Center</td>\n",
       "    </tr>\n",
       "    <tr>\n",
       "      <th>5</th>\n",
       "      <td>5135</td>\n",
       "      <td>2017-01-03 13:53:00</td>\n",
       "      <td>0</td>\n",
       "      <td>False</td>\n",
       "      <td>Closed</td>\n",
       "      <td>1</td>\n",
       "      <td>2017-01-03 13:53:00</td>\n",
       "      <td>2017-01-03 13:53:00</td>\n",
       "      <td>2017-01-03 13:53:00</td>\n",
       "      <td>False</td>\n",
       "      <td>...</td>\n",
       "      <td>0</td>\n",
       "      <td>NaN</td>\n",
       "      <td>0</td>\n",
       "      <td>NaN</td>\n",
       "      <td>0</td>\n",
       "      <td>2</td>\n",
       "      <td>0.000000</td>\n",
       "      <td>0.000000</td>\n",
       "      <td>1</td>\n",
       "      <td>Call Center</td>\n",
       "    </tr>\n",
       "    <tr>\n",
       "      <th>6</th>\n",
       "      <td>5136</td>\n",
       "      <td>2017-01-03 13:55:00</td>\n",
       "      <td>0</td>\n",
       "      <td>False</td>\n",
       "      <td>Closed</td>\n",
       "      <td>1</td>\n",
       "      <td>2017-01-03 13:55:00</td>\n",
       "      <td>2017-01-03 13:55:00</td>\n",
       "      <td>2017-01-03 13:55:00</td>\n",
       "      <td>False</td>\n",
       "      <td>...</td>\n",
       "      <td>0</td>\n",
       "      <td>NaN</td>\n",
       "      <td>0</td>\n",
       "      <td>NaN</td>\n",
       "      <td>0</td>\n",
       "      <td>2</td>\n",
       "      <td>0.000000</td>\n",
       "      <td>0.000000</td>\n",
       "      <td>1</td>\n",
       "      <td>Call Center</td>\n",
       "    </tr>\n",
       "    <tr>\n",
       "      <th>7</th>\n",
       "      <td>5137</td>\n",
       "      <td>2017-01-03 13:57:00</td>\n",
       "      <td>0</td>\n",
       "      <td>False</td>\n",
       "      <td>Closed</td>\n",
       "      <td>1</td>\n",
       "      <td>2017-01-03 13:57:00</td>\n",
       "      <td>2017-01-03 13:57:00</td>\n",
       "      <td>2017-01-03 13:57:00</td>\n",
       "      <td>False</td>\n",
       "      <td>...</td>\n",
       "      <td>0</td>\n",
       "      <td>NaN</td>\n",
       "      <td>0</td>\n",
       "      <td>NaN</td>\n",
       "      <td>0</td>\n",
       "      <td>2</td>\n",
       "      <td>0.000000</td>\n",
       "      <td>0.000000</td>\n",
       "      <td>1</td>\n",
       "      <td>Call Center</td>\n",
       "    </tr>\n",
       "    <tr>\n",
       "      <th>8</th>\n",
       "      <td>5138</td>\n",
       "      <td>2017-01-03 13:57:00</td>\n",
       "      <td>0</td>\n",
       "      <td>False</td>\n",
       "      <td>Closed</td>\n",
       "      <td>1</td>\n",
       "      <td>2017-01-03 13:57:00</td>\n",
       "      <td>2017-01-03 13:57:00</td>\n",
       "      <td>2017-01-03 13:57:00</td>\n",
       "      <td>False</td>\n",
       "      <td>...</td>\n",
       "      <td>0</td>\n",
       "      <td>NaN</td>\n",
       "      <td>0</td>\n",
       "      <td>NaN</td>\n",
       "      <td>0</td>\n",
       "      <td>2</td>\n",
       "      <td>0.000000</td>\n",
       "      <td>0.000000</td>\n",
       "      <td>1</td>\n",
       "      <td>Call Center</td>\n",
       "    </tr>\n",
       "    <tr>\n",
       "      <th>9</th>\n",
       "      <td>5139</td>\n",
       "      <td>2017-01-03 14:03:00</td>\n",
       "      <td>0</td>\n",
       "      <td>False</td>\n",
       "      <td>Closed</td>\n",
       "      <td>1</td>\n",
       "      <td>2017-01-03 14:03:00</td>\n",
       "      <td>2017-01-03 14:03:00</td>\n",
       "      <td>2017-01-03 14:03:00</td>\n",
       "      <td>False</td>\n",
       "      <td>...</td>\n",
       "      <td>0</td>\n",
       "      <td>NaN</td>\n",
       "      <td>0</td>\n",
       "      <td>NaN</td>\n",
       "      <td>0</td>\n",
       "      <td>2</td>\n",
       "      <td>0.000000</td>\n",
       "      <td>0.000000</td>\n",
       "      <td>1</td>\n",
       "      <td>Call Center</td>\n",
       "    </tr>\n",
       "  </tbody>\n",
       "</table>\n",
       "<p>10 rows × 33 columns</p>\n",
       "</div>"
      ],
      "text/plain": [
       "   Request ID          Create Date  Master Request  Has Links  Status  \\\n",
       "0        5130  2017-01-03 13:11:00               0      False  Closed   \n",
       "1        5131  2017-01-03 13:29:00               0      False  Closed   \n",
       "2        5132  2017-01-03 13:33:00               0      False  Closed   \n",
       "3        5133  2017-01-03 13:47:00               0      False  Closed   \n",
       "4        5134  2017-01-03 13:47:00               0      False  Closed   \n",
       "5        5135  2017-01-03 13:53:00               0      False  Closed   \n",
       "6        5136  2017-01-03 13:55:00               0      False  Closed   \n",
       "7        5137  2017-01-03 13:57:00               0      False  Closed   \n",
       "8        5138  2017-01-03 13:57:00               0      False  Closed   \n",
       "9        5139  2017-01-03 14:03:00               0      False  Closed   \n",
       "\n",
       "   Status Code          Last Action          Last Change           Close Date  \\\n",
       "0            1  2017-01-03 14:05:00  2017-01-03 14:05:00  2017-01-03 14:05:00   \n",
       "1            1  2017-01-03 13:29:00  2017-01-03 13:29:00  2017-01-03 13:29:00   \n",
       "2            1  2017-01-03 13:33:00  2017-01-03 13:33:00  2017-01-03 13:33:00   \n",
       "3            1  2017-01-03 13:47:00  2017-01-03 13:47:00  2017-01-03 13:47:00   \n",
       "4            1  2017-01-03 13:47:00  2017-01-03 13:47:00  2017-01-03 13:47:00   \n",
       "5            1  2017-01-03 13:53:00  2017-01-03 13:53:00  2017-01-03 13:53:00   \n",
       "6            1  2017-01-03 13:55:00  2017-01-03 13:55:00  2017-01-03 13:55:00   \n",
       "7            1  2017-01-03 13:57:00  2017-01-03 13:57:00  2017-01-03 13:57:00   \n",
       "8            1  2017-01-03 13:57:00  2017-01-03 13:57:00  2017-01-03 13:57:00   \n",
       "9            1  2017-01-03 14:03:00  2017-01-03 14:03:00  2017-01-03 14:03:00   \n",
       "\n",
       "   Work Order Created  ...  Cross Street ID Cross Street  District ID  \\\n",
       "0               False  ...                0          NaN            1   \n",
       "1               False  ...                0          NaN            0   \n",
       "2               False  ...                0          NaN            0   \n",
       "3               False  ...                0          NaN            0   \n",
       "4               False  ...                0          NaN            0   \n",
       "5               False  ...                0          NaN            0   \n",
       "6               False  ...                0          NaN            0   \n",
       "7               False  ...                0          NaN            0   \n",
       "8               False  ...                0          NaN            0   \n",
       "9               False  ...                0          NaN            0   \n",
       "\n",
       "        District  Escalations Priority  Longitude   Latitude Origin ID  \\\n",
       "0  Mt Washington            0        2 -71.105902  42.767552         1   \n",
       "1            NaN            0        2   0.000000   0.000000         1   \n",
       "2            NaN            0        2   0.000000   0.000000         1   \n",
       "3            NaN            0        2   0.000000   0.000000         1   \n",
       "4            NaN            0        2   0.000000   0.000000         1   \n",
       "5            NaN            0        2   0.000000   0.000000         1   \n",
       "6            NaN            0        2   0.000000   0.000000         1   \n",
       "7            NaN            0        2   0.000000   0.000000         1   \n",
       "8            NaN            0        2   0.000000   0.000000         1   \n",
       "9            NaN            0        2   0.000000   0.000000         1   \n",
       "\n",
       "        Origin  \n",
       "0  Call Center  \n",
       "1  Call Center  \n",
       "2  Call Center  \n",
       "3  Call Center  \n",
       "4  Call Center  \n",
       "5  Call Center  \n",
       "6  Call Center  \n",
       "7  Call Center  \n",
       "8  Call Center  \n",
       "9  Call Center  \n",
       "\n",
       "[10 rows x 33 columns]"
      ]
     },
     "execution_count": 4,
     "metadata": {},
     "output_type": "execute_result"
    }
   ],
   "source": [
    "# Read data for request\n",
    "request = pd.read_csv(\"haverhill-request.csv\", encoding = 'unicode_escape')\n",
    "request.head(5)"
   ]
  },
  {
   "cell_type": "markdown",
   "metadata": {},
   "source": [
    "**Plot Status and Origin of requests** "
   ]
  },
  {
   "cell_type": "code",
   "execution_count": 5,
   "metadata": {},
   "outputs": [
    {
     "data": {
      "text/plain": [
       "array(['Call Center', 'Control Panel', 'Website', 'Report2Gov iOS',\n",
       "       'Report2Gov Android', 'Text Message', 'Report2Gov Website'],\n",
       "      dtype=object)"
      ]
     },
     "execution_count": 5,
     "metadata": {},
     "output_type": "execute_result"
    }
   ],
   "source": [
    "request['Status'].unique()\n",
    "request['Origin'].unique()"
   ]
  },
  {
   "cell_type": "code",
   "execution_count": 6,
   "metadata": {},
   "outputs": [
    {
     "data": {
      "text/plain": [
       "70060"
      ]
     },
     "execution_count": 6,
     "metadata": {},
     "output_type": "execute_result"
    }
   ],
   "source": [
    "len(request)"
   ]
  },
  {
   "cell_type": "code",
   "execution_count": 7,
   "metadata": {},
   "outputs": [
    {
     "data": {
      "text/plain": [
       "<Figure size 432x288 with 0 Axes>"
      ]
     },
     "metadata": {},
     "output_type": "display_data"
    },
    {
     "data": {
      "image/png": "[encoded data removed]",
      "text/plain": [
       "<Figure size 576x360 with 1 Axes>"
      ]
     },
     "metadata": {},
     "output_type": "display_data"
    }
   ],
   "source": [
    "plt.figure()\n",
    "fig, ax = plt.subplots(figsize = (8,5))\n",
    "labels = list(request['Status'].unique())\n",
    "percentages = list(request['Status'].value_counts())\n",
    "bars = plt.bar(labels, percentages, color='tomato')\n",
    "plt.xlabel('Status')\n",
    "plt.ylabel('Number of Requests')\n",
    "for i, val in enumerate(bars):\n",
    "    height = val.get_height()\n",
    "    plt.text(val.get_x() + val.get_width()/2.0, height, percentages[i], ha='center', va='bottom')"
   ]
  },
  {
   "cell_type": "code",
   "execution_count": 8,
   "metadata": {},
   "outputs": [
    {
     "data": {
      "text/plain": [
       "Closed         67633\n",
       "In Progress     2423\n",
       "Open               4\n",
       "Name: Status, dtype: int64"
      ]
     },
     "execution_count": 8,
     "metadata": {},
     "output_type": "execute_result"
    }
   ],
   "source": [
    "request['Status'].value_counts()"
   ]
  },
  {
   "cell_type": "code",
   "execution_count": 9,
   "metadata": {},
   "outputs": [
    {
     "data": {
      "text/plain": [
       "<Figure size 432x288 with 0 Axes>"
      ]
     },
     "metadata": {},
     "output_type": "display_data"
    },
    {
     "data": {
      "image/png": "[encoded data removed]",
      "text/plain": [
       "<Figure size 1008x432 with 1 Axes>"
      ]
     },
     "metadata": {},
     "output_type": "display_data"
    }
   ],
   "source": [
    "plt.figure()\n",
    "fig, ax = plt.subplots(figsize = (14,6))\n",
    "labels = list(request['Origin'].unique())\n",
    "percentages = list(request['Origin'].value_counts())\n",
    "bars = plt.bar(labels, percentages, color='royalblue')\n",
    "plt.xlabel('Origin')\n",
    "plt.ylabel('Number of Requests')\n",
    "for i, val in enumerate(bars):\n",
    "    height = val.get_height()\n",
    "    plt.text(val.get_x() + val.get_width()/2.0, height, percentages[i], ha='center', va='bottom')"
   ]
  },
  {
   "cell_type": "code",
   "execution_count": 10,
   "metadata": {},
   "outputs": [
    {
     "data": {
      "text/plain": [
       "Call Center           66870\n",
       "Website                2028\n",
       "Control Panel           724\n",
       "Report2Gov iOS          321\n",
       "Report2Gov Android      110\n",
       "Text Message              5\n",
       "Report2Gov Website        2\n",
       "Name: Origin, dtype: int64"
      ]
     },
     "execution_count": 10,
     "metadata": {},
     "output_type": "execute_result"
    }
   ],
   "source": [
    "request['Origin'].value_counts()"
   ]
  },
  {
   "cell_type": "markdown",
   "metadata": {},
   "source": [
    "# Latitude Longitude"
   ]
  },
  {
   "cell_type": "code",
   "execution_count": 11,
   "metadata": {},
   "outputs": [
    {
     "data": {
      "text/plain": [
       "Text(0,0.5,'Latitude')"
      ]
     },
     "execution_count": 11,
     "metadata": {},
     "output_type": "execute_result"
    },
    {
     "data": {
      "image/png": "[encoded data removed]",
      "text/plain": [
       "<Figure size 576x360 with 1 Axes>"
      ]
     },
     "metadata": {},
     "output_type": "display_data"
    }
   ],
   "source": [
    "plt.figure(figsize = (8,5))\n",
    "lat_long = request[['Longitude', 'Latitude', 'Request Type ID']]\n",
    "lat_long = lat_long.replace(0, np.nan)\n",
    "lat_long = lat_long.dropna()\n",
    "lat_long.head(10)\n",
    "plt.plot(lat_long['Longitude'], lat_long['Latitude'], '.', color='orange')\n",
    "plt.xlabel('Longitude')\n",
    "plt.ylabel('Latitude')"
   ]
  },
  {
   "cell_type": "code",
   "execution_count": 12,
   "metadata": {},
   "outputs": [
    {
     "name": "stdout",
     "output_type": "stream",
     "text": [
      "{1027, 16909, 13839, 1049, 1050, 12852, 54326, 11834, 1089, 1094, 1096, 1097, 2138, 1121, 64611, 64617, 64626, 62583, 5771, 71823, 47760, 54574, 71825, 56470, 37526, 71842, 32443, 32444, 10429, 13503, 9411, 71877, 47843, 5871, 55539, 40693, 251, 252, 253, 254, 7425, 7426, 259, 258, 261, 262, 263, 264, 267, 268, 269, 270, 273, 274, 277, 280, 282, 8476, 285, 284, 287, 289, 38689, 291, 8995, 293, 294, 8997, 296, 292, 8998, 297, 300, 8996, 302, 301, 299, 304, 306, 307, 308, 309, 310, 311, 312, 314, 315, 317, 318, 319, 320, 321, 322, 51008, 325, 326, 328, 330, 331, 333, 334, 336, 1873, 338, 339, 341, 342, 343, 344, 345, 346, 3928, 348, 349, 350, 351, 352, 353, 5988, 356, 357, 359, 361, 362, 363, 365, 366, 367, 368, 369, 370, 371, 372, 373, 374, 17279, 384, 2433, 386, 383, 9604, 901, 902, 391, 389, 390, 923, 13216, 933, 37286, 37291, 61365, 1980, 4031, 1984, 974, 975, 1507, 11242, 303, 1015}\n"
     ]
    },
    {
     "data": {
      "text/plain": [
       "161"
      ]
     },
     "execution_count": 12,
     "metadata": {},
     "output_type": "execute_result"
    }
   ],
   "source": [
    "print(set(lat_long['Request Type ID']))\n",
    "len(set(lat_long['Request Type ID']))"
   ]
  },
  {
   "cell_type": "code",
   "execution_count": 13,
   "metadata": {},
   "outputs": [
    {
     "data": {
      "text/plain": [
       "18080"
      ]
     },
     "execution_count": 13,
     "metadata": {},
     "output_type": "execute_result"
    }
   ],
   "source": [
    "len(lat_long)"
   ]
  },
  {
   "cell_type": "code",
   "execution_count": 14,
   "metadata": {},
   "outputs": [],
   "source": [
    "marker_map = folium.Map(location=[42.7762, -71.0773], control_scale=True, zoom_start=10)\n",
    "test = lat_long.sample(1000)\n",
    "test = np.array(test)\n",
    "test[:5]\n",
    "for i in range(len(test)):\n",
    "    folium.Marker([test[i,1], test[i,0]], popup = \"$\"+str(test[i,2])).add_to(marker_map) \n",
    "marker_map.save('marker_map.html')"
   ]
  },
  {
   "cell_type": "code",
   "execution_count": 15,
   "metadata": {},
   "outputs": [],
   "source": [
    "# display(marker_map)"
   ]
  },
  {
   "cell_type": "markdown",
   "metadata": {},
   "source": [
    "# Dates"
   ]
  },
  {
   "cell_type": "code",
   "execution_count": 16,
   "metadata": {},
   "outputs": [
    {
     "name": "stdout",
     "output_type": "stream",
     "text": [
      "67633\n"
     ]
    }
   ],
   "source": [
    "req = request[request.Status == 'Closed']\n",
    "print(len(req))"
   ]
  },
  {
   "cell_type": "code",
   "execution_count": 17,
   "metadata": {},
   "outputs": [
    {
     "data": {
      "text/plain": [
       "67633"
      ]
     },
     "execution_count": 17,
     "metadata": {},
     "output_type": "execute_result"
    }
   ],
   "source": [
    "create = req['Create Date']\n",
    "len(create)"
   ]
  },
  {
   "cell_type": "code",
   "execution_count": 18,
   "metadata": {},
   "outputs": [
    {
     "data": {
      "text/plain": [
       "67633"
      ]
     },
     "execution_count": 18,
     "metadata": {},
     "output_type": "execute_result"
    }
   ],
   "source": [
    "close = req['Close Date']\n",
    "len(close)"
   ]
  },
  {
   "cell_type": "code",
   "execution_count": 19,
   "metadata": {},
   "outputs": [
    {
     "data": {
      "text/html": [
       "<div>\n",
       "<style scoped>\n",
       "    .dataframe tbody tr th:only-of-type {\n",
       "        vertical-align: middle;\n",
       "    }\n",
       "\n",
       "    .dataframe tbody tr th {\n",
       "        vertical-align: top;\n",
       "    }\n",
       "\n",
       "    .dataframe thead th {\n",
       "        text-align: right;\n",
       "    }\n",
       "</style>\n",
       "<table border=\"1\" class=\"dataframe\">\n",
       "  <thead>\n",
       "    <tr style=\"text-align: right;\">\n",
       "      <th></th>\n",
       "      <th>Request ID</th>\n",
       "      <th>Create Date</th>\n",
       "      <th>Master Request</th>\n",
       "      <th>Has Links</th>\n",
       "      <th>Status</th>\n",
       "      <th>Status Code</th>\n",
       "      <th>Last Action</th>\n",
       "      <th>Last Change</th>\n",
       "      <th>Close Date</th>\n",
       "      <th>Work Order Created</th>\n",
       "      <th>...</th>\n",
       "      <th>Cross Street ID</th>\n",
       "      <th>Cross Street</th>\n",
       "      <th>District ID</th>\n",
       "      <th>District</th>\n",
       "      <th>Escalations</th>\n",
       "      <th>Priority</th>\n",
       "      <th>Longitude</th>\n",
       "      <th>Latitude</th>\n",
       "      <th>Origin ID</th>\n",
       "      <th>Origin</th>\n",
       "    </tr>\n",
       "  </thead>\n",
       "  <tbody>\n",
       "    <tr>\n",
       "      <th>0</th>\n",
       "      <td>5130</td>\n",
       "      <td>2017-01-03 13:11:00</td>\n",
       "      <td>0</td>\n",
       "      <td>False</td>\n",
       "      <td>Closed</td>\n",
       "      <td>1</td>\n",
       "      <td>2017-01-03 14:05:00</td>\n",
       "      <td>2017-01-03 14:05:00</td>\n",
       "      <td>2017-01-03 14:05:00</td>\n",
       "      <td>False</td>\n",
       "      <td>...</td>\n",
       "      <td>0</td>\n",
       "      <td>NaN</td>\n",
       "      <td>1</td>\n",
       "      <td>Mt Washington</td>\n",
       "      <td>0</td>\n",
       "      <td>2</td>\n",
       "      <td>-71.105902</td>\n",
       "      <td>42.767552</td>\n",
       "      <td>1</td>\n",
       "      <td>Call Center</td>\n",
       "    </tr>\n",
       "    <tr>\n",
       "      <th>1</th>\n",
       "      <td>5131</td>\n",
       "      <td>2017-01-03 13:29:00</td>\n",
       "      <td>0</td>\n",
       "      <td>False</td>\n",
       "      <td>Closed</td>\n",
       "      <td>1</td>\n",
       "      <td>2017-01-03 13:29:00</td>\n",
       "      <td>2017-01-03 13:29:00</td>\n",
       "      <td>2017-01-03 13:29:00</td>\n",
       "      <td>False</td>\n",
       "      <td>...</td>\n",
       "      <td>0</td>\n",
       "      <td>NaN</td>\n",
       "      <td>0</td>\n",
       "      <td>NaN</td>\n",
       "      <td>0</td>\n",
       "      <td>2</td>\n",
       "      <td>0.000000</td>\n",
       "      <td>0.000000</td>\n",
       "      <td>1</td>\n",
       "      <td>Call Center</td>\n",
       "    </tr>\n",
       "    <tr>\n",
       "      <th>2</th>\n",
       "      <td>5132</td>\n",
       "      <td>2017-01-03 13:33:00</td>\n",
       "      <td>0</td>\n",
       "      <td>False</td>\n",
       "      <td>Closed</td>\n",
       "      <td>1</td>\n",
       "      <td>2017-01-03 13:33:00</td>\n",
       "      <td>2017-01-03 13:33:00</td>\n",
       "      <td>2017-01-03 13:33:00</td>\n",
       "      <td>False</td>\n",
       "      <td>...</td>\n",
       "      <td>0</td>\n",
       "      <td>NaN</td>\n",
       "      <td>0</td>\n",
       "      <td>NaN</td>\n",
       "      <td>0</td>\n",
       "      <td>2</td>\n",
       "      <td>0.000000</td>\n",
       "      <td>0.000000</td>\n",
       "      <td>1</td>\n",
       "      <td>Call Center</td>\n",
       "    </tr>\n",
       "    <tr>\n",
       "      <th>3</th>\n",
       "      <td>5133</td>\n",
       "      <td>2017-01-03 13:47:00</td>\n",
       "      <td>0</td>\n",
       "      <td>False</td>\n",
       "      <td>Closed</td>\n",
       "      <td>1</td>\n",
       "      <td>2017-01-03 13:47:00</td>\n",
       "      <td>2017-01-03 13:47:00</td>\n",
       "      <td>2017-01-03 13:47:00</td>\n",
       "      <td>False</td>\n",
       "      <td>...</td>\n",
       "      <td>0</td>\n",
       "      <td>NaN</td>\n",
       "      <td>0</td>\n",
       "      <td>NaN</td>\n",
       "      <td>0</td>\n",
       "      <td>2</td>\n",
       "      <td>0.000000</td>\n",
       "      <td>0.000000</td>\n",
       "      <td>1</td>\n",
       "      <td>Call Center</td>\n",
       "    </tr>\n",
       "    <tr>\n",
       "      <th>4</th>\n",
       "      <td>5134</td>\n",
       "      <td>2017-01-03 13:47:00</td>\n",
       "      <td>0</td>\n",
       "      <td>False</td>\n",
       "      <td>Closed</td>\n",
       "      <td>1</td>\n",
       "      <td>2017-01-03 13:47:00</td>\n",
       "      <td>2017-01-03 13:47:00</td>\n",
       "      <td>2017-01-03 13:47:00</td>\n",
       "      <td>False</td>\n",
       "      <td>...</td>\n",
       "      <td>0</td>\n",
       "      <td>NaN</td>\n",
       "      <td>0</td>\n",
       "      <td>NaN</td>\n",
       "      <td>0</td>\n",
       "      <td>2</td>\n",
       "      <td>0.000000</td>\n",
       "      <td>0.000000</td>\n",
       "      <td>1</td>\n",
       "      <td>Call Center</td>\n",
       "    </tr>\n",
       "  </tbody>\n",
       "</table>\n",
       "<p>5 rows × 33 columns</p>\n",
       "</div>"
      ],
      "text/plain": [
       "   Request ID          Create Date  Master Request  Has Links  Status  \\\n",
       "0        5130  2017-01-03 13:11:00               0      False  Closed   \n",
       "1        5131  2017-01-03 13:29:00               0      False  Closed   \n",
       "2        5132  2017-01-03 13:33:00               0      False  Closed   \n",
       "3        5133  2017-01-03 13:47:00               0      False  Closed   \n",
       "4        5134  2017-01-03 13:47:00               0      False  Closed   \n",
       "\n",
       "   Status Code          Last Action          Last Change           Close Date  \\\n",
       "0            1  2017-01-03 14:05:00  2017-01-03 14:05:00  2017-01-03 14:05:00   \n",
       "1            1  2017-01-03 13:29:00  2017-01-03 13:29:00  2017-01-03 13:29:00   \n",
       "2            1  2017-01-03 13:33:00  2017-01-03 13:33:00  2017-01-03 13:33:00   \n",
       "3            1  2017-01-03 13:47:00  2017-01-03 13:47:00  2017-01-03 13:47:00   \n",
       "4            1  2017-01-03 13:47:00  2017-01-03 13:47:00  2017-01-03 13:47:00   \n",
       "\n",
       "   Work Order Created  ...  Cross Street ID Cross Street  District ID  \\\n",
       "0               False  ...                0          NaN            1   \n",
       "1               False  ...                0          NaN            0   \n",
       "2               False  ...                0          NaN            0   \n",
       "3               False  ...                0          NaN            0   \n",
       "4               False  ...                0          NaN            0   \n",
       "\n",
       "        District  Escalations Priority  Longitude   Latitude Origin ID  \\\n",
       "0  Mt Washington            0        2 -71.105902  42.767552         1   \n",
       "1            NaN            0        2   0.000000   0.000000         1   \n",
       "2            NaN            0        2   0.000000   0.000000         1   \n",
       "3            NaN            0        2   0.000000   0.000000         1   \n",
       "4            NaN            0        2   0.000000   0.000000         1   \n",
       "\n",
       "        Origin  \n",
       "0  Call Center  \n",
       "1  Call Center  \n",
       "2  Call Center  \n",
       "3  Call Center  \n",
       "4  Call Center  \n",
       "\n",
       "[5 rows x 33 columns]"
      ]
     },
     "execution_count": 19,
     "metadata": {},
     "output_type": "execute_result"
    }
   ],
   "source": [
    "req.head()"
   ]
  },
  {
   "cell_type": "code",
   "execution_count": 20,
   "metadata": {},
   "outputs": [],
   "source": [
    "import time\n",
    "def __datetime(date):\n",
    "    '''Compute date is standard format'''\n",
    "    return datetime.strptime(date, \"%Y-%m-%d %H:%M:%S\")"
   ]
  },
  {
   "cell_type": "code",
   "execution_count": 21,
   "metadata": {},
   "outputs": [],
   "source": [
    "time_taken = list()\n",
    "for idx, row in req.iterrows():\n",
    "    try:\n",
    "        start = __datetime(create[idx])\n",
    "        end = __datetime(close[idx])\n",
    "        time_taken.append(str(end-start))\n",
    "    except:\n",
    "        req.drop(idx, inplace=True)\n",
    "        pass"
   ]
  },
  {
   "cell_type": "code",
   "execution_count": 22,
   "metadata": {},
   "outputs": [
    {
     "name": "stdout",
     "output_type": "stream",
     "text": [
      "67633 67633\n"
     ]
    }
   ],
   "source": [
    "print(len(time_taken),len(req))"
   ]
  },
  {
   "cell_type": "code",
   "execution_count": 23,
   "metadata": {},
   "outputs": [
    {
     "data": {
      "text/plain": [
       "67633"
      ]
     },
     "execution_count": 23,
     "metadata": {},
     "output_type": "execute_result"
    }
   ],
   "source": [
    "time_taken = list(time_taken)\n",
    "len(time_taken)"
   ]
  },
  {
   "cell_type": "code",
   "execution_count": 24,
   "metadata": {},
   "outputs": [],
   "source": [
    "req['completion time'] = time_taken"
   ]
  },
  {
   "cell_type": "code",
   "execution_count": 25,
   "metadata": {},
   "outputs": [
    {
     "data": {
      "text/html": [
       "<div>\n",
       "<style scoped>\n",
       "    .dataframe tbody tr th:only-of-type {\n",
       "        vertical-align: middle;\n",
       "    }\n",
       "\n",
       "    .dataframe tbody tr th {\n",
       "        vertical-align: top;\n",
       "    }\n",
       "\n",
       "    .dataframe thead th {\n",
       "        text-align: right;\n",
       "    }\n",
       "</style>\n",
       "<table border=\"1\" class=\"dataframe\">\n",
       "  <thead>\n",
       "    <tr style=\"text-align: right;\">\n",
       "      <th></th>\n",
       "      <th>Request ID</th>\n",
       "      <th>Create Date</th>\n",
       "      <th>Master Request</th>\n",
       "      <th>Has Links</th>\n",
       "      <th>Status</th>\n",
       "      <th>Status Code</th>\n",
       "      <th>Last Action</th>\n",
       "      <th>Last Change</th>\n",
       "      <th>Close Date</th>\n",
       "      <th>Work Order Created</th>\n",
       "      <th>...</th>\n",
       "      <th>Cross Street</th>\n",
       "      <th>District ID</th>\n",
       "      <th>District</th>\n",
       "      <th>Escalations</th>\n",
       "      <th>Priority</th>\n",
       "      <th>Longitude</th>\n",
       "      <th>Latitude</th>\n",
       "      <th>Origin ID</th>\n",
       "      <th>Origin</th>\n",
       "      <th>completion time</th>\n",
       "    </tr>\n",
       "  </thead>\n",
       "  <tbody>\n",
       "    <tr>\n",
       "      <th>0</th>\n",
       "      <td>5130</td>\n",
       "      <td>2017-01-03 13:11:00</td>\n",
       "      <td>0</td>\n",
       "      <td>False</td>\n",
       "      <td>Closed</td>\n",
       "      <td>1</td>\n",
       "      <td>2017-01-03 14:05:00</td>\n",
       "      <td>2017-01-03 14:05:00</td>\n",
       "      <td>2017-01-03 14:05:00</td>\n",
       "      <td>False</td>\n",
       "      <td>...</td>\n",
       "      <td>NaN</td>\n",
       "      <td>1</td>\n",
       "      <td>Mt Washington</td>\n",
       "      <td>0</td>\n",
       "      <td>2</td>\n",
       "      <td>-71.105902</td>\n",
       "      <td>42.767552</td>\n",
       "      <td>1</td>\n",
       "      <td>Call Center</td>\n",
       "      <td>0:54:00</td>\n",
       "    </tr>\n",
       "    <tr>\n",
       "      <th>1</th>\n",
       "      <td>5131</td>\n",
       "      <td>2017-01-03 13:29:00</td>\n",
       "      <td>0</td>\n",
       "      <td>False</td>\n",
       "      <td>Closed</td>\n",
       "      <td>1</td>\n",
       "      <td>2017-01-03 13:29:00</td>\n",
       "      <td>2017-01-03 13:29:00</td>\n",
       "      <td>2017-01-03 13:29:00</td>\n",
       "      <td>False</td>\n",
       "      <td>...</td>\n",
       "      <td>NaN</td>\n",
       "      <td>0</td>\n",
       "      <td>NaN</td>\n",
       "      <td>0</td>\n",
       "      <td>2</td>\n",
       "      <td>0.000000</td>\n",
       "      <td>0.000000</td>\n",
       "      <td>1</td>\n",
       "      <td>Call Center</td>\n",
       "      <td>0:00:00</td>\n",
       "    </tr>\n",
       "    <tr>\n",
       "      <th>2</th>\n",
       "      <td>5132</td>\n",
       "      <td>2017-01-03 13:33:00</td>\n",
       "      <td>0</td>\n",
       "      <td>False</td>\n",
       "      <td>Closed</td>\n",
       "      <td>1</td>\n",
       "      <td>2017-01-03 13:33:00</td>\n",
       "      <td>2017-01-03 13:33:00</td>\n",
       "      <td>2017-01-03 13:33:00</td>\n",
       "      <td>False</td>\n",
       "      <td>...</td>\n",
       "      <td>NaN</td>\n",
       "      <td>0</td>\n",
       "      <td>NaN</td>\n",
       "      <td>0</td>\n",
       "      <td>2</td>\n",
       "      <td>0.000000</td>\n",
       "      <td>0.000000</td>\n",
       "      <td>1</td>\n",
       "      <td>Call Center</td>\n",
       "      <td>0:00:00</td>\n",
       "    </tr>\n",
       "    <tr>\n",
       "      <th>3</th>\n",
       "      <td>5133</td>\n",
       "      <td>2017-01-03 13:47:00</td>\n",
       "      <td>0</td>\n",
       "      <td>False</td>\n",
       "      <td>Closed</td>\n",
       "      <td>1</td>\n",
       "      <td>2017-01-03 13:47:00</td>\n",
       "      <td>2017-01-03 13:47:00</td>\n",
       "      <td>2017-01-03 13:47:00</td>\n",
       "      <td>False</td>\n",
       "      <td>...</td>\n",
       "      <td>NaN</td>\n",
       "      <td>0</td>\n",
       "      <td>NaN</td>\n",
       "      <td>0</td>\n",
       "      <td>2</td>\n",
       "      <td>0.000000</td>\n",
       "      <td>0.000000</td>\n",
       "      <td>1</td>\n",
       "      <td>Call Center</td>\n",
       "      <td>0:00:00</td>\n",
       "    </tr>\n",
       "    <tr>\n",
       "      <th>4</th>\n",
       "      <td>5134</td>\n",
       "      <td>2017-01-03 13:47:00</td>\n",
       "      <td>0</td>\n",
       "      <td>False</td>\n",
       "      <td>Closed</td>\n",
       "      <td>1</td>\n",
       "      <td>2017-01-03 13:47:00</td>\n",
       "      <td>2017-01-03 13:47:00</td>\n",
       "      <td>2017-01-03 13:47:00</td>\n",
       "      <td>False</td>\n",
       "      <td>...</td>\n",
       "      <td>NaN</td>\n",
       "      <td>0</td>\n",
       "      <td>NaN</td>\n",
       "      <td>0</td>\n",
       "      <td>2</td>\n",
       "      <td>0.000000</td>\n",
       "      <td>0.000000</td>\n",
       "      <td>1</td>\n",
       "      <td>Call Center</td>\n",
       "      <td>0:00:00</td>\n",
       "    </tr>\n",
       "    <tr>\n",
       "      <th>5</th>\n",
       "      <td>5135</td>\n",
       "      <td>2017-01-03 13:53:00</td>\n",
       "      <td>0</td>\n",
       "      <td>False</td>\n",
       "      <td>Closed</td>\n",
       "      <td>1</td>\n",
       "      <td>2017-01-03 13:53:00</td>\n",
       "      <td>2017-01-03 13:53:00</td>\n",
       "      <td>2017-01-03 13:53:00</td>\n",
       "      <td>False</td>\n",
       "      <td>...</td>\n",
       "      <td>NaN</td>\n",
       "      <td>0</td>\n",
       "      <td>NaN</td>\n",
       "      <td>0</td>\n",
       "      <td>2</td>\n",
       "      <td>0.000000</td>\n",
       "      <td>0.000000</td>\n",
       "      <td>1</td>\n",
       "      <td>Call Center</td>\n",
       "      <td>0:00:00</td>\n",
       "    </tr>\n",
       "    <tr>\n",
       "      <th>6</th>\n",
       "      <td>5136</td>\n",
       "      <td>2017-01-03 13:55:00</td>\n",
       "      <td>0</td>\n",
       "      <td>False</td>\n",
       "      <td>Closed</td>\n",
       "      <td>1</td>\n",
       "      <td>2017-01-03 13:55:00</td>\n",
       "      <td>2017-01-03 13:55:00</td>\n",
       "      <td>2017-01-03 13:55:00</td>\n",
       "      <td>False</td>\n",
       "      <td>...</td>\n",
       "      <td>NaN</td>\n",
       "      <td>0</td>\n",
       "      <td>NaN</td>\n",
       "      <td>0</td>\n",
       "      <td>2</td>\n",
       "      <td>0.000000</td>\n",
       "      <td>0.000000</td>\n",
       "      <td>1</td>\n",
       "      <td>Call Center</td>\n",
       "      <td>0:00:00</td>\n",
       "    </tr>\n",
       "    <tr>\n",
       "      <th>7</th>\n",
       "      <td>5137</td>\n",
       "      <td>2017-01-03 13:57:00</td>\n",
       "      <td>0</td>\n",
       "      <td>False</td>\n",
       "      <td>Closed</td>\n",
       "      <td>1</td>\n",
       "      <td>2017-01-03 13:57:00</td>\n",
       "      <td>2017-01-03 13:57:00</td>\n",
       "      <td>2017-01-03 13:57:00</td>\n",
       "      <td>False</td>\n",
       "      <td>...</td>\n",
       "      <td>NaN</td>\n",
       "      <td>0</td>\n",
       "      <td>NaN</td>\n",
       "      <td>0</td>\n",
       "      <td>2</td>\n",
       "      <td>0.000000</td>\n",
       "      <td>0.000000</td>\n",
       "      <td>1</td>\n",
       "      <td>Call Center</td>\n",
       "      <td>0:00:00</td>\n",
       "    </tr>\n",
       "    <tr>\n",
       "      <th>8</th>\n",
       "      <td>5138</td>\n",
       "      <td>2017-01-03 13:57:00</td>\n",
       "      <td>0</td>\n",
       "      <td>False</td>\n",
       "      <td>Closed</td>\n",
       "      <td>1</td>\n",
       "      <td>2017-01-03 13:57:00</td>\n",
       "      <td>2017-01-03 13:57:00</td>\n",
       "      <td>2017-01-03 13:57:00</td>\n",
       "      <td>False</td>\n",
       "      <td>...</td>\n",
       "      <td>NaN</td>\n",
       "      <td>0</td>\n",
       "      <td>NaN</td>\n",
       "      <td>0</td>\n",
       "      <td>2</td>\n",
       "      <td>0.000000</td>\n",
       "      <td>0.000000</td>\n",
       "      <td>1</td>\n",
       "      <td>Call Center</td>\n",
       "      <td>0:00:00</td>\n",
       "    </tr>\n",
       "    <tr>\n",
       "      <th>9</th>\n",
       "      <td>5139</td>\n",
       "      <td>2017-01-03 14:03:00</td>\n",
       "      <td>0</td>\n",
       "      <td>False</td>\n",
       "      <td>Closed</td>\n",
       "      <td>1</td>\n",
       "      <td>2017-01-03 14:03:00</td>\n",
       "      <td>2017-01-03 14:03:00</td>\n",
       "      <td>2017-01-03 14:03:00</td>\n",
       "      <td>False</td>\n",
       "      <td>...</td>\n",
       "      <td>NaN</td>\n",
       "      <td>0</td>\n",
       "      <td>NaN</td>\n",
       "      <td>0</td>\n",
       "      <td>2</td>\n",
       "      <td>0.000000</td>\n",
       "      <td>0.000000</td>\n",
       "      <td>1</td>\n",
       "      <td>Call Center</td>\n",
       "      <td>0:00:00</td>\n",
       "    </tr>\n",
       "    <tr>\n",
       "      <th>10</th>\n",
       "      <td>5140</td>\n",
       "      <td>2017-01-03 14:18:00</td>\n",
       "      <td>0</td>\n",
       "      <td>False</td>\n",
       "      <td>Closed</td>\n",
       "      <td>1</td>\n",
       "      <td>2017-01-03 18:08:00</td>\n",
       "      <td>2017-01-03 18:08:00</td>\n",
       "      <td>2017-01-03 18:08:00</td>\n",
       "      <td>False</td>\n",
       "      <td>...</td>\n",
       "      <td>NaN</td>\n",
       "      <td>0</td>\n",
       "      <td>NaN</td>\n",
       "      <td>0</td>\n",
       "      <td>2</td>\n",
       "      <td>-71.073723</td>\n",
       "      <td>42.804261</td>\n",
       "      <td>1</td>\n",
       "      <td>Call Center</td>\n",
       "      <td>3:50:00</td>\n",
       "    </tr>\n",
       "    <tr>\n",
       "      <th>11</th>\n",
       "      <td>5141</td>\n",
       "      <td>2017-01-03 14:20:00</td>\n",
       "      <td>0</td>\n",
       "      <td>False</td>\n",
       "      <td>Closed</td>\n",
       "      <td>1</td>\n",
       "      <td>2017-01-03 14:20:00</td>\n",
       "      <td>2017-01-03 14:20:00</td>\n",
       "      <td>2017-01-03 14:20:00</td>\n",
       "      <td>False</td>\n",
       "      <td>...</td>\n",
       "      <td>NaN</td>\n",
       "      <td>0</td>\n",
       "      <td>NaN</td>\n",
       "      <td>0</td>\n",
       "      <td>2</td>\n",
       "      <td>0.000000</td>\n",
       "      <td>0.000000</td>\n",
       "      <td>1</td>\n",
       "      <td>Call Center</td>\n",
       "      <td>0:00:00</td>\n",
       "    </tr>\n",
       "    <tr>\n",
       "      <th>12</th>\n",
       "      <td>5142</td>\n",
       "      <td>2017-01-03 14:27:00</td>\n",
       "      <td>0</td>\n",
       "      <td>False</td>\n",
       "      <td>Closed</td>\n",
       "      <td>1</td>\n",
       "      <td>2017-06-23 16:10:00</td>\n",
       "      <td>2017-06-23 16:10:00</td>\n",
       "      <td>2017-06-23 16:10:00</td>\n",
       "      <td>False</td>\n",
       "      <td>...</td>\n",
       "      <td>NORTH AVE</td>\n",
       "      <td>0</td>\n",
       "      <td>NaN</td>\n",
       "      <td>0</td>\n",
       "      <td>2</td>\n",
       "      <td>-71.083366</td>\n",
       "      <td>42.795998</td>\n",
       "      <td>1</td>\n",
       "      <td>Call Center</td>\n",
       "      <td>171 days, 1:43:00</td>\n",
       "    </tr>\n",
       "    <tr>\n",
       "      <th>14</th>\n",
       "      <td>5144</td>\n",
       "      <td>2017-01-03 14:50:00</td>\n",
       "      <td>0</td>\n",
       "      <td>False</td>\n",
       "      <td>Closed</td>\n",
       "      <td>1</td>\n",
       "      <td>2017-01-03 14:50:00</td>\n",
       "      <td>2017-01-03 14:50:00</td>\n",
       "      <td>2017-01-03 14:50:00</td>\n",
       "      <td>False</td>\n",
       "      <td>...</td>\n",
       "      <td>NaN</td>\n",
       "      <td>0</td>\n",
       "      <td>NaN</td>\n",
       "      <td>0</td>\n",
       "      <td>2</td>\n",
       "      <td>0.000000</td>\n",
       "      <td>0.000000</td>\n",
       "      <td>1</td>\n",
       "      <td>Call Center</td>\n",
       "      <td>0:00:00</td>\n",
       "    </tr>\n",
       "    <tr>\n",
       "      <th>15</th>\n",
       "      <td>5145</td>\n",
       "      <td>2017-01-03 14:51:00</td>\n",
       "      <td>0</td>\n",
       "      <td>False</td>\n",
       "      <td>Closed</td>\n",
       "      <td>1</td>\n",
       "      <td>2017-01-17 16:37:00</td>\n",
       "      <td>2017-01-17 16:37:00</td>\n",
       "      <td>2017-01-17 16:37:00</td>\n",
       "      <td>False</td>\n",
       "      <td>...</td>\n",
       "      <td>NaN</td>\n",
       "      <td>0</td>\n",
       "      <td>NaN</td>\n",
       "      <td>0</td>\n",
       "      <td>2</td>\n",
       "      <td>-71.061722</td>\n",
       "      <td>42.774201</td>\n",
       "      <td>1</td>\n",
       "      <td>Call Center</td>\n",
       "      <td>14 days, 1:46:00</td>\n",
       "    </tr>\n",
       "  </tbody>\n",
       "</table>\n",
       "<p>15 rows × 34 columns</p>\n",
       "</div>"
      ],
      "text/plain": [
       "    Request ID          Create Date  Master Request  Has Links  Status  \\\n",
       "0         5130  2017-01-03 13:11:00               0      False  Closed   \n",
       "1         5131  2017-01-03 13:29:00               0      False  Closed   \n",
       "2         5132  2017-01-03 13:33:00               0      False  Closed   \n",
       "3         5133  2017-01-03 13:47:00               0      False  Closed   \n",
       "4         5134  2017-01-03 13:47:00               0      False  Closed   \n",
       "5         5135  2017-01-03 13:53:00               0      False  Closed   \n",
       "6         5136  2017-01-03 13:55:00               0      False  Closed   \n",
       "7         5137  2017-01-03 13:57:00               0      False  Closed   \n",
       "8         5138  2017-01-03 13:57:00               0      False  Closed   \n",
       "9         5139  2017-01-03 14:03:00               0      False  Closed   \n",
       "10        5140  2017-01-03 14:18:00               0      False  Closed   \n",
       "11        5141  2017-01-03 14:20:00               0      False  Closed   \n",
       "12        5142  2017-01-03 14:27:00               0      False  Closed   \n",
       "14        5144  2017-01-03 14:50:00               0      False  Closed   \n",
       "15        5145  2017-01-03 14:51:00               0      False  Closed   \n",
       "\n",
       "    Status Code          Last Action          Last Change  \\\n",
       "0             1  2017-01-03 14:05:00  2017-01-03 14:05:00   \n",
       "1             1  2017-01-03 13:29:00  2017-01-03 13:29:00   \n",
       "2             1  2017-01-03 13:33:00  2017-01-03 13:33:00   \n",
       "3             1  2017-01-03 13:47:00  2017-01-03 13:47:00   \n",
       "4             1  2017-01-03 13:47:00  2017-01-03 13:47:00   \n",
       "5             1  2017-01-03 13:53:00  2017-01-03 13:53:00   \n",
       "6             1  2017-01-03 13:55:00  2017-01-03 13:55:00   \n",
       "7             1  2017-01-03 13:57:00  2017-01-03 13:57:00   \n",
       "8             1  2017-01-03 13:57:00  2017-01-03 13:57:00   \n",
       "9             1  2017-01-03 14:03:00  2017-01-03 14:03:00   \n",
       "10            1  2017-01-03 18:08:00  2017-01-03 18:08:00   \n",
       "11            1  2017-01-03 14:20:00  2017-01-03 14:20:00   \n",
       "12            1  2017-06-23 16:10:00  2017-06-23 16:10:00   \n",
       "14            1  2017-01-03 14:50:00  2017-01-03 14:50:00   \n",
       "15            1  2017-01-17 16:37:00  2017-01-17 16:37:00   \n",
       "\n",
       "             Close Date  Work Order Created  ...  Cross Street District ID  \\\n",
       "0   2017-01-03 14:05:00               False  ...           NaN           1   \n",
       "1   2017-01-03 13:29:00               False  ...           NaN           0   \n",
       "2   2017-01-03 13:33:00               False  ...           NaN           0   \n",
       "3   2017-01-03 13:47:00               False  ...           NaN           0   \n",
       "4   2017-01-03 13:47:00               False  ...           NaN           0   \n",
       "5   2017-01-03 13:53:00               False  ...           NaN           0   \n",
       "6   2017-01-03 13:55:00               False  ...           NaN           0   \n",
       "7   2017-01-03 13:57:00               False  ...           NaN           0   \n",
       "8   2017-01-03 13:57:00               False  ...           NaN           0   \n",
       "9   2017-01-03 14:03:00               False  ...           NaN           0   \n",
       "10  2017-01-03 18:08:00               False  ...           NaN           0   \n",
       "11  2017-01-03 14:20:00               False  ...           NaN           0   \n",
       "12  2017-06-23 16:10:00               False  ...     NORTH AVE           0   \n",
       "14  2017-01-03 14:50:00               False  ...           NaN           0   \n",
       "15  2017-01-17 16:37:00               False  ...           NaN           0   \n",
       "\n",
       "         District Escalations  Priority  Longitude   Latitude  Origin ID  \\\n",
       "0   Mt Washington           0         2 -71.105902  42.767552          1   \n",
       "1             NaN           0         2   0.000000   0.000000          1   \n",
       "2             NaN           0         2   0.000000   0.000000          1   \n",
       "3             NaN           0         2   0.000000   0.000000          1   \n",
       "4             NaN           0         2   0.000000   0.000000          1   \n",
       "5             NaN           0         2   0.000000   0.000000          1   \n",
       "6             NaN           0         2   0.000000   0.000000          1   \n",
       "7             NaN           0         2   0.000000   0.000000          1   \n",
       "8             NaN           0         2   0.000000   0.000000          1   \n",
       "9             NaN           0         2   0.000000   0.000000          1   \n",
       "10            NaN           0         2 -71.073723  42.804261          1   \n",
       "11            NaN           0         2   0.000000   0.000000          1   \n",
       "12            NaN           0         2 -71.083366  42.795998          1   \n",
       "14            NaN           0         2   0.000000   0.000000          1   \n",
       "15            NaN           0         2 -71.061722  42.774201          1   \n",
       "\n",
       "         Origin    completion time  \n",
       "0   Call Center            0:54:00  \n",
       "1   Call Center            0:00:00  \n",
       "2   Call Center            0:00:00  \n",
       "3   Call Center            0:00:00  \n",
       "4   Call Center            0:00:00  \n",
       "5   Call Center            0:00:00  \n",
       "6   Call Center            0:00:00  \n",
       "7   Call Center            0:00:00  \n",
       "8   Call Center            0:00:00  \n",
       "9   Call Center            0:00:00  \n",
       "10  Call Center            3:50:00  \n",
       "11  Call Center            0:00:00  \n",
       "12  Call Center  171 days, 1:43:00  \n",
       "14  Call Center            0:00:00  \n",
       "15  Call Center   14 days, 1:46:00  \n",
       "\n",
       "[15 rows x 34 columns]"
      ]
     },
     "execution_count": 25,
     "metadata": {},
     "output_type": "execute_result"
    }
   ],
   "source": [
    "req.head(5)"
   ]
  },
  {
   "cell_type": "markdown",
   "metadata": {},
   "source": [
    "# Completion time (sec)"
   ]
  },
  {
   "cell_type": "code",
   "execution_count": 30,
   "metadata": {},
   "outputs": [],
   "source": [
    "def sec(timesec):\n",
    "    '''Convert date from standard format to seconds'''\n",
    "    timesec = timesec.replace(' days, ', ':')\n",
    "    timesec = timesec.replace(' day, ', ':')\n",
    "    timesec = timesec.split(':')\n",
    "    if len(timesec) >= 4:\n",
    "        res = int(timesec[0])*86400 + int(timesec[1])*3600 + int(timesec[2])*60 + int(timesec[3])\n",
    "    else:\n",
    "        res = int(timesec[0])*3600 + int(timesec[1])*60 + int(timesec[2])\n",
    "    return res"
   ]
  },
  {
   "cell_type": "code",
   "execution_count": 31,
   "metadata": {},
   "outputs": [],
   "source": [
    "timesec = req['completion time']\n",
    "time_sec = list()\n",
    "for idx, row in req.iterrows():\n",
    "    res = sec(timesec[idx])\n",
    "    time_sec.append(res)"
   ]
  },
  {
   "cell_type": "code",
   "execution_count": 34,
   "metadata": {},
   "outputs": [],
   "source": [
    "req['completion time(sec)'] = time_sec"
   ]
  },
  {
   "cell_type": "code",
   "execution_count": 35,
   "metadata": {},
   "outputs": [
    {
     "data": {
      "text/html": [
       "<div>\n",
       "<style scoped>\n",
       "    .dataframe tbody tr th:only-of-type {\n",
       "        vertical-align: middle;\n",
       "    }\n",
       "\n",
       "    .dataframe tbody tr th {\n",
       "        vertical-align: top;\n",
       "    }\n",
       "\n",
       "    .dataframe thead th {\n",
       "        text-align: right;\n",
       "    }\n",
       "</style>\n",
       "<table border=\"1\" class=\"dataframe\">\n",
       "  <thead>\n",
       "    <tr style=\"text-align: right;\">\n",
       "      <th></th>\n",
       "      <th>Request ID</th>\n",
       "      <th>Create Date</th>\n",
       "      <th>Master Request</th>\n",
       "      <th>Has Links</th>\n",
       "      <th>Status</th>\n",
       "      <th>Status Code</th>\n",
       "      <th>Last Action</th>\n",
       "      <th>Last Change</th>\n",
       "      <th>Close Date</th>\n",
       "      <th>Work Order Created</th>\n",
       "      <th>...</th>\n",
       "      <th>District ID</th>\n",
       "      <th>District</th>\n",
       "      <th>Escalations</th>\n",
       "      <th>Priority</th>\n",
       "      <th>Longitude</th>\n",
       "      <th>Latitude</th>\n",
       "      <th>Origin ID</th>\n",
       "      <th>Origin</th>\n",
       "      <th>completion time</th>\n",
       "      <th>completion time(sec)</th>\n",
       "    </tr>\n",
       "  </thead>\n",
       "  <tbody>\n",
       "    <tr>\n",
       "      <th>0</th>\n",
       "      <td>5130</td>\n",
       "      <td>2017-01-03 13:11:00</td>\n",
       "      <td>0</td>\n",
       "      <td>False</td>\n",
       "      <td>Closed</td>\n",
       "      <td>1</td>\n",
       "      <td>2017-01-03 14:05:00</td>\n",
       "      <td>2017-01-03 14:05:00</td>\n",
       "      <td>2017-01-03 14:05:00</td>\n",
       "      <td>False</td>\n",
       "      <td>...</td>\n",
       "      <td>1</td>\n",
       "      <td>Mt Washington</td>\n",
       "      <td>0</td>\n",
       "      <td>2</td>\n",
       "      <td>-71.105902</td>\n",
       "      <td>42.767552</td>\n",
       "      <td>1</td>\n",
       "      <td>Call Center</td>\n",
       "      <td>0:54:00</td>\n",
       "      <td>3240</td>\n",
       "    </tr>\n",
       "    <tr>\n",
       "      <th>1</th>\n",
       "      <td>5131</td>\n",
       "      <td>2017-01-03 13:29:00</td>\n",
       "      <td>0</td>\n",
       "      <td>False</td>\n",
       "      <td>Closed</td>\n",
       "      <td>1</td>\n",
       "      <td>2017-01-03 13:29:00</td>\n",
       "      <td>2017-01-03 13:29:00</td>\n",
       "      <td>2017-01-03 13:29:00</td>\n",
       "      <td>False</td>\n",
       "      <td>...</td>\n",
       "      <td>0</td>\n",
       "      <td>NaN</td>\n",
       "      <td>0</td>\n",
       "      <td>2</td>\n",
       "      <td>0.000000</td>\n",
       "      <td>0.000000</td>\n",
       "      <td>1</td>\n",
       "      <td>Call Center</td>\n",
       "      <td>0:00:00</td>\n",
       "      <td>0</td>\n",
       "    </tr>\n",
       "    <tr>\n",
       "      <th>2</th>\n",
       "      <td>5132</td>\n",
       "      <td>2017-01-03 13:33:00</td>\n",
       "      <td>0</td>\n",
       "      <td>False</td>\n",
       "      <td>Closed</td>\n",
       "      <td>1</td>\n",
       "      <td>2017-01-03 13:33:00</td>\n",
       "      <td>2017-01-03 13:33:00</td>\n",
       "      <td>2017-01-03 13:33:00</td>\n",
       "      <td>False</td>\n",
       "      <td>...</td>\n",
       "      <td>0</td>\n",
       "      <td>NaN</td>\n",
       "      <td>0</td>\n",
       "      <td>2</td>\n",
       "      <td>0.000000</td>\n",
       "      <td>0.000000</td>\n",
       "      <td>1</td>\n",
       "      <td>Call Center</td>\n",
       "      <td>0:00:00</td>\n",
       "      <td>0</td>\n",
       "    </tr>\n",
       "    <tr>\n",
       "      <th>3</th>\n",
       "      <td>5133</td>\n",
       "      <td>2017-01-03 13:47:00</td>\n",
       "      <td>0</td>\n",
       "      <td>False</td>\n",
       "      <td>Closed</td>\n",
       "      <td>1</td>\n",
       "      <td>2017-01-03 13:47:00</td>\n",
       "      <td>2017-01-03 13:47:00</td>\n",
       "      <td>2017-01-03 13:47:00</td>\n",
       "      <td>False</td>\n",
       "      <td>...</td>\n",
       "      <td>0</td>\n",
       "      <td>NaN</td>\n",
       "      <td>0</td>\n",
       "      <td>2</td>\n",
       "      <td>0.000000</td>\n",
       "      <td>0.000000</td>\n",
       "      <td>1</td>\n",
       "      <td>Call Center</td>\n",
       "      <td>0:00:00</td>\n",
       "      <td>0</td>\n",
       "    </tr>\n",
       "    <tr>\n",
       "      <th>4</th>\n",
       "      <td>5134</td>\n",
       "      <td>2017-01-03 13:47:00</td>\n",
       "      <td>0</td>\n",
       "      <td>False</td>\n",
       "      <td>Closed</td>\n",
       "      <td>1</td>\n",
       "      <td>2017-01-03 13:47:00</td>\n",
       "      <td>2017-01-03 13:47:00</td>\n",
       "      <td>2017-01-03 13:47:00</td>\n",
       "      <td>False</td>\n",
       "      <td>...</td>\n",
       "      <td>0</td>\n",
       "      <td>NaN</td>\n",
       "      <td>0</td>\n",
       "      <td>2</td>\n",
       "      <td>0.000000</td>\n",
       "      <td>0.000000</td>\n",
       "      <td>1</td>\n",
       "      <td>Call Center</td>\n",
       "      <td>0:00:00</td>\n",
       "      <td>0</td>\n",
       "    </tr>\n",
       "    <tr>\n",
       "      <th>5</th>\n",
       "      <td>5135</td>\n",
       "      <td>2017-01-03 13:53:00</td>\n",
       "      <td>0</td>\n",
       "      <td>False</td>\n",
       "      <td>Closed</td>\n",
       "      <td>1</td>\n",
       "      <td>2017-01-03 13:53:00</td>\n",
       "      <td>2017-01-03 13:53:00</td>\n",
       "      <td>2017-01-03 13:53:00</td>\n",
       "      <td>False</td>\n",
       "      <td>...</td>\n",
       "      <td>0</td>\n",
       "      <td>NaN</td>\n",
       "      <td>0</td>\n",
       "      <td>2</td>\n",
       "      <td>0.000000</td>\n",
       "      <td>0.000000</td>\n",
       "      <td>1</td>\n",
       "      <td>Call Center</td>\n",
       "      <td>0:00:00</td>\n",
       "      <td>0</td>\n",
       "    </tr>\n",
       "    <tr>\n",
       "      <th>6</th>\n",
       "      <td>5136</td>\n",
       "      <td>2017-01-03 13:55:00</td>\n",
       "      <td>0</td>\n",
       "      <td>False</td>\n",
       "      <td>Closed</td>\n",
       "      <td>1</td>\n",
       "      <td>2017-01-03 13:55:00</td>\n",
       "      <td>2017-01-03 13:55:00</td>\n",
       "      <td>2017-01-03 13:55:00</td>\n",
       "      <td>False</td>\n",
       "      <td>...</td>\n",
       "      <td>0</td>\n",
       "      <td>NaN</td>\n",
       "      <td>0</td>\n",
       "      <td>2</td>\n",
       "      <td>0.000000</td>\n",
       "      <td>0.000000</td>\n",
       "      <td>1</td>\n",
       "      <td>Call Center</td>\n",
       "      <td>0:00:00</td>\n",
       "      <td>0</td>\n",
       "    </tr>\n",
       "    <tr>\n",
       "      <th>7</th>\n",
       "      <td>5137</td>\n",
       "      <td>2017-01-03 13:57:00</td>\n",
       "      <td>0</td>\n",
       "      <td>False</td>\n",
       "      <td>Closed</td>\n",
       "      <td>1</td>\n",
       "      <td>2017-01-03 13:57:00</td>\n",
       "      <td>2017-01-03 13:57:00</td>\n",
       "      <td>2017-01-03 13:57:00</td>\n",
       "      <td>False</td>\n",
       "      <td>...</td>\n",
       "      <td>0</td>\n",
       "      <td>NaN</td>\n",
       "      <td>0</td>\n",
       "      <td>2</td>\n",
       "      <td>0.000000</td>\n",
       "      <td>0.000000</td>\n",
       "      <td>1</td>\n",
       "      <td>Call Center</td>\n",
       "      <td>0:00:00</td>\n",
       "      <td>0</td>\n",
       "    </tr>\n",
       "    <tr>\n",
       "      <th>8</th>\n",
       "      <td>5138</td>\n",
       "      <td>2017-01-03 13:57:00</td>\n",
       "      <td>0</td>\n",
       "      <td>False</td>\n",
       "      <td>Closed</td>\n",
       "      <td>1</td>\n",
       "      <td>2017-01-03 13:57:00</td>\n",
       "      <td>2017-01-03 13:57:00</td>\n",
       "      <td>2017-01-03 13:57:00</td>\n",
       "      <td>False</td>\n",
       "      <td>...</td>\n",
       "      <td>0</td>\n",
       "      <td>NaN</td>\n",
       "      <td>0</td>\n",
       "      <td>2</td>\n",
       "      <td>0.000000</td>\n",
       "      <td>0.000000</td>\n",
       "      <td>1</td>\n",
       "      <td>Call Center</td>\n",
       "      <td>0:00:00</td>\n",
       "      <td>0</td>\n",
       "    </tr>\n",
       "    <tr>\n",
       "      <th>9</th>\n",
       "      <td>5139</td>\n",
       "      <td>2017-01-03 14:03:00</td>\n",
       "      <td>0</td>\n",
       "      <td>False</td>\n",
       "      <td>Closed</td>\n",
       "      <td>1</td>\n",
       "      <td>2017-01-03 14:03:00</td>\n",
       "      <td>2017-01-03 14:03:00</td>\n",
       "      <td>2017-01-03 14:03:00</td>\n",
       "      <td>False</td>\n",
       "      <td>...</td>\n",
       "      <td>0</td>\n",
       "      <td>NaN</td>\n",
       "      <td>0</td>\n",
       "      <td>2</td>\n",
       "      <td>0.000000</td>\n",
       "      <td>0.000000</td>\n",
       "      <td>1</td>\n",
       "      <td>Call Center</td>\n",
       "      <td>0:00:00</td>\n",
       "      <td>0</td>\n",
       "    </tr>\n",
       "    <tr>\n",
       "      <th>10</th>\n",
       "      <td>5140</td>\n",
       "      <td>2017-01-03 14:18:00</td>\n",
       "      <td>0</td>\n",
       "      <td>False</td>\n",
       "      <td>Closed</td>\n",
       "      <td>1</td>\n",
       "      <td>2017-01-03 18:08:00</td>\n",
       "      <td>2017-01-03 18:08:00</td>\n",
       "      <td>2017-01-03 18:08:00</td>\n",
       "      <td>False</td>\n",
       "      <td>...</td>\n",
       "      <td>0</td>\n",
       "      <td>NaN</td>\n",
       "      <td>0</td>\n",
       "      <td>2</td>\n",
       "      <td>-71.073723</td>\n",
       "      <td>42.804261</td>\n",
       "      <td>1</td>\n",
       "      <td>Call Center</td>\n",
       "      <td>3:50:00</td>\n",
       "      <td>13800</td>\n",
       "    </tr>\n",
       "    <tr>\n",
       "      <th>11</th>\n",
       "      <td>5141</td>\n",
       "      <td>2017-01-03 14:20:00</td>\n",
       "      <td>0</td>\n",
       "      <td>False</td>\n",
       "      <td>Closed</td>\n",
       "      <td>1</td>\n",
       "      <td>2017-01-03 14:20:00</td>\n",
       "      <td>2017-01-03 14:20:00</td>\n",
       "      <td>2017-01-03 14:20:00</td>\n",
       "      <td>False</td>\n",
       "      <td>...</td>\n",
       "      <td>0</td>\n",
       "      <td>NaN</td>\n",
       "      <td>0</td>\n",
       "      <td>2</td>\n",
       "      <td>0.000000</td>\n",
       "      <td>0.000000</td>\n",
       "      <td>1</td>\n",
       "      <td>Call Center</td>\n",
       "      <td>0:00:00</td>\n",
       "      <td>0</td>\n",
       "    </tr>\n",
       "    <tr>\n",
       "      <th>12</th>\n",
       "      <td>5142</td>\n",
       "      <td>2017-01-03 14:27:00</td>\n",
       "      <td>0</td>\n",
       "      <td>False</td>\n",
       "      <td>Closed</td>\n",
       "      <td>1</td>\n",
       "      <td>2017-06-23 16:10:00</td>\n",
       "      <td>2017-06-23 16:10:00</td>\n",
       "      <td>2017-06-23 16:10:00</td>\n",
       "      <td>False</td>\n",
       "      <td>...</td>\n",
       "      <td>0</td>\n",
       "      <td>NaN</td>\n",
       "      <td>0</td>\n",
       "      <td>2</td>\n",
       "      <td>-71.083366</td>\n",
       "      <td>42.795998</td>\n",
       "      <td>1</td>\n",
       "      <td>Call Center</td>\n",
       "      <td>171 days, 1:43:00</td>\n",
       "      <td>14780580</td>\n",
       "    </tr>\n",
       "    <tr>\n",
       "      <th>14</th>\n",
       "      <td>5144</td>\n",
       "      <td>2017-01-03 14:50:00</td>\n",
       "      <td>0</td>\n",
       "      <td>False</td>\n",
       "      <td>Closed</td>\n",
       "      <td>1</td>\n",
       "      <td>2017-01-03 14:50:00</td>\n",
       "      <td>2017-01-03 14:50:00</td>\n",
       "      <td>2017-01-03 14:50:00</td>\n",
       "      <td>False</td>\n",
       "      <td>...</td>\n",
       "      <td>0</td>\n",
       "      <td>NaN</td>\n",
       "      <td>0</td>\n",
       "      <td>2</td>\n",
       "      <td>0.000000</td>\n",
       "      <td>0.000000</td>\n",
       "      <td>1</td>\n",
       "      <td>Call Center</td>\n",
       "      <td>0:00:00</td>\n",
       "      <td>0</td>\n",
       "    </tr>\n",
       "    <tr>\n",
       "      <th>15</th>\n",
       "      <td>5145</td>\n",
       "      <td>2017-01-03 14:51:00</td>\n",
       "      <td>0</td>\n",
       "      <td>False</td>\n",
       "      <td>Closed</td>\n",
       "      <td>1</td>\n",
       "      <td>2017-01-17 16:37:00</td>\n",
       "      <td>2017-01-17 16:37:00</td>\n",
       "      <td>2017-01-17 16:37:00</td>\n",
       "      <td>False</td>\n",
       "      <td>...</td>\n",
       "      <td>0</td>\n",
       "      <td>NaN</td>\n",
       "      <td>0</td>\n",
       "      <td>2</td>\n",
       "      <td>-71.061722</td>\n",
       "      <td>42.774201</td>\n",
       "      <td>1</td>\n",
       "      <td>Call Center</td>\n",
       "      <td>14 days, 1:46:00</td>\n",
       "      <td>1215960</td>\n",
       "    </tr>\n",
       "  </tbody>\n",
       "</table>\n",
       "<p>15 rows × 35 columns</p>\n",
       "</div>"
      ],
      "text/plain": [
       "    Request ID          Create Date  Master Request  Has Links  Status  \\\n",
       "0         5130  2017-01-03 13:11:00               0      False  Closed   \n",
       "1         5131  2017-01-03 13:29:00               0      False  Closed   \n",
       "2         5132  2017-01-03 13:33:00               0      False  Closed   \n",
       "3         5133  2017-01-03 13:47:00               0      False  Closed   \n",
       "4         5134  2017-01-03 13:47:00               0      False  Closed   \n",
       "5         5135  2017-01-03 13:53:00               0      False  Closed   \n",
       "6         5136  2017-01-03 13:55:00               0      False  Closed   \n",
       "7         5137  2017-01-03 13:57:00               0      False  Closed   \n",
       "8         5138  2017-01-03 13:57:00               0      False  Closed   \n",
       "9         5139  2017-01-03 14:03:00               0      False  Closed   \n",
       "10        5140  2017-01-03 14:18:00               0      False  Closed   \n",
       "11        5141  2017-01-03 14:20:00               0      False  Closed   \n",
       "12        5142  2017-01-03 14:27:00               0      False  Closed   \n",
       "14        5144  2017-01-03 14:50:00               0      False  Closed   \n",
       "15        5145  2017-01-03 14:51:00               0      False  Closed   \n",
       "\n",
       "    Status Code          Last Action          Last Change  \\\n",
       "0             1  2017-01-03 14:05:00  2017-01-03 14:05:00   \n",
       "1             1  2017-01-03 13:29:00  2017-01-03 13:29:00   \n",
       "2             1  2017-01-03 13:33:00  2017-01-03 13:33:00   \n",
       "3             1  2017-01-03 13:47:00  2017-01-03 13:47:00   \n",
       "4             1  2017-01-03 13:47:00  2017-01-03 13:47:00   \n",
       "5             1  2017-01-03 13:53:00  2017-01-03 13:53:00   \n",
       "6             1  2017-01-03 13:55:00  2017-01-03 13:55:00   \n",
       "7             1  2017-01-03 13:57:00  2017-01-03 13:57:00   \n",
       "8             1  2017-01-03 13:57:00  2017-01-03 13:57:00   \n",
       "9             1  2017-01-03 14:03:00  2017-01-03 14:03:00   \n",
       "10            1  2017-01-03 18:08:00  2017-01-03 18:08:00   \n",
       "11            1  2017-01-03 14:20:00  2017-01-03 14:20:00   \n",
       "12            1  2017-06-23 16:10:00  2017-06-23 16:10:00   \n",
       "14            1  2017-01-03 14:50:00  2017-01-03 14:50:00   \n",
       "15            1  2017-01-17 16:37:00  2017-01-17 16:37:00   \n",
       "\n",
       "             Close Date  Work Order Created  ...  District ID       District  \\\n",
       "0   2017-01-03 14:05:00               False  ...            1  Mt Washington   \n",
       "1   2017-01-03 13:29:00               False  ...            0            NaN   \n",
       "2   2017-01-03 13:33:00               False  ...            0            NaN   \n",
       "3   2017-01-03 13:47:00               False  ...            0            NaN   \n",
       "4   2017-01-03 13:47:00               False  ...            0            NaN   \n",
       "5   2017-01-03 13:53:00               False  ...            0            NaN   \n",
       "6   2017-01-03 13:55:00               False  ...            0            NaN   \n",
       "7   2017-01-03 13:57:00               False  ...            0            NaN   \n",
       "8   2017-01-03 13:57:00               False  ...            0            NaN   \n",
       "9   2017-01-03 14:03:00               False  ...            0            NaN   \n",
       "10  2017-01-03 18:08:00               False  ...            0            NaN   \n",
       "11  2017-01-03 14:20:00               False  ...            0            NaN   \n",
       "12  2017-06-23 16:10:00               False  ...            0            NaN   \n",
       "14  2017-01-03 14:50:00               False  ...            0            NaN   \n",
       "15  2017-01-17 16:37:00               False  ...            0            NaN   \n",
       "\n",
       "    Escalations Priority  Longitude   Latitude Origin ID       Origin  \\\n",
       "0             0        2 -71.105902  42.767552         1  Call Center   \n",
       "1             0        2   0.000000   0.000000         1  Call Center   \n",
       "2             0        2   0.000000   0.000000         1  Call Center   \n",
       "3             0        2   0.000000   0.000000         1  Call Center   \n",
       "4             0        2   0.000000   0.000000         1  Call Center   \n",
       "5             0        2   0.000000   0.000000         1  Call Center   \n",
       "6             0        2   0.000000   0.000000         1  Call Center   \n",
       "7             0        2   0.000000   0.000000         1  Call Center   \n",
       "8             0        2   0.000000   0.000000         1  Call Center   \n",
       "9             0        2   0.000000   0.000000         1  Call Center   \n",
       "10            0        2 -71.073723  42.804261         1  Call Center   \n",
       "11            0        2   0.000000   0.000000         1  Call Center   \n",
       "12            0        2 -71.083366  42.795998         1  Call Center   \n",
       "14            0        2   0.000000   0.000000         1  Call Center   \n",
       "15            0        2 -71.061722  42.774201         1  Call Center   \n",
       "\n",
       "      completion time completion time(sec)  \n",
       "0             0:54:00                 3240  \n",
       "1             0:00:00                    0  \n",
       "2             0:00:00                    0  \n",
       "3             0:00:00                    0  \n",
       "4             0:00:00                    0  \n",
       "5             0:00:00                    0  \n",
       "6             0:00:00                    0  \n",
       "7             0:00:00                    0  \n",
       "8             0:00:00                    0  \n",
       "9             0:00:00                    0  \n",
       "10            3:50:00                13800  \n",
       "11            0:00:00                    0  \n",
       "12  171 days, 1:43:00             14780580  \n",
       "14            0:00:00                    0  \n",
       "15   14 days, 1:46:00              1215960  \n",
       "\n",
       "[15 rows x 35 columns]"
      ]
     },
     "execution_count": 35,
     "metadata": {},
     "output_type": "execute_result"
    }
   ],
   "source": [
    "req.head(5)"
   ]
  },
  {
   "cell_type": "markdown",
   "metadata": {},
   "source": [
    "# Department\n",
    "\n",
    "For analysis of Department data we used all data points and their completion times. 0 time values are dropped only to perform Machine learning."
   ]
  },
  {
   "cell_type": "code",
   "execution_count": 36,
   "metadata": {},
   "outputs": [
    {
     "data": {
      "text/plain": [
       "0            Highway\n",
       "1    311 Call Center\n",
       "2    311 Call Center\n",
       "3    311 Call Center\n",
       "4    311 Call Center\n",
       "Name: Department, dtype: object"
      ]
     },
     "execution_count": 36,
     "metadata": {},
     "output_type": "execute_result"
    }
   ],
   "source": [
    "dept = request['Department']\n",
    "dept.head(5)"
   ]
  },
  {
   "cell_type": "code",
   "execution_count": 37,
   "metadata": {},
   "outputs": [
    {
     "data": {
      "text/plain": [
       "311 Call Center                25014\n",
       "Highway                        15100\n",
       "Stormwater/Sewer                 371\n",
       "Inspectional Services            313\n",
       "Water                            171\n",
       "Animal control                   168\n",
       "Fire & Police                    109\n",
       "Police                           104\n",
       "Water/Wastewater Department       81\n",
       "Fire                              34\n",
       "Mayor                             22\n",
       "Water Billing                     10\n",
       "Treasurer                          7\n",
       "Planning                           6\n",
       "City Clerk                         5\n",
       "Assessing                          2\n",
       "Name: Department, dtype: int64"
      ]
     },
     "execution_count": 37,
     "metadata": {},
     "output_type": "execute_result"
    }
   ],
   "source": [
    "dept.value_counts()"
   ]
  },
  {
   "cell_type": "code",
   "execution_count": 38,
   "metadata": {},
   "outputs": [
    {
     "data": {
      "image/png": "[encoded data removed]",
      "text/plain": [
       "<Figure size 1080x720 with 1 Axes>"
      ]
     },
     "metadata": {},
     "output_type": "display_data"
    }
   ],
   "source": [
    "fig, ax = plt.subplots(figsize = (15,10))\n",
    "labels = list(request['Department'].unique())\n",
    "labels = [x for x in labels if x == x]\n",
    "percentages = [15100, 25014, 313, 109, 371, 104, 168, 171, 2, 34, 22, 81,10, 6, 5, 7]\n",
    "bars = plt.barh(labels, percentages, color=['deepskyblue'])\n",
    "plt.ylabel('Department')\n",
    "plt.xlabel('Number of Requests')\n",
    "for i, val in enumerate(percentages):\n",
    "#     height = val.get_height()\n",
    "    plt.text(val+20, i, percentages[i], va='center')"
   ]
  },
  {
   "cell_type": "code",
   "execution_count": 42,
   "metadata": {},
   "outputs": [
    {
     "data": {
      "text/html": [
       "<div>\n",
       "<style scoped>\n",
       "    .dataframe tbody tr th:only-of-type {\n",
       "        vertical-align: middle;\n",
       "    }\n",
       "\n",
       "    .dataframe tbody tr th {\n",
       "        vertical-align: top;\n",
       "    }\n",
       "\n",
       "    .dataframe thead th {\n",
       "        text-align: right;\n",
       "    }\n",
       "</style>\n",
       "<table border=\"1\" class=\"dataframe\">\n",
       "  <thead>\n",
       "    <tr style=\"text-align: right;\">\n",
       "      <th></th>\n",
       "      <th>Request ID</th>\n",
       "      <th>Create Date</th>\n",
       "      <th>Master Request</th>\n",
       "      <th>Has Links</th>\n",
       "      <th>Status</th>\n",
       "      <th>Status Code</th>\n",
       "      <th>Last Action</th>\n",
       "      <th>Last Change</th>\n",
       "      <th>Close Date</th>\n",
       "      <th>Work Order Created</th>\n",
       "      <th>...</th>\n",
       "      <th>District ID</th>\n",
       "      <th>District</th>\n",
       "      <th>Escalations</th>\n",
       "      <th>Priority</th>\n",
       "      <th>Longitude</th>\n",
       "      <th>Latitude</th>\n",
       "      <th>Origin ID</th>\n",
       "      <th>Origin</th>\n",
       "      <th>completion time</th>\n",
       "      <th>completion time(sec)</th>\n",
       "    </tr>\n",
       "  </thead>\n",
       "  <tbody>\n",
       "    <tr>\n",
       "      <th>0</th>\n",
       "      <td>5130</td>\n",
       "      <td>2017-01-03 13:11:00</td>\n",
       "      <td>0</td>\n",
       "      <td>False</td>\n",
       "      <td>Closed</td>\n",
       "      <td>1</td>\n",
       "      <td>2017-01-03 14:05:00</td>\n",
       "      <td>2017-01-03 14:05:00</td>\n",
       "      <td>2017-01-03 14:05:00</td>\n",
       "      <td>False</td>\n",
       "      <td>...</td>\n",
       "      <td>1</td>\n",
       "      <td>Mt Washington</td>\n",
       "      <td>0</td>\n",
       "      <td>2</td>\n",
       "      <td>-71.105902</td>\n",
       "      <td>42.767552</td>\n",
       "      <td>1</td>\n",
       "      <td>Call Center</td>\n",
       "      <td>0:54:00</td>\n",
       "      <td>3240</td>\n",
       "    </tr>\n",
       "    <tr>\n",
       "      <th>1</th>\n",
       "      <td>5131</td>\n",
       "      <td>2017-01-03 13:29:00</td>\n",
       "      <td>0</td>\n",
       "      <td>False</td>\n",
       "      <td>Closed</td>\n",
       "      <td>1</td>\n",
       "      <td>2017-01-03 13:29:00</td>\n",
       "      <td>2017-01-03 13:29:00</td>\n",
       "      <td>2017-01-03 13:29:00</td>\n",
       "      <td>False</td>\n",
       "      <td>...</td>\n",
       "      <td>0</td>\n",
       "      <td>NaN</td>\n",
       "      <td>0</td>\n",
       "      <td>2</td>\n",
       "      <td>0.000000</td>\n",
       "      <td>0.000000</td>\n",
       "      <td>1</td>\n",
       "      <td>Call Center</td>\n",
       "      <td>0:00:00</td>\n",
       "      <td>0</td>\n",
       "    </tr>\n",
       "    <tr>\n",
       "      <th>2</th>\n",
       "      <td>5132</td>\n",
       "      <td>2017-01-03 13:33:00</td>\n",
       "      <td>0</td>\n",
       "      <td>False</td>\n",
       "      <td>Closed</td>\n",
       "      <td>1</td>\n",
       "      <td>2017-01-03 13:33:00</td>\n",
       "      <td>2017-01-03 13:33:00</td>\n",
       "      <td>2017-01-03 13:33:00</td>\n",
       "      <td>False</td>\n",
       "      <td>...</td>\n",
       "      <td>0</td>\n",
       "      <td>NaN</td>\n",
       "      <td>0</td>\n",
       "      <td>2</td>\n",
       "      <td>0.000000</td>\n",
       "      <td>0.000000</td>\n",
       "      <td>1</td>\n",
       "      <td>Call Center</td>\n",
       "      <td>0:00:00</td>\n",
       "      <td>0</td>\n",
       "    </tr>\n",
       "    <tr>\n",
       "      <th>3</th>\n",
       "      <td>5133</td>\n",
       "      <td>2017-01-03 13:47:00</td>\n",
       "      <td>0</td>\n",
       "      <td>False</td>\n",
       "      <td>Closed</td>\n",
       "      <td>1</td>\n",
       "      <td>2017-01-03 13:47:00</td>\n",
       "      <td>2017-01-03 13:47:00</td>\n",
       "      <td>2017-01-03 13:47:00</td>\n",
       "      <td>False</td>\n",
       "      <td>...</td>\n",
       "      <td>0</td>\n",
       "      <td>NaN</td>\n",
       "      <td>0</td>\n",
       "      <td>2</td>\n",
       "      <td>0.000000</td>\n",
       "      <td>0.000000</td>\n",
       "      <td>1</td>\n",
       "      <td>Call Center</td>\n",
       "      <td>0:00:00</td>\n",
       "      <td>0</td>\n",
       "    </tr>\n",
       "    <tr>\n",
       "      <th>4</th>\n",
       "      <td>5134</td>\n",
       "      <td>2017-01-03 13:47:00</td>\n",
       "      <td>0</td>\n",
       "      <td>False</td>\n",
       "      <td>Closed</td>\n",
       "      <td>1</td>\n",
       "      <td>2017-01-03 13:47:00</td>\n",
       "      <td>2017-01-03 13:47:00</td>\n",
       "      <td>2017-01-03 13:47:00</td>\n",
       "      <td>False</td>\n",
       "      <td>...</td>\n",
       "      <td>0</td>\n",
       "      <td>NaN</td>\n",
       "      <td>0</td>\n",
       "      <td>2</td>\n",
       "      <td>0.000000</td>\n",
       "      <td>0.000000</td>\n",
       "      <td>1</td>\n",
       "      <td>Call Center</td>\n",
       "      <td>0:00:00</td>\n",
       "      <td>0</td>\n",
       "    </tr>\n",
       "  </tbody>\n",
       "</table>\n",
       "<p>5 rows × 35 columns</p>\n",
       "</div>"
      ],
      "text/plain": [
       "   Request ID          Create Date  Master Request  Has Links  Status  \\\n",
       "0        5130  2017-01-03 13:11:00               0      False  Closed   \n",
       "1        5131  2017-01-03 13:29:00               0      False  Closed   \n",
       "2        5132  2017-01-03 13:33:00               0      False  Closed   \n",
       "3        5133  2017-01-03 13:47:00               0      False  Closed   \n",
       "4        5134  2017-01-03 13:47:00               0      False  Closed   \n",
       "\n",
       "   Status Code          Last Action          Last Change           Close Date  \\\n",
       "0            1  2017-01-03 14:05:00  2017-01-03 14:05:00  2017-01-03 14:05:00   \n",
       "1            1  2017-01-03 13:29:00  2017-01-03 13:29:00  2017-01-03 13:29:00   \n",
       "2            1  2017-01-03 13:33:00  2017-01-03 13:33:00  2017-01-03 13:33:00   \n",
       "3            1  2017-01-03 13:47:00  2017-01-03 13:47:00  2017-01-03 13:47:00   \n",
       "4            1  2017-01-03 13:47:00  2017-01-03 13:47:00  2017-01-03 13:47:00   \n",
       "\n",
       "   Work Order Created  ...  District ID       District  Escalations Priority  \\\n",
       "0               False  ...            1  Mt Washington            0        2   \n",
       "1               False  ...            0            NaN            0        2   \n",
       "2               False  ...            0            NaN            0        2   \n",
       "3               False  ...            0            NaN            0        2   \n",
       "4               False  ...            0            NaN            0        2   \n",
       "\n",
       "   Longitude   Latitude Origin ID       Origin completion time  \\\n",
       "0 -71.105902  42.767552         1  Call Center         0:54:00   \n",
       "1   0.000000   0.000000         1  Call Center         0:00:00   \n",
       "2   0.000000   0.000000         1  Call Center         0:00:00   \n",
       "3   0.000000   0.000000         1  Call Center         0:00:00   \n",
       "4   0.000000   0.000000         1  Call Center         0:00:00   \n",
       "\n",
       "  completion time(sec)  \n",
       "0                 3240  \n",
       "1                    0  \n",
       "2                    0  \n",
       "3                    0  \n",
       "4                    0  \n",
       "\n",
       "[5 rows x 35 columns]"
      ]
     },
     "execution_count": 42,
     "metadata": {},
     "output_type": "execute_result"
    }
   ],
   "source": [
    "req.head(5)"
   ]
  },
  {
   "cell_type": "code",
   "execution_count": 43,
   "metadata": {},
   "outputs": [
    {
     "data": {
      "text/html": [
       "<div>\n",
       "<style scoped>\n",
       "    .dataframe tbody tr th:only-of-type {\n",
       "        vertical-align: middle;\n",
       "    }\n",
       "\n",
       "    .dataframe tbody tr th {\n",
       "        vertical-align: top;\n",
       "    }\n",
       "\n",
       "    .dataframe thead th {\n",
       "        text-align: right;\n",
       "    }\n",
       "</style>\n",
       "<table border=\"1\" class=\"dataframe\">\n",
       "  <thead>\n",
       "    <tr style=\"text-align: right;\">\n",
       "      <th></th>\n",
       "      <th>Department</th>\n",
       "      <th>Request Type</th>\n",
       "      <th>completion time(sec)</th>\n",
       "    </tr>\n",
       "  </thead>\n",
       "  <tbody>\n",
       "    <tr>\n",
       "      <th>0</th>\n",
       "      <td>Highway</td>\n",
       "      <td>Traffic/Street Lights - Street Light Repair - ...</td>\n",
       "      <td>3240</td>\n",
       "    </tr>\n",
       "    <tr>\n",
       "      <th>1</th>\n",
       "      <td>311 Call Center</td>\n",
       "      <td>A - Information Other</td>\n",
       "      <td>0</td>\n",
       "    </tr>\n",
       "    <tr>\n",
       "      <th>2</th>\n",
       "      <td>311 Call Center</td>\n",
       "      <td>A - Information Other</td>\n",
       "      <td>0</td>\n",
       "    </tr>\n",
       "    <tr>\n",
       "      <th>3</th>\n",
       "      <td>311 Call Center</td>\n",
       "      <td>A - Information Other</td>\n",
       "      <td>0</td>\n",
       "    </tr>\n",
       "    <tr>\n",
       "      <th>4</th>\n",
       "      <td>311 Call Center</td>\n",
       "      <td>A - Information Other</td>\n",
       "      <td>0</td>\n",
       "    </tr>\n",
       "    <tr>\n",
       "      <th>5</th>\n",
       "      <td>311 Call Center</td>\n",
       "      <td>A - Transfer Other</td>\n",
       "      <td>0</td>\n",
       "    </tr>\n",
       "    <tr>\n",
       "      <th>6</th>\n",
       "      <td>311 Call Center</td>\n",
       "      <td>A - Transfer Other</td>\n",
       "      <td>0</td>\n",
       "    </tr>\n",
       "    <tr>\n",
       "      <th>7</th>\n",
       "      <td>311 Call Center</td>\n",
       "      <td>A - Information Other</td>\n",
       "      <td>0</td>\n",
       "    </tr>\n",
       "    <tr>\n",
       "      <th>8</th>\n",
       "      <td>311 Call Center</td>\n",
       "      <td>A - Transfer Other</td>\n",
       "      <td>0</td>\n",
       "    </tr>\n",
       "    <tr>\n",
       "      <th>9</th>\n",
       "      <td>311 Call Center</td>\n",
       "      <td>A - Information Other</td>\n",
       "      <td>0</td>\n",
       "    </tr>\n",
       "  </tbody>\n",
       "</table>\n",
       "</div>"
      ],
      "text/plain": [
       "        Department                                       Request Type  \\\n",
       "0          Highway  Traffic/Street Lights - Street Light Repair - ...   \n",
       "1  311 Call Center                              A - Information Other   \n",
       "2  311 Call Center                              A - Information Other   \n",
       "3  311 Call Center                              A - Information Other   \n",
       "4  311 Call Center                              A - Information Other   \n",
       "5  311 Call Center                                 A - Transfer Other   \n",
       "6  311 Call Center                                 A - Transfer Other   \n",
       "7  311 Call Center                              A - Information Other   \n",
       "8  311 Call Center                                 A - Transfer Other   \n",
       "9  311 Call Center                              A - Information Other   \n",
       "\n",
       "   completion time(sec)  \n",
       "0                  3240  \n",
       "1                     0  \n",
       "2                     0  \n",
       "3                     0  \n",
       "4                     0  \n",
       "5                     0  \n",
       "6                     0  \n",
       "7                     0  \n",
       "8                     0  \n",
       "9                     0  "
      ]
     },
     "execution_count": 43,
     "metadata": {},
     "output_type": "execute_result"
    }
   ],
   "source": [
    "dept = req[['Department', 'Request Type', 'completion time(sec)']]\n",
    "dept.head(10)"
   ]
  },
  {
   "cell_type": "code",
   "execution_count": 44,
   "metadata": {},
   "outputs": [],
   "source": [
    "dept = dept.replace(0, np.nan)\n",
    "dept = dept.dropna()"
   ]
  },
  {
   "cell_type": "code",
   "execution_count": 45,
   "metadata": {},
   "outputs": [
    {
     "data": {
      "text/html": [
       "<div>\n",
       "<style scoped>\n",
       "    .dataframe tbody tr th:only-of-type {\n",
       "        vertical-align: middle;\n",
       "    }\n",
       "\n",
       "    .dataframe tbody tr th {\n",
       "        vertical-align: top;\n",
       "    }\n",
       "\n",
       "    .dataframe thead th {\n",
       "        text-align: right;\n",
       "    }\n",
       "</style>\n",
       "<table border=\"1\" class=\"dataframe\">\n",
       "  <thead>\n",
       "    <tr style=\"text-align: right;\">\n",
       "      <th></th>\n",
       "      <th>Department</th>\n",
       "      <th>Request Type</th>\n",
       "      <th>completion time(sec)</th>\n",
       "    </tr>\n",
       "  </thead>\n",
       "  <tbody>\n",
       "    <tr>\n",
       "      <th>0</th>\n",
       "      <td>Highway</td>\n",
       "      <td>Traffic/Street Lights - Street Light Repair - ...</td>\n",
       "      <td>3240.0</td>\n",
       "    </tr>\n",
       "    <tr>\n",
       "      <th>10</th>\n",
       "      <td>Highway</td>\n",
       "      <td>Snow Removal Issues - Sanding Request</td>\n",
       "      <td>13800.0</td>\n",
       "    </tr>\n",
       "    <tr>\n",
       "      <th>12</th>\n",
       "      <td>Highway</td>\n",
       "      <td>Traffic/Street Lights - Street Light Repair - ...</td>\n",
       "      <td>14780580.0</td>\n",
       "    </tr>\n",
       "    <tr>\n",
       "      <th>15</th>\n",
       "      <td>Highway</td>\n",
       "      <td>Highway - Pothole</td>\n",
       "      <td>1215960.0</td>\n",
       "    </tr>\n",
       "    <tr>\n",
       "      <th>17</th>\n",
       "      <td>Inspectional Services</td>\n",
       "      <td>Trash - Enforcement</td>\n",
       "      <td>11100.0</td>\n",
       "    </tr>\n",
       "    <tr>\n",
       "      <th>35</th>\n",
       "      <td>Highway</td>\n",
       "      <td>Traffic/Street Lights - Street Light Repair - ...</td>\n",
       "      <td>7020.0</td>\n",
       "    </tr>\n",
       "    <tr>\n",
       "      <th>37</th>\n",
       "      <td>Inspectional Services</td>\n",
       "      <td>Poor Property Maintenance</td>\n",
       "      <td>4231380.0</td>\n",
       "    </tr>\n",
       "    <tr>\n",
       "      <th>43</th>\n",
       "      <td>Highway</td>\n",
       "      <td>Traffic/Street Lights - Street Light Repair - ...</td>\n",
       "      <td>5880.0</td>\n",
       "    </tr>\n",
       "    <tr>\n",
       "      <th>44</th>\n",
       "      <td>Highway</td>\n",
       "      <td>Snow Removal Issues - Replow Request</td>\n",
       "      <td>5820.0</td>\n",
       "    </tr>\n",
       "    <tr>\n",
       "      <th>81</th>\n",
       "      <td>Highway</td>\n",
       "      <td>TRASH - Missed Pick Up</td>\n",
       "      <td>80940.0</td>\n",
       "    </tr>\n",
       "  </tbody>\n",
       "</table>\n",
       "</div>"
      ],
      "text/plain": [
       "               Department                                       Request Type  \\\n",
       "0                 Highway  Traffic/Street Lights - Street Light Repair - ...   \n",
       "10                Highway              Snow Removal Issues - Sanding Request   \n",
       "12                Highway  Traffic/Street Lights - Street Light Repair - ...   \n",
       "15                Highway                                  Highway - Pothole   \n",
       "17  Inspectional Services                                Trash - Enforcement   \n",
       "35                Highway  Traffic/Street Lights - Street Light Repair - ...   \n",
       "37  Inspectional Services                          Poor Property Maintenance   \n",
       "43                Highway  Traffic/Street Lights - Street Light Repair - ...   \n",
       "44                Highway               Snow Removal Issues - Replow Request   \n",
       "81                Highway                             TRASH - Missed Pick Up   \n",
       "\n",
       "    completion time(sec)  \n",
       "0                 3240.0  \n",
       "10               13800.0  \n",
       "12            14780580.0  \n",
       "15             1215960.0  \n",
       "17               11100.0  \n",
       "35                7020.0  \n",
       "37             4231380.0  \n",
       "43                5880.0  \n",
       "44                5820.0  \n",
       "81               80940.0  "
      ]
     },
     "execution_count": 45,
     "metadata": {},
     "output_type": "execute_result"
    }
   ],
   "source": [
    "dept.head(10)"
   ]
  },
  {
   "cell_type": "code",
   "execution_count": 46,
   "metadata": {},
   "outputs": [],
   "source": [
    "# import Machine Learning libraries\n",
    "from sklearn.svm import LinearSVR\n",
    "from sklearn.preprocessing import LabelEncoder\n",
    "\n",
    "def rmse(predictions, targets):\n",
    "    '''Define Root mean squared error and as metric to perform error analysis'''\n",
    "    return np.sqrt(((predictions - targets) ** 2).mean())"
   ]
  },
  {
   "cell_type": "markdown",
   "metadata": {},
   "source": [
    "#### Department: Highway"
   ]
  },
  {
   "cell_type": "code",
   "execution_count": 47,
   "metadata": {},
   "outputs": [
    {
     "data": {
      "text/plain": [
       "11953"
      ]
     },
     "execution_count": 47,
     "metadata": {},
     "output_type": "execute_result"
    }
   ],
   "source": [
    "dept_highway = dept.loc[dept.Department == 'Highway']\n",
    "len(dept_highway)"
   ]
  },
  {
   "cell_type": "code",
   "execution_count": 48,
   "metadata": {},
   "outputs": [],
   "source": [
    "y = np.array(dept_highway['completion time(sec)'])\n",
    "X = np.array(dept_highway['Request Type'])"
   ]
  },
  {
   "cell_type": "code",
   "execution_count": 49,
   "metadata": {},
   "outputs": [
    {
     "data": {
      "text/plain": [
       "Highway - Pothole                              2620\n",
       "Snow Removal Issues - Sanding Request          1047\n",
       "Snow Removal Issues - Replow Request            644\n",
       "Tree Issues - City Owned Tree Issue             565\n",
       "Traffic/Street Lights - Street Light Repair     515\n",
       "                                               ... \n",
       "Trash - Bag Request                               2\n",
       "Recycling Drop-off Center                         2\n",
       "New Construction Request                          2\n",
       "Construction Issues - Street Closings             2\n",
       "Trash Cart Management                             1\n",
       "Name: Request Type, Length: 63, dtype: int64"
      ]
     },
     "execution_count": 49,
     "metadata": {},
     "output_type": "execute_result"
    }
   ],
   "source": [
    "dept_highway['Request Type'].value_counts()"
   ]
  },
  {
   "cell_type": "code",
   "execution_count": 50,
   "metadata": {},
   "outputs": [],
   "source": [
    "X = X.reshape(-1,1)\n",
    "y = y.reshape(-1,1)"
   ]
  },
  {
   "cell_type": "code",
   "execution_count": 51,
   "metadata": {},
   "outputs": [],
   "source": [
    "X = X.astype('str')"
   ]
  },
  {
   "cell_type": "code",
   "execution_count": 52,
   "metadata": {},
   "outputs": [],
   "source": [
    "labelenc = LabelEncoder() # Used to convert labels from string to categorical\n",
    "X = labelenc.fit_transform(X)\n",
    "X = X.reshape(-1,1)"
   ]
  },
  {
   "cell_type": "code",
   "execution_count": 53,
   "metadata": {},
   "outputs": [],
   "source": [
    "X_train, X_test, y_train, y_test = train_test_split(X, y, test_size=0.1, random_state=42)"
   ]
  },
  {
   "cell_type": "code",
   "execution_count": 54,
   "metadata": {},
   "outputs": [
    {
     "data": {
      "text/plain": [
       "LinearSVR(C=3000, dual=True, epsilon=0.0, fit_intercept=True,\n",
       "     intercept_scaling=1.0, loss='epsilon_insensitive', max_iter=1000,\n",
       "     random_state=None, tol=3000, verbose=0)"
      ]
     },
     "execution_count": 54,
     "metadata": {},
     "output_type": "execute_result"
    }
   ],
   "source": [
    "svm = LinearSVR(C=3000, tol=3000)\n",
    "svm.fit(X_train, y_train)"
   ]
  },
  {
   "cell_type": "code",
   "execution_count": 55,
   "metadata": {},
   "outputs": [
    {
     "name": "stdout",
     "output_type": "stream",
     "text": [
      "8512283.684204804\n"
     ]
    }
   ],
   "source": [
    "preds_train = svm.predict(X_train)\n",
    "err_train = rmse(preds_train, y_train)\n",
    "print(err_train)"
   ]
  },
  {
   "cell_type": "code",
   "execution_count": 56,
   "metadata": {},
   "outputs": [
    {
     "name": "stdout",
     "output_type": "stream",
     "text": [
      "7774370.515679615\n"
     ]
    }
   ],
   "source": [
    "preds_test = svm.predict(X_test)\n",
    "err_test = rmse(preds_test, y_test)\n",
    "print(err_test)"
   ]
  },
  {
   "cell_type": "code",
   "execution_count": 57,
   "metadata": {},
   "outputs": [],
   "source": [
    "preds = svm.predict(X)"
   ]
  },
  {
   "cell_type": "code",
   "execution_count": 58,
   "metadata": {},
   "outputs": [
    {
     "data": {
      "application/vnd.jupyter.widget-view+json": {
       "model_id": "fe7950af19a547d29a51886a8d0ae55f",
       "version_major": 2,
       "version_minor": 0
      },
      "text/plain": [
       "HBox(children=(IntProgress(value=0, max=11953), HTML(value='')))"
      ]
     },
     "metadata": {},
     "output_type": "display_data"
    },
    {
     "name": "stdout",
     "output_type": "stream",
     "text": [
      "\n"
     ]
    }
   ],
   "source": [
    "preds = list(preds)\n",
    "for idx, row in tqdm(enumerate(preds), total=len(preds)):\n",
    "    preds[idx] = str(timedelta(seconds = preds[idx]))"
   ]
  },
  {
   "cell_type": "code",
   "execution_count": 59,
   "metadata": {},
   "outputs": [
    {
     "data": {
      "text/html": [
       "<div>\n",
       "<style scoped>\n",
       "    .dataframe tbody tr th:only-of-type {\n",
       "        vertical-align: middle;\n",
       "    }\n",
       "\n",
       "    .dataframe tbody tr th {\n",
       "        vertical-align: top;\n",
       "    }\n",
       "\n",
       "    .dataframe thead th {\n",
       "        text-align: right;\n",
       "    }\n",
       "</style>\n",
       "<table border=\"1\" class=\"dataframe\">\n",
       "  <thead>\n",
       "    <tr style=\"text-align: right;\">\n",
       "      <th></th>\n",
       "      <th>Department</th>\n",
       "      <th>Request Type</th>\n",
       "      <th>completion time(sec)</th>\n",
       "      <th>Predictions</th>\n",
       "    </tr>\n",
       "  </thead>\n",
       "  <tbody>\n",
       "    <tr>\n",
       "      <th>0</th>\n",
       "      <td>Highway</td>\n",
       "      <td>Traffic/Street Lights - Street Light Repair - ...</td>\n",
       "      <td>3240.0</td>\n",
       "      <td>28 days, 16:54:06.573598</td>\n",
       "    </tr>\n",
       "    <tr>\n",
       "      <th>10</th>\n",
       "      <td>Highway</td>\n",
       "      <td>Snow Removal Issues - Sanding Request</td>\n",
       "      <td>13800.0</td>\n",
       "      <td>24 days, 17:13:15.970637</td>\n",
       "    </tr>\n",
       "    <tr>\n",
       "      <th>12</th>\n",
       "      <td>Highway</td>\n",
       "      <td>Traffic/Street Lights - Street Light Repair - ...</td>\n",
       "      <td>14780580.0</td>\n",
       "      <td>28 days, 16:54:06.573598</td>\n",
       "    </tr>\n",
       "    <tr>\n",
       "      <th>15</th>\n",
       "      <td>Highway</td>\n",
       "      <td>Highway - Pothole</td>\n",
       "      <td>1215960.0</td>\n",
       "      <td>16 days, 9:09:41.073535</td>\n",
       "    </tr>\n",
       "    <tr>\n",
       "      <th>35</th>\n",
       "      <td>Highway</td>\n",
       "      <td>Traffic/Street Lights - Street Light Repair - ...</td>\n",
       "      <td>7020.0</td>\n",
       "      <td>28 days, 16:54:06.573598</td>\n",
       "    </tr>\n",
       "  </tbody>\n",
       "</table>\n",
       "</div>"
      ],
      "text/plain": [
       "   Department                                       Request Type  \\\n",
       "0     Highway  Traffic/Street Lights - Street Light Repair - ...   \n",
       "10    Highway              Snow Removal Issues - Sanding Request   \n",
       "12    Highway  Traffic/Street Lights - Street Light Repair - ...   \n",
       "15    Highway                                  Highway - Pothole   \n",
       "35    Highway  Traffic/Street Lights - Street Light Repair - ...   \n",
       "\n",
       "    completion time(sec)               Predictions  \n",
       "0                 3240.0  28 days, 16:54:06.573598  \n",
       "10               13800.0  24 days, 17:13:15.970637  \n",
       "12            14780580.0  28 days, 16:54:06.573598  \n",
       "15             1215960.0   16 days, 9:09:41.073535  \n",
       "35                7020.0  28 days, 16:54:06.573598  "
      ]
     },
     "execution_count": 59,
     "metadata": {},
     "output_type": "execute_result"
    }
   ],
   "source": [
    "dept_highway['Predictions'] = preds\n",
    "dept_highway.head()"
   ]
  },
  {
   "cell_type": "code",
   "execution_count": 60,
   "metadata": {},
   "outputs": [
    {
     "data": {
      "text/plain": [
       "array(['Traffic/Street Lights - Street Light Repair - National Grid-Owned',\n",
       "       'Snow Removal Issues - Sanding Request', 'Highway - Pothole',\n",
       "       'Snow Removal Issues - Replow Request', 'TRASH - Missed Pick Up',\n",
       "       'Tree Issues - Tree Pruning/Trimming', 'Trash - Illegal Dumping',\n",
       "       'Recycling Drop-off Center', 'Highway - Street Paving Request',\n",
       "       'Tree Issues - Tree Removal',\n",
       "       'Tree Issues - City Owned Tree Issue',\n",
       "       'RECYCLING - Missed Pick Up', 'Highway - Street Cleaning/Sweeping',\n",
       "       'Snow Removal Issues - Street Unplowed', 'Litter Problems',\n",
       "       'Street Sign Issues - Street Signs Missing/Damaged',\n",
       "       'Snow Removal Issues - Private Property Damage',\n",
       "       'Trash - Barrel Overflow',\n",
       "       'Street Sign Issues - Stop Sign Missing/Damaged',\n",
       "       'Highway - Crosswalk', 'XMAS TREE - Missed pick up',\n",
       "       'Toter Issues', 'Snow Removal Issues - Ice buildup',\n",
       "       'Highway - Bee Issue', 'Highway - Catch Basin Repair',\n",
       "       'Construction Issues - Street Closings', 'New Toter Request',\n",
       "       'Highway - Sidewalk Issues',\n",
       "       'Snow Removal Issues - Sidewalk Snow Removal',\n",
       "       'Snow Removal Issues - Snow Bank Removal', 'Parks & Recreation',\n",
       "       'Tree Issues - Tree Fallen Across Road',\n",
       "       'Highway - Street Flooding', 'Highway - Manhole Repair',\n",
       "       'Highway & Parks', 'Snow Removal Issues - Mailbox Damage',\n",
       "       'Highway - Sidewalk Request', 'State Road Issue',\n",
       "       'Snow Removal Miscellaneous',\n",
       "       'Traffic/Street Lights - Street Light Repair',\n",
       "       'Highway - Apron/Curb Repair',\n",
       "       'Highway - Park & Vacant Lot Maintenance',\n",
       "       'Highway - Overgrown grass/weeds', 'Graffiti - City Property',\n",
       "       'LEAF missed pick up ', 'Highway - Street issues',\n",
       "       'Tree Issues - Tree Replacement',\n",
       "       'Highway - City-Owned Parking Lot Appearance',\n",
       "       'Highway - Line Painting', 'Highway - Culvert',\n",
       "       'Highway - trash/debris pickup', 'Public Works Department',\n",
       "       'Tree Issues - Private Tree Issue', 'Trash - Bag Request',\n",
       "       'Highway - Fence Issues', 'Highway - Sign Removal', 'Voicemails',\n",
       "       'HTA/contract question', 'Questions', 'Wire Issues',\n",
       "       'Highway - Trench', 'Trash Cart Management',\n",
       "       'New Construction Request'], dtype=object)"
      ]
     },
     "execution_count": 60,
     "metadata": {},
     "output_type": "execute_result"
    }
   ],
   "source": [
    "dept_highway['Request Type'].unique()"
   ]
  },
  {
   "cell_type": "code",
   "execution_count": 61,
   "metadata": {},
   "outputs": [
    {
     "data": {
      "text/plain": [
       "array(['28 days, 16:54:06.573598', '24 days, 17:13:15.970637',\n",
       "       '16 days, 9:09:41.073535', '24 days, 8:31:22.279458',\n",
       "       '27 days, 14:48:25.500063', '31 days, 14:29:16.103025',\n",
       "       '29 days, 18:59:47.647133', '22 days, 21:43:47.514745',\n",
       "       '18 days, 13:21:03.220605', '31 days, 23:11:09.794203',\n",
       "       '30 days, 12:23:35.029490', '22 days, 13:01:53.823567',\n",
       "       '17 days, 19:57:15.838248', '25 days, 19:18:57.044172',\n",
       "       '20 days, 8:50:31.676497', '27 days, 6:06:31.808885',\n",
       "       '23 days, 23:49:28.588280', '29 days, 10:17:53.955955',\n",
       "       '26 days, 21:24:38.117707', '13 days, 20:16:25.235287',\n",
       "       '33 days, 9:58:44.558917', '27 days, 23:30:19.191242',\n",
       "       '23 days, 6:25:41.205923', '12 days, 18:10:44.161752',\n",
       "       '13 days, 2:52:37.852930', '10 days, 22:41:15.705860',\n",
       "       '21 days, 2:14:19.058853', '16 days, 17:51:34.764713',\n",
       "       '25 days, 1:55:09.661815', '25 days, 10:37:03.352993',\n",
       "       '21 days, 10:56:12.750032', '31 days, 5:47:22.411847',\n",
       "       '18 days, 4:39:09.529427', '15 days, 7:04:00',\n",
       "       '12 days, 0:46:56.779395', '23 days, 15:07:34.897102',\n",
       "       '17 days, 2:33:28.455892', '26 days, 12:42:44.426528',\n",
       "       '26 days, 4:00:50.735350', '28 days, 8:12:12.882420',\n",
       "       '12 days, 9:28:50.470573', '16 days, 0:27:47.382357',\n",
       "       '15 days, 15:45:53.691178', '11 days, 7:23:09.397038',\n",
       "       '20 days, 0:08:37.985318', '18 days, 22:02:56.911783',\n",
       "       '32 days, 7:53:03.485382', '13 days, 11:34:31.544108',\n",
       "       '14 days, 22:22:06.308822', '14 days, 4:58:18.926465',\n",
       "       '19 days, 15:26:44.294140', '21 days, 19:38:06.441210',\n",
       "       '30 days, 21:05:28.720668', '29 days, 1:36:00.264777',\n",
       "       '14 days, 13:40:12.617643', '17 days, 11:15:22.147070',\n",
       "       '32 days, 16:34:57.176560', '11 days, 16:05:03.088217',\n",
       "       '22 days, 4:20:00.132388', '33 days, 1:16:50.867738',\n",
       "       '19 days, 6:44:50.602962', '30 days, 3:41:41.338312',\n",
       "       '20 days, 17:32:25.367675'], dtype=object)"
      ]
     },
     "execution_count": 61,
     "metadata": {},
     "output_type": "execute_result"
    }
   ],
   "source": [
    "dept_highway['Predictions'].unique()"
   ]
  },
  {
   "cell_type": "markdown",
   "metadata": {},
   "source": [
    "#### Department: Inspectional Services"
   ]
  },
  {
   "cell_type": "code",
   "execution_count": 62,
   "metadata": {},
   "outputs": [
    {
     "data": {
      "text/plain": [
       "205"
      ]
     },
     "execution_count": 62,
     "metadata": {},
     "output_type": "execute_result"
    }
   ],
   "source": [
    "dept_is = dept.loc[dept.Department == 'Inspectional Services']\n",
    "len(dept_is)"
   ]
  },
  {
   "cell_type": "code",
   "execution_count": 63,
   "metadata": {},
   "outputs": [],
   "source": [
    "y = np.array(dept_is['completion time(sec)'])\n",
    "X = np.array(dept_is['Request Type'])"
   ]
  },
  {
   "cell_type": "code",
   "execution_count": 64,
   "metadata": {},
   "outputs": [],
   "source": [
    "labelenc = LabelEncoder()\n",
    "X = labelenc.fit_transform(X)\n",
    "X = X.reshape(-1,1)"
   ]
  },
  {
   "cell_type": "code",
   "execution_count": 65,
   "metadata": {},
   "outputs": [],
   "source": [
    "X_train, X_test, y_train, y_test = train_test_split(X, y, test_size=0.1, random_state=42)"
   ]
  },
  {
   "cell_type": "code",
   "execution_count": 66,
   "metadata": {},
   "outputs": [
    {
     "data": {
      "text/plain": [
       "LinearSVR(C=12500, dual=True, epsilon=0.0, fit_intercept=True,\n",
       "     intercept_scaling=1.0, loss='epsilon_insensitive', max_iter=1000,\n",
       "     random_state=None, tol=3000, verbose=0)"
      ]
     },
     "execution_count": 66,
     "metadata": {},
     "output_type": "execute_result"
    }
   ],
   "source": [
    "svm = LinearSVR(C=12500, tol=3000)\n",
    "svm.fit(X_train, y_train)"
   ]
  },
  {
   "cell_type": "code",
   "execution_count": 67,
   "metadata": {},
   "outputs": [
    {
     "name": "stdout",
     "output_type": "stream",
     "text": [
      "12746897.186183529\n"
     ]
    }
   ],
   "source": [
    "preds_train = svm.predict(X_train)\n",
    "err_train = rmse(preds_train, y_train)\n",
    "print(err_train)"
   ]
  },
  {
   "cell_type": "code",
   "execution_count": 68,
   "metadata": {},
   "outputs": [
    {
     "name": "stdout",
     "output_type": "stream",
     "text": [
      "14263761.829813309\n"
     ]
    }
   ],
   "source": [
    "preds_test = svm.predict(X_test)\n",
    "err_test = rmse(preds_test, y_test)\n",
    "print(err_test)"
   ]
  },
  {
   "cell_type": "code",
   "execution_count": 69,
   "metadata": {},
   "outputs": [],
   "source": [
    "preds = svm.predict(X)"
   ]
  },
  {
   "cell_type": "code",
   "execution_count": 70,
   "metadata": {},
   "outputs": [
    {
     "data": {
      "application/vnd.jupyter.widget-view+json": {
       "model_id": "a1f1324be26540589f9ed405d5b4fa27",
       "version_major": 2,
       "version_minor": 0
      },
      "text/plain": [
       "HBox(children=(IntProgress(value=0, max=205), HTML(value='')))"
      ]
     },
     "metadata": {},
     "output_type": "display_data"
    },
    {
     "name": "stdout",
     "output_type": "stream",
     "text": [
      "\n"
     ]
    }
   ],
   "source": [
    "preds = list(preds)\n",
    "for idx, row in tqdm(enumerate(preds), total=len(preds)):\n",
    "    preds[idx] = str(timedelta(seconds = preds[idx]))"
   ]
  },
  {
   "cell_type": "code",
   "execution_count": 71,
   "metadata": {},
   "outputs": [],
   "source": [
    "dept_is['Predictions'] = preds\n",
    "# dept_is.tail(50)"
   ]
  },
  {
   "cell_type": "code",
   "execution_count": 72,
   "metadata": {},
   "outputs": [
    {
     "data": {
      "text/plain": [
       "array(['Trash - Enforcement', 'Poor Property Maintenance',\n",
       "       'Traffic/Street Lights - Street light/pole request',\n",
       "       'Graffiti - Private Property',\n",
       "       'Traffic/Street Lights - Street Light Request - National Grid-Owned',\n",
       "       'Accumulation of Litter/Garbage', 'Vacant Building',\n",
       "       'Health & Inspections',\n",
       "       'Traffic/Street Lights - Street Light Request',\n",
       "       'Excessive Noise/Disturbances', 'Overgrown Grass/Weeds',\n",
       "       'Odor Issues', 'Odor Complaint', 'Pool Issues',\n",
       "       'Illegal Work/No Visible Building Permit', 'Chickens',\n",
       "       'Unsafe Structures', 'Residence', 'Other: Inspection Requested'],\n",
       "      dtype=object)"
      ]
     },
     "execution_count": 72,
     "metadata": {},
     "output_type": "execute_result"
    }
   ],
   "source": [
    "dept_is['Request Type'].unique()"
   ]
  },
  {
   "cell_type": "code",
   "execution_count": 73,
   "metadata": {},
   "outputs": [
    {
     "data": {
      "text/plain": [
       "array(['13 days, 18:26:57.737854', '10 days, 13:02:23.680415',\n",
       "       '13 days, 2:58:02.926366', '5 days, 9:11:05.188512',\n",
       "       '12 days, 11:29:08.114878', '3 days, 10:44:20.754049',\n",
       "       '15 days, 1:24:47.360830', '6 days, 0:40:00',\n",
       "       '11 days, 20:00:13.303390', '4 days, 17:42:10.377024',\n",
       "       '9 days, 6:04:34.057439', '7 days, 23:06:44.434463',\n",
       "       '7 days, 7:37:49.622976', '9 days, 21:33:28.868927',\n",
       "       '6 days, 16:08:54.811488', '4 days, 2:13:15.565537',\n",
       "       '14 days, 9:55:52.549342', '11 days, 4:31:18.491903',\n",
       "       '8 days, 14:35:39.245951'], dtype=object)"
      ]
     },
     "execution_count": 73,
     "metadata": {},
     "output_type": "execute_result"
    }
   ],
   "source": [
    "dept_is['Predictions'].unique()"
   ]
  },
  {
   "cell_type": "markdown",
   "metadata": {},
   "source": [
    "#### Department: 311 Call Center"
   ]
  },
  {
   "cell_type": "code",
   "execution_count": 74,
   "metadata": {},
   "outputs": [
    {
     "data": {
      "text/plain": [
       "396"
      ]
     },
     "execution_count": 74,
     "metadata": {},
     "output_type": "execute_result"
    }
   ],
   "source": [
    "dept_311 = dept.loc[dept.Department == '311 Call Center']\n",
    "len(dept_311)"
   ]
  },
  {
   "cell_type": "code",
   "execution_count": 75,
   "metadata": {},
   "outputs": [],
   "source": [
    "y = np.array(dept_311['completion time(sec)'])\n",
    "X = np.array(dept_311['Request Type'])"
   ]
  },
  {
   "cell_type": "code",
   "execution_count": 76,
   "metadata": {},
   "outputs": [],
   "source": [
    "labelenc = LabelEncoder()\n",
    "X = labelenc.fit_transform(X)\n",
    "X = X.reshape(-1,1)"
   ]
  },
  {
   "cell_type": "code",
   "execution_count": 77,
   "metadata": {},
   "outputs": [],
   "source": [
    "X_train, X_test, y_train, y_test = train_test_split(X, y, test_size=0.1, random_state=42)"
   ]
  },
  {
   "cell_type": "code",
   "execution_count": 78,
   "metadata": {},
   "outputs": [
    {
     "data": {
      "text/plain": [
       "LinearSVR(C=1000, dual=True, epsilon=0.0, fit_intercept=True,\n",
       "     intercept_scaling=1.0, loss='epsilon_insensitive', max_iter=1000,\n",
       "     random_state=None, tol=0.0001, verbose=0)"
      ]
     },
     "execution_count": 78,
     "metadata": {},
     "output_type": "execute_result"
    }
   ],
   "source": [
    "svm = LinearSVR(C=1000)\n",
    "svm.fit(X_train, y_train)"
   ]
  },
  {
   "cell_type": "code",
   "execution_count": 79,
   "metadata": {},
   "outputs": [
    {
     "name": "stdout",
     "output_type": "stream",
     "text": [
      "7260333.478064058\n"
     ]
    }
   ],
   "source": [
    "preds_train = svm.predict(X_train)\n",
    "err_train = rmse(preds_train, y_train)\n",
    "print(err_train)"
   ]
  },
  {
   "cell_type": "code",
   "execution_count": 80,
   "metadata": {},
   "outputs": [
    {
     "name": "stdout",
     "output_type": "stream",
     "text": [
      "6237766.153484755\n"
     ]
    }
   ],
   "source": [
    "preds_test = svm.predict(X_test)\n",
    "err_test = rmse(preds_test, y_test)\n",
    "print(err_test)"
   ]
  },
  {
   "cell_type": "code",
   "execution_count": 81,
   "metadata": {},
   "outputs": [],
   "source": [
    "preds = svm.predict(X)"
   ]
  },
  {
   "cell_type": "code",
   "execution_count": 82,
   "metadata": {},
   "outputs": [
    {
     "data": {
      "application/vnd.jupyter.widget-view+json": {
       "model_id": "2509195fef0047eda4f98d0ff2c341ea",
       "version_major": 2,
       "version_minor": 0
      },
      "text/plain": [
       "HBox(children=(IntProgress(value=0, max=396), HTML(value='')))"
      ]
     },
     "metadata": {},
     "output_type": "display_data"
    },
    {
     "name": "stdout",
     "output_type": "stream",
     "text": [
      "\n"
     ]
    }
   ],
   "source": [
    "preds = list(preds)\n",
    "for idx, row in tqdm(enumerate(preds), total=len(preds)):\n",
    "    preds[idx] = str(timedelta(seconds = preds[idx]))"
   ]
  },
  {
   "cell_type": "code",
   "execution_count": 83,
   "metadata": {},
   "outputs": [
    {
     "data": {
      "text/html": [
       "<div>\n",
       "<style scoped>\n",
       "    .dataframe tbody tr th:only-of-type {\n",
       "        vertical-align: middle;\n",
       "    }\n",
       "\n",
       "    .dataframe tbody tr th {\n",
       "        vertical-align: top;\n",
       "    }\n",
       "\n",
       "    .dataframe thead th {\n",
       "        text-align: right;\n",
       "    }\n",
       "</style>\n",
       "<table border=\"1\" class=\"dataframe\">\n",
       "  <thead>\n",
       "    <tr style=\"text-align: right;\">\n",
       "      <th></th>\n",
       "      <th>Department</th>\n",
       "      <th>Request Type</th>\n",
       "      <th>completion time(sec)</th>\n",
       "      <th>Predictions</th>\n",
       "    </tr>\n",
       "  </thead>\n",
       "  <tbody>\n",
       "    <tr>\n",
       "      <th>156</th>\n",
       "      <td>311 Call Center</td>\n",
       "      <td>A - Information Other</td>\n",
       "      <td>5580.0</td>\n",
       "      <td>1:46:00</td>\n",
       "    </tr>\n",
       "    <tr>\n",
       "      <th>161</th>\n",
       "      <td>311 Call Center</td>\n",
       "      <td>A - Information Other</td>\n",
       "      <td>3900.0</td>\n",
       "      <td>1:46:00</td>\n",
       "    </tr>\n",
       "    <tr>\n",
       "      <th>415</th>\n",
       "      <td>311 Call Center</td>\n",
       "      <td>A - Transfer Other</td>\n",
       "      <td>60.0</td>\n",
       "      <td>8:09:20</td>\n",
       "    </tr>\n",
       "    <tr>\n",
       "      <th>569</th>\n",
       "      <td>311 Call Center</td>\n",
       "      <td>A - Information Other</td>\n",
       "      <td>766020.0</td>\n",
       "      <td>1:46:00</td>\n",
       "    </tr>\n",
       "    <tr>\n",
       "      <th>700</th>\n",
       "      <td>311 Call Center</td>\n",
       "      <td>A - Transfer Other</td>\n",
       "      <td>60.0</td>\n",
       "      <td>8:09:20</td>\n",
       "    </tr>\n",
       "  </tbody>\n",
       "</table>\n",
       "</div>"
      ],
      "text/plain": [
       "          Department           Request Type  completion time(sec) Predictions\n",
       "156  311 Call Center  A - Information Other                5580.0     1:46:00\n",
       "161  311 Call Center  A - Information Other                3900.0     1:46:00\n",
       "415  311 Call Center     A - Transfer Other                  60.0     8:09:20\n",
       "569  311 Call Center  A - Information Other              766020.0     1:46:00\n",
       "700  311 Call Center     A - Transfer Other                  60.0     8:09:20"
      ]
     },
     "execution_count": 83,
     "metadata": {},
     "output_type": "execute_result"
    }
   ],
   "source": [
    "dept_311['Predictions'] = preds\n",
    "dept_311.head()"
   ]
  },
  {
   "cell_type": "code",
   "execution_count": 84,
   "metadata": {},
   "outputs": [
    {
     "data": {
      "text/plain": [
       "array(['A - Information Other', 'A - Transfer Other',\n",
       "       'LAZ - Downtown Parking Issue', 'Parking Meter Malfunction',\n",
       "       'Handicapped Parking Sign Request', 'Train Idling Compaint',\n",
       "       'Resident Feedback'], dtype=object)"
      ]
     },
     "execution_count": 84,
     "metadata": {},
     "output_type": "execute_result"
    }
   ],
   "source": [
    "dept_311['Request Type'].unique()"
   ]
  },
  {
   "cell_type": "code",
   "execution_count": 85,
   "metadata": {},
   "outputs": [
    {
     "data": {
      "text/plain": [
       "array(['1:46:00', '8:09:20', '20:56:00', '1 day, 3:19:20', '14:32:40',\n",
       "       '1 day, 16:06:00', '1 day, 9:42:40'], dtype=object)"
      ]
     },
     "execution_count": 85,
     "metadata": {},
     "output_type": "execute_result"
    }
   ],
   "source": [
    "dept_311['Predictions'].unique()"
   ]
  },
  {
   "cell_type": "markdown",
   "metadata": {},
   "source": [
    "#### Department: Fire and Police"
   ]
  },
  {
   "cell_type": "code",
   "execution_count": 86,
   "metadata": {},
   "outputs": [
    {
     "data": {
      "text/plain": [
       "94"
      ]
     },
     "execution_count": 86,
     "metadata": {},
     "output_type": "execute_result"
    }
   ],
   "source": [
    "dept_fp = dept.loc[dept.Department == 'Fire & Police']\n",
    "len(dept_fp)"
   ]
  },
  {
   "cell_type": "code",
   "execution_count": 87,
   "metadata": {},
   "outputs": [],
   "source": [
    "y = np.array(dept_fp['completion time(sec)'])\n",
    "X = np.array(dept_fp['Request Type'])"
   ]
  },
  {
   "cell_type": "code",
   "execution_count": 88,
   "metadata": {},
   "outputs": [],
   "source": [
    "labelenc = LabelEncoder()\n",
    "X = labelenc.fit_transform(X)\n",
    "X = X.reshape(-1,1)"
   ]
  },
  {
   "cell_type": "code",
   "execution_count": 89,
   "metadata": {},
   "outputs": [],
   "source": [
    "X_train, X_test, y_train, y_test = train_test_split(X, y, test_size=0.1, random_state=42)"
   ]
  },
  {
   "cell_type": "code",
   "execution_count": 90,
   "metadata": {},
   "outputs": [
    {
     "data": {
      "text/plain": [
       "LinearSVR(C=100000, dual=True, epsilon=0.0, fit_intercept=True,\n",
       "     intercept_scaling=1.0, loss='epsilon_insensitive', max_iter=1000,\n",
       "     random_state=None, tol=100000, verbose=0)"
      ]
     },
     "execution_count": 90,
     "metadata": {},
     "output_type": "execute_result"
    }
   ],
   "source": [
    "svm = LinearSVR(C=100000, tol=100000)\n",
    "svm.fit(X_train, y_train)"
   ]
  },
  {
   "cell_type": "code",
   "execution_count": 91,
   "metadata": {},
   "outputs": [
    {
     "name": "stdout",
     "output_type": "stream",
     "text": [
      "1691032.0765142215\n"
     ]
    }
   ],
   "source": [
    "preds_train = svm.predict(X_train)\n",
    "err_train = rmse(preds_train, y_train)\n",
    "print(err_train)"
   ]
  },
  {
   "cell_type": "code",
   "execution_count": 92,
   "metadata": {},
   "outputs": [
    {
     "name": "stdout",
     "output_type": "stream",
     "text": [
      "1320945.8099483112\n"
     ]
    }
   ],
   "source": [
    "preds_test = svm.predict(X_test)\n",
    "err_test = rmse(preds_test, y_test)\n",
    "print(err_test)"
   ]
  },
  {
   "cell_type": "code",
   "execution_count": 93,
   "metadata": {},
   "outputs": [],
   "source": [
    "preds = svm.predict(X)"
   ]
  },
  {
   "cell_type": "code",
   "execution_count": 94,
   "metadata": {},
   "outputs": [
    {
     "data": {
      "application/vnd.jupyter.widget-view+json": {
       "model_id": "00ae7259cdda4af6aba15df0ced5d163",
       "version_major": 2,
       "version_minor": 0
      },
      "text/plain": [
       "HBox(children=(IntProgress(value=0, max=94), HTML(value='')))"
      ]
     },
     "metadata": {},
     "output_type": "display_data"
    },
    {
     "name": "stdout",
     "output_type": "stream",
     "text": [
      "\n"
     ]
    }
   ],
   "source": [
    "preds = list(preds)\n",
    "for idx, row in tqdm(enumerate(preds), total=len(preds)):\n",
    "    preds[idx] = str(timedelta(seconds = preds[idx]))"
   ]
  },
  {
   "cell_type": "code",
   "execution_count": 95,
   "metadata": {},
   "outputs": [
    {
     "data": {
      "text/html": [
       "<div>\n",
       "<style scoped>\n",
       "    .dataframe tbody tr th:only-of-type {\n",
       "        vertical-align: middle;\n",
       "    }\n",
       "\n",
       "    .dataframe tbody tr th {\n",
       "        vertical-align: top;\n",
       "    }\n",
       "\n",
       "    .dataframe thead th {\n",
       "        text-align: right;\n",
       "    }\n",
       "</style>\n",
       "<table border=\"1\" class=\"dataframe\">\n",
       "  <thead>\n",
       "    <tr style=\"text-align: right;\">\n",
       "      <th></th>\n",
       "      <th>Department</th>\n",
       "      <th>Request Type</th>\n",
       "      <th>completion time(sec)</th>\n",
       "      <th>Predictions</th>\n",
       "    </tr>\n",
       "  </thead>\n",
       "  <tbody>\n",
       "    <tr>\n",
       "      <th>44556</th>\n",
       "      <td>Fire &amp; Police</td>\n",
       "      <td>Traffic/Street Lights - Traffic Light Not Working</td>\n",
       "      <td>834300.0</td>\n",
       "      <td>11 days, 9:43:00</td>\n",
       "    </tr>\n",
       "    <tr>\n",
       "      <th>44579</th>\n",
       "      <td>Fire &amp; Police</td>\n",
       "      <td>Traffic/Street Lights - Traffic Light Not Working</td>\n",
       "      <td>372840.0</td>\n",
       "      <td>11 days, 9:43:00</td>\n",
       "    </tr>\n",
       "    <tr>\n",
       "      <th>45257</th>\n",
       "      <td>Fire &amp; Police</td>\n",
       "      <td>Traffic/Street Lights - Traffic Light Not Working</td>\n",
       "      <td>194880.0</td>\n",
       "      <td>11 days, 9:43:00</td>\n",
       "    </tr>\n",
       "    <tr>\n",
       "      <th>45891</th>\n",
       "      <td>Fire &amp; Police</td>\n",
       "      <td>Traffic/Street Lights - Traffic Light Not Working</td>\n",
       "      <td>1398360.0</td>\n",
       "      <td>11 days, 9:43:00</td>\n",
       "    </tr>\n",
       "    <tr>\n",
       "      <th>46838</th>\n",
       "      <td>Fire &amp; Police</td>\n",
       "      <td>Traffic/Street Lights - Traffic Light Not Working</td>\n",
       "      <td>10380.0</td>\n",
       "      <td>11 days, 9:43:00</td>\n",
       "    </tr>\n",
       "    <tr>\n",
       "      <th>47681</th>\n",
       "      <td>Fire &amp; Police</td>\n",
       "      <td>Traffic/Street Lights - Traffic Light Not Working</td>\n",
       "      <td>256080.0</td>\n",
       "      <td>11 days, 9:43:00</td>\n",
       "    </tr>\n",
       "    <tr>\n",
       "      <th>48050</th>\n",
       "      <td>Fire &amp; Police</td>\n",
       "      <td>Traffic/Street Lights - Traffic Light Not Working</td>\n",
       "      <td>2760.0</td>\n",
       "      <td>11 days, 9:43:00</td>\n",
       "    </tr>\n",
       "    <tr>\n",
       "      <th>49871</th>\n",
       "      <td>Fire &amp; Police</td>\n",
       "      <td>Traffic/Street Lights - Traffic Light Not Working</td>\n",
       "      <td>2771640.0</td>\n",
       "      <td>11 days, 9:43:00</td>\n",
       "    </tr>\n",
       "    <tr>\n",
       "      <th>52514</th>\n",
       "      <td>Fire &amp; Police</td>\n",
       "      <td>Traffic/Street Lights - Traffic Light Not Working</td>\n",
       "      <td>222360.0</td>\n",
       "      <td>11 days, 9:43:00</td>\n",
       "    </tr>\n",
       "    <tr>\n",
       "      <th>52560</th>\n",
       "      <td>Fire &amp; Police</td>\n",
       "      <td>Traffic/Street Lights - Traffic Light Not Working</td>\n",
       "      <td>6960.0</td>\n",
       "      <td>11 days, 9:43:00</td>\n",
       "    </tr>\n",
       "    <tr>\n",
       "      <th>54090</th>\n",
       "      <td>Fire &amp; Police</td>\n",
       "      <td>Traffic/Street Lights - Traffic Light Not Working</td>\n",
       "      <td>3042300.0</td>\n",
       "      <td>11 days, 9:43:00</td>\n",
       "    </tr>\n",
       "    <tr>\n",
       "      <th>54195</th>\n",
       "      <td>Fire &amp; Police</td>\n",
       "      <td>Traffic/Street Lights - Traffic Light Not Working</td>\n",
       "      <td>3024000.0</td>\n",
       "      <td>11 days, 9:43:00</td>\n",
       "    </tr>\n",
       "    <tr>\n",
       "      <th>57608</th>\n",
       "      <td>Fire &amp; Police</td>\n",
       "      <td>Traffic/Street Lights - Traffic Light Not Working</td>\n",
       "      <td>871680.0</td>\n",
       "      <td>11 days, 9:43:00</td>\n",
       "    </tr>\n",
       "    <tr>\n",
       "      <th>58604</th>\n",
       "      <td>Fire &amp; Police</td>\n",
       "      <td>Traffic/Street Lights - Traffic Light Not Working</td>\n",
       "      <td>2152860.0</td>\n",
       "      <td>11 days, 9:43:00</td>\n",
       "    </tr>\n",
       "    <tr>\n",
       "      <th>59172</th>\n",
       "      <td>Fire &amp; Police</td>\n",
       "      <td>Traffic/Street Lights - Traffic Light Not Working</td>\n",
       "      <td>106680.0</td>\n",
       "      <td>11 days, 9:43:00</td>\n",
       "    </tr>\n",
       "    <tr>\n",
       "      <th>62613</th>\n",
       "      <td>Fire &amp; Police</td>\n",
       "      <td>Traffic/Street Lights - Traffic Light Not Working</td>\n",
       "      <td>348060.0</td>\n",
       "      <td>11 days, 9:43:00</td>\n",
       "    </tr>\n",
       "    <tr>\n",
       "      <th>63933</th>\n",
       "      <td>Fire &amp; Police</td>\n",
       "      <td>Traffic/Street Lights - Traffic Light Not Working</td>\n",
       "      <td>85380.0</td>\n",
       "      <td>11 days, 9:43:00</td>\n",
       "    </tr>\n",
       "    <tr>\n",
       "      <th>65219</th>\n",
       "      <td>Fire &amp; Police</td>\n",
       "      <td>Traffic/Street Lights - Traffic Light Not Working</td>\n",
       "      <td>91920.0</td>\n",
       "      <td>11 days, 9:43:00</td>\n",
       "    </tr>\n",
       "    <tr>\n",
       "      <th>68253</th>\n",
       "      <td>Fire &amp; Police</td>\n",
       "      <td>Traffic/Street Lights - Traffic Light Not Working</td>\n",
       "      <td>768780.0</td>\n",
       "      <td>11 days, 9:43:00</td>\n",
       "    </tr>\n",
       "    <tr>\n",
       "      <th>69541</th>\n",
       "      <td>Fire &amp; Police</td>\n",
       "      <td>Traffic/Street Lights - Traffic Light Not Working</td>\n",
       "      <td>343560.0</td>\n",
       "      <td>11 days, 9:43:00</td>\n",
       "    </tr>\n",
       "  </tbody>\n",
       "</table>\n",
       "</div>"
      ],
      "text/plain": [
       "          Department                                       Request Type  \\\n",
       "44556  Fire & Police  Traffic/Street Lights - Traffic Light Not Working   \n",
       "44579  Fire & Police  Traffic/Street Lights - Traffic Light Not Working   \n",
       "45257  Fire & Police  Traffic/Street Lights - Traffic Light Not Working   \n",
       "45891  Fire & Police  Traffic/Street Lights - Traffic Light Not Working   \n",
       "46838  Fire & Police  Traffic/Street Lights - Traffic Light Not Working   \n",
       "47681  Fire & Police  Traffic/Street Lights - Traffic Light Not Working   \n",
       "48050  Fire & Police  Traffic/Street Lights - Traffic Light Not Working   \n",
       "49871  Fire & Police  Traffic/Street Lights - Traffic Light Not Working   \n",
       "52514  Fire & Police  Traffic/Street Lights - Traffic Light Not Working   \n",
       "52560  Fire & Police  Traffic/Street Lights - Traffic Light Not Working   \n",
       "54090  Fire & Police  Traffic/Street Lights - Traffic Light Not Working   \n",
       "54195  Fire & Police  Traffic/Street Lights - Traffic Light Not Working   \n",
       "57608  Fire & Police  Traffic/Street Lights - Traffic Light Not Working   \n",
       "58604  Fire & Police  Traffic/Street Lights - Traffic Light Not Working   \n",
       "59172  Fire & Police  Traffic/Street Lights - Traffic Light Not Working   \n",
       "62613  Fire & Police  Traffic/Street Lights - Traffic Light Not Working   \n",
       "63933  Fire & Police  Traffic/Street Lights - Traffic Light Not Working   \n",
       "65219  Fire & Police  Traffic/Street Lights - Traffic Light Not Working   \n",
       "68253  Fire & Police  Traffic/Street Lights - Traffic Light Not Working   \n",
       "69541  Fire & Police  Traffic/Street Lights - Traffic Light Not Working   \n",
       "\n",
       "       completion time(sec)       Predictions  \n",
       "44556              834300.0  11 days, 9:43:00  \n",
       "44579              372840.0  11 days, 9:43:00  \n",
       "45257              194880.0  11 days, 9:43:00  \n",
       "45891             1398360.0  11 days, 9:43:00  \n",
       "46838               10380.0  11 days, 9:43:00  \n",
       "47681              256080.0  11 days, 9:43:00  \n",
       "48050                2760.0  11 days, 9:43:00  \n",
       "49871             2771640.0  11 days, 9:43:00  \n",
       "52514              222360.0  11 days, 9:43:00  \n",
       "52560                6960.0  11 days, 9:43:00  \n",
       "54090             3042300.0  11 days, 9:43:00  \n",
       "54195             3024000.0  11 days, 9:43:00  \n",
       "57608              871680.0  11 days, 9:43:00  \n",
       "58604             2152860.0  11 days, 9:43:00  \n",
       "59172              106680.0  11 days, 9:43:00  \n",
       "62613              348060.0  11 days, 9:43:00  \n",
       "63933               85380.0  11 days, 9:43:00  \n",
       "65219               91920.0  11 days, 9:43:00  \n",
       "68253              768780.0  11 days, 9:43:00  \n",
       "69541              343560.0  11 days, 9:43:00  "
      ]
     },
     "execution_count": 95,
     "metadata": {},
     "output_type": "execute_result"
    }
   ],
   "source": [
    "dept_fp['Predictions'] = preds\n",
    "dept_fp.tail(20)"
   ]
  },
  {
   "cell_type": "code",
   "execution_count": 96,
   "metadata": {},
   "outputs": [
    {
     "data": {
      "text/plain": [
       "array(['Traffic/Street Lights - Traffic Light Not Working',\n",
       "       'Downed Electric Power Lines'], dtype=object)"
      ]
     },
     "execution_count": 96,
     "metadata": {},
     "output_type": "execute_result"
    }
   ],
   "source": [
    "dept_fp['Request Type'].unique()"
   ]
  },
  {
   "cell_type": "code",
   "execution_count": 97,
   "metadata": {},
   "outputs": [
    {
     "data": {
      "text/plain": [
       "array(['11 days, 9:43:00', '5 days, 4:26:30'], dtype=object)"
      ]
     },
     "execution_count": 97,
     "metadata": {},
     "output_type": "execute_result"
    }
   ],
   "source": [
    "dept_fp['Predictions'].unique()"
   ]
  },
  {
   "cell_type": "markdown",
   "metadata": {},
   "source": [
    "#### Department: Stormwater/Sewer"
   ]
  },
  {
   "cell_type": "code",
   "execution_count": 98,
   "metadata": {},
   "outputs": [
    {
     "data": {
      "text/plain": [
       "212"
      ]
     },
     "execution_count": 98,
     "metadata": {},
     "output_type": "execute_result"
    }
   ],
   "source": [
    "dept_ss = dept.loc[dept.Department == 'Stormwater/Sewer']\n",
    "len(dept_ss)"
   ]
  },
  {
   "cell_type": "code",
   "execution_count": 99,
   "metadata": {},
   "outputs": [],
   "source": [
    "y = np.array(dept_ss['completion time(sec)'])\n",
    "X = np.array(dept_ss['Request Type'])"
   ]
  },
  {
   "cell_type": "code",
   "execution_count": 100,
   "metadata": {},
   "outputs": [],
   "source": [
    "labelenc = LabelEncoder()\n",
    "X = labelenc.fit_transform(X)\n",
    "X = X.reshape(-1,1)"
   ]
  },
  {
   "cell_type": "code",
   "execution_count": 101,
   "metadata": {},
   "outputs": [],
   "source": [
    "X_train, X_test, y_train, y_test = train_test_split(X, y, test_size=0.1, random_state=24)"
   ]
  },
  {
   "cell_type": "code",
   "execution_count": 102,
   "metadata": {},
   "outputs": [
    {
     "data": {
      "text/plain": [
       "LinearSVR(C=2500000, dual=True, epsilon=0.0, fit_intercept=True,\n",
       "     intercept_scaling=1.0, loss='epsilon_insensitive', max_iter=1000,\n",
       "     random_state=None, tol=3000000, verbose=0)"
      ]
     },
     "execution_count": 102,
     "metadata": {},
     "output_type": "execute_result"
    }
   ],
   "source": [
    "svm = LinearSVR(C=2500000, tol=3000000)\n",
    "svm.fit(X_train, y_train)"
   ]
  },
  {
   "cell_type": "code",
   "execution_count": 103,
   "metadata": {},
   "outputs": [
    {
     "name": "stdout",
     "output_type": "stream",
     "text": [
      "10219517.728302605\n"
     ]
    }
   ],
   "source": [
    "preds_train = svm.predict(X_train)\n",
    "err_train = rmse(preds_train, y_train)\n",
    "print(err_train)"
   ]
  },
  {
   "cell_type": "code",
   "execution_count": 104,
   "metadata": {},
   "outputs": [
    {
     "name": "stdout",
     "output_type": "stream",
     "text": [
      "7198621.605716307\n"
     ]
    }
   ],
   "source": [
    "preds_test = svm.predict(X_test)\n",
    "err_test = rmse(preds_test, y_test)\n",
    "print(err_test)"
   ]
  },
  {
   "cell_type": "code",
   "execution_count": 105,
   "metadata": {},
   "outputs": [],
   "source": [
    "preds = svm.predict(X)"
   ]
  },
  {
   "cell_type": "code",
   "execution_count": 106,
   "metadata": {},
   "outputs": [
    {
     "data": {
      "application/vnd.jupyter.widget-view+json": {
       "model_id": "d9d934e4a12f463381580c87e12785eb",
       "version_major": 2,
       "version_minor": 0
      },
      "text/plain": [
       "HBox(children=(IntProgress(value=0, max=212), HTML(value='')))"
      ]
     },
     "metadata": {},
     "output_type": "display_data"
    },
    {
     "name": "stdout",
     "output_type": "stream",
     "text": [
      "\n"
     ]
    }
   ],
   "source": [
    "preds = list(preds)\n",
    "for idx, row in tqdm(enumerate(preds), total=len(preds)):\n",
    "    preds[idx] = str(timedelta(seconds = preds[idx]))"
   ]
  },
  {
   "cell_type": "code",
   "execution_count": 107,
   "metadata": {},
   "outputs": [
    {
     "data": {
      "text/html": [
       "<div>\n",
       "<style scoped>\n",
       "    .dataframe tbody tr th:only-of-type {\n",
       "        vertical-align: middle;\n",
       "    }\n",
       "\n",
       "    .dataframe tbody tr th {\n",
       "        vertical-align: top;\n",
       "    }\n",
       "\n",
       "    .dataframe thead th {\n",
       "        text-align: right;\n",
       "    }\n",
       "</style>\n",
       "<table border=\"1\" class=\"dataframe\">\n",
       "  <thead>\n",
       "    <tr style=\"text-align: right;\">\n",
       "      <th></th>\n",
       "      <th>Department</th>\n",
       "      <th>Request Type</th>\n",
       "      <th>completion time(sec)</th>\n",
       "      <th>Predictions</th>\n",
       "    </tr>\n",
       "  </thead>\n",
       "  <tbody>\n",
       "    <tr>\n",
       "      <th>62562</th>\n",
       "      <td>Stormwater/Sewer</td>\n",
       "      <td>Stormwater/Sewer - Catch Basin Cleaning</td>\n",
       "      <td>1389180.0</td>\n",
       "      <td>61 days, 4:35:00</td>\n",
       "    </tr>\n",
       "    <tr>\n",
       "      <th>63315</th>\n",
       "      <td>Stormwater/Sewer</td>\n",
       "      <td>Stormwater/Sewer - Manhole issue</td>\n",
       "      <td>81900.0</td>\n",
       "      <td>23 days, 10:53:43.433173</td>\n",
       "    </tr>\n",
       "    <tr>\n",
       "      <th>63349</th>\n",
       "      <td>Stormwater/Sewer</td>\n",
       "      <td>Stormwater/Sewer - Catch Basin Cleaning</td>\n",
       "      <td>1115220.0</td>\n",
       "      <td>61 days, 4:35:00</td>\n",
       "    </tr>\n",
       "    <tr>\n",
       "      <th>63406</th>\n",
       "      <td>Stormwater/Sewer</td>\n",
       "      <td>Stormwater/Sewer - Catch Basin Cleaning</td>\n",
       "      <td>629640.0</td>\n",
       "      <td>61 days, 4:35:00</td>\n",
       "    </tr>\n",
       "    <tr>\n",
       "      <th>63452</th>\n",
       "      <td>Stormwater/Sewer</td>\n",
       "      <td>Stormwater/Sewer - Manhole issue</td>\n",
       "      <td>419940.0</td>\n",
       "      <td>23 days, 10:53:43.433173</td>\n",
       "    </tr>\n",
       "    <tr>\n",
       "      <th>63686</th>\n",
       "      <td>Stormwater/Sewer</td>\n",
       "      <td>Stormwater/Sewer - Catch Basin Cleaning</td>\n",
       "      <td>169320.0</td>\n",
       "      <td>61 days, 4:35:00</td>\n",
       "    </tr>\n",
       "    <tr>\n",
       "      <th>63718</th>\n",
       "      <td>Stormwater/Sewer</td>\n",
       "      <td>Stormwater/Sewer - Catch Basin Cleaning</td>\n",
       "      <td>4929480.0</td>\n",
       "      <td>61 days, 4:35:00</td>\n",
       "    </tr>\n",
       "    <tr>\n",
       "      <th>63852</th>\n",
       "      <td>Stormwater/Sewer</td>\n",
       "      <td>Stormwater/Sewer - Catch Basin Cleaning</td>\n",
       "      <td>6483060.0</td>\n",
       "      <td>61 days, 4:35:00</td>\n",
       "    </tr>\n",
       "    <tr>\n",
       "      <th>64189</th>\n",
       "      <td>Stormwater/Sewer</td>\n",
       "      <td>Stormwater/Sewer - Catch Basin Cleaning</td>\n",
       "      <td>2593200.0</td>\n",
       "      <td>61 days, 4:35:00</td>\n",
       "    </tr>\n",
       "    <tr>\n",
       "      <th>65105</th>\n",
       "      <td>Stormwater/Sewer</td>\n",
       "      <td>Stormwater/Sewer - Catch Basin Cleaning</td>\n",
       "      <td>312660.0</td>\n",
       "      <td>61 days, 4:35:00</td>\n",
       "    </tr>\n",
       "    <tr>\n",
       "      <th>65122</th>\n",
       "      <td>Stormwater/Sewer</td>\n",
       "      <td>Stormwater/Sewer - Catch Basin Cleaning</td>\n",
       "      <td>208740.0</td>\n",
       "      <td>61 days, 4:35:00</td>\n",
       "    </tr>\n",
       "    <tr>\n",
       "      <th>65582</th>\n",
       "      <td>Stormwater/Sewer</td>\n",
       "      <td>Stormwater/Sewer - Catch Basin Cleaning</td>\n",
       "      <td>784140.0</td>\n",
       "      <td>61 days, 4:35:00</td>\n",
       "    </tr>\n",
       "    <tr>\n",
       "      <th>65794</th>\n",
       "      <td>Stormwater/Sewer</td>\n",
       "      <td>Stormwater/Sewer - Catch Basin Cleaning</td>\n",
       "      <td>442200.0</td>\n",
       "      <td>61 days, 4:35:00</td>\n",
       "    </tr>\n",
       "    <tr>\n",
       "      <th>66275</th>\n",
       "      <td>Stormwater/Sewer</td>\n",
       "      <td>Stormwater/Sewer - Manhole issue</td>\n",
       "      <td>60.0</td>\n",
       "      <td>23 days, 10:53:43.433173</td>\n",
       "    </tr>\n",
       "    <tr>\n",
       "      <th>66330</th>\n",
       "      <td>Stormwater/Sewer</td>\n",
       "      <td>Stormwater/Sewer - Catch Basin Cleaning</td>\n",
       "      <td>3547440.0</td>\n",
       "      <td>61 days, 4:35:00</td>\n",
       "    </tr>\n",
       "    <tr>\n",
       "      <th>66589</th>\n",
       "      <td>Stormwater/Sewer</td>\n",
       "      <td>Stormwater/Sewer - Catch Basin Cleaning</td>\n",
       "      <td>3358980.0</td>\n",
       "      <td>61 days, 4:35:00</td>\n",
       "    </tr>\n",
       "    <tr>\n",
       "      <th>66660</th>\n",
       "      <td>Stormwater/Sewer</td>\n",
       "      <td>Stormwater/Sewer - Catch Basin Cleaning</td>\n",
       "      <td>1549260.0</td>\n",
       "      <td>61 days, 4:35:00</td>\n",
       "    </tr>\n",
       "    <tr>\n",
       "      <th>66704</th>\n",
       "      <td>Stormwater/Sewer</td>\n",
       "      <td>Stormwater/Sewer - Manhole issue</td>\n",
       "      <td>351240.0</td>\n",
       "      <td>23 days, 10:53:43.433173</td>\n",
       "    </tr>\n",
       "    <tr>\n",
       "      <th>69417</th>\n",
       "      <td>Stormwater/Sewer</td>\n",
       "      <td>Stormwater/Sewer - Sewer Problem</td>\n",
       "      <td>5040.0</td>\n",
       "      <td>-15 days, 17:12:26.866347</td>\n",
       "    </tr>\n",
       "    <tr>\n",
       "      <th>69648</th>\n",
       "      <td>Stormwater/Sewer</td>\n",
       "      <td>Stormwater/Sewer - Catch Basin Cleaning</td>\n",
       "      <td>253260.0</td>\n",
       "      <td>61 days, 4:35:00</td>\n",
       "    </tr>\n",
       "  </tbody>\n",
       "</table>\n",
       "</div>"
      ],
      "text/plain": [
       "             Department                             Request Type  \\\n",
       "62562  Stormwater/Sewer  Stormwater/Sewer - Catch Basin Cleaning   \n",
       "63315  Stormwater/Sewer         Stormwater/Sewer - Manhole issue   \n",
       "63349  Stormwater/Sewer  Stormwater/Sewer - Catch Basin Cleaning   \n",
       "63406  Stormwater/Sewer  Stormwater/Sewer - Catch Basin Cleaning   \n",
       "63452  Stormwater/Sewer         Stormwater/Sewer - Manhole issue   \n",
       "63686  Stormwater/Sewer  Stormwater/Sewer - Catch Basin Cleaning   \n",
       "63718  Stormwater/Sewer  Stormwater/Sewer - Catch Basin Cleaning   \n",
       "63852  Stormwater/Sewer  Stormwater/Sewer - Catch Basin Cleaning   \n",
       "64189  Stormwater/Sewer  Stormwater/Sewer - Catch Basin Cleaning   \n",
       "65105  Stormwater/Sewer  Stormwater/Sewer - Catch Basin Cleaning   \n",
       "65122  Stormwater/Sewer  Stormwater/Sewer - Catch Basin Cleaning   \n",
       "65582  Stormwater/Sewer  Stormwater/Sewer - Catch Basin Cleaning   \n",
       "65794  Stormwater/Sewer  Stormwater/Sewer - Catch Basin Cleaning   \n",
       "66275  Stormwater/Sewer         Stormwater/Sewer - Manhole issue   \n",
       "66330  Stormwater/Sewer  Stormwater/Sewer - Catch Basin Cleaning   \n",
       "66589  Stormwater/Sewer  Stormwater/Sewer - Catch Basin Cleaning   \n",
       "66660  Stormwater/Sewer  Stormwater/Sewer - Catch Basin Cleaning   \n",
       "66704  Stormwater/Sewer         Stormwater/Sewer - Manhole issue   \n",
       "69417  Stormwater/Sewer         Stormwater/Sewer - Sewer Problem   \n",
       "69648  Stormwater/Sewer  Stormwater/Sewer - Catch Basin Cleaning   \n",
       "\n",
       "       completion time(sec)                Predictions  \n",
       "62562             1389180.0           61 days, 4:35:00  \n",
       "63315               81900.0   23 days, 10:53:43.433173  \n",
       "63349             1115220.0           61 days, 4:35:00  \n",
       "63406              629640.0           61 days, 4:35:00  \n",
       "63452              419940.0   23 days, 10:53:43.433173  \n",
       "63686              169320.0           61 days, 4:35:00  \n",
       "63718             4929480.0           61 days, 4:35:00  \n",
       "63852             6483060.0           61 days, 4:35:00  \n",
       "64189             2593200.0           61 days, 4:35:00  \n",
       "65105              312660.0           61 days, 4:35:00  \n",
       "65122              208740.0           61 days, 4:35:00  \n",
       "65582              784140.0           61 days, 4:35:00  \n",
       "65794              442200.0           61 days, 4:35:00  \n",
       "66275                  60.0   23 days, 10:53:43.433173  \n",
       "66330             3547440.0           61 days, 4:35:00  \n",
       "66589             3358980.0           61 days, 4:35:00  \n",
       "66660             1549260.0           61 days, 4:35:00  \n",
       "66704              351240.0   23 days, 10:53:43.433173  \n",
       "69417                5040.0  -15 days, 17:12:26.866347  \n",
       "69648              253260.0           61 days, 4:35:00  "
      ]
     },
     "execution_count": 107,
     "metadata": {},
     "output_type": "execute_result"
    }
   ],
   "source": [
    "dept_ss['Predictions'] = preds\n",
    "dept_ss.tail(20)"
   ]
  },
  {
   "cell_type": "code",
   "execution_count": 108,
   "metadata": {},
   "outputs": [
    {
     "data": {
      "text/plain": [
       "array(['Stormwater/Sewer - Manhole issue',\n",
       "       'Stormwater/Sewer - Catch Basin Cleaning',\n",
       "       'Stormwater/Sewer - Sewer Problem'], dtype=object)"
      ]
     },
     "execution_count": 108,
     "metadata": {},
     "output_type": "execute_result"
    }
   ],
   "source": [
    "dept_ss['Request Type'].unique()"
   ]
  },
  {
   "cell_type": "code",
   "execution_count": 109,
   "metadata": {},
   "outputs": [
    {
     "data": {
      "text/plain": [
       "array(['23 days, 10:53:43.433173', '61 days, 4:35:00',\n",
       "       '-15 days, 17:12:26.866347'], dtype=object)"
      ]
     },
     "execution_count": 109,
     "metadata": {},
     "output_type": "execute_result"
    }
   ],
   "source": [
    "dept_ss['Predictions'].unique()"
   ]
  },
  {
   "cell_type": "markdown",
   "metadata": {},
   "source": [
    "#### Police"
   ]
  },
  {
   "cell_type": "code",
   "execution_count": 110,
   "metadata": {},
   "outputs": [
    {
     "data": {
      "text/plain": [
       "95"
      ]
     },
     "execution_count": 110,
     "metadata": {},
     "output_type": "execute_result"
    }
   ],
   "source": [
    "dept_pol = dept.loc[dept.Department == 'Police']\n",
    "len(dept_pol)"
   ]
  },
  {
   "cell_type": "code",
   "execution_count": 111,
   "metadata": {},
   "outputs": [],
   "source": [
    "y = np.array(dept_pol['completion time(sec)'])\n",
    "X = np.array(dept_pol['Request Type'])"
   ]
  },
  {
   "cell_type": "code",
   "execution_count": 112,
   "metadata": {},
   "outputs": [],
   "source": [
    "labelenc = LabelEncoder()\n",
    "X = labelenc.fit_transform(X)\n",
    "X = X.reshape(-1,1)"
   ]
  },
  {
   "cell_type": "code",
   "execution_count": 113,
   "metadata": {},
   "outputs": [],
   "source": [
    "X_train, X_test, y_train, y_test = train_test_split(X, y, test_size=0.1, random_state=24)"
   ]
  },
  {
   "cell_type": "code",
   "execution_count": 114,
   "metadata": {},
   "outputs": [
    {
     "data": {
      "text/plain": [
       "LinearSVR(C=15000, dual=True, epsilon=0.0, fit_intercept=True,\n",
       "     intercept_scaling=1.0, loss='epsilon_insensitive', max_iter=1000,\n",
       "     random_state=None, tol=15000, verbose=0)"
      ]
     },
     "execution_count": 114,
     "metadata": {},
     "output_type": "execute_result"
    }
   ],
   "source": [
    "svm = LinearSVR(C=15000, tol=15000)\n",
    "svm.fit(X_train, y_train)"
   ]
  },
  {
   "cell_type": "code",
   "execution_count": 115,
   "metadata": {},
   "outputs": [
    {
     "name": "stdout",
     "output_type": "stream",
     "text": [
      "6062566.528110352\n"
     ]
    }
   ],
   "source": [
    "preds_train = svm.predict(X_train)\n",
    "err_train = rmse(preds_train, y_train)\n",
    "print(err_train)"
   ]
  },
  {
   "cell_type": "code",
   "execution_count": 116,
   "metadata": {},
   "outputs": [
    {
     "name": "stdout",
     "output_type": "stream",
     "text": [
      "5894130.1827535825\n"
     ]
    }
   ],
   "source": [
    "preds_test = svm.predict(X_test)\n",
    "err_test = rmse(preds_test, y_test)\n",
    "print(err_test)"
   ]
  },
  {
   "cell_type": "code",
   "execution_count": 117,
   "metadata": {},
   "outputs": [],
   "source": [
    "preds = svm.predict(X)"
   ]
  },
  {
   "cell_type": "code",
   "execution_count": 118,
   "metadata": {},
   "outputs": [
    {
     "data": {
      "application/vnd.jupyter.widget-view+json": {
       "model_id": "a76fbc8a1d744d9f8a5c8895ecb5b6e3",
       "version_major": 2,
       "version_minor": 0
      },
      "text/plain": [
       "HBox(children=(IntProgress(value=0, max=95), HTML(value='')))"
      ]
     },
     "metadata": {},
     "output_type": "display_data"
    },
    {
     "name": "stdout",
     "output_type": "stream",
     "text": [
      "\n"
     ]
    }
   ],
   "source": [
    "preds = list(preds)\n",
    "for idx, row in tqdm(enumerate(preds), total=len(preds)):\n",
    "    preds[idx] = str(timedelta(seconds = preds[idx]))"
   ]
  },
  {
   "cell_type": "code",
   "execution_count": 119,
   "metadata": {},
   "outputs": [
    {
     "data": {
      "text/html": [
       "<div>\n",
       "<style scoped>\n",
       "    .dataframe tbody tr th:only-of-type {\n",
       "        vertical-align: middle;\n",
       "    }\n",
       "\n",
       "    .dataframe tbody tr th {\n",
       "        vertical-align: top;\n",
       "    }\n",
       "\n",
       "    .dataframe thead th {\n",
       "        text-align: right;\n",
       "    }\n",
       "</style>\n",
       "<table border=\"1\" class=\"dataframe\">\n",
       "  <thead>\n",
       "    <tr style=\"text-align: right;\">\n",
       "      <th></th>\n",
       "      <th>Department</th>\n",
       "      <th>Request Type</th>\n",
       "      <th>completion time(sec)</th>\n",
       "      <th>Predictions</th>\n",
       "    </tr>\n",
       "  </thead>\n",
       "  <tbody>\n",
       "    <tr>\n",
       "      <th>40881</th>\n",
       "      <td>Police</td>\n",
       "      <td>Police Department</td>\n",
       "      <td>1742340.0</td>\n",
       "      <td>30 days, 1:09:31.085973</td>\n",
       "    </tr>\n",
       "    <tr>\n",
       "      <th>41399</th>\n",
       "      <td>Police</td>\n",
       "      <td>Illegal Parking</td>\n",
       "      <td>1249620.0</td>\n",
       "      <td>13 days, 22:37:00</td>\n",
       "    </tr>\n",
       "    <tr>\n",
       "      <th>45360</th>\n",
       "      <td>Police</td>\n",
       "      <td>Illegal Parking</td>\n",
       "      <td>3092160.0</td>\n",
       "      <td>13 days, 22:37:00</td>\n",
       "    </tr>\n",
       "    <tr>\n",
       "      <th>47689</th>\n",
       "      <td>Police</td>\n",
       "      <td>Illegal Parking</td>\n",
       "      <td>19740.0</td>\n",
       "      <td>13 days, 22:37:00</td>\n",
       "    </tr>\n",
       "    <tr>\n",
       "      <th>48713</th>\n",
       "      <td>Police</td>\n",
       "      <td>Illegal Out-of-State License</td>\n",
       "      <td>18057180.0</td>\n",
       "      <td>8 days, 13:46:09.638009</td>\n",
       "    </tr>\n",
       "    <tr>\n",
       "      <th>49366</th>\n",
       "      <td>Police</td>\n",
       "      <td>Abandoned Vehicles</td>\n",
       "      <td>17362440.0</td>\n",
       "      <td>3 days, 4:55:19.276018</td>\n",
       "    </tr>\n",
       "    <tr>\n",
       "      <th>49367</th>\n",
       "      <td>Police</td>\n",
       "      <td>Abandoned Vehicles</td>\n",
       "      <td>17932260.0</td>\n",
       "      <td>3 days, 4:55:19.276018</td>\n",
       "    </tr>\n",
       "    <tr>\n",
       "      <th>49997</th>\n",
       "      <td>Police</td>\n",
       "      <td>Noise/Disturbance</td>\n",
       "      <td>16013220.0</td>\n",
       "      <td>24 days, 16:18:40.723982</td>\n",
       "    </tr>\n",
       "    <tr>\n",
       "      <th>50226</th>\n",
       "      <td>Police</td>\n",
       "      <td>Illegal Out-of-State License</td>\n",
       "      <td>17214000.0</td>\n",
       "      <td>8 days, 13:46:09.638009</td>\n",
       "    </tr>\n",
       "    <tr>\n",
       "      <th>50227</th>\n",
       "      <td>Police</td>\n",
       "      <td>Illegal Parking</td>\n",
       "      <td>17213700.0</td>\n",
       "      <td>13 days, 22:37:00</td>\n",
       "    </tr>\n",
       "    <tr>\n",
       "      <th>51177</th>\n",
       "      <td>Police</td>\n",
       "      <td>Illegal Parking</td>\n",
       "      <td>15638040.0</td>\n",
       "      <td>13 days, 22:37:00</td>\n",
       "    </tr>\n",
       "    <tr>\n",
       "      <th>52627</th>\n",
       "      <td>Police</td>\n",
       "      <td>Abandoned Vehicles</td>\n",
       "      <td>14259780.0</td>\n",
       "      <td>3 days, 4:55:19.276018</td>\n",
       "    </tr>\n",
       "    <tr>\n",
       "      <th>52700</th>\n",
       "      <td>Police</td>\n",
       "      <td>Abandoned Vehicles</td>\n",
       "      <td>14236260.0</td>\n",
       "      <td>3 days, 4:55:19.276018</td>\n",
       "    </tr>\n",
       "    <tr>\n",
       "      <th>56774</th>\n",
       "      <td>Police</td>\n",
       "      <td>Police Department</td>\n",
       "      <td>11452380.0</td>\n",
       "      <td>30 days, 1:09:31.085973</td>\n",
       "    </tr>\n",
       "    <tr>\n",
       "      <th>59276</th>\n",
       "      <td>Police</td>\n",
       "      <td>Abandoned Vehicles</td>\n",
       "      <td>8776020.0</td>\n",
       "      <td>3 days, 4:55:19.276018</td>\n",
       "    </tr>\n",
       "    <tr>\n",
       "      <th>60324</th>\n",
       "      <td>Police</td>\n",
       "      <td>Illegal Parking</td>\n",
       "      <td>7833720.0</td>\n",
       "      <td>13 days, 22:37:00</td>\n",
       "    </tr>\n",
       "    <tr>\n",
       "      <th>61838</th>\n",
       "      <td>Police</td>\n",
       "      <td>Abandoned Vehicles</td>\n",
       "      <td>5604180.0</td>\n",
       "      <td>3 days, 4:55:19.276018</td>\n",
       "    </tr>\n",
       "    <tr>\n",
       "      <th>63245</th>\n",
       "      <td>Police</td>\n",
       "      <td>Illegal Parking</td>\n",
       "      <td>4741080.0</td>\n",
       "      <td>13 days, 22:37:00</td>\n",
       "    </tr>\n",
       "    <tr>\n",
       "      <th>66718</th>\n",
       "      <td>Police</td>\n",
       "      <td>Illegal Out-of-State License</td>\n",
       "      <td>4560.0</td>\n",
       "      <td>8 days, 13:46:09.638009</td>\n",
       "    </tr>\n",
       "    <tr>\n",
       "      <th>67857</th>\n",
       "      <td>Police</td>\n",
       "      <td>Abandoned Vehicles</td>\n",
       "      <td>275940.0</td>\n",
       "      <td>3 days, 4:55:19.276018</td>\n",
       "    </tr>\n",
       "  </tbody>\n",
       "</table>\n",
       "</div>"
      ],
      "text/plain": [
       "      Department                  Request Type  completion time(sec)  \\\n",
       "40881     Police             Police Department             1742340.0   \n",
       "41399     Police               Illegal Parking             1249620.0   \n",
       "45360     Police               Illegal Parking             3092160.0   \n",
       "47689     Police               Illegal Parking               19740.0   \n",
       "48713     Police  Illegal Out-of-State License            18057180.0   \n",
       "49366     Police            Abandoned Vehicles            17362440.0   \n",
       "49367     Police            Abandoned Vehicles            17932260.0   \n",
       "49997     Police             Noise/Disturbance            16013220.0   \n",
       "50226     Police  Illegal Out-of-State License            17214000.0   \n",
       "50227     Police               Illegal Parking            17213700.0   \n",
       "51177     Police               Illegal Parking            15638040.0   \n",
       "52627     Police            Abandoned Vehicles            14259780.0   \n",
       "52700     Police            Abandoned Vehicles            14236260.0   \n",
       "56774     Police             Police Department            11452380.0   \n",
       "59276     Police            Abandoned Vehicles             8776020.0   \n",
       "60324     Police               Illegal Parking             7833720.0   \n",
       "61838     Police            Abandoned Vehicles             5604180.0   \n",
       "63245     Police               Illegal Parking             4741080.0   \n",
       "66718     Police  Illegal Out-of-State License                4560.0   \n",
       "67857     Police            Abandoned Vehicles              275940.0   \n",
       "\n",
       "                    Predictions  \n",
       "40881   30 days, 1:09:31.085973  \n",
       "41399         13 days, 22:37:00  \n",
       "45360         13 days, 22:37:00  \n",
       "47689         13 days, 22:37:00  \n",
       "48713   8 days, 13:46:09.638009  \n",
       "49366    3 days, 4:55:19.276018  \n",
       "49367    3 days, 4:55:19.276018  \n",
       "49997  24 days, 16:18:40.723982  \n",
       "50226   8 days, 13:46:09.638009  \n",
       "50227         13 days, 22:37:00  \n",
       "51177         13 days, 22:37:00  \n",
       "52627    3 days, 4:55:19.276018  \n",
       "52700    3 days, 4:55:19.276018  \n",
       "56774   30 days, 1:09:31.085973  \n",
       "59276    3 days, 4:55:19.276018  \n",
       "60324         13 days, 22:37:00  \n",
       "61838    3 days, 4:55:19.276018  \n",
       "63245         13 days, 22:37:00  \n",
       "66718   8 days, 13:46:09.638009  \n",
       "67857    3 days, 4:55:19.276018  "
      ]
     },
     "execution_count": 119,
     "metadata": {},
     "output_type": "execute_result"
    }
   ],
   "source": [
    "dept_pol['Predictions'] = preds\n",
    "dept_pol.tail(20)"
   ]
  },
  {
   "cell_type": "code",
   "execution_count": 120,
   "metadata": {},
   "outputs": [
    {
     "data": {
      "text/plain": [
       "array(['Abandoned Vehicles', 'Police Department', 'Illegal Parking',\n",
       "       'Illegal Out-of-State License', 'Motorcycle Noise',\n",
       "       'Noise/Disturbance'], dtype=object)"
      ]
     },
     "execution_count": 120,
     "metadata": {},
     "output_type": "execute_result"
    }
   ],
   "source": [
    "dept_pol['Request Type'].unique()"
   ]
  },
  {
   "cell_type": "code",
   "execution_count": 121,
   "metadata": {},
   "outputs": [
    {
     "data": {
      "text/plain": [
       "array(['3 days, 4:55:19.276018', '30 days, 1:09:31.085973',\n",
       "       '13 days, 22:37:00', '8 days, 13:46:09.638009',\n",
       "       '19 days, 7:27:50.361991', '24 days, 16:18:40.723982'],\n",
       "      dtype=object)"
      ]
     },
     "execution_count": 121,
     "metadata": {},
     "output_type": "execute_result"
    }
   ],
   "source": [
    "dept_pol['Predictions'].unique()"
   ]
  },
  {
   "cell_type": "markdown",
   "metadata": {},
   "source": [
    "#### Animal control"
   ]
  },
  {
   "cell_type": "code",
   "execution_count": 122,
   "metadata": {},
   "outputs": [
    {
     "data": {
      "text/plain": [
       "141"
      ]
     },
     "execution_count": 122,
     "metadata": {},
     "output_type": "execute_result"
    }
   ],
   "source": [
    "dept_ac = dept.loc[dept.Department == 'Animal control']\n",
    "len(dept_ac)"
   ]
  },
  {
   "cell_type": "code",
   "execution_count": 123,
   "metadata": {},
   "outputs": [],
   "source": [
    "y = np.array(dept_ac['completion time(sec)'])\n",
    "X = np.array(dept_ac['Request Type'])"
   ]
  },
  {
   "cell_type": "code",
   "execution_count": 124,
   "metadata": {},
   "outputs": [],
   "source": [
    "labelenc = LabelEncoder()\n",
    "X = labelenc.fit_transform(X)\n",
    "X = X.reshape(-1,1)"
   ]
  },
  {
   "cell_type": "code",
   "execution_count": 125,
   "metadata": {},
   "outputs": [],
   "source": [
    "X_train, X_test, y_train, y_test = train_test_split(X, y, test_size=0.2, random_state=42)"
   ]
  },
  {
   "cell_type": "code",
   "execution_count": 126,
   "metadata": {},
   "outputs": [
    {
     "data": {
      "text/plain": [
       "LinearSVR(C=20000, dual=True, epsilon=0.0, fit_intercept=True,\n",
       "     intercept_scaling=1.0, loss='epsilon_insensitive', max_iter=1000,\n",
       "     random_state=None, tol=10000, verbose=0)"
      ]
     },
     "execution_count": 126,
     "metadata": {},
     "output_type": "execute_result"
    }
   ],
   "source": [
    "svm = LinearSVR(C=20000,tol=10000)\n",
    "svm.fit(X_train, y_train)"
   ]
  },
  {
   "cell_type": "code",
   "execution_count": 127,
   "metadata": {},
   "outputs": [
    {
     "name": "stdout",
     "output_type": "stream",
     "text": [
      "5695042.848733826\n"
     ]
    }
   ],
   "source": [
    "preds_train = svm.predict(X_train)\n",
    "err_train = rmse(preds_train, y_train)\n",
    "print(err_train)"
   ]
  },
  {
   "cell_type": "code",
   "execution_count": 128,
   "metadata": {},
   "outputs": [
    {
     "name": "stdout",
     "output_type": "stream",
     "text": [
      "4949585.377835477\n"
     ]
    }
   ],
   "source": [
    "preds_test = svm.predict(X_test)\n",
    "err_test = rmse(preds_test, y_test)\n",
    "print(err_test)"
   ]
  },
  {
   "cell_type": "code",
   "execution_count": 129,
   "metadata": {},
   "outputs": [],
   "source": [
    "preds = svm.predict(X)"
   ]
  },
  {
   "cell_type": "code",
   "execution_count": 130,
   "metadata": {},
   "outputs": [
    {
     "data": {
      "application/vnd.jupyter.widget-view+json": {
       "model_id": "58530e55ca374aa8b3ae41214337005b",
       "version_major": 2,
       "version_minor": 0
      },
      "text/plain": [
       "HBox(children=(IntProgress(value=0, max=141), HTML(value='')))"
      ]
     },
     "metadata": {},
     "output_type": "display_data"
    },
    {
     "name": "stdout",
     "output_type": "stream",
     "text": [
      "\n"
     ]
    }
   ],
   "source": [
    "preds = list(preds)\n",
    "for idx, row in tqdm(enumerate(preds), total=len(preds)):\n",
    "    preds[idx] = str(timedelta(seconds = preds[idx]))"
   ]
  },
  {
   "cell_type": "code",
   "execution_count": 131,
   "metadata": {},
   "outputs": [
    {
     "data": {
      "text/html": [
       "<div>\n",
       "<style scoped>\n",
       "    .dataframe tbody tr th:only-of-type {\n",
       "        vertical-align: middle;\n",
       "    }\n",
       "\n",
       "    .dataframe tbody tr th {\n",
       "        vertical-align: top;\n",
       "    }\n",
       "\n",
       "    .dataframe thead th {\n",
       "        text-align: right;\n",
       "    }\n",
       "</style>\n",
       "<table border=\"1\" class=\"dataframe\">\n",
       "  <thead>\n",
       "    <tr style=\"text-align: right;\">\n",
       "      <th></th>\n",
       "      <th>Department</th>\n",
       "      <th>Request Type</th>\n",
       "      <th>completion time(sec)</th>\n",
       "      <th>Predictions</th>\n",
       "    </tr>\n",
       "  </thead>\n",
       "  <tbody>\n",
       "    <tr>\n",
       "      <th>887</th>\n",
       "      <td>Animal control</td>\n",
       "      <td>Dead Animal on Street</td>\n",
       "      <td>11400.0</td>\n",
       "      <td>12 days, 7:58:00</td>\n",
       "    </tr>\n",
       "    <tr>\n",
       "      <th>1317</th>\n",
       "      <td>Animal control</td>\n",
       "      <td>Dead Animal on Street</td>\n",
       "      <td>181860.0</td>\n",
       "      <td>12 days, 7:58:00</td>\n",
       "    </tr>\n",
       "    <tr>\n",
       "      <th>1417</th>\n",
       "      <td>Animal control</td>\n",
       "      <td>Wildlife</td>\n",
       "      <td>8940.0</td>\n",
       "      <td>31 days, 12:35:00</td>\n",
       "    </tr>\n",
       "    <tr>\n",
       "      <th>2405</th>\n",
       "      <td>Animal control</td>\n",
       "      <td>Dead Animal on Street</td>\n",
       "      <td>1056420.0</td>\n",
       "      <td>12 days, 7:58:00</td>\n",
       "    </tr>\n",
       "    <tr>\n",
       "      <th>2950</th>\n",
       "      <td>Animal control</td>\n",
       "      <td>Wildlife</td>\n",
       "      <td>4680.0</td>\n",
       "      <td>31 days, 12:35:00</td>\n",
       "    </tr>\n",
       "  </tbody>\n",
       "</table>\n",
       "</div>"
      ],
      "text/plain": [
       "          Department           Request Type  completion time(sec)  \\\n",
       "887   Animal control  Dead Animal on Street               11400.0   \n",
       "1317  Animal control  Dead Animal on Street              181860.0   \n",
       "1417  Animal control               Wildlife                8940.0   \n",
       "2405  Animal control  Dead Animal on Street             1056420.0   \n",
       "2950  Animal control               Wildlife                4680.0   \n",
       "\n",
       "            Predictions  \n",
       "887    12 days, 7:58:00  \n",
       "1317   12 days, 7:58:00  \n",
       "1417  31 days, 12:35:00  \n",
       "2405   12 days, 7:58:00  \n",
       "2950  31 days, 12:35:00  "
      ]
     },
     "execution_count": 131,
     "metadata": {},
     "output_type": "execute_result"
    }
   ],
   "source": [
    "dept_ac['Predictions'] = preds\n",
    "dept_ac.head(5)"
   ]
  },
  {
   "cell_type": "code",
   "execution_count": 132,
   "metadata": {},
   "outputs": [
    {
     "data": {
      "text/plain": [
       "array(['Dead Animal on Street', 'Wildlife', 'Barking Dog', 'Pet Cruelty',\n",
       "       'Stray Animal'], dtype=object)"
      ]
     },
     "execution_count": 132,
     "metadata": {},
     "output_type": "execute_result"
    }
   ],
   "source": [
    "dept_ac['Request Type'].unique()"
   ]
  },
  {
   "cell_type": "code",
   "execution_count": 133,
   "metadata": {},
   "outputs": [
    {
     "data": {
      "text/plain": [
       "array(['12 days, 7:58:00', '31 days, 12:35:00', '5 days, 22:25:40',\n",
       "       '18 days, 17:30:20', '25 days, 3:02:40'], dtype=object)"
      ]
     },
     "execution_count": 133,
     "metadata": {},
     "output_type": "execute_result"
    }
   ],
   "source": [
    "dept_ac['Predictions'].unique()"
   ]
  },
  {
   "cell_type": "markdown",
   "metadata": {},
   "source": [
    "#### Department: Water"
   ]
  },
  {
   "cell_type": "code",
   "execution_count": 134,
   "metadata": {},
   "outputs": [
    {
     "data": {
      "text/plain": [
       "100"
      ]
     },
     "execution_count": 134,
     "metadata": {},
     "output_type": "execute_result"
    }
   ],
   "source": [
    "dept_water = dept.loc[dept.Department == 'Water']\n",
    "len(dept_water)"
   ]
  },
  {
   "cell_type": "code",
   "execution_count": 135,
   "metadata": {},
   "outputs": [],
   "source": [
    "y = np.array(dept_water['completion time(sec)'])\n",
    "X = np.array(dept_water['Request Type'])"
   ]
  },
  {
   "cell_type": "code",
   "execution_count": 136,
   "metadata": {},
   "outputs": [],
   "source": [
    "labelenc = LabelEncoder()\n",
    "X = labelenc.fit_transform(X)\n",
    "X = X.reshape(-1,1)"
   ]
  },
  {
   "cell_type": "code",
   "execution_count": 137,
   "metadata": {},
   "outputs": [],
   "source": [
    "X_train, X_test, y_train, y_test = train_test_split(X, y, test_size=0.1, random_state=42)"
   ]
  },
  {
   "cell_type": "code",
   "execution_count": 138,
   "metadata": {},
   "outputs": [
    {
     "data": {
      "text/plain": [
       "LinearSVR(C=200000, dual=True, epsilon=0.0, fit_intercept=True,\n",
       "     intercept_scaling=1.0, loss='epsilon_insensitive', max_iter=1000,\n",
       "     random_state=None, tol=100000, verbose=0)"
      ]
     },
     "execution_count": 138,
     "metadata": {},
     "output_type": "execute_result"
    }
   ],
   "source": [
    "svm = LinearSVR(C=200000,tol=100000)\n",
    "svm.fit(X_train, y_train)"
   ]
  },
  {
   "cell_type": "code",
   "execution_count": 139,
   "metadata": {},
   "outputs": [
    {
     "name": "stdout",
     "output_type": "stream",
     "text": [
      "18368318.928710926\n"
     ]
    }
   ],
   "source": [
    "preds_train = svm.predict(X_train)\n",
    "err_train = rmse(preds_train, y_train)\n",
    "print(err_train)"
   ]
  },
  {
   "cell_type": "code",
   "execution_count": 140,
   "metadata": {},
   "outputs": [
    {
     "name": "stdout",
     "output_type": "stream",
     "text": [
      "23979963.270944968\n"
     ]
    }
   ],
   "source": [
    "preds_test = svm.predict(X_test)\n",
    "err_test = rmse(preds_test, y_test)\n",
    "print(err_test)"
   ]
  },
  {
   "cell_type": "code",
   "execution_count": 141,
   "metadata": {},
   "outputs": [],
   "source": [
    "preds = svm.predict(X)"
   ]
  },
  {
   "cell_type": "code",
   "execution_count": 142,
   "metadata": {},
   "outputs": [
    {
     "data": {
      "application/vnd.jupyter.widget-view+json": {
       "model_id": "dee529772f594190be3e9e6ac2849a00",
       "version_major": 2,
       "version_minor": 0
      },
      "text/plain": [
       "HBox(children=(IntProgress(value=0), HTML(value='')))"
      ]
     },
     "metadata": {},
     "output_type": "display_data"
    },
    {
     "name": "stdout",
     "output_type": "stream",
     "text": [
      "\n"
     ]
    }
   ],
   "source": [
    "preds = list(preds)\n",
    "for idx, row in tqdm(enumerate(preds), total=len(preds)):\n",
    "    preds[idx] = str(timedelta(seconds = preds[idx]))"
   ]
  },
  {
   "cell_type": "code",
   "execution_count": 143,
   "metadata": {},
   "outputs": [
    {
     "data": {
      "text/html": [
       "<div>\n",
       "<style scoped>\n",
       "    .dataframe tbody tr th:only-of-type {\n",
       "        vertical-align: middle;\n",
       "    }\n",
       "\n",
       "    .dataframe tbody tr th {\n",
       "        vertical-align: top;\n",
       "    }\n",
       "\n",
       "    .dataframe thead th {\n",
       "        text-align: right;\n",
       "    }\n",
       "</style>\n",
       "<table border=\"1\" class=\"dataframe\">\n",
       "  <thead>\n",
       "    <tr style=\"text-align: right;\">\n",
       "      <th></th>\n",
       "      <th>Department</th>\n",
       "      <th>Request Type</th>\n",
       "      <th>completion time(sec)</th>\n",
       "      <th>Predictions</th>\n",
       "    </tr>\n",
       "  </thead>\n",
       "  <tbody>\n",
       "    <tr>\n",
       "      <th>945</th>\n",
       "      <td>Water</td>\n",
       "      <td>Water - Leak</td>\n",
       "      <td>600.0</td>\n",
       "      <td>54 days, 14:50:09.433763</td>\n",
       "    </tr>\n",
       "    <tr>\n",
       "      <th>2996</th>\n",
       "      <td>Water</td>\n",
       "      <td>Water - Valve Problem</td>\n",
       "      <td>74700.0</td>\n",
       "      <td>161 days, 15:35:53.886753</td>\n",
       "    </tr>\n",
       "    <tr>\n",
       "      <th>3336</th>\n",
       "      <td>Water</td>\n",
       "      <td>Water - Watergate Valve</td>\n",
       "      <td>4236300.0</td>\n",
       "      <td>188 days, 9:47:20</td>\n",
       "    </tr>\n",
       "    <tr>\n",
       "      <th>3363</th>\n",
       "      <td>Water</td>\n",
       "      <td>Water - Leak</td>\n",
       "      <td>158820.0</td>\n",
       "      <td>54 days, 14:50:09.433763</td>\n",
       "    </tr>\n",
       "    <tr>\n",
       "      <th>4920</th>\n",
       "      <td>Water</td>\n",
       "      <td>Water - Discolored Water</td>\n",
       "      <td>900.0</td>\n",
       "      <td>1 day, 2:27:17.207268</td>\n",
       "    </tr>\n",
       "  </tbody>\n",
       "</table>\n",
       "</div>"
      ],
      "text/plain": [
       "     Department              Request Type  completion time(sec)  \\\n",
       "945       Water              Water - Leak                 600.0   \n",
       "2996      Water     Water - Valve Problem               74700.0   \n",
       "3336      Water   Water - Watergate Valve             4236300.0   \n",
       "3363      Water              Water - Leak              158820.0   \n",
       "4920      Water  Water - Discolored Water                 900.0   \n",
       "\n",
       "                    Predictions  \n",
       "945    54 days, 14:50:09.433763  \n",
       "2996  161 days, 15:35:53.886753  \n",
       "3336          188 days, 9:47:20  \n",
       "3363   54 days, 14:50:09.433763  \n",
       "4920      1 day, 2:27:17.207268  "
      ]
     },
     "execution_count": 143,
     "metadata": {},
     "output_type": "execute_result"
    }
   ],
   "source": [
    "dept_water['Predictions'] = preds\n",
    "dept_water.head(5)"
   ]
  },
  {
   "cell_type": "code",
   "execution_count": 144,
   "metadata": {},
   "outputs": [
    {
     "data": {
      "text/plain": [
       "array(['Water - Leak', 'Water - Valve Problem', 'Water - Watergate Valve',\n",
       "       'Water - Discolored Water', 'Water - Pressure Problem',\n",
       "       'Water - Hydrant Issue', 'Water - No Water',\n",
       "       'Water - Quality Problem'], dtype=object)"
      ]
     },
     "execution_count": 144,
     "metadata": {},
     "output_type": "execute_result"
    }
   ],
   "source": [
    "dept_water['Request Type'].unique()"
   ]
  },
  {
   "cell_type": "code",
   "execution_count": 145,
   "metadata": {},
   "outputs": [
    {
     "data": {
      "text/plain": [
       "array(['54 days, 14:50:09.433763', '161 days, 15:35:53.886753',\n",
       "       '188 days, 9:47:20', '1 day, 2:27:17.207268',\n",
       "       '108 days, 3:13:01.660258', '27 days, 20:38:43.320515',\n",
       "       '81 days, 9:01:35.547010', '134 days, 21:24:27.773505'],\n",
       "      dtype=object)"
      ]
     },
     "execution_count": 145,
     "metadata": {},
     "output_type": "execute_result"
    }
   ],
   "source": [
    "dept_water['Predictions'].unique()"
   ]
  },
  {
   "cell_type": "code",
   "execution_count": null,
   "metadata": {},
   "outputs": [],
   "source": []
  }
 ],
 "metadata": {
  "kernelspec": {
   "display_name": "Python 3",
   "language": "python",
   "name": "python3"
  },
  "language_info": {
   "codemirror_mode": {
    "name": "ipython",
    "version": 3
   },
   "file_extension": ".py",
   "mimetype": "text/x-python",
   "name": "python",
   "nbconvert_exporter": "python",
   "pygments_lexer": "ipython3",
   "version": "3.6.5"
  }
 },
 "nbformat": 4,
 "nbformat_minor": 2
}
