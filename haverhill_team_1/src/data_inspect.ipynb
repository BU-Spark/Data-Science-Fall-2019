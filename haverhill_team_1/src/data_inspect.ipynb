{
 "cells": [
  {
   "cell_type": "code",
   "execution_count": 1,
   "metadata": {},
   "outputs": [],
   "source": [
    "import pandas as pd\n",
    "import numpy as np\n",
    "import matplotlib.pyplot as plt"
   ]
  },
  {
   "cell_type": "code",
   "execution_count": 8,
   "metadata": {},
   "outputs": [],
   "source": [
    "request = pd.read_csv('haverhill-request/haverhill-request.csv',encoding='unicode_escape')"
   ]
  },
  {
   "cell_type": "code",
   "execution_count": 18,
   "metadata": {},
   "outputs": [
    {
     "data": {
      "text/plain": [
       "Request ID                int64\n",
       "Create Date              object\n",
       "Master Request            int64\n",
       "Has Links                  bool\n",
       "Status                   object\n",
       "Status Code               int64\n",
       "Last Action              object\n",
       "Last Change              object\n",
       "Close Date               object\n",
       "Work Order Created         bool\n",
       "Request Type ID           int64\n",
       "Request Type             object\n",
       "Request Type Private       bool\n",
       "Request Type Info        object\n",
       "Department ID             int64\n",
       "Department               object\n",
       "Address Number           object\n",
       "Street ID                 int64\n",
       "Street                   object\n",
       "Address                  object\n",
       "Complete Address         object\n",
       "City ID                   int64\n",
       "City                     object\n",
       "Cross Street ID           int64\n",
       "Cross Street             object\n",
       "District ID               int64\n",
       "District                 object\n",
       "Escalations               int64\n",
       "Priority                  int64\n",
       "Longitude               float64\n",
       "Latitude                float64\n",
       "Origin ID                 int64\n",
       "Origin                   object\n",
       "dtype: object"
      ]
     },
     "execution_count": 18,
     "metadata": {},
     "output_type": "execute_result"
    }
   ],
   "source": [
    "request.dtypes"
   ]
  },
  {
   "cell_type": "code",
   "execution_count": 100,
   "metadata": {},
   "outputs": [
    {
     "data": {
      "text/plain": [
       "Call Center           66870\n",
       "Website                2028\n",
       "Control Panel           724\n",
       "Report2Gov iOS          321\n",
       "Report2Gov Android      110\n",
       "Text Message              5\n",
       "Report2Gov Website        2\n",
       "Name: Origin, dtype: int64"
      ]
     },
     "execution_count": 100,
     "metadata": {},
     "output_type": "execute_result"
    }
   ],
   "source": [
    "request[\"Origin\"].value_counts()"
   ]
  },
  {
   "cell_type": "code",
   "execution_count": 73,
   "metadata": {},
   "outputs": [
    {
     "data": {
      "text/plain": [
       "MAIN ST                 103\n",
       "BROADWAY                 71\n",
       "HILLDALE AVE             66\n",
       "WASHINGTON ST            54\n",
       "KENOZA AVE               45\n",
       "                       ... \n",
       "BELVIDERE HEIGHTS DR      1\n",
       "LAWRENCE RD               1\n",
       " HERITAGE FARM RD         1\n",
       "77 Lakeview               1\n",
       " WEST SHERMAN ST          1\n",
       "Name: Cross Street, Length: 741, dtype: int64"
      ]
     },
     "execution_count": 73,
     "metadata": {},
     "output_type": "execute_result"
    }
   ],
   "source": [
    "request[\"Cross Street\"].value_counts()"
   ]
  },
  {
   "cell_type": "code",
   "execution_count": 84,
   "metadata": {},
   "outputs": [],
   "source": [
    "dates = request[[\"Create Date\",\"Last Action\",\"Last Change\",\"Close Date\"]]"
   ]
  }
 ],
 "metadata": {
  "kernelspec": {
   "display_name": "Python 3",
   "language": "python",
   "name": "python3"
  },
  "language_info": {
   "codemirror_mode": {
    "name": "ipython",
    "version": 3
   },
   "file_extension": ".py",
   "mimetype": "text/x-python",
   "name": "python",
   "nbconvert_exporter": "python",
   "pygments_lexer": "ipython3",
   "version": "3.7.4"
  }
 },
 "nbformat": 4,
 "nbformat_minor": 2
}
